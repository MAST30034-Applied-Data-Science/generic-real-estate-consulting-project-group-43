{
 "cells": [
  {
   "cell_type": "code",
   "execution_count": null,
   "metadata": {},
   "outputs": [],
   "source": []
  },
  {
   "cell_type": "markdown",
   "metadata": {},
   "source": [
    "<table>\n",
    "    <tr>\n",
    "        <th></th>\n",
    "        <td>Initial number of data</td>\n",
    "        <td>Dropping duplicates & non weekly-rent data</td>\n",
    "        <td>Filtering for residential property data</td>\n",
    "        <td>Number of outlier removed</td>\n",
    "    </tr>\n",
    "    <tr>\n",
    "      <th>API Retrieving</th>\n",
    "      <td>15k</td>\n",
    "      <td>15k → 14.6k (2.6% removed)</td>\n",
    "      <td>same as below</td>\n",
    "      <td>same as below</td>\n",
    "    </tr>\n",
    "    <tr>\n",
    "      <th>Web Scraping</th>\n",
    "      <td>572k</td>\n",
    "      <td>572k → 339k (40.6% removed)</td>\n",
    "      <td>same as below</td>\n",
    "      <td>same as below</td>\n",
    "    </tr>\n",
    "    <tr>\n",
    "      <th>Total</th>\n",
    "      <td>587k</td>\n",
    "      <td>587k → 345k (41.2% removed)</td>\n",
    "      <td>same as below</td>\n",
    "      <td>same as below</td>      \n",
    "    </tr>\n",
    "    <tr>\n",
    "</table>"
   ]
  }
 ],
 "metadata": {
  "language_info": {
   "name": "python"
  },
  "orig_nbformat": 4
 },
 "nbformat": 4,
 "nbformat_minor": 2
}
