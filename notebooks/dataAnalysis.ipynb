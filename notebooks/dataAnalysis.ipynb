{
 "cells": [
  {
   "cell_type": "code",
   "execution_count": 2,
   "metadata": {},
   "outputs": [
    {
     "name": "stdout",
     "output_type": "stream",
     "text": [
      "22/09/26 15:57:54 WARN Utils: Your hostname, Hyunjin-Win11 resolves to a loopback address: 127.0.1.1; using 172.24.195.83 instead (on interface eth0)\n",
      "22/09/26 15:57:54 WARN Utils: Set SPARK_LOCAL_IP if you need to bind to another address\n"
     ]
    },
    {
     "name": "stderr",
     "output_type": "stream",
     "text": [
      "Setting default log level to \"WARN\".\n",
      "To adjust logging level use sc.setLogLevel(newLevel). For SparkR, use setLogLevel(newLevel).\n"
     ]
    },
    {
     "name": "stdout",
     "output_type": "stream",
     "text": [
      "22/09/26 15:57:56 WARN NativeCodeLoader: Unable to load native-hadoop library for your platform... using builtin-java classes where applicable\n"
     ]
    },
    {
     "name": "stderr",
     "output_type": "stream",
     "text": [
      "                                                                                \r"
     ]
    },
    {
     "name": "stdout",
     "output_type": "stream",
     "text": [
      "root\n",
      " |-- _c0: string (nullable = true)\n",
      " |-- year: string (nullable = true)\n",
      " |-- SA2 code: string (nullable = true)\n",
      " |-- pred: integer (nullable = true)\n",
      "\n"
     ]
    },
    {
     "ename": "AnalysisException",
     "evalue": "Cannot resolve column name \"pred\" among (year, sum(pred))",
     "output_type": "error",
     "traceback": [
      "\u001b[0;31m---------------------------------------------------------------------------\u001b[0m",
      "\u001b[0;31mAnalysisException\u001b[0m                         Traceback (most recent call last)",
      "\u001b[1;32m/home/hyunjinp/generic-real-estate-consulting-project-group-43/notebooks/dataAnalysis.ipynb Cell 1\u001b[0m in \u001b[0;36m<cell line: 27>\u001b[0;34m()\u001b[0m\n\u001b[1;32m     <a href='vscode-notebook-cell://wsl%2Bubuntu/home/hyunjinp/generic-real-estate-consulting-project-group-43/notebooks/dataAnalysis.ipynb#W0sdnNjb2RlLXJlbW90ZQ%3D%3D?line=22'>23</a>\u001b[0m erp_agg \u001b[39m=\u001b[39m erp_predicted\u001b[39m.\u001b[39mgroupBy(\u001b[39m'\u001b[39m\u001b[39myear\u001b[39m\u001b[39m'\u001b[39m)\u001b[39m.\u001b[39msum(\u001b[39m'\u001b[39m\u001b[39mpred\u001b[39m\u001b[39m'\u001b[39m)\u001b[39m.\u001b[39malias(\u001b[39m'\u001b[39m\u001b[39mpred\u001b[39m\u001b[39m'\u001b[39m)\n\u001b[1;32m     <a href='vscode-notebook-cell://wsl%2Bubuntu/home/hyunjinp/generic-real-estate-consulting-project-group-43/notebooks/dataAnalysis.ipynb#W0sdnNjb2RlLXJlbW90ZQ%3D%3D?line=24'>25</a>\u001b[0m erp_agg\u001b[39m.\u001b[39mwithColumnRenamed(\u001b[39m\"\u001b[39m\u001b[39msum(pred)\u001b[39m\u001b[39m\"\u001b[39m,\u001b[39m\"\u001b[39m\u001b[39mpred\u001b[39m\u001b[39m\"\u001b[39m)\n\u001b[0;32m---> <a href='vscode-notebook-cell://wsl%2Bubuntu/home/hyunjinp/generic-real-estate-consulting-project-group-43/notebooks/dataAnalysis.ipynb#W0sdnNjb2RlLXJlbW90ZQ%3D%3D?line=26'>27</a>\u001b[0m plt\u001b[39m.\u001b[39mplot(erp_agg[\u001b[39m'\u001b[39m\u001b[39myear\u001b[39m\u001b[39m'\u001b[39m],erp_agg[\u001b[39m'\u001b[39;49m\u001b[39mpred\u001b[39;49m\u001b[39m'\u001b[39;49m])\n\u001b[1;32m     <a href='vscode-notebook-cell://wsl%2Bubuntu/home/hyunjinp/generic-real-estate-consulting-project-group-43/notebooks/dataAnalysis.ipynb#W0sdnNjb2RlLXJlbW90ZQ%3D%3D?line=27'>28</a>\u001b[0m plt\u001b[39m.\u001b[39mtitle(\u001b[39m'\u001b[39m\u001b[39mtitle name\u001b[39m\u001b[39m'\u001b[39m)\n\u001b[1;32m     <a href='vscode-notebook-cell://wsl%2Bubuntu/home/hyunjinp/generic-real-estate-consulting-project-group-43/notebooks/dataAnalysis.ipynb#W0sdnNjb2RlLXJlbW90ZQ%3D%3D?line=28'>29</a>\u001b[0m plt\u001b[39m.\u001b[39mxlabel(\u001b[39m'\u001b[39m\u001b[39mYear\u001b[39m\u001b[39m'\u001b[39m)\n",
      "File \u001b[0;32m~/.local/lib/python3.8/site-packages/pyspark/sql/dataframe.py:1965\u001b[0m, in \u001b[0;36mDataFrame.__getitem__\u001b[0;34m(self, item)\u001b[0m\n\u001b[1;32m   1949\u001b[0m \u001b[39m\"\"\"Returns the column as a :class:`Column`.\u001b[39;00m\n\u001b[1;32m   1950\u001b[0m \n\u001b[1;32m   1951\u001b[0m \u001b[39m.. versionadded:: 1.3.0\u001b[39;00m\n\u001b[0;32m   (...)\u001b[0m\n\u001b[1;32m   1962\u001b[0m \u001b[39m[Row(age=5, name='Bob')]\u001b[39;00m\n\u001b[1;32m   1963\u001b[0m \u001b[39m\"\"\"\u001b[39;00m\n\u001b[1;32m   1964\u001b[0m \u001b[39mif\u001b[39;00m \u001b[39misinstance\u001b[39m(item, \u001b[39mstr\u001b[39m):\n\u001b[0;32m-> 1965\u001b[0m     jc \u001b[39m=\u001b[39m \u001b[39mself\u001b[39;49m\u001b[39m.\u001b[39;49m_jdf\u001b[39m.\u001b[39;49mapply(item)\n\u001b[1;32m   1966\u001b[0m     \u001b[39mreturn\u001b[39;00m Column(jc)\n\u001b[1;32m   1967\u001b[0m \u001b[39melif\u001b[39;00m \u001b[39misinstance\u001b[39m(item, Column):\n",
      "File \u001b[0;32m~/.local/lib/python3.8/site-packages/py4j/java_gateway.py:1321\u001b[0m, in \u001b[0;36mJavaMember.__call__\u001b[0;34m(self, *args)\u001b[0m\n\u001b[1;32m   1315\u001b[0m command \u001b[39m=\u001b[39m proto\u001b[39m.\u001b[39mCALL_COMMAND_NAME \u001b[39m+\u001b[39m\\\n\u001b[1;32m   1316\u001b[0m     \u001b[39mself\u001b[39m\u001b[39m.\u001b[39mcommand_header \u001b[39m+\u001b[39m\\\n\u001b[1;32m   1317\u001b[0m     args_command \u001b[39m+\u001b[39m\\\n\u001b[1;32m   1318\u001b[0m     proto\u001b[39m.\u001b[39mEND_COMMAND_PART\n\u001b[1;32m   1320\u001b[0m answer \u001b[39m=\u001b[39m \u001b[39mself\u001b[39m\u001b[39m.\u001b[39mgateway_client\u001b[39m.\u001b[39msend_command(command)\n\u001b[0;32m-> 1321\u001b[0m return_value \u001b[39m=\u001b[39m get_return_value(\n\u001b[1;32m   1322\u001b[0m     answer, \u001b[39mself\u001b[39;49m\u001b[39m.\u001b[39;49mgateway_client, \u001b[39mself\u001b[39;49m\u001b[39m.\u001b[39;49mtarget_id, \u001b[39mself\u001b[39;49m\u001b[39m.\u001b[39;49mname)\n\u001b[1;32m   1324\u001b[0m \u001b[39mfor\u001b[39;00m temp_arg \u001b[39min\u001b[39;00m temp_args:\n\u001b[1;32m   1325\u001b[0m     temp_arg\u001b[39m.\u001b[39m_detach()\n",
      "File \u001b[0;32m~/.local/lib/python3.8/site-packages/pyspark/sql/utils.py:196\u001b[0m, in \u001b[0;36mcapture_sql_exception.<locals>.deco\u001b[0;34m(*a, **kw)\u001b[0m\n\u001b[1;32m    192\u001b[0m converted \u001b[39m=\u001b[39m convert_exception(e\u001b[39m.\u001b[39mjava_exception)\n\u001b[1;32m    193\u001b[0m \u001b[39mif\u001b[39;00m \u001b[39mnot\u001b[39;00m \u001b[39misinstance\u001b[39m(converted, UnknownException):\n\u001b[1;32m    194\u001b[0m     \u001b[39m# Hide where the exception came from that shows a non-Pythonic\u001b[39;00m\n\u001b[1;32m    195\u001b[0m     \u001b[39m# JVM exception message.\u001b[39;00m\n\u001b[0;32m--> 196\u001b[0m     \u001b[39mraise\u001b[39;00m converted \u001b[39mfrom\u001b[39;00m \u001b[39mNone\u001b[39m\n\u001b[1;32m    197\u001b[0m \u001b[39melse\u001b[39;00m:\n\u001b[1;32m    198\u001b[0m     \u001b[39mraise\u001b[39;00m\n",
      "\u001b[0;31mAnalysisException\u001b[0m: Cannot resolve column name \"pred\" among (year, sum(pred))"
     ]
    }
   ],
   "source": [
    "# Extract ERP for each year (Estimated Residential Population)\n",
    "from pyspark.sql import SparkSession\n",
    "from pyspark.sql.functions import *\n",
    "from pyspark.sql.types import IntegerType\n",
    "import matplotlib.pyplot as plt\n",
    "\n",
    "# Create a spark session (which will run spark jobs)\n",
    "spark = (\n",
    "    SparkSession.builder.appName(\"MAST30034 Tutorial 1\")\n",
    "    .config(\"spark.sql.repl.eagerEval.enabled\", True) \n",
    "    .config(\"spark.sql.parquet.cacheMetadata\", \"true\")\n",
    "    .config(\"spark.sql.session.timeZone\", \"Etc/UTC\")\n",
    "    .getOrCreate()\n",
    ")\n",
    "\n",
    "erp_predicted = spark.read.csv(\"../../generic-real-estate-consulting-project-group-43/data/curated/feature_prediction/22_27_population.csv\", header=True)\n",
    "\n",
    "erp_predicted = erp_predicted.withColumn(\"pred\",erp_predicted[\"pred\"].cast(IntegerType()))\n",
    "\n",
    "erp_predicted.printSchema()\n",
    "\n",
    "# Victoria state data only\n",
    "erp_agg = erp_predicted.groupBy('year').sum('pred').alias('pred')\n",
    "\n",
    "erp_agg.withColumnRenamed(\"sum(pred)\",\"pred\")\n",
    "\n",
    "plt.plot(erp_agg['year'],erp_agg['pred'])\n",
    "plt.title('title name')\n",
    "plt.xlabel('Year')\n",
    "plt.ylabel('ERP Predicted')\n",
    "plt.show()"
   ]
  },
  {
   "cell_type": "code",
   "execution_count": 1,
   "metadata": {},
   "outputs": [
    {
     "name": "stdout",
     "output_type": "stream",
     "text": [
      "22/09/26 15:24:33 WARN Utils: Your hostname, Hyunjin-Win11 resolves to a loopback address: 127.0.1.1; using 172.24.195.83 instead (on interface eth0)\n",
      "22/09/26 15:24:33 WARN Utils: Set SPARK_LOCAL_IP if you need to bind to another address\n"
     ]
    },
    {
     "name": "stderr",
     "output_type": "stream",
     "text": [
      "Setting default log level to \"WARN\".\n",
      "To adjust logging level use sc.setLogLevel(newLevel). For SparkR, use setLogLevel(newLevel).\n"
     ]
    },
    {
     "name": "stdout",
     "output_type": "stream",
     "text": [
      "22/09/26 15:24:35 WARN NativeCodeLoader: Unable to load native-hadoop library for your platform... using builtin-java classes where applicable\n"
     ]
    },
    {
     "name": "stderr",
     "output_type": "stream",
     "text": [
      "                                                                                \r"
     ]
    },
    {
     "name": "stdout",
     "output_type": "stream",
     "text": [
      "root\n",
      " |-- sa2_name_2016: string (nullable = true)\n",
      " |-- sa2_maincode_2016: string (nullable = true)\n",
      " |-- erp_2013: integer (nullable = true)\n",
      " |-- erp_2014: integer (nullable = true)\n",
      " |-- erp_2015: integer (nullable = true)\n",
      " |-- erp_2016: integer (nullable = true)\n",
      " |-- erp_2017: integer (nullable = true)\n",
      " |-- erp_2018: integer (nullable = true)\n",
      " |-- erp_2019: integer (nullable = true)\n",
      " |-- erp_2020: integer (nullable = true)\n",
      " |-- erp_2021: integer (nullable = true)\n",
      "\n"
     ]
    },
    {
     "data": {
      "image/png": "[encoded data removed]",
      "text/plain": [
       "<Figure size 432x288 with 1 Axes>"
      ]
     },
     "metadata": {
      "needs_background": "light"
     },
     "output_type": "display_data"
    }
   ],
   "source": [
    "# Extract ERP for each year (Estimated Residential Population)\n",
    "from pyspark.sql import SparkSession\n",
    "from pyspark.sql.functions import *\n",
    "from pyspark.sql.types import IntegerType\n",
    "import matplotlib.pyplot as plt\n",
    "\n",
    "erp_predicted = spark.read.csv(\"../../generic-real-estate-consulting-project-group-43/data/curated/erp_vic.csv\", header=True)\n",
    "\n",
    "erp_predicted = erp_predicted.withColumn(\"erp_2013\",erp_predicted[\"erp_2013\"].cast(IntegerType()))\\\n",
    "                                .withColumn(\"erp_2014\",erp_predicted[\"erp_2014\"].cast(IntegerType()))\\\n",
    "                                .withColumn(\"erp_2015\",erp_predicted[\"erp_2015\"].cast(IntegerType()))\\\n",
    "                                .withColumn(\"erp_2016\",erp_predicted[\"erp_2016\"].cast(IntegerType()))\\\n",
    "                                .withColumn(\"erp_2017\",erp_predicted[\"erp_2017\"].cast(IntegerType()))\\\n",
    "                                .withColumn(\"erp_2018\",erp_predicted[\"erp_2018\"].cast(IntegerType()))\\\n",
    "                                .withColumn(\"erp_2019\",erp_predicted[\"erp_2019\"].cast(IntegerType()))\\\n",
    "                                .withColumn(\"erp_2020\",erp_predicted[\"erp_2020\"].cast(IntegerType()))\\\n",
    "                                .withColumn(\"erp_2021\",erp_predicted[\"erp_2021\"].cast(IntegerType()))\n",
    "\n",
    "erp_predicted.printSchema()\n",
    "\n",
    "# Graph the erp trend line to decide how to predict erp from 2022 - 2027\n",
    "erp_agg = erp_predicted.groupby().sum().toPandas()\n",
    "\n",
    "year = ['2013', '2014', '2015', '2016', '2017', '2018', '2019', '2020', '2021']\n",
    "\n",
    "y_axis = erp_agg.iloc[0]\n",
    "\n",
    "plt.plot(year,y_axis)\n",
    "plt.title('Trend of population by year')\n",
    "plt.xlabel('Year')\n",
    "plt.ylabel('ERP Predicted')\n",
    "plt.show()"
   ]
  },
  {
   "cell_type": "code",
   "execution_count": 17,
   "metadata": {},
   "outputs": [
    {
     "name": "stdout",
     "output_type": "stream",
     "text": [
      "22/09/26 16:08:40 WARN CSVHeaderChecker: CSV header does not conform to the schema.\n",
      " Header: , year, month, address, latitude, longitude, postcode, sa2_2021, sa2_2016, residence_type, nbed, nbath, ncar, min_distance_to_cbd, min_distance_to_park, min_distance_to_prim, min_distance_to_second, min_distance_to_train, min_distance_to_hosp, min_distance_to_poli, min_distance_to_shop, weekly_rent, gdp(USD Millioins), saving_rate(% of GDP), income_per_person, population, crime_cases, erp\n",
      " Schema: _c0, year, month, address, latitude, longitude, postcode, sa2_2021, sa2_2016, residence_type, nbed, nbath, ncar, min_distance_to_cbd, min_distance_to_park, min_distance_to_prim, min_distance_to_second, min_distance_to_train, min_distance_to_hosp, min_distance_to_poli, min_distance_to_shop, weekly_rent, gdp(USD Millioins), saving_rate(% of GDP), income_per_person, population, crime_cases, erp\n",
      "Expected: _c0 but found: \n",
      "CSV file: file:///home/hyunjinp/generic-real-estate-consulting-project-group-43/data/curated/merged_dataset/2013_merged_data.csv\n",
      "         _c0  year  month                         address  latitude  \\\n",
      "0          0  2013     11   - CHAPEL HILL ROAD, BOOROLITE       -37   \n",
      "1          1  2013     11       - LOWER NEWRY ROAD, NEWRY       -37   \n",
      "2          2  2013     12       - LOWER NEWRY ROAD, NEWRY       -37   \n",
      "3          3  2013      9         . NASH STREET, JAMIESON       -37   \n",
      "4          4  2013     10  .5528 CALDER HIGHWAY, BIG HILL       -36   \n",
      "...      ...   ...    ...                             ...       ...   \n",
      "10934  10934  2013      3       WHITELAW STREET, MEENIYAN       -38   \n",
      "10935  10935  2013      4       WHITELAW STREET, MEENIYAN       -38   \n",
      "10936  10936  2013      7       WHITELAW STREET, MEENIYAN       -38   \n",
      "10937  10937  2013     12       WHITELAW STREET, MEENIYAN       -38   \n",
      "10938  10938  2013      6         YOUNGS ROAD, ST ANDREWS       -37   \n",
      "\n",
      "       longitude  postcode   sa2_2021   sa2_2016  residence_type  ...  \\\n",
      "0            146      3723  204011057  204011057               1  ...   \n",
      "1            146      3859  205051101  205051101               1  ...   \n",
      "2            146      3859  205051101  205051101               1  ...   \n",
      "3            146      3723  204011057  204011057               1  ...   \n",
      "4            144      3555  202011022  202011022               1  ...   \n",
      "...          ...       ...        ...        ...             ...  ...   \n",
      "10934        146      3956  205031087  205031087               0  ...   \n",
      "10935        146      3956  205031087  205031087               0  ...   \n",
      "10936        146      3956  205031087  205031087               0  ...   \n",
      "10937        146      3956  205031087  205031087               0  ...   \n",
      "10938        145      3761  209031212  209031212               0  ...   \n",
      "\n",
      "       min_distance_to_hosp  min_distance_to_poli  min_distance_to_shop  \\\n",
      "0                      21.0                  22.0               99999.0   \n",
      "1                       7.0                   6.0               99999.0   \n",
      "2                       7.0                   6.0               99999.0   \n",
      "3                      36.0                   0.0               99999.0   \n",
      "4                   99999.0               99999.0               99999.0   \n",
      "...                     ...                   ...                   ...   \n",
      "10934                  22.0                   0.0               99999.0   \n",
      "10935                  22.0                   0.0               99999.0   \n",
      "10936                  22.0                   0.0               99999.0   \n",
      "10937                  22.0                   0.0               99999.0   \n",
      "10938               99999.0               99999.0               99999.0   \n",
      "\n",
      "       weekly_rent  gdp(USD Millioins)  saving_rate(% of GDP)  \\\n",
      "0              300             1536454                      6   \n",
      "1              230             1536454                      6   \n",
      "2              200             1536454                      6   \n",
      "3              175             1536454                      6   \n",
      "4              350             1536454                      6   \n",
      "...            ...                 ...                    ...   \n",
      "10934          210             1536454                      6   \n",
      "10935          270             1536454                      6   \n",
      "10936          190             1536454                      6   \n",
      "10937          230             1536454                      6   \n",
      "10938          200             1536454                      6   \n",
      "\n",
      "       income_per_person  population  crime_cases    erp  \n",
      "0                  39683        8533         86.0   8533  \n",
      "1                  47222       13739         36.0  13739  \n",
      "2                  47222       13739         36.0  13739  \n",
      "3                  39683        8533         86.0   8533  \n",
      "4                  43556       19377       1288.0  19377  \n",
      "...                  ...         ...          ...    ...  \n",
      "10934              37098        8564        114.0   8564  \n",
      "10935              37098        8564        114.0   8564  \n",
      "10936              37098        8564        114.0   8564  \n",
      "10937              37098        8564        114.0   8564  \n",
      "10938              64101        5269         21.0   5269  \n",
      "\n",
      "[10933 rows x 28 columns]\n"
     ]
    },
    {
     "data": {
      "image/png": "[encoded data removed]",
      "text/plain": [
       "<Figure size 432x288 with 1 Axes>"
      ]
     },
     "metadata": {
      "needs_background": "light"
     },
     "output_type": "display_data"
    }
   ],
   "source": [
    "# Scrutinize the data with PCA: Test the attribute relevance\n",
    "from heapq import merge\n",
    "from sklearn.decomposition import PCA\n",
    "from sklearn.preprocessing import StandardScaler\n",
    "from sklearn.model_selection import train_test_split\n",
    "import numpy as np\n",
    "\n",
    "merged_df = spark.read.csv(\"../../generic-real-estate-consulting-project-group-43/data/curated/merged_dataset/2013_merged_data.csv\", header=True)\n",
    "for c in merged_df.columns:\n",
    "    if (c not in  ['address', 'residence_type']):\n",
    "        merged_df = merged_df.withColumn(c,merged_df[c].cast(IntegerType())) \n",
    "\n",
    "merged_df = merged_df.toPandas()\n",
    "\n",
    "merged_df['residence_type'] = merged_df['residence_type'].astype('category')\n",
    "merged_df['residence_type'] = merged_df['residence_type'].cat.codes\n",
    "\n",
    "merged_df.iloc[:, 13:21] = merged_df.iloc[:, 13:21].replace(np.nan, 99999)\n",
    "\n",
    "merged_df = merged_df.dropna()\n",
    "\n",
    "X = merged_df.drop(['address', 'weekly_rent'], axis=1)\n",
    "y = merged_df['weekly_rent']\n",
    "\n",
    "X_train, X_test, y_train, y_test = train_test_split(X, y, test_size=0.25, random_state=42)\n",
    "\n",
    "# Standardize\n",
    "ss = StandardScaler()\n",
    "X_train_scaled = ss.fit_transform(X_train)\n",
    "X_test_scaled = ss.transform(X_test)\n",
    "\n",
    "pca = PCA().fit(X_train_scaled)\n",
    "\n",
    "plt.plot(pca.explained_variance_ratio_.cumsum(), lw=3, color='#087E8B')\n",
    "plt.title('Cumulative explained variance by number of principal components')\n",
    "plt.xlabel(\"Nmber of components necessary\")\n",
    "plt.ylabel(\"Explained variance\")\n",
    "plt.show()"
   ]
  },
  {
   "cell_type": "code",
   "execution_count": 21,
   "metadata": {},
   "outputs": [
    {
     "name": "stdout",
     "output_type": "stream",
     "text": [
      "Summary of external factors: \n",
      "                            OLS Regression Results                            \n",
      "==============================================================================\n",
      "Dep. Variable:            weekly_rent   R-squared:                       0.221\n",
      "Model:                            OLS   Adj. R-squared:                  0.220\n",
      "Method:                 Least Squares   F-statistic:                     238.0\n",
      "Date:                Mon, 26 Sep 2022   Prob (F-statistic):               0.00\n",
      "Time:                        16:13:14   Log-Likelihood:                -68687.\n",
      "No. Observations:               10933   AIC:                         1.374e+05\n",
      "Df Residuals:                   10919   BIC:                         1.375e+05\n",
      "Df Model:                          13                                         \n",
      "Covariance Type:            nonrobust                                         \n",
      "==========================================================================================\n",
      "                             coef    std err          t      P>|t|      [0.025      0.975]\n",
      "------------------------------------------------------------------------------------------\n",
      "Intercept               1.152e-10   2.71e-11      4.246      0.000     6.2e-11    1.68e-10\n",
      "sa2_2021               -2.012e-07   3.03e-07     -0.665      0.506   -7.94e-07    3.92e-07\n",
      "min_distance_to_cbd       -0.2955      0.016    -17.954      0.000      -0.328      -0.263\n",
      "min_distance_to_park    -1.91e-05   4.29e-05     -0.445      0.656      -0.000     6.5e-05\n",
      "min_distance_to_prim       0.0002   6.06e-05      2.815      0.005    5.18e-05       0.000\n",
      "min_distance_to_second -4.818e-05   2.96e-05     -1.630      0.103      -0.000    9.75e-06\n",
      "min_distance_to_train   8.568e-05    2.9e-05      2.958      0.003    2.89e-05       0.000\n",
      "min_distance_to_hosp   -2.861e-05   3.32e-05     -0.861      0.389   -9.37e-05    3.65e-05\n",
      "min_distance_to_poli    8.451e-06   2.93e-05      0.289      0.773   -4.89e-05    6.58e-05\n",
      "min_distance_to_shop   -6.601e-05    4.2e-05     -1.572      0.116      -0.000    1.63e-05\n",
      "gdp                        0.0002   4.17e-05      4.246      0.000    9.53e-05       0.000\n",
      "saving_rate              6.91e-10   1.63e-10      4.246      0.000    3.72e-10    1.01e-09\n",
      "income_per_person          0.0030   8.56e-05     34.578      0.000       0.003       0.003\n",
      "population              2.505e-05      0.000      0.063      0.949      -0.001       0.001\n",
      "crime_cases               -0.0021      0.001     -2.859      0.004      -0.004      -0.001\n",
      "erp                       -0.0002      0.000     -0.766      0.444      -0.001       0.000\n",
      "==============================================================================\n",
      "Omnibus:                     5475.171   Durbin-Watson:                   1.465\n",
      "Prob(Omnibus):                  0.000   Jarque-Bera (JB):            51685.127\n",
      "Skew:                           2.205   Prob(JB):                         0.00\n",
      "Kurtosis:                      12.695   Cond. No.                     3.25e+22\n",
      "==============================================================================\n",
      "\n",
      "Notes:\n",
      "[1] Standard Errors assume that the covariance matrix of the errors is correctly specified.\n",
      "[2] The smallest eigenvalue is 4.49e-25. This might indicate that there are\n",
      "strong multicollinearity problems or that the design matrix is singular.\n",
      "Anova table of external factors: \n",
      "                              sum_sq       df            F         PR(>F)\n",
      "sa2_2021                7.424080e+03      1.0     0.442202   5.060755e-01\n",
      "min_distance_to_cbd     5.411695e+06      1.0   322.338108   4.690123e-71\n",
      "min_distance_to_park    3.331375e+03      1.0     0.198428   6.560020e-01\n",
      "min_distance_to_prim    1.330526e+05      1.0     7.925043   4.884250e-03\n",
      "min_distance_to_second  4.462050e+04      1.0     2.657742   1.030758e-01\n",
      "min_distance_to_train   1.469417e+05      1.0     8.752326   3.098705e-03\n",
      "min_distance_to_hosp    1.244957e+04      1.0     0.741537   3.891880e-01\n",
      "min_distance_to_poli    1.400866e+03      1.0     0.083440   7.726940e-01\n",
      "min_distance_to_shop    4.151347e+04      1.0     2.472677   1.158695e-01\n",
      "gdp                     3.027218e+05      1.0    18.031096   2.191252e-05\n",
      "saving_rate             3.027222e+05      1.0    18.031119   2.191226e-05\n",
      "income_per_person       2.007299e+07      1.0  1195.612606  1.038264e-248\n",
      "population              6.766196e+01      1.0     0.004030   9.493826e-01\n",
      "crime_cases             1.372414e+05      1.0     8.174542   4.256286e-03\n",
      "erp                     9.854122e+03      1.0     0.586944   4.436200e-01\n",
      "Residual                1.833177e+08  10919.0          NaN            NaN\n",
      "Summary of internal factors: \n",
      "                            OLS Regression Results                            \n",
      "==============================================================================\n",
      "Dep. Variable:            weekly_rent   R-squared:                       0.181\n",
      "Model:                            OLS   Adj. R-squared:                  0.180\n",
      "Method:                 Least Squares   F-statistic:                     602.2\n",
      "Date:                Mon, 26 Sep 2022   Prob (F-statistic):               0.00\n",
      "Time:                        16:13:14   Log-Likelihood:                -68962.\n",
      "No. Observations:               10933   AIC:                         1.379e+05\n",
      "Df Residuals:                   10928   BIC:                         1.380e+05\n",
      "Df Model:                           4                                         \n",
      "Covariance Type:            nonrobust                                         \n",
      "==================================================================================\n",
      "                     coef    std err          t      P>|t|      [0.025      0.975]\n",
      "----------------------------------------------------------------------------------\n",
      "Intercept        187.4994      4.279     43.817      0.000     179.112     195.887\n",
      "residence_type   -43.5604      3.872    -11.250      0.000     -51.150     -35.970\n",
      "nbed              30.1075      2.072     14.528      0.000      26.045      34.170\n",
      "nbath            101.9036      2.814     36.214      0.000      96.388     107.419\n",
      "ncar              -7.4123      1.535     -4.829      0.000     -10.421      -4.403\n",
      "==============================================================================\n",
      "Omnibus:                     4507.411   Durbin-Watson:                   1.570\n",
      "Prob(Omnibus):                  0.000   Jarque-Bera (JB):            26935.423\n",
      "Skew:                           1.887   Prob(JB):                         0.00\n",
      "Kurtosis:                       9.700   Cond. No.                         14.0\n",
      "==============================================================================\n",
      "\n",
      "Notes:\n",
      "[1] Standard Errors assume that the covariance matrix of the errors is correctly specified.\n",
      "Anova table of internal factors: \n",
      "                      sum_sq       df            F         PR(>F)\n",
      "residence_type  2.232556e+06      1.0   126.556858   3.360178e-29\n",
      "nbed            3.723269e+06      1.0   211.060880   2.226020e-47\n",
      "nbath           2.313451e+07      1.0  1311.425633  2.675082e-271\n",
      "ncar            4.113196e+05      1.0    23.316465   1.392819e-06\n",
      "Residual        1.927779e+08  10928.0          NaN            NaN\n"
     ]
    }
   ],
   "source": [
    "# Scrutinize the data with PCA: Test the attribute relevance\n",
    "from sklearn.preprocessing import StandardScaler\n",
    "from sklearn.model_selection import train_test_split\n",
    "import statsmodels.api as sm\n",
    "from statsmodels.formula.api import ols\n",
    "\n",
    "merged_df.rename(columns = {'gdp(USD Millioins)':'gdp', 'saving_rate(% of GDP)':'saving_rate'}, inplace = True)\n",
    "\n",
    "# OLS Regression\n",
    "# External ----------------------------------------------------------------------------------------------------\n",
    "external_model = ols(formula = 'weekly_rent ~ sa2_2021 + min_distance_to_cbd + \\\n",
    "    min_distance_to_park + min_distance_to_prim + min_distance_to_second + min_distance_to_train +\\\n",
    "    min_distance_to_hosp + min_distance_to_poli + min_distance_to_shop + gdp + saving_rate + income_per_person + population +\\\n",
    "    crime_cases + erp', data = merged_df).fit()\n",
    "\n",
    "# Summary of external factors\n",
    "ex_summary = external_model.summary()\n",
    "\n",
    "print(\"Summary of external factors: \")\n",
    "print(ex_summary)\n",
    "\n",
    "# Anova table of external factors\n",
    "ex_anova_table = sm.stats.anova_lm(external_model, typ=2)\n",
    "\n",
    "print(\"Anova table of external factors: \")\n",
    "print(ex_anova_table)\n",
    "\n",
    "# Internal ----------------------------------------------------------------------------------------------------\n",
    "internal_model = ols(formula = 'weekly_rent ~ residence_type + nbed + nbath + ncar', data = merged_df).fit()\n",
    "\n",
    "# Summary of internal factors\n",
    "in_summary = internal_model.summary()\n",
    "\n",
    "print(\"Summary of internal factors: \")\n",
    "print(in_summary)\n",
    "\n",
    "# Anova table of internal factors\n",
    "in_anova_table = sm.stats.anova_lm(internal_model, typ=2)\n",
    "\n",
    "print(\"Anova table of internal factors: \")\n",
    "print(in_anova_table)"
   ]
  }
 ],
 "metadata": {
  "kernelspec": {
   "display_name": "Python 3.8.10 64-bit",
   "language": "python",
   "name": "python3"
  },
  "language_info": {
   "codemirror_mode": {
    "name": "ipython",
    "version": 3
   },
   "file_extension": ".py",
   "mimetype": "text/x-python",
   "name": "python",
   "nbconvert_exporter": "python",
   "pygments_lexer": "ipython3",
   "version": "3.8.10"
  },
  "orig_nbformat": 4,
  "vscode": {
   "interpreter": {
    "hash": "916dbcbb3f70747c44a77c7bcd40155683ae19c65e1c03b4aa3499c5328201f1"
   }
  }
 },
 "nbformat": 4,
 "nbformat_minor": 2
}
