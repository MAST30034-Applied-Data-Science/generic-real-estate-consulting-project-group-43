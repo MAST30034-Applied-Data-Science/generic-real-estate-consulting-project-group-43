{
 "cells": [
  {
   "cell_type": "code",
   "execution_count": 29,
   "metadata": {},
   "outputs": [
    {
     "name": "stdout",
     "output_type": "stream",
     "text": [
      "root\n",
      " |-- _c0: string (nullable = true)\n",
      " |-- year: string (nullable = true)\n",
      " |-- SA2 code: string (nullable = true)\n",
      " |-- pred: integer (nullable = true)\n",
      "\n",
      "Column<'sum(pred)'>\n"
     ]
    },
    {
     "ename": "AnalysisException",
     "evalue": "Cannot resolve column name \"pred\" among (year, sum(pred))",
     "output_type": "error",
     "traceback": [
      "\u001b[0;31m---------------------------------------------------------------------------\u001b[0m",
      "\u001b[0;31mAnalysisException\u001b[0m                         Traceback (most recent call last)",
      "\u001b[1;32m/home/hyunjinp/generic-real-estate-consulting-project-group-43/notebooks/dataAnalysis.ipynb Cell 1\u001b[0m in \u001b[0;36m<cell line: 29>\u001b[0;34m()\u001b[0m\n\u001b[1;32m     <a href='vscode-notebook-cell://wsl%2Bubuntu/home/hyunjinp/generic-real-estate-consulting-project-group-43/notebooks/dataAnalysis.ipynb#W0sdnNjb2RlLXJlbW90ZQ%3D%3D?line=24'>25</a>\u001b[0m erp_agg\u001b[39m.\u001b[39mwithColumnRenamed(\u001b[39m\"\u001b[39m\u001b[39msum(pred)\u001b[39m\u001b[39m\"\u001b[39m,\u001b[39m\"\u001b[39m\u001b[39mpred\u001b[39m\u001b[39m\"\u001b[39m)\n\u001b[1;32m     <a href='vscode-notebook-cell://wsl%2Bubuntu/home/hyunjinp/generic-real-estate-consulting-project-group-43/notebooks/dataAnalysis.ipynb#W0sdnNjb2RlLXJlbW90ZQ%3D%3D?line=26'>27</a>\u001b[0m \u001b[39mprint\u001b[39m(erp_agg[\u001b[39m\"\u001b[39m\u001b[39msum(pred)\u001b[39m\u001b[39m\"\u001b[39m])\n\u001b[0;32m---> <a href='vscode-notebook-cell://wsl%2Bubuntu/home/hyunjinp/generic-real-estate-consulting-project-group-43/notebooks/dataAnalysis.ipynb#W0sdnNjb2RlLXJlbW90ZQ%3D%3D?line=28'>29</a>\u001b[0m plt\u001b[39m.\u001b[39mplot(erp_agg[\u001b[39m'\u001b[39m\u001b[39myear\u001b[39m\u001b[39m'\u001b[39m],erp_agg[\u001b[39m'\u001b[39;49m\u001b[39mpred\u001b[39;49m\u001b[39m'\u001b[39;49m])\n\u001b[1;32m     <a href='vscode-notebook-cell://wsl%2Bubuntu/home/hyunjinp/generic-real-estate-consulting-project-group-43/notebooks/dataAnalysis.ipynb#W0sdnNjb2RlLXJlbW90ZQ%3D%3D?line=29'>30</a>\u001b[0m plt\u001b[39m.\u001b[39mtitle(\u001b[39m'\u001b[39m\u001b[39mtitle name\u001b[39m\u001b[39m'\u001b[39m)\n\u001b[1;32m     <a href='vscode-notebook-cell://wsl%2Bubuntu/home/hyunjinp/generic-real-estate-consulting-project-group-43/notebooks/dataAnalysis.ipynb#W0sdnNjb2RlLXJlbW90ZQ%3D%3D?line=30'>31</a>\u001b[0m plt\u001b[39m.\u001b[39mxlabel(\u001b[39m'\u001b[39m\u001b[39mYear\u001b[39m\u001b[39m'\u001b[39m)\n",
      "File \u001b[0;32m~/.local/lib/python3.8/site-packages/pyspark/sql/dataframe.py:1965\u001b[0m, in \u001b[0;36mDataFrame.__getitem__\u001b[0;34m(self, item)\u001b[0m\n\u001b[1;32m   1949\u001b[0m \u001b[39m\"\"\"Returns the column as a :class:`Column`.\u001b[39;00m\n\u001b[1;32m   1950\u001b[0m \n\u001b[1;32m   1951\u001b[0m \u001b[39m.. versionadded:: 1.3.0\u001b[39;00m\n\u001b[0;32m   (...)\u001b[0m\n\u001b[1;32m   1962\u001b[0m \u001b[39m[Row(age=5, name='Bob')]\u001b[39;00m\n\u001b[1;32m   1963\u001b[0m \u001b[39m\"\"\"\u001b[39;00m\n\u001b[1;32m   1964\u001b[0m \u001b[39mif\u001b[39;00m \u001b[39misinstance\u001b[39m(item, \u001b[39mstr\u001b[39m):\n\u001b[0;32m-> 1965\u001b[0m     jc \u001b[39m=\u001b[39m \u001b[39mself\u001b[39;49m\u001b[39m.\u001b[39;49m_jdf\u001b[39m.\u001b[39;49mapply(item)\n\u001b[1;32m   1966\u001b[0m     \u001b[39mreturn\u001b[39;00m Column(jc)\n\u001b[1;32m   1967\u001b[0m \u001b[39melif\u001b[39;00m \u001b[39misinstance\u001b[39m(item, Column):\n",
      "File \u001b[0;32m~/.local/lib/python3.8/site-packages/py4j/java_gateway.py:1321\u001b[0m, in \u001b[0;36mJavaMember.__call__\u001b[0;34m(self, *args)\u001b[0m\n\u001b[1;32m   1315\u001b[0m command \u001b[39m=\u001b[39m proto\u001b[39m.\u001b[39mCALL_COMMAND_NAME \u001b[39m+\u001b[39m\\\n\u001b[1;32m   1316\u001b[0m     \u001b[39mself\u001b[39m\u001b[39m.\u001b[39mcommand_header \u001b[39m+\u001b[39m\\\n\u001b[1;32m   1317\u001b[0m     args_command \u001b[39m+\u001b[39m\\\n\u001b[1;32m   1318\u001b[0m     proto\u001b[39m.\u001b[39mEND_COMMAND_PART\n\u001b[1;32m   1320\u001b[0m answer \u001b[39m=\u001b[39m \u001b[39mself\u001b[39m\u001b[39m.\u001b[39mgateway_client\u001b[39m.\u001b[39msend_command(command)\n\u001b[0;32m-> 1321\u001b[0m return_value \u001b[39m=\u001b[39m get_return_value(\n\u001b[1;32m   1322\u001b[0m     answer, \u001b[39mself\u001b[39;49m\u001b[39m.\u001b[39;49mgateway_client, \u001b[39mself\u001b[39;49m\u001b[39m.\u001b[39;49mtarget_id, \u001b[39mself\u001b[39;49m\u001b[39m.\u001b[39;49mname)\n\u001b[1;32m   1324\u001b[0m \u001b[39mfor\u001b[39;00m temp_arg \u001b[39min\u001b[39;00m temp_args:\n\u001b[1;32m   1325\u001b[0m     temp_arg\u001b[39m.\u001b[39m_detach()\n",
      "File \u001b[0;32m~/.local/lib/python3.8/site-packages/pyspark/sql/utils.py:196\u001b[0m, in \u001b[0;36mcapture_sql_exception.<locals>.deco\u001b[0;34m(*a, **kw)\u001b[0m\n\u001b[1;32m    192\u001b[0m converted \u001b[39m=\u001b[39m convert_exception(e\u001b[39m.\u001b[39mjava_exception)\n\u001b[1;32m    193\u001b[0m \u001b[39mif\u001b[39;00m \u001b[39mnot\u001b[39;00m \u001b[39misinstance\u001b[39m(converted, UnknownException):\n\u001b[1;32m    194\u001b[0m     \u001b[39m# Hide where the exception came from that shows a non-Pythonic\u001b[39;00m\n\u001b[1;32m    195\u001b[0m     \u001b[39m# JVM exception message.\u001b[39;00m\n\u001b[0;32m--> 196\u001b[0m     \u001b[39mraise\u001b[39;00m converted \u001b[39mfrom\u001b[39;00m \u001b[39mNone\u001b[39m\n\u001b[1;32m    197\u001b[0m \u001b[39melse\u001b[39;00m:\n\u001b[1;32m    198\u001b[0m     \u001b[39mraise\u001b[39;00m\n",
      "\u001b[0;31mAnalysisException\u001b[0m: Cannot resolve column name \"pred\" among (year, sum(pred))"
     ]
    }
   ],
   "source": [
    "# Extract ERP for each year (Estimated Residential Population)\n",
    "from pyspark.sql import SparkSession\n",
    "from pyspark.sql.functions import *\n",
    "from pyspark.sql.types import IntegerType\n",
    "import matplotlib.pyplot as plt\n",
    "\n",
    "# Create a spark session (which will run spark jobs)\n",
    "spark = (\n",
    "    SparkSession.builder.appName(\"MAST30034 Tutorial 1\")\n",
    "    .config(\"spark.sql.repl.eagerEval.enabled\", True) \n",
    "    .config(\"spark.sql.parquet.cacheMetadata\", \"true\")\n",
    "    .config(\"spark.sql.session.timeZone\", \"Etc/UTC\")\n",
    "    .getOrCreate()\n",
    ")\n",
    "\n",
    "erp_predicted = spark.read.csv(\"../../generic-real-estate-consulting-project-group-43/data/curated/feature_prediction/22_27_population.csv\", header=True)\n",
    "\n",
    "erp_predicted = erp_predicted.withColumn(\"pred\",erp_predicted[\"pred\"].cast(IntegerType()))\n",
    "\n",
    "erp_predicted.printSchema()\n",
    "\n",
    "# Victoria state data only\n",
    "erp_agg = erp_predicted.groupBy('year').sum('pred').alias('pred')\n",
    "\n",
    "erp_agg.withColumnRenamed(\"sum(pred)\",\"pred\")\n",
    "\n",
    "plt.plot(erp_agg['year'],erp_agg['pred'])\n",
    "plt.title('title name')\n",
    "plt.xlabel('Year')\n",
    "plt.ylabel('ERP Predicted')\n",
    "plt.show()"
   ]
  },
  {
   "cell_type": "code",
   "execution_count": 1,
   "metadata": {},
   "outputs": [
    {
     "name": "stdout",
     "output_type": "stream",
     "text": [
      "22/09/26 15:24:33 WARN Utils: Your hostname, Hyunjin-Win11 resolves to a loopback address: 127.0.1.1; using 172.24.195.83 instead (on interface eth0)\n",
      "22/09/26 15:24:33 WARN Utils: Set SPARK_LOCAL_IP if you need to bind to another address\n"
     ]
    },
    {
     "name": "stderr",
     "output_type": "stream",
     "text": [
      "Setting default log level to \"WARN\".\n",
      "To adjust logging level use sc.setLogLevel(newLevel). For SparkR, use setLogLevel(newLevel).\n"
     ]
    },
    {
     "name": "stdout",
     "output_type": "stream",
     "text": [
      "22/09/26 15:24:35 WARN NativeCodeLoader: Unable to load native-hadoop library for your platform... using builtin-java classes where applicable\n"
     ]
    },
    {
     "name": "stderr",
     "output_type": "stream",
     "text": [
      "                                                                                \r"
     ]
    },
    {
     "name": "stdout",
     "output_type": "stream",
     "text": [
      "root\n",
      " |-- sa2_name_2016: string (nullable = true)\n",
      " |-- sa2_maincode_2016: string (nullable = true)\n",
      " |-- erp_2013: integer (nullable = true)\n",
      " |-- erp_2014: integer (nullable = true)\n",
      " |-- erp_2015: integer (nullable = true)\n",
      " |-- erp_2016: integer (nullable = true)\n",
      " |-- erp_2017: integer (nullable = true)\n",
      " |-- erp_2018: integer (nullable = true)\n",
      " |-- erp_2019: integer (nullable = true)\n",
      " |-- erp_2020: integer (nullable = true)\n",
      " |-- erp_2021: integer (nullable = true)\n",
      "\n"
     ]
    },
    {
     "data": {
      "image/png": "[encoded data removed]",
      "text/plain": [
       "<Figure size 432x288 with 1 Axes>"
      ]
     },
     "metadata": {
      "needs_background": "light"
     },
     "output_type": "display_data"
    }
   ],
   "source": [
    "# Extract ERP for each year (Estimated Residential Population)\n",
    "from pyspark.sql import SparkSession\n",
    "from pyspark.sql.functions import *\n",
    "from pyspark.sql.types import IntegerType\n",
    "import matplotlib.pyplot as plt\n",
    "\n",
    "# Create a spark session (which will run spark jobs)\n",
    "spark = (\n",
    "    SparkSession.builder.appName(\"MAST30034 Tutorial 1\")\n",
    "    .config(\"spark.sql.repl.eagerEval.enabled\", True) \n",
    "    .config(\"spark.sql.parquet.cacheMetadata\", \"true\")\n",
    "    .config(\"spark.sql.session.timeZone\", \"Etc/UTC\")\n",
    "    .getOrCreate()\n",
    ")\n",
    "\n",
    "erp_predicted = spark.read.csv(\"../../generic-real-estate-consulting-project-group-43/data/curated/erp_vic.csv\", header=True)\n",
    "\n",
    "erp_predicted = erp_predicted.withColumn(\"erp_2013\",erp_predicted[\"erp_2013\"].cast(IntegerType()))\\\n",
    "                                .withColumn(\"erp_2014\",erp_predicted[\"erp_2014\"].cast(IntegerType()))\\\n",
    "                                .withColumn(\"erp_2015\",erp_predicted[\"erp_2015\"].cast(IntegerType()))\\\n",
    "                                .withColumn(\"erp_2016\",erp_predicted[\"erp_2016\"].cast(IntegerType()))\\\n",
    "                                .withColumn(\"erp_2017\",erp_predicted[\"erp_2017\"].cast(IntegerType()))\\\n",
    "                                .withColumn(\"erp_2018\",erp_predicted[\"erp_2018\"].cast(IntegerType()))\\\n",
    "                                .withColumn(\"erp_2019\",erp_predicted[\"erp_2019\"].cast(IntegerType()))\\\n",
    "                                .withColumn(\"erp_2020\",erp_predicted[\"erp_2020\"].cast(IntegerType()))\\\n",
    "                                .withColumn(\"erp_2021\",erp_predicted[\"erp_2021\"].cast(IntegerType()))\n",
    "\n",
    "erp_predicted.printSchema()\n",
    "\n",
    "# Graph the erp trend line to decide how to predict erp from 2022 - 2027\n",
    "erp_agg = erp_predicted.groupby().sum().toPandas()\n",
    "\n",
    "year = ['2013', '2014', '2015', '2016', '2017', '2018', '2019', '2020', '2021']\n",
    "\n",
    "y_axis = erp_agg.iloc[0]\n",
    "\n",
    "plt.plot(year,y_axis)\n",
    "plt.title('Trend of population by year')\n",
    "plt.xlabel('Year')\n",
    "plt.ylabel('ERP Predicted')\n",
    "plt.show()"
   ]
  },
  {
   "cell_type": "code",
   "execution_count": 4,
   "metadata": {},
   "outputs": [
    {
     "name": "stdout",
     "output_type": "stream",
     "text": [
      "22/09/26 15:37:17 WARN CSVHeaderChecker: CSV header does not conform to the schema.\n",
      " Header: , year, month, address, latitude, longitude, postcode, sa2_2021, sa2_2016, residence_type, nbed, nbath, ncar, min_distance_to_cbd, min_distance_to_park, min_distance_to_prim, min_distance_to_second, min_distance_to_train, min_distance_to_hosp, min_distance_to_poli, min_distance_to_shop, weekly_rent, gdp(USD Millioins), saving_rate(% of GDP), income_per_person, population, crime_cases, erp\n",
      " Schema: _c0, year, month, address, latitude, longitude, postcode, sa2_2021, sa2_2016, residence_type, nbed, nbath, ncar, min_distance_to_cbd, min_distance_to_park, min_distance_to_prim, min_distance_to_second, min_distance_to_train, min_distance_to_hosp, min_distance_to_poli, min_distance_to_shop, weekly_rent, gdp(USD Millioins), saving_rate(% of GDP), income_per_person, population, crime_cases, erp\n",
      "Expected: _c0 but found: \n",
      "CSV file: file:///home/hyunjinp/generic-real-estate-consulting-project-group-43/data/curated/merged_dataset/2013_merged_data.csv\n"
     ]
    },
    {
     "name": "stderr",
     "output_type": "stream",
     "text": [
      "                                                                                \r"
     ]
    },
    {
     "data": {
      "image/png": "[encoded data removed]",
      "text/plain": [
       "<Figure size 432x288 with 1 Axes>"
      ]
     },
     "metadata": {
      "needs_background": "light"
     },
     "output_type": "display_data"
    }
   ],
   "source": [
    "# Scrutinize the data with PCA: Test the attribute relevance\n",
    "from heapq import merge\n",
    "from sklearn.decomposition import PCA\n",
    "from sklearn.preprocessing import StandardScaler\n",
    "from sklearn.model_selection import train_test_split\n",
    "import numpy as np\n",
    "\n",
    "merged_df = spark.read.csv(\"../../generic-real-estate-consulting-project-group-43/data/curated/merged_dataset/2013_merged_data.csv\", header=True)\n",
    "merged_df = merged_df.toPandas()\n",
    "\n",
    "merged_df['residence_type'] = merged_df['residence_type'].astype('category')\n",
    "merged_df['residence_type'] = merged_df['residence_type'].cat.codes\n",
    "\n",
    "merged_df.iloc[:, 13:21] = merged_df.iloc[:, 13:21].replace(np.nan, 99999)\n",
    "\n",
    "merged_df = merged_df.dropna()\n",
    "\n",
    "X = merged_df.drop(['address', 'weekly_rent'], axis=1)\n",
    "y = merged_df['weekly_rent']\n",
    "\n",
    "X_train, X_test, y_train, y_test = train_test_split(X, y, test_size=0.25, random_state=42)\n",
    "\n",
    "# Standardize\n",
    "ss = StandardScaler()\n",
    "X_train_scaled = ss.fit_transform(X_train)\n",
    "X_test_scaled = ss.transform(X_test)\n",
    "\n",
    "pca = PCA().fit(X_train_scaled)\n",
    "\n",
    "plt.plot(pca.explained_variance_ratio_.cumsum(), lw=3, color='#087E8B')\n",
    "plt.title('Cumulative explained variance by number of principal components')\n",
    "plt.xlabel(\"Nmber of components necessary\")\n",
    "plt.ylabel(\"Explained variance\")\n",
    "plt.show()"
   ]
  },
  {
   "cell_type": "code",
   "execution_count": null,
   "metadata": {},
   "outputs": [],
   "source": [
    "# Scrutinize the data with PCA: Test the attribute relevance\n",
    "from sklearn.preprocessing import StandardScaler\n",
    "from sklearn.model_selection import train_test_split\n",
    "import statsmodels.api as sm\n",
    "from statsmodels.formula.api import ols\n",
    "\n",
    "merged_df = spark.read.csv(\"../../generic-real-estate-consulting-project-group-43/data/curated/merged_dataset/2013_merged_data.csv\", header=True)\n",
    "merged_df = merged_df.toPandas()\n",
    "\n",
    "merged_df['residence_type'] = merged_df['residence_type'].astype('category')\n",
    "merged_df['residence_type'] = merged_df['residence_type'].cat.codes\n",
    "\n",
    "X = merged_df.drop(['address', 'min_distance_to_cbd','min_distance_to_park','min_distance_to_prim','min_distance_to_second','min_distance_to_train','min_distance_to_hosp','min_distance_to_poli','min_distance_to_shop'], axis=1)\n",
    "X = X.dropna()\n",
    "y = X['weekly_rent']\n",
    "X = X.drop('weekly_rent',axis=1)\n",
    "\n",
    "\n",
    "X_train, X_test, y_train, y_test = train_test_split(X, y, test_size=0.25, random_state=42)\n",
    "\n",
    "est = ols(formula='weekly_rent ~ GNP', data=df).fit() \n",
    "est.summary()\n",
    "table = sm.stats.anova_lm(moore_lm, typ=2)"
   ]
  }
 ],
 "metadata": {
  "kernelspec": {
   "display_name": "Python 3.8.10 64-bit",
   "language": "python",
   "name": "python3"
  },
  "language_info": {
   "codemirror_mode": {
    "name": "ipython",
    "version": 3
   },
   "file_extension": ".py",
   "mimetype": "text/x-python",
   "name": "python",
   "nbconvert_exporter": "python",
   "pygments_lexer": "ipython3",
   "version": "3.8.10"
  },
  "orig_nbformat": 4,
  "vscode": {
   "interpreter": {
    "hash": "916dbcbb3f70747c44a77c7bcd40155683ae19c65e1c03b4aa3499c5328201f1"
   }
  }
 },
 "nbformat": 4,
 "nbformat_minor": 2
}
