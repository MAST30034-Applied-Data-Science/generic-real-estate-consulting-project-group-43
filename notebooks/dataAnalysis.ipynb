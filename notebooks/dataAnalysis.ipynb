{
 "cells": [
  {
   "cell_type": "markdown",
   "metadata": {},
   "source": [
    "# Data Analysis with ERP trend with respect to years and ols regression </br>\n",
    "In this notebook, the linear relationship between ERP (Estimated Resident Population) and years is illustrated. Scrutinization on the significance of the predictors is performed in this notebook as well with the mathematical statistics knowledge (ANOVA table & Summary table) with ols regression."
   ]
  },
  {
   "cell_type": "code",
   "execution_count": 70,
   "metadata": {},
   "outputs": [],
   "source": [
    "import os\n",
    "import numpy as np\n",
    "import pandas as pd\n",
    "from csv import writer\n",
    "from heapq import merge\n",
    "import statsmodels.api as sm\n",
    "import matplotlib.pyplot as plt\n",
    "from pyspark.sql.functions import *\n",
    "from pyspark.sql import SparkSession\n",
    "from statsmodels.formula.api import ols\n",
    "from pyspark.sql.types import IntegerType\n",
    "from sklearn.preprocessing import StandardScaler\n",
    "from sklearn.model_selection import train_test_split"
   ]
  },
  {
   "cell_type": "markdown",
   "metadata": {},
   "source": [
    "### Visualization of ERP(Estimated Residential Population) trend by years "
   ]
  },
  {
   "cell_type": "code",
   "execution_count": 77,
   "metadata": {},
   "outputs": [
    {
     "name": "stdout",
     "output_type": "stream",
     "text": [
      "root\n",
      " |-- sa2_name_2016: string (nullable = true)\n",
      " |-- sa2_maincode_2016: string (nullable = true)\n",
      " |-- erp_2013: integer (nullable = true)\n",
      " |-- erp_2014: integer (nullable = true)\n",
      " |-- erp_2015: integer (nullable = true)\n",
      " |-- erp_2016: integer (nullable = true)\n",
      " |-- erp_2017: integer (nullable = true)\n",
      " |-- erp_2018: integer (nullable = true)\n",
      " |-- erp_2019: integer (nullable = true)\n",
      " |-- erp_2020: integer (nullable = true)\n",
      " |-- erp_2021: integer (nullable = true)\n",
      "\n"
     ]
    },
    {
     "data": {
      "image/png": "[encoded data removed]",
      "text/plain": [
       "<Figure size 432x288 with 1 Axes>"
      ]
     },
     "metadata": {
      "needs_background": "light"
     },
     "output_type": "display_data"
    }
   ],
   "source": [
    "# Create a spark session (which will run spark jobs)\n",
    "spark = (\n",
    "    SparkSession.builder.appName(\"MAST30034 Tutorial 1\")\n",
    "    .config(\"spark.sql.repl.eagerEval.enabled\", True) \n",
    "    .config(\"spark.sql.parquet.cacheMetadata\", \"true\")\n",
    "    .config(\"spark.sql.session.timeZone\", \"Etc/UTC\")\n",
    "    .getOrCreate()\n",
    ")\n",
    "\n",
    "erp_predicted = spark.read.csv(\"../../generic-real-estate-consulting-project-group-43/data/curated/erp_vic.csv\", header=True)\n",
    "\n",
    "erp_predicted = erp_predicted.withColumn(\"erp_2013\",erp_predicted[\"erp_2013\"].cast(IntegerType()))\\\n",
    "                                .withColumn(\"erp_2014\",erp_predicted[\"erp_2014\"].cast(IntegerType()))\\\n",
    "                                .withColumn(\"erp_2015\",erp_predicted[\"erp_2015\"].cast(IntegerType()))\\\n",
    "                                .withColumn(\"erp_2016\",erp_predicted[\"erp_2016\"].cast(IntegerType()))\\\n",
    "                                .withColumn(\"erp_2017\",erp_predicted[\"erp_2017\"].cast(IntegerType()))\\\n",
    "                                .withColumn(\"erp_2018\",erp_predicted[\"erp_2018\"].cast(IntegerType()))\\\n",
    "                                .withColumn(\"erp_2019\",erp_predicted[\"erp_2019\"].cast(IntegerType()))\\\n",
    "                                .withColumn(\"erp_2020\",erp_predicted[\"erp_2020\"].cast(IntegerType()))\\\n",
    "                                .withColumn(\"erp_2021\",erp_predicted[\"erp_2021\"].cast(IntegerType()))\n",
    "\n",
    "erp_predicted.printSchema()\n",
    "\n",
    "# Graph the erp trend line to decide how to predict erp from 2022 - 2027\n",
    "erp_agg = erp_predicted.groupby().sum().toPandas()\n",
    "\n",
    "year = ['2013', '2014', '2015', '2016', '2017', '2018', '2019', '2020', '2021']\n",
    "\n",
    "y_axis = erp_agg.iloc[0]\n",
    "\n",
    "plt.plot(year,y_axis)\n",
    "plt.title('Trend of population by year')\n",
    "plt.xlabel('Year')\n",
    "plt.ylabel('ERP Predicted')\n",
    "plt.show()"
   ]
  },
  {
   "cell_type": "markdown",
   "metadata": {},
   "source": [
    "The ERP (estiamted resident population) in Victoria state increases as year progresses with a linear relatonship. it shows a decline between 2020 to 2021, but according to the data from Australian government (`https://population.gov.au/data-and-forecasts/key-data-releases/national-state-and-territory-population-december-2021`) they stated that the decline happened due to the impact of COVID. Since in this project, we assume that COVID will not stay any longer or will have a huge impact as it did between 2019 to 2021 as most of the population is vaccinated by now. Therefore, from this, we got an idea of using a linear regression for our population prediction for 2023-2027."
   ]
  },
  {
   "cell_type": "markdown",
   "metadata": {},
   "source": [
    "### OLS Regression Data Analysis with ANOVA and Summary tables section"
   ]
  },
  {
   "cell_type": "code",
   "execution_count": 72,
   "metadata": {},
   "outputs": [],
   "source": [
    "# Define external predictors\n",
    "external_preds = ['sa2_2021', 'min_distance_to_cbd','min_distance_to_park', 'min_distance_to_prim', 'min_distance_to_second'\\\n",
    "    , 'min_distance_to_train', 'min_distance_to_hosp', 'min_distance_to_poli', 'min_distance_to_shop', 'gdp', 'saving_rate', 'income_per_person',\\\n",
    "        'crime_cases', 'population_density']\n",
    "\n",
    "# Define internal predictors\n",
    "internal_preds = ['residence_type', 'nbed', 'nbath', 'ncar']\n",
    "\n",
    "# OLS regression function for Data analysis\n",
    "def ols_regression(merged_df):\n",
    "    # OLS Regression\n",
    "    # External ----------------------------------------------------------------------------------------------------\n",
    "    external_model = ols(formula = 'weekly_rent ~ C(sa2_2021) + min_distance_to_cbd + \\\n",
    "        min_distance_to_park + min_distance_to_prim + min_distance_to_second + min_distance_to_train +\\\n",
    "        min_distance_to_hosp + min_distance_to_poli + min_distance_to_shop + gdp + saving_rate + income_per_person +\\\n",
    "        crime_cases + population_density', data = merged_df).fit()\n",
    "\n",
    "    # Summary of external factors\n",
    "    ex_summary = external_model.summary()\n",
    "\n",
    "    # Anova table of external factors\n",
    "    ex_anova_table = sm.stats.anova_lm(external_model, typ=2)\n",
    "\n",
    "    # Extract p-values for the predictors\n",
    "    ex_pvals = external_model.pvalues[:]\n",
    "\n",
    "    # Internal ----------------------------------------------------------------------------------------------------\n",
    "    internal_model = ols(formula = 'weekly_rent ~ C(residence_type) + nbed + nbath + ncar', data = merged_df).fit()\n",
    "\n",
    "    # Summary of internal factors\n",
    "    in_summary = internal_model.summary()\n",
    "\n",
    "    # Anova table of internal factors\n",
    "    in_anova_table = sm.stats.anova_lm(internal_model, typ=2)\n",
    "\n",
    "    # Extract p-values for the predictors\n",
    "    in_pvals = internal_model.pvalues[:]\n",
    "\n",
    "    return ex_pvals, in_pvals\n",
    "\n",
    "# csv file function\n",
    "def put_signigicants_csv(external_preds, ex_pvalues, internal_preds, in_pvalues, new_csv):\n",
    "    df_ex = len(ex_pvalues) - len(external_preds)\n",
    "\n",
    "    # Significant predictors for SA2 first\n",
    "    sign_ex_predictors = [external_preds[0]  for pre in range(df_ex) if ex_pvalues[pre] < 0.05]\n",
    "    # Significant predictors for rest of the features\n",
    "    for pre in range(len(external_preds)):\n",
    "        if ex_pvalues[pre+df_ex] < 0.05:\n",
    "            sign_ex_predictors.append(external_preds[(pre)])\n",
    "\n",
    "    sign_in_predictors = [internal_preds[(pre-1)] for pre in range(1, len(in_pvalues)) if in_pvalues[pre] < 0.05]\n",
    "    \n",
    "    external_df = pd.DataFrame({'Significant External predictors': sign_ex_predictors})\n",
    "    internal_df = pd.DataFrame({'Significant Internal predictors': sign_in_predictors})\n",
    "    new = pd.concat([external_df, internal_df], axis=1) \n",
    "\n",
    "    print(new_csv)\n",
    "    new.to_csv(new_csv)"
   ]
  },
  {
   "cell_type": "code",
   "execution_count": 73,
   "metadata": {},
   "outputs": [],
   "source": [
    "# Make a new folder for significant variable csv files\n",
    "# Directory\n",
    "directory = \"significant\"\n",
    "  \n",
    "# Parent Directory path\n",
    "parent_dir = \"../data/curated/\"\n",
    "\n",
    "# Path\n",
    "path = os.path.join(parent_dir, directory)\n",
    "\n",
    "# Create the directory\n",
    "os.mkdir(path)"
   ]
  },
  {
   "cell_type": "code",
   "execution_count": 74,
   "metadata": {},
   "outputs": [],
   "source": [
    "# Merging Dataset\n",
    "merged_df = spark.read.csv(\"../data/curated/merged_dataset/2013_merged_data.csv\", header=True)\n",
    "\n",
    "for c in merged_df.columns:\n",
    "    if (c not in  ['address', 'residence_type']):\n",
    "        merged_df = merged_df.withColumn(c,merged_df[c].cast(IntegerType())) \n",
    "\n",
    "merged_df = merged_df.toPandas()\n",
    "\n",
    "merged_df['residence_type'] = merged_df['residence_type'].astype('category')\n",
    "merged_df['residence_type'] = merged_df['residence_type'].cat.codes\n",
    "\n",
    "# For the missing values of distances between a rental property and each feature of interest, \n",
    "# fill them up with a huge value because they are missing as rental properites are far away \n",
    "# where API OPen Route cannot measure distances.\n",
    "merged_df.iloc[:, 13:21] = merged_df.iloc[:, 13:21].replace(np.nan, 99999)\n",
    "\n",
    "merged_df = merged_df.dropna()\n",
    "\n",
    "X = merged_df.drop(['address', 'weekly_rent', 'latitude', 'longitude', 'postcode', 'sa2_2016'], axis=1)\n",
    "y = merged_df['weekly_rent']"
   ]
  },
  {
   "cell_type": "code",
   "execution_count": 75,
   "metadata": {},
   "outputs": [
    {
     "name": "stderr",
     "output_type": "stream",
     "text": [
      "/home/hyunjinp/.local/lib/python3.8/site-packages/statsmodels/base/model.py:1871: ValueWarning: covariance of constraints does not have full rank. The number of constraints is 465, but rank is 463\n",
      "  warnings.warn('covariance of constraints does not have full '\n"
     ]
    }
   ],
   "source": [
    "merged_df.rename(columns = {'gdp(USD Millioins)':'gdp', 'saving_rate(% of GDP)':'saving_rate'}, inplace = True)\n",
    "\n",
    "ex_pvalues, in_pvalues = ols_regression(merged_df)"
   ]
  },
  {
   "cell_type": "markdown",
   "metadata": {},
   "source": [
    "We decided the data into internal and external factors to predict weekly rental prices of rental properties because we wanted to scrutinize the data with more depth. </br> </br>\n",
    "### Internal factors are:</br>\n",
    "1. The residence type of a rental property </br>\n",
    "2. The number of bedrooms of a rental property </br>\n",
    "3. The number of bathrooms of a rental property</br>\n",
    "4. The number of car parking spaces of a rental property</br>\n",
    "</br>\n",
    "\n",
    "### External factors are: </br>\n",
    "1. SA2_2021 </br>\n",
    "2. Minimum distance from a rental property to cbd  </br>\n",
    "3. Minimum distance from a rental property to a closest park / primary&secondary schools / train station / hospital / police office / shopping mall </br> \n",
    "4. Yearly GDP of each SA2 codes (Assumptions made that Australian GDP will apply the same to all the suburbs in SA2 granularity) </br>\n",
    "5. Yearly Saving rate of each SA2 codes (Assumptions made that Australian GDP will apply the same to all the suburbs in SA2 granularity) </br>\n",
    "6. Yearly Income per person by each SA2 region</br>\n",
    "7. Yearly Crime cases by each SA2 codes (postcode -> SA2 codes after merging)</br>\n",
    "8. Yearly Population density by each SA2 region</br>\n",
    "</br>\n",
    "\n",
    "**Please note that the following results mentioned in this pargraph is only about 2013** for testing if using anova table and summary table of ols regression can perform data analysis; which features are significant to predict weekly rental price. \n",
    "</br>\n",
    "\n",
    "It shows that all the internal factors are significant and some of the external features are significant from anova table. It is better to read data from anova table's f tests because they show the significance of the feature in terms of the whole model. For example, a t-test value from summary table of a 'income per person' means if this 'income per person' feature itself only is significant or not in this model while ignoring all the impacts of the other features. But f-test value of 'income per person' shows what happens if this attribute disappears from the model with the other features included and tells if having this value or not makes any significant differences to the model prediction. The highlighted finding from this anova table result shows that the income per person feature actually plays a significant role to predict weekly rental price of a property for 2013 dataset.\n"
   ]
  },
  {
   "cell_type": "code",
   "execution_count": 76,
   "metadata": {},
   "outputs": [
    {
     "name": "stdout",
     "output_type": "stream",
     "text": [
      "2013_merged_data.csv ----------------------------------------------------------------------------------------------------------------\n"
     ]
    },
    {
     "name": "stderr",
     "output_type": "stream",
     "text": [
      "/home/hyunjinp/.local/lib/python3.8/site-packages/statsmodels/base/model.py:1871: ValueWarning: covariance of constraints does not have full rank. The number of constraints is 465, but rank is 463\n",
      "  warnings.warn('covariance of constraints does not have full '\n"
     ]
    },
    {
     "name": "stdout",
     "output_type": "stream",
     "text": [
      "../data/curated/significant/2013_merged_data.csv\n",
      "2021_merged_data.csv ----------------------------------------------------------------------------------------------------------------\n"
     ]
    },
    {
     "name": "stderr",
     "output_type": "stream",
     "text": [
      "/home/hyunjinp/.local/lib/python3.8/site-packages/statsmodels/base/model.py:1871: ValueWarning: covariance of constraints does not have full rank. The number of constraints is 498, but rank is 497\n",
      "  warnings.warn('covariance of constraints does not have full '\n"
     ]
    },
    {
     "name": "stdout",
     "output_type": "stream",
     "text": [
      "../data/curated/significant/2021_merged_data.csv\n",
      "2020_merged_data.csv ----------------------------------------------------------------------------------------------------------------\n"
     ]
    },
    {
     "name": "stderr",
     "output_type": "stream",
     "text": [
      "/home/hyunjinp/.local/lib/python3.8/site-packages/statsmodels/base/model.py:1871: ValueWarning: covariance of constraints does not have full rank. The number of constraints is 492, but rank is 491\n",
      "  warnings.warn('covariance of constraints does not have full '\n"
     ]
    },
    {
     "name": "stdout",
     "output_type": "stream",
     "text": [
      "../data/curated/significant/2020_merged_data.csv\n",
      "2022_merged_data.csv ----------------------------------------------------------------------------------------------------------------\n"
     ]
    },
    {
     "name": "stderr",
     "output_type": "stream",
     "text": [
      "/home/hyunjinp/.local/lib/python3.8/site-packages/statsmodels/base/model.py:1871: ValueWarning: covariance of constraints does not have full rank. The number of constraints is 498, but rank is 497\n",
      "  warnings.warn('covariance of constraints does not have full '\n"
     ]
    },
    {
     "name": "stdout",
     "output_type": "stream",
     "text": [
      "../data/curated/significant/2022_merged_data.csv\n",
      "2018_merged_data.csv ----------------------------------------------------------------------------------------------------------------\n"
     ]
    },
    {
     "name": "stderr",
     "output_type": "stream",
     "text": [
      "/home/hyunjinp/.local/lib/python3.8/site-packages/statsmodels/base/model.py:1871: ValueWarning: covariance of constraints does not have full rank. The number of constraints is 489, but rank is 488\n",
      "  warnings.warn('covariance of constraints does not have full '\n"
     ]
    },
    {
     "name": "stdout",
     "output_type": "stream",
     "text": [
      "../data/curated/significant/2018_merged_data.csv\n",
      "2014_merged_data.csv ----------------------------------------------------------------------------------------------------------------\n"
     ]
    },
    {
     "name": "stderr",
     "output_type": "stream",
     "text": [
      "/home/hyunjinp/.local/lib/python3.8/site-packages/statsmodels/base/model.py:1871: ValueWarning: covariance of constraints does not have full rank. The number of constraints is 482, but rank is 481\n",
      "  warnings.warn('covariance of constraints does not have full '\n"
     ]
    },
    {
     "name": "stdout",
     "output_type": "stream",
     "text": [
      "../data/curated/significant/2014_merged_data.csv\n",
      "2017_merged_data.csv ----------------------------------------------------------------------------------------------------------------\n"
     ]
    },
    {
     "name": "stderr",
     "output_type": "stream",
     "text": [
      "/home/hyunjinp/.local/lib/python3.8/site-packages/statsmodels/base/model.py:1871: ValueWarning: covariance of constraints does not have full rank. The number of constraints is 489, but rank is 488\n",
      "  warnings.warn('covariance of constraints does not have full '\n"
     ]
    },
    {
     "name": "stdout",
     "output_type": "stream",
     "text": [
      "../data/curated/significant/2017_merged_data.csv\n",
      "2015_merged_data.csv ----------------------------------------------------------------------------------------------------------------\n"
     ]
    },
    {
     "name": "stderr",
     "output_type": "stream",
     "text": [
      "/home/hyunjinp/.local/lib/python3.8/site-packages/statsmodels/base/model.py:1871: ValueWarning: covariance of constraints does not have full rank. The number of constraints is 482, but rank is 480\n",
      "  warnings.warn('covariance of constraints does not have full '\n"
     ]
    },
    {
     "name": "stdout",
     "output_type": "stream",
     "text": [
      "../data/curated/significant/2015_merged_data.csv\n",
      "2019_merged_data.csv ----------------------------------------------------------------------------------------------------------------\n"
     ]
    },
    {
     "name": "stderr",
     "output_type": "stream",
     "text": [
      "/home/hyunjinp/.local/lib/python3.8/site-packages/statsmodels/base/model.py:1871: ValueWarning: covariance of constraints does not have full rank. The number of constraints is 490, but rank is 489\n",
      "  warnings.warn('covariance of constraints does not have full '\n"
     ]
    },
    {
     "name": "stdout",
     "output_type": "stream",
     "text": [
      "../data/curated/significant/2019_merged_data.csv\n",
      "2016_merged_data.csv ----------------------------------------------------------------------------------------------------------------\n"
     ]
    },
    {
     "name": "stderr",
     "output_type": "stream",
     "text": [
      "/home/hyunjinp/.local/lib/python3.8/site-packages/statsmodels/base/model.py:1871: ValueWarning: covariance of constraints does not have full rank. The number of constraints is 489, but rank is 488\n",
      "  warnings.warn('covariance of constraints does not have full '\n"
     ]
    },
    {
     "name": "stdout",
     "output_type": "stream",
     "text": [
      "../data/curated/significant/2016_merged_data.csv\n"
     ]
    },
    {
     "name": "stdout",
     "output_type": "stream",
     "text": [
      "22/10/08 13:17:42 WARN HeartbeatReceiver: Removing executor driver with no recent heartbeats: 2395092 ms exceeds timeout 120000 ms\n",
      "22/10/08 13:17:42 WARN SparkContext: Killing executors is not supported by current scheduler.\n"
     ]
    }
   ],
   "source": [
    "# Implement for every file to see annual trend\n",
    "parent_dir = \"../data/curated/merged_dataset\"\n",
    "\n",
    "for filename in os.listdir(parent_dir):\n",
    "    print(filename, \"----------------------------------------------------------------------------------------------------------------\")\n",
    "    merged_df_yr = spark.read.csv(parent_dir + \"/\" + filename, header=True)\n",
    "    for c in merged_df_yr.columns:\n",
    "        if (c not in  ['address', 'residence_type']):\n",
    "            merged_df_yr = merged_df_yr.withColumn(c,merged_df_yr[c].cast(IntegerType())) \n",
    "\n",
    "    merged_df_yr = merged_df_yr.toPandas()\n",
    "\n",
    "    merged_df_yr['residence_type'] = merged_df_yr['residence_type'].astype('category')\n",
    "    merged_df_yr['residence_type'] = merged_df_yr['residence_type'].cat.codes\n",
    "\n",
    "    merged_df_yr.iloc[:, 13:21] = merged_df_yr.iloc[:, 13:21].replace(np.nan, 99999)\n",
    "\n",
    "    merged_df_yr = merged_df_yr.dropna()\n",
    "\n",
    "    merged_df_yr.rename(columns = {'gdp(USD Millioins)':'gdp', 'saving_rate(% of GDP)':'saving_rate'}, inplace = True)\n",
    "\n",
    "    # Implement ols regression to analyze the data\n",
    "    ex_pvalues, in_pvalues = ols_regression(merged_df_yr)\n",
    "    \n",
    "    new_csv_name = \"../data/curated/significant/\" + filename\n",
    "\n",
    "    put_signigicants_csv(external_preds, ex_pvalues, internal_preds, in_pvalues, new_csv_name)"
   ]
  },
  {
   "cell_type": "markdown",
   "metadata": {},
   "source": [
    "All year data (2013-2022) have been run and based on the f-test values from the anova models of each year, the significant features were extracted and listed in csv files for better readability.</br>\n",
    "As going through the csv files, our team found out that for internal factors, except the number of car parking spaces, all the features are significant. However, the external features tend to change for each year for some reasons so we decided to scrutinize more with AIC forward selection for a better analysis. Please move on to `LR_prediction_all.ipynb` for further details on AIC forward selection with OLS."
   ]
  }
 ],
 "metadata": {
  "kernelspec": {
   "display_name": "Python 3.8.10 64-bit",
   "language": "python",
   "name": "python3"
  },
  "language_info": {
   "codemirror_mode": {
    "name": "ipython",
    "version": 3
   },
   "file_extension": ".py",
   "mimetype": "text/x-python",
   "name": "python",
   "nbconvert_exporter": "python",
   "pygments_lexer": "ipython3",
   "version": "3.8.10"
  },
  "orig_nbformat": 4,
  "vscode": {
   "interpreter": {
    "hash": "916dbcbb3f70747c44a77c7bcd40155683ae19c65e1c03b4aa3499c5328201f1"
   }
  }
 },
 "nbformat": 4,
 "nbformat_minor": 2
}
