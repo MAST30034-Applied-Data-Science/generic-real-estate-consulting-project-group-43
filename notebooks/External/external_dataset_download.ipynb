{
 "cells": [
  {
   "cell_type": "code",
   "execution_count": null,
   "metadata": {},
   "outputs": [],
   "source": [
    "pip install openpyxl"
   ]
  },
  {
   "cell_type": "code",
   "execution_count": 7,
   "metadata": {},
   "outputs": [
    {
     "name": "stdout",
     "output_type": "stream",
     "text": [
      "Completed net_migration\n",
      "Completed migration_interstate\n",
      "Completed criminal_rate\n",
      "Completed crime_cases\n",
      "Completed income_2012_2018\n",
      "Completed income_2015_2019\n",
      "Completed population_sa2\n",
      "Completed population_vic\n",
      "Completed sa2_2016_to_2021\n",
      "Completed GDP\n"
     ]
    }
   ],
   "source": [
    "from urllib.request import urlretrieve\n",
    "import os\n",
    "\n",
    "output_relative_dir = '../../data/raw/'\n",
    "\n",
    "if not os.path.exists(output_relative_dir):\n",
    "    os.makedirs(output_relative_dir)\n",
    "    \n",
    "target_dir = 'external_dataset'\n",
    "if not os.path.exists(output_relative_dir + target_dir):\n",
    "    os.makedirs(output_relative_dir + target_dir)\n",
    "\n",
    "# download external dataset and store in raw data folder for later process\n",
    "name = [\"net_migration\", \"migration_interstate\", \"criminal_rate\", \"crime_cases\", \"income_2012_2018\", \"income_2015_2019\", \"population_sa2\", \"population_vic\", \"sa2_2016_to_2021\", \"GDP\"] #\"income_2006_2011\"\n",
    "URL = [\"https://www.abs.gov.au/statistics/people/population/national-state-and-territory-population/dec-2021/310102.xlsx\",\n",
    "\"https://www.abs.gov.au/statistics/people/population/national-state-and-territory-population/dec-2021/3101016A.xlsx\", \n",
    "\"https://files.crimestatistics.vic.gov.au/2022-06/Data_Tables_LGA_Recorded_Offences_Year_Ending_March_2022.xlsx\", \n",
    "\"https://files.crimestatistics.vic.gov.au/2022-06/Data_Tables_Recorded_Offences_Visualisation_Year_Ending_March_2022.xlsx\",\n",
    "\"https://www.abs.gov.au/statistics/labour/earnings-and-working-conditions/personal-income-australia/2011-12-2017-18/6524055002_DO001.xls\", \n",
    "\"https://www.abs.gov.au/statistics/labour/earnings-and-working-conditions/personal-income-australia/2014-15-2018-19/6524055002_DO001.xlsx\", \n",
    "\"https://www.abs.gov.au/statistics/people/population/regional-population/2021/32180DS0001_2001-21.xlsx\", \n",
    "\"https://www.abs.gov.au/statistics/people/population/national-state-and-territory-population/dec-2021/310104.xlsx\", \n",
    "\"https://www.abs.gov.au/statistics/standards/australian-statistical-geography-standard-asgs-edition-3/jul2021-jun2026/access-and-downloads/correspondences/CG_SA2_2016_SA2_2021.csv\",\n",
    "\"https://www.abs.gov.au/statistics/economy/national-accounts/australian-national-accounts-national-income-expenditure-and-product/jun-2022/5206003_Expenditure_Current_Price.xlsx\"]\n",
    "#\"https://www.abs.gov.au/ausstats/subscriber.nsf/log?openagent&6524055002do004_200506201011.xls&6524.0.55.002&Data%20Cubes&9962A8804603D4D8CA257C12000CA346&0&2005-06%20to%202010-11&29.10.2013&Latest\",\n",
    "\n",
    "for i in range(len(name)):\n",
    "    URL_TEMPLATE = URL[i]\n",
    "\n",
    "    output_dir = output_relative_dir + 'external_dataset'\n",
    "\n",
    "    url = f'{URL_TEMPLATE}'\n",
    "\n",
    "    output_dir = f\"{output_dir}/{name[i]}.csv\"\n",
    "\n",
    "    urlretrieve(url, output_dir) \n",
    "        \n",
    "    print(f\"Completed {name[i]}\")"
   ]
  },
  {
   "cell_type": "code",
   "execution_count": null,
   "metadata": {},
   "outputs": [],
   "source": []
  }
 ],
 "metadata": {
  "kernelspec": {
   "display_name": "Python 3.9.1 64-bit",
   "language": "python",
   "name": "python3"
  },
  "language_info": {
   "codemirror_mode": {
    "name": "ipython",
    "version": 3
   },
   "file_extension": ".py",
   "mimetype": "text/x-python",
   "name": "python",
   "nbconvert_exporter": "python",
   "pygments_lexer": "ipython3",
   "version": "3.9.1"
  },
  "orig_nbformat": 4,
  "vscode": {
   "interpreter": {
    "hash": "aee8b7b246df8f9039afb4144a1f6fd8d2ca17a180786b69acc140d282b71a49"
   }
  }
 },
 "nbformat": 4,
 "nbformat_minor": 2
}
