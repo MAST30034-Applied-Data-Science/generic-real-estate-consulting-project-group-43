{
 "cells": [
  {
   "cell_type": "markdown",
   "metadata": {},
   "source": [
    "2023 - 2027"
   ]
  },
  {
   "cell_type": "code",
   "execution_count": 1,
   "metadata": {},
   "outputs": [],
   "source": [
    "import pandas as pd\n",
    "import os\n",
    "import geopandas as gpd"
   ]
  },
  {
   "cell_type": "code",
   "execution_count": 2,
   "metadata": {},
   "outputs": [],
   "source": [
    "new_path = '../../data/curated/2023_2027_data/'\n",
    "\n",
    "if not os.path.exists(new_path):\n",
    "    os.makedirs(new_path)"
   ]
  },
  {
   "cell_type": "code",
   "execution_count": 3,
   "metadata": {},
   "outputs": [],
   "source": [
    "#sf2021 = gpd.read_file(\"../../data/raw/Geo/SA2_2021_AUST_SHP_GDA2020/SA2_2021_AUST_GDA2020.shp\")\n",
    "\n",
    "# Slice the geolocation for Victoria\n",
    "#COL_SF = [\"SA2_CODE21\", \"geometry\"]\n",
    "#sf2021 = sf2021.loc[sf2021[\"STE_CODE21\"] == '2']\n",
    "#sf2021['geometry'] = sf2021['geometry'].to_crs(\"+proj=longlat +ellps=WGS84 +datum=WGS84 +no_defs\")\n",
    "#sf2021 = sf2021[COL_SF]\n",
    "#sf2021 = sf2021.dropna(subset=['geometry'])\n",
    "#sf2021[\"SA2_CODE21\"] = sf2021[\"SA2_CODE21\"].astype(int)\n",
    "#sf2021"
   ]
  },
  {
   "cell_type": "code",
   "execution_count": 4,
   "metadata": {},
   "outputs": [],
   "source": [
    "#sf2016 = gpd.read_file(\"../../data/raw/Geo/1270055001_sa2_2016_aust_shape/SA2_2016_AUST.shp\")\n",
    "\n",
    "# Slice the geolocation for Victoria\n",
    "#COL_SF = [\"SA2_MAIN16\", \"geometry\"]\n",
    "#sf2016 = sf2016.loc[sf2016[\"STE_CODE16\"] == '2']\n",
    "#sf2016['geometry'] = sf2016['geometry'].to_crs(\"+proj=longlat +ellps=WGS84 +datum=WGS84 +no_defs\")\n",
    "#sf2016 = sf2016[COL_SF]\n",
    "#sf2016 = sf2016.dropna(subset=['geometry'])\n",
    "#sf2016[\"SA2_MAIN16\"] = sf2016[\"SA2_MAIN16\"].astype(int)\n",
    "#sf2016"
   ]
  },
  {
   "cell_type": "code",
   "execution_count": 11,
   "metadata": {},
   "outputs": [
    {
     "data": {
      "text/html": [
       "<div>\n",
       "<style scoped>\n",
       "    .dataframe tbody tr th:only-of-type {\n",
       "        vertical-align: middle;\n",
       "    }\n",
       "\n",
       "    .dataframe tbody tr th {\n",
       "        vertical-align: top;\n",
       "    }\n",
       "\n",
       "    .dataframe thead th {\n",
       "        text-align: right;\n",
       "    }\n",
       "</style>\n",
       "<table border=\"1\" class=\"dataframe\">\n",
       "  <thead>\n",
       "    <tr style=\"text-align: right;\">\n",
       "      <th></th>\n",
       "      <th>postcode</th>\n",
       "      <th>sa2_2021</th>\n",
       "      <th>sa2_2016</th>\n",
       "    </tr>\n",
       "  </thead>\n",
       "  <tbody>\n",
       "    <tr>\n",
       "      <th>0</th>\n",
       "      <td>3012</td>\n",
       "      <td>213031351</td>\n",
       "      <td>213031351</td>\n",
       "    </tr>\n",
       "    <tr>\n",
       "      <th>1</th>\n",
       "      <td>3664</td>\n",
       "      <td>204011058</td>\n",
       "      <td>204011058</td>\n",
       "    </tr>\n",
       "    <tr>\n",
       "      <th>2</th>\n",
       "      <td>3124</td>\n",
       "      <td>207011149</td>\n",
       "      <td>207011149</td>\n",
       "    </tr>\n",
       "    <tr>\n",
       "      <th>3</th>\n",
       "      <td>3269</td>\n",
       "      <td>217031475</td>\n",
       "      <td>217031475</td>\n",
       "    </tr>\n",
       "    <tr>\n",
       "      <th>4</th>\n",
       "      <td>3048</td>\n",
       "      <td>210051247</td>\n",
       "      <td>210051247</td>\n",
       "    </tr>\n",
       "    <tr>\n",
       "      <th>...</th>\n",
       "      <td>...</td>\n",
       "      <td>...</td>\n",
       "      <td>...</td>\n",
       "    </tr>\n",
       "    <tr>\n",
       "      <th>1261</th>\n",
       "      <td>3123</td>\n",
       "      <td>207011149</td>\n",
       "      <td>207011149</td>\n",
       "    </tr>\n",
       "    <tr>\n",
       "      <th>1262</th>\n",
       "      <td>3335</td>\n",
       "      <td>211041270</td>\n",
       "      <td>211041270</td>\n",
       "    </tr>\n",
       "    <tr>\n",
       "      <th>1263</th>\n",
       "      <td>3127</td>\n",
       "      <td>207031165</td>\n",
       "      <td>207031165</td>\n",
       "    </tr>\n",
       "    <tr>\n",
       "      <th>1264</th>\n",
       "      <td>3068</td>\n",
       "      <td>207031163</td>\n",
       "      <td>207031163</td>\n",
       "    </tr>\n",
       "    <tr>\n",
       "      <th>1265</th>\n",
       "      <td>3915</td>\n",
       "      <td>208011172</td>\n",
       "      <td>208011172</td>\n",
       "    </tr>\n",
       "  </tbody>\n",
       "</table>\n",
       "<p>1266 rows × 3 columns</p>\n",
       "</div>"
      ],
      "text/plain": [
       "      postcode   sa2_2021   sa2_2016\n",
       "0         3012  213031351  213031351\n",
       "1         3664  204011058  204011058\n",
       "2         3124  207011149  207011149\n",
       "3         3269  217031475  217031475\n",
       "4         3048  210051247  210051247\n",
       "...        ...        ...        ...\n",
       "1261      3123  207011149  207011149\n",
       "1262      3335  211041270  211041270\n",
       "1263      3127  207031165  207031165\n",
       "1264      3068  207031163  207031163\n",
       "1265      3915  208011172  208011172\n",
       "\n",
       "[1266 rows x 3 columns]"
      ]
     },
     "execution_count": 11,
     "metadata": {},
     "output_type": "execute_result"
    }
   ],
   "source": [
    "data = pd.read_csv(f'../../data/curated/merged_dataset/2022_merged_data.csv', index_col=[0])\n",
    "post_sa2 = data[['postcode', 'sa2_2021', 'sa2_2016']]\n",
    "post_sa2 = post_sa2.reset_index().drop(columns=['year'])\n",
    "post_sa2 = post_sa2.drop_duplicates().reset_index().drop(columns=['index'])\n",
    "post_sa2"
   ]
  },
  {
   "cell_type": "code",
   "execution_count": 6,
   "metadata": {},
   "outputs": [],
   "source": [
    "#year = [2014, 2015, 2016, 2017, 2018, 2019, 2020, 2021, 2022]\n",
    "\n",
    "#for i in year:\n",
    "#    data = pd.read_csv(f'../../data/curated/merged_dataset/{i}_merged_data.csv', index_col=[0])\n",
    "#    ps = data[['postcode', 'sa2_2021', 'sa2_2016']]\n",
    "#    ps = ps.reset_index().drop(columns=['year']).drop_duplicates()\n",
    "\n",
    "#    post_sa2 = post_sa2.merge(ps, on=['postcode', 'sa2_2021', 'sa2_2016'], how='right')\n",
    "\n",
    "\n",
    "#post_sa2"
   ]
  },
  {
   "cell_type": "code",
   "execution_count": 12,
   "metadata": {},
   "outputs": [],
   "source": [
    "pred_gdp_sr = pd.read_csv('../../data/curated/feature_prediction/21_27_gdp_with_saving_predicted.csv')\n",
    "pred_income = pd.read_csv('../../data/curated/feature_prediction/20_27_income_per_person_2016sa2.csv', index_col=[0])\n",
    "pred_population = pd.read_csv('../../data/curated/feature_prediction/22_27_population.csv', index_col=[0])\n",
    "pred_population = pred_population.rename(columns={'SA2 code': 'sa2_2021'})\n",
    "pred_crime_cases = pd.read_csv('../../data/curated/feature_prediction/23_27_crime_case.csv', index_col=[0])\n",
    "pred_crime_cases = pred_crime_cases.rename(columns={'Postcode': 'postcode'})"
   ]
  },
  {
   "cell_type": "code",
   "execution_count": 13,
   "metadata": {},
   "outputs": [],
   "source": [
    "year = [2023, 2024, 2025, 2026, 2027]\n",
    "\n",
    "for i in year:\n",
    "\n",
    "    # store year, sa2 (2021 and 2016), postcode\n",
    "    data = post_sa2\n",
    "    data['year'] = i\n",
    "\n",
    "    # store gdp and saving rate into the dataframe\n",
    "    gdp = list(pred_gdp_sr.loc[pred_gdp_sr['year'] == i, 'gdp'])[0]\n",
    "    sr = list(pred_gdp_sr.loc[pred_gdp_sr['year'] == i, 'saving'])[0]\n",
    "        \n",
    "    data['gdp(USD Millioins)'] = gdp\n",
    "    data['saving_rate(% of GDP)'] = sr\n",
    "\n",
    "    # store income per person per year into the dataframe\n",
    "    income_data = pred_income.loc[pred_income['Year'] == i][['sa2_2016', 'income_per_person_sa2']]\n",
    "    data['income_per_person'] = (data.merge(income_data, on=['sa2_2016'], how='left')['income_per_person_sa2'])\n",
    "\n",
    "    # store population density into the dataframe\n",
    "    population_data = pred_population.loc[pred_population['year'] == i][['sa2_2021', 'pred']]\n",
    "    data['population_density'] = (data.merge(population_data, on=['sa2_2021'], how='left')['pred'])\n",
    "\n",
    "    # store crime cases into the dataframe\n",
    "    crime_cases_data = pred_crime_cases.loc[pred_crime_cases['Year'] == i][['postcode', 'crime_count']]\n",
    "    data['crime_cases'] = (data.merge(crime_cases_data, on=['postcode'], how='left')['crime_count'])\n",
    "\n",
    "\n",
    "    data.to_csv(f'../../data/curated/2023_2027_data/{i}_data.csv')"
   ]
  }
 ],
 "metadata": {
  "kernelspec": {
   "display_name": "Python 3.9.6 64-bit",
   "language": "python",
   "name": "python3"
  },
  "language_info": {
   "codemirror_mode": {
    "name": "ipython",
    "version": 3
   },
   "file_extension": ".py",
   "mimetype": "text/x-python",
   "name": "python",
   "nbconvert_exporter": "python",
   "pygments_lexer": "ipython3",
   "version": "3.9.6"
  },
  "orig_nbformat": 4,
  "vscode": {
   "interpreter": {
    "hash": "31f2aee4e71d21fbe5cf8b01ff0e069b9275f58929596ceb00d14d90e3e16cd6"
   }
  }
 },
 "nbformat": 4,
 "nbformat_minor": 2
}
