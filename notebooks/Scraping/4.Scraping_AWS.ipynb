{
 "cells": [
  {
   "cell_type": "code",
   "execution_count": 46,
   "metadata": {},
   "outputs": [],
   "source": [
    "import pandas as pd\n",
    "from bs4 import BeautifulSoup\n",
    "import requests\n",
    "from requests import get\n",
    "import re\n",
    "import pickle\n",
    "import os\n",
    "\n",
    "newpath = r'../../data/raw/historical_data' \n",
    "if not os.path.exists(newpath):\n",
    "    os.makedirs(newpath)"
   ]
  },
  {
   "cell_type": "code",
   "execution_count": 50,
   "metadata": {},
   "outputs": [],
   "source": [
    "# some_file.py\n",
    "import sys\n",
    "# caution: path[0] is reserved for script path (or '' in REPL)\n",
    "sys.path.insert(1, '../../scripts/')\n",
    "import aws_scraping_tool\n",
    "from aws_scraping_tool import get_urls_daily"
   ]
  },
  {
   "cell_type": "markdown",
   "metadata": {},
   "source": [
    "### AWS Version (USING AWS SERVICE)\n",
    "- ##### Useful link: https://sgino209.medium.com/ip-rotation-with-python-c8033a079f4d#:~:text=The%20requests%2Dip%2Drotator%20is,limits%20for%20sites%20and%20services\n",
    "- ##### Step1: create AWS IM account and create key for AWS powershell tools\n",
    "- ##### Step2: install Microsoft Powershell and install AWS tools on the powershell\n",
    "comment out the code after you finished"
   ]
  },
  {
   "cell_type": "code",
   "execution_count": 54,
   "metadata": {},
   "outputs": [
    {
     "name": "stdout",
     "output_type": "stream",
     "text": [
      "Starting API gateways in 17 regions.\n",
      "Using 17 endpoints with name 'https://www.oldlistings.com.au - IP Rotate API' (17 new).\n",
      "Rotated IP succeed: starting at 0\n",
      "0.getting data from https://www.oldlistings.com.au/real-estate/VIC/Abbeyard/3737/rent/\n",
      "1.getting data from https://www.oldlistings.com.au/real-estate/VIC/Abbotsford/3067/rent/\n",
      "2.getting data from https://www.oldlistings.com.au/real-estate/VIC/Abbotsford/3067/rent/2\n",
      "3.getting data from https://www.oldlistings.com.au/real-estate/VIC/Abbotsford/3067/rent/3\n",
      "4.getting data from https://www.oldlistings.com.au/real-estate/VIC/Aberfeldie/3040/rent/\n",
      "5.getting data from https://www.oldlistings.com.au/real-estate/VIC/Aberfeldy/3825/rent/\n",
      "6.getting data from https://www.oldlistings.com.au/real-estate/VIC/Acheron/3714/rent/\n",
      "7.getting data from https://www.oldlistings.com.au/real-estate/VIC/Ada/3833/rent/\n",
      "8.getting data from https://www.oldlistings.com.au/real-estate/VIC/Ada/3833/rent/2\n",
      "9.getting data from https://www.oldlistings.com.au/real-estate/VIC/Ada/3833/rent/3\n",
      "Empty DataFrame\n",
      "Columns: []\n",
      "Index: []\n"
     ]
    }
   ],
   "source": [
    "import requests\n",
    "from urllib.parse import urlparse\n",
    "from requests_ip_rotator import ApiGateway, EXTRA_REGIONS\n",
    "import os\n",
    "from dotenv import load_dotenv\n",
    "\n",
    "STEP = 10\n",
    "MAXIMUM = STEP * 500 # 5000\n",
    "start_point = 0\n",
    "error_count = 0\n",
    "\n",
    "load_dotenv()\n",
    "\n",
    "aws_access_key_id = os.getenv('ID_AWS') #'TYPE YOUR KEY HERE'\n",
    "aws_secret_access_key =  os.getenv('SECRET_AWS') #'TYPE YOUR SECRET KEY HERE'\n",
    "\n",
    "src = 'https://www.oldlistings.com.au/'\n",
    "src_parsed = urlparse(src)\n",
    "src_nopath = \"%s://%s\" % (src_parsed.scheme, src_parsed.netloc)\n",
    "gateway1 = ApiGateway(src_nopath,                                           \n",
    "                      regions=EXTRA_REGIONS,                                             \n",
    "                      access_key_id=f\"{aws_access_key_id}\",                                             \n",
    "                      access_key_secret=f\"{aws_secret_access_key}\")                       \n",
    "gateway1.start(force=True)\n",
    "session1 = requests.Session()                        \n",
    "session1.mount(src_nopath, gateway1)\n",
    "try:\n",
    "  r = session1.get(src, stream=True)\n",
    "  file_request_succeed = r.ok\n",
    "  if file_request_succeed:\n",
    "    print('Rotated IP succeed: starting at '+ str(start_point))\n",
    "    s = start_point\n",
    "    for max in range(s+STEP, MAXIMUM, STEP):\n",
    "      l = get_urls_daily(start_point, max)\n",
    "      if l <= 10:\n",
    "        break\n",
    "      else:\n",
    "        start_point += STEP\n",
    "\n",
    "      print(\"size:\", l)\n",
    "except Exception as e:\n",
    "  print('Rotated IP failed (%s)' % str(e))\n",
    "  error_count += 1\n",
    "  if start_point == MAXIMUM or error_count > 10:                          \n",
    "    gateway1.shutdown()"
   ]
  }
 ],
 "metadata": {
  "kernelspec": {
   "display_name": "Python 3.10.5 64-bit ('3.10.5')",
   "language": "python",
   "name": "python3"
  },
  "language_info": {
   "codemirror_mode": {
    "name": "ipython",
    "version": 3
   },
   "file_extension": ".py",
   "mimetype": "text/x-python",
   "name": "python",
   "nbconvert_exporter": "python",
   "pygments_lexer": "ipython3",
   "version": "3.10.5"
  },
  "orig_nbformat": 4,
  "vscode": {
   "interpreter": {
    "hash": "ddc0034ad7dea0900e87274559c7f730dcb76ce48c43b93b61df066c264fb9ff"
   }
  }
 },
 "nbformat": 4,
 "nbformat_minor": 2
}
