{
 "cells": [
  {
   "cell_type": "code",
   "execution_count": 1,
   "metadata": {},
   "outputs": [],
   "source": [
    "import pandas as pd\n",
    "from bs4 import BeautifulSoup\n",
    "import requests\n",
    "from requests import get\n",
    "import re\n",
    "import pickle\n",
    "import os\n",
    "\n",
    "newpath = r'../../data/raw/historical_data' \n",
    "if not os.path.exists(newpath):\n",
    "    os.makedirs(newpath)"
   ]
  },
  {
   "cell_type": "code",
   "execution_count": 2,
   "metadata": {},
   "outputs": [],
   "source": [
    "# some_file.py\n",
    "import sys\n",
    "# caution: path[0] is reserved for script path (or '' in REPL)\n",
    "sys.path.insert(1, '../../scripts/')\n",
    "import url_scraping\n",
    "from url_scraping import get_urls_daily"
   ]
  },
  {
   "cell_type": "markdown",
   "metadata": {},
   "source": [
    "**07/09/2022 Wed**\n",
    "*   grace: 0-200\n",
    "\n",
    "*   jin: 200-400\n",
    "\n",
    "*   john: 400-600✅, 1400-1600✅, 2400-2600✅, 3400-3600, 4400-4600\n",
    "\n",
    "*   katherine: 600-800✅, 1600-1800✅\n",
    "\n",
    "*   philip: 800-1000\n"
   ]
  },
  {
   "cell_type": "markdown",
   "metadata": {},
   "source": [
    "### PLZ DO NOT EXPERIMENT\n",
    "### ONLY RUN YOUR OWN CELL\n",
    "comment out the code after you finished"
   ]
  },
  {
   "cell_type": "code",
   "execution_count": 7,
   "metadata": {},
   "outputs": [],
   "source": [
    "# grace\n",
    "# get_urls_daily(0,100)\n",
    "# get_urls_daily(100,200)"
   ]
  },
  {
   "cell_type": "code",
   "execution_count": null,
   "metadata": {},
   "outputs": [],
   "source": [
    "# jin\n",
    "get_urls_daily(200,300)\n",
    "get_urls_daily(300,400)"
   ]
  },
  {
   "cell_type": "code",
   "execution_count": null,
   "metadata": {},
   "outputs": [],
   "source": [
    "# john\n",
    "# get_urls_daily(400,500)\n",
    "# get_urls_daily(500,600) # finished \n",
    "# get_urls_daily(1400,1500)\n",
    "# get_urls_daily(1500,1600) # finished \n",
    "# get_urls_daily(2400,2500)\n",
    "# get_urls_daily(2500,2600) # finished\n",
    "# get_urls_daily(3400,3500)\n",
    "# get_urls_daily(3500,3600) # finished\n",
    "get_urls_daily(4400,4500)\n",
    "get_urls_daily(4500,4600)"
   ]
  },
  {
   "cell_type": "code",
   "execution_count": 6,
   "metadata": {},
   "outputs": [],
   "source": [
    "# katherine\n",
    "#get_urls_daily(600,700)\n",
    "#get_urls_daily(700,800)\n",
    "#get_urls_daily(1600,1700)\n",
    "#get_urls_daily(1700,1800)"
   ]
  },
  {
   "cell_type": "code",
   "execution_count": null,
   "metadata": {},
   "outputs": [],
   "source": [
    "# philip\n",
    "get_urls_daily(800,900)\n",
    "get_urls_daily(900,1000)"
   ]
  }
 ],
 "metadata": {
  "kernelspec": {
   "display_name": "Python 3.9.1 64-bit",
   "language": "python",
   "name": "python3"
  },
  "language_info": {
   "codemirror_mode": {
    "name": "ipython",
    "version": 3
   },
   "file_extension": ".py",
   "mimetype": "text/x-python",
   "name": "python",
   "nbconvert_exporter": "python",
   "pygments_lexer": "ipython3",
   "version": "3.9.1"
  },
  "orig_nbformat": 4,
  "vscode": {
   "interpreter": {
    "hash": "aee8b7b246df8f9039afb4144a1f6fd8d2ca17a180786b69acc140d282b71a49"
   }
  }
 },
 "nbformat": 4,
 "nbformat_minor": 2
}
