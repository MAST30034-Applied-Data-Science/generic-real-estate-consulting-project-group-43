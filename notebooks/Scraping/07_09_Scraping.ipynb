{
 "cells": [
  {
   "cell_type": "code",
   "execution_count": 10,
   "metadata": {},
   "outputs": [],
   "source": [
    "import pandas as pd\n",
    "from bs4 import BeautifulSoup\n",
    "import requests\n",
    "from requests import get\n",
    "import re\n",
    "import pickle\n",
    "import os\n",
    "\n",
    "newpath = r'../../data/raw/historical_data' \n",
    "if not os.path.exists(newpath):\n",
    "    os.makedirs(newpath)"
   ]
  },
  {
   "cell_type": "code",
   "execution_count": 12,
   "metadata": {},
   "outputs": [],
   "source": [
    "# some_file.py\n",
    "import sys\n",
    "# caution: path[0] is reserved for script path (or '' in REPL)\n",
    "sys.path.insert(1, '../../scripts/')\n",
    "import daily_url\n",
    "from daily_url import get_urls_daily"
   ]
  },
  {
   "cell_type": "markdown",
   "metadata": {},
   "source": [
    "**07/09/2022 Wed**\n",
    "*   grace: 0-200\n",
    "\n",
    "*   jin: 200-400\n",
    "\n",
    "*   john: 400-600\n",
    "\n",
    "*   katherine: 600-800\n",
    "\n",
    "*   philip: 800-1000\n"
   ]
  },
  {
   "cell_type": "markdown",
   "metadata": {},
   "source": [
    "### PLZ DO NOT EXPERIMENT\n",
    "### ONLY RUN YOUR OWN CELL"
   ]
  },
  {
   "cell_type": "code",
   "execution_count": 44,
   "metadata": {},
   "outputs": [
    {
     "name": "stdout",
     "output_type": "stream",
     "text": [
      "0.getting data from https://www.oldlistings.com.au/real-estate/VIC/Abbotsford/3067/rent/\n",
      "Empty DataFrame\n",
      "Columns: []\n",
      "Index: []\n"
     ]
    }
   ],
   "source": [
    "# grace\n",
    "get_urls_daily(0,100)\n",
    "get_urls_daily(100,200)"
   ]
  },
  {
   "cell_type": "code",
   "execution_count": null,
   "metadata": {},
   "outputs": [],
   "source": [
    "# jin\n",
    "get_urls_daily(200,300)\n",
    "get_urls_daily(300,400)"
   ]
  },
  {
   "cell_type": "code",
   "execution_count": 13,
   "metadata": {},
   "outputs": [
    {
     "name": "stdout",
     "output_type": "stream",
     "text": [
      "0.getting data from https://www.oldlistings.com.au/real-estate/VIC/Bendigo/3550/rent/9\n"
     ]
    },
    {
     "ename": "NameError",
     "evalue": "name 'random' is not defined",
     "output_type": "error",
     "traceback": [
      "\u001b[0;31m---------------------------------------------------------------------------\u001b[0m",
      "\u001b[0;31mNameError\u001b[0m                                 Traceback (most recent call last)",
      "\u001b[1;32m/Users/jonghopark/Documents/GitHub/generic-real-estate-consulting-project-group-43/notebooks/Scraping/07_09_Scraping.ipynb Cell 7\u001b[0m in \u001b[0;36m<cell line: 2>\u001b[0;34m()\u001b[0m\n\u001b[1;32m      <a href='vscode-notebook-cell:/Users/jonghopark/Documents/GitHub/generic-real-estate-consulting-project-group-43/notebooks/Scraping/07_09_Scraping.ipynb#X21sZmlsZQ%3D%3D?line=0'>1</a>\u001b[0m \u001b[39m# john\u001b[39;00m\n\u001b[0;32m----> <a href='vscode-notebook-cell:/Users/jonghopark/Documents/GitHub/generic-real-estate-consulting-project-group-43/notebooks/Scraping/07_09_Scraping.ipynb#X21sZmlsZQ%3D%3D?line=1'>2</a>\u001b[0m get_urls_daily(\u001b[39m400\u001b[39;49m,\u001b[39m500\u001b[39;49m)\n\u001b[1;32m      <a href='vscode-notebook-cell:/Users/jonghopark/Documents/GitHub/generic-real-estate-consulting-project-group-43/notebooks/Scraping/07_09_Scraping.ipynb#X21sZmlsZQ%3D%3D?line=2'>3</a>\u001b[0m get_urls_daily(\u001b[39m500\u001b[39m,\u001b[39m600\u001b[39m)\n",
      "File \u001b[0;32m~/Documents/GitHub/generic-real-estate-consulting-project-group-43/notebooks/Scraping/../../scripts/daily_url.py:25\u001b[0m, in \u001b[0;36mget_urls_daily\u001b[0;34m(start, end)\u001b[0m\n\u001b[1;32m     23\u001b[0m post \u001b[39m=\u001b[39m re\u001b[39m.\u001b[39mfindall(regex, result_urls_partial[i])\n\u001b[1;32m     24\u001b[0m \u001b[39m# random wait times\u001b[39;00m\n\u001b[0;32m---> 25\u001b[0m value \u001b[39m=\u001b[39m random()\n\u001b[1;32m     26\u001b[0m scaled_value \u001b[39m=\u001b[39m \u001b[39m1\u001b[39m \u001b[39m+\u001b[39m (value \u001b[39m*\u001b[39m (\u001b[39m9\u001b[39m \u001b[39m-\u001b[39m \u001b[39m5\u001b[39m))\n\u001b[1;32m     27\u001b[0m \u001b[39m# print(scaled_value)\u001b[39;00m\n",
      "\u001b[0;31mNameError\u001b[0m: name 'random' is not defined"
     ]
    }
   ],
   "source": [
    "# john\n",
    "get_urls_daily(400,500)\n",
    "get_urls_daily(500,600)"
   ]
  },
  {
   "cell_type": "code",
   "execution_count": null,
   "metadata": {},
   "outputs": [],
   "source": [
    "# katherine\n",
    "get_urls_daily(600,700)\n",
    "get_urls_daily(700,800)"
   ]
  },
  {
   "cell_type": "code",
   "execution_count": null,
   "metadata": {},
   "outputs": [],
   "source": [
    "# philip\n",
    "get_urls_daily(800,900)\n",
    "get_urls_daily(900,1000)"
   ]
  }
 ],
 "metadata": {
  "kernelspec": {
   "display_name": "Python 3.8.5 ('base')",
   "language": "python",
   "name": "python3"
  },
  "language_info": {
   "codemirror_mode": {
    "name": "ipython",
    "version": 3
   },
   "file_extension": ".py",
   "mimetype": "text/x-python",
   "name": "python",
   "nbconvert_exporter": "python",
   "pygments_lexer": "ipython3",
   "version": "3.8.5"
  },
  "orig_nbformat": 4,
  "vscode": {
   "interpreter": {
    "hash": "c86cb5e9148e7c4bccb8072cef861029eee896e08e86645269b0451f021733e2"
   }
  }
 },
 "nbformat": 4,
 "nbformat_minor": 2
}
