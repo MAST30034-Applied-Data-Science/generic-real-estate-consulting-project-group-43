{
 "cells": [
  {
   "cell_type": "code",
   "execution_count": 1,
   "metadata": {},
   "outputs": [],
   "source": [
    "import pandas as pd\n",
    "from bs4 import BeautifulSoup\n",
    "import requests\n",
    "from requests import get\n",
    "import re\n",
    "import pickle\n",
    "import os\n",
    "\n",
    "newpath = r'../../data/raw/historical_data' \n",
    "if not os.path.exists(newpath):\n",
    "    os.makedirs(newpath)"
   ]
  },
  {
   "cell_type": "code",
   "execution_count": 2,
   "metadata": {},
   "outputs": [],
   "source": [
    "# some_file.py\n",
    "import sys\n",
    "# caution: path[0] is reserved for script path (or '' in REPL)\n",
    "sys.path.insert(1, '../../scripts/')\n",
    "import url_scraping\n",
    "from url_scraping import get_urls_daily"
   ]
  },
  {
   "cell_type": "markdown",
   "metadata": {},
   "source": [
    "**Task Overview** (200 per wifi per day, you may run more than 200 if you access other wifi or vpn)\n",
    "\n",
    "\n",
    "*   grace: 0-200✅, 1000-1200, 2000-2200, 3000-3200, 4000-4200\n",
    "\n",
    "*   jin: 200-400, 1200-1400, 2200-2400, 3200-3400, 4200-4400\n",
    "\n",
    "*   john: 400-600✅, 1400-1600✅, 2400-2600✅, 3400-3600, 4400-4600\n",
    "\n",
    "*   katherine: 600-800✅, 1600-180✅, 2600-2800, 3600-3800, 4600-4800\n",
    "\n",
    "*   philip: 800-1000, 1800-2000, 2800-3000, 3800-4000, 4800-5000"
   ]
  },
  {
   "cell_type": "markdown",
   "metadata": {},
   "source": [
    "### PLZ DO NOT EXPERIMENT \n",
    "(**Don't be greedy, do not run more than 300 requets for one wifi (per day), dangerous!!**)\n",
    "### ONLY RUN YOUR OWN CELL\n",
    "comment out the code after you finished"
   ]
  },
  {
   "cell_type": "markdown",
   "metadata": {},
   "source": [
    "### Wednesday"
   ]
  },
  {
   "cell_type": "code",
   "execution_count": 7,
   "metadata": {},
   "outputs": [],
   "source": [
    "# grace\n",
    "# get_urls_daily(0,100)\n",
    "# get_urls_daily(100,200)"
   ]
  },
  {
   "cell_type": "code",
   "execution_count": null,
   "metadata": {},
   "outputs": [],
   "source": [
    "# jin\n",
    "get_urls_daily(200,300)\n",
    "get_urls_daily(300,400)"
   ]
  },
  {
   "cell_type": "code",
   "execution_count": null,
   "metadata": {},
   "outputs": [],
   "source": [
    "# john\n",
    "# get_urls_daily(400,500)\n",
    "# get_urls_daily(500,600) # finished \n",
    "# get_urls_daily(1400,1500)\n",
    "# get_urls_daily(1500,1600) # finished \n",
    "# get_urls_daily(2400,2500)\n",
    "# get_urls_daily(2500,2600) # finished\n",
    "# get_urls_daily(3400,3500)\n",
    "# get_urls_daily(3500,3600) # finished\n",
    "get_urls_daily(4400,4500)\n",
    "get_urls_daily(4500,4600)"
   ]
  },
  {
   "cell_type": "code",
   "execution_count": 6,
   "metadata": {},
   "outputs": [],
   "source": [
    "# katherine\n",
    "#get_urls_daily(600,700)\n",
    "#get_urls_daily(700,800)\n",
    "#get_urls_daily(1600,1700)\n",
    "#get_urls_daily(1700,1800)"
   ]
  },
  {
   "cell_type": "code",
   "execution_count": null,
   "metadata": {},
   "outputs": [],
   "source": [
    "# philip\n",
    "get_urls_daily(800,900)\n",
    "get_urls_daily(900,1000)"
   ]
  },
  {
   "cell_type": "markdown",
   "metadata": {},
   "source": [
    "### Thursday"
   ]
  }
 ],
 "metadata": {
  "kernelspec": {
   "display_name": "Python 3.9.1 64-bit",
   "language": "python",
   "name": "python3"
  },
  "language_info": {
   "codemirror_mode": {
    "name": "ipython",
    "version": 3
   },
   "file_extension": ".py",
   "mimetype": "text/x-python",
   "name": "python",
   "nbconvert_exporter": "python",
   "pygments_lexer": "ipython3",
   "version": "3.9.1"
  },
  "orig_nbformat": 4,
  "vscode": {
   "interpreter": {
    "hash": "aee8b7b246df8f9039afb4144a1f6fd8d2ca17a180786b69acc140d282b71a49"
   }
  }
 },
 "nbformat": 4,
 "nbformat_minor": 2
}
