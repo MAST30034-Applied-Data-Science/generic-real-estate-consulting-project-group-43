{
 "cells": [
  {
   "cell_type": "code",
   "execution_count": 56,
   "metadata": {},
   "outputs": [],
   "source": [
    "import requests\n",
    "import json\n",
    "from bs4 import BeautifulSoup\n",
    "from csv import writer\n",
    "\n",
    "client_id = 'client_660b4d0cceb4cf9f989acef154caf4ab'\n",
    "client_secret = 'secret_bd749d4e48d050deb1d8873b061456f2'\n",
    "#client_id = 'client_ccde1b02ebfe494290bc6156fd6e8e98'\n",
    "#client_secret = 'key_822f032d940be843b7493614f01206f3'\n",
    "\n",
    "def retrive_properties(client_id, client_secret, pageNumber, postCode=\"\", state=\"VIC\", pageSize=200, filename=\"propertiesInfo.csv\"):\n",
    "  scopes = ['api_listings_read']\n",
    "  auth_url = 'https://auth.domain.com.au/v1/connect/token'\n",
    "  url_endpoint = 'https://api.domain.com.au/v1/listings/residential/_search'\n",
    "\n",
    "  response = requests.post(auth_url, data = {\n",
    "                          'client_id':client_id,\n",
    "                          'client_secret':client_secret,\n",
    "                          'grant_type':'client_credentials',\n",
    "                          'scope':scopes,\n",
    "                          'Content-Type':'text/json'\n",
    "                          })\n",
    "  json_res = response.json()\n",
    "  access_token=json_res['access_token']\n",
    "  print(\"Access:\", access_token)\n",
    "  auth = {'Authorization':'Bearer ' + access_token}\n",
    "  url = url_endpoint\n",
    "\n",
    "  post_fields = {\n",
    "        \"listingType\":\"Rent\",\n",
    "        \"pageSize\": pageSize, \n",
    "        \"pageNumber\": pageNumber, # 10 per page\n",
    "        \"propertyTypes\":\"\",\n",
    "        \"minBedrooms\":1,\n",
    "        \"minBathrooms\":1,\n",
    "        # \"maxPrice\": 400,\n",
    "        \"sort\": {\n",
    "            \"sortKey\": \"Default\"\n",
    "        },\n",
    "\n",
    "        \"locations\":[\n",
    "          {\n",
    "            \"state\":state,\n",
    "            \"region\":\"\",\n",
    "            \"area\":\"\",\n",
    "            \"suburb\":\"\",\n",
    "            \"postCode\":postCode,\n",
    "            \"includeSurroundingSuburbs\":False\n",
    "          }\n",
    "        ]\n",
    "  }\n",
    "\n",
    "  # Request content\n",
    "  respond = requests.post(url,headers=auth,json=post_fields)\n",
    "  content = json.loads(respond.text)\n",
    "  print(\"Loaded data: \" + str(len(content)))\n",
    "  print(content)\n",
    "  if content[\"type\"] != \"PropertyListing\" or \"errors\" in content or len(content) == 0:\n",
    "    print(\"Error accurs\")\n",
    "    print(content)\n",
    "    return False\n",
    "\n",
    "  # Get request for each property ID and extract attributes\n",
    "  for i in content:\n",
    "      #get details\n",
    "      id = i['listing']['id']\n",
    "      listing_type = i['listing']['listingType']\n",
    "      r = i['listing']['propertyDetails']\n",
    "      street_address=r['displayableAddress']\n",
    "      suburb=r['suburb']\n",
    "      postcode=r['postcode']\n",
    "      area=r['area']\n",
    "      latitude = r['latitude']\n",
    "      longitude = r['longitude']\n",
    "      property_type=r['propertyType']\n",
    "      bathrooms=r['bathrooms']\n",
    "      bedrooms=r['bedrooms']\n",
    "\n",
    "      if(str(i).find('carspaces'))>0:\n",
    "          carspaces=i['listing']['propertyDetails']['carspaces']\n",
    "      else:\n",
    "          carspaces=0\n",
    "\n",
    "      price=i['listing']['priceDetails']['displayPrice'] #[1:4]\n",
    "\n",
    "      info = [id, listing_type, price, property_type, area, bedrooms, bathrooms, carspaces, street_address, suburb, postcode, latitude, longitude]\n",
    "\n",
    "      with open(filename, 'a', newline='') as g:\n",
    "          thewriter = writer(g)\n",
    "          thewriter.writerow(info)\n",
    "\n",
    "  return True\n",
    "\n",
    "# retrive_properties(client_id, client_secret, 1)"
   ]
  },
  {
   "cell_type": "markdown",
   "metadata": {},
   "source": [
    "Rrtrive rental data"
   ]
  },
  {
   "cell_type": "code",
   "execution_count": 55,
   "metadata": {},
   "outputs": [
    {
     "name": "stdout",
     "output_type": "stream",
     "text": [
      "Retriving data from postcode: 3000\n"
     ]
    },
    {
     "ename": "KeyError",
     "evalue": "'access_token'",
     "output_type": "error",
     "traceback": [
      "\u001b[0;31m---------------------------------------------------------------------------\u001b[0m",
      "\u001b[0;31mKeyError\u001b[0m                                  Traceback (most recent call last)",
      "\u001b[1;32m/Users/jonghopark/Documents/GitHub/generic-real-estate-consulting-project-group-43/notebooks/Scraping/GetProperties.ipynb Cell 3\u001b[0m in \u001b[0;36m<cell line: 3>\u001b[0;34m()\u001b[0m\n\u001b[1;32m      <a href='vscode-notebook-cell:/Users/jonghopark/Documents/GitHub/generic-real-estate-consulting-project-group-43/notebooks/Scraping/GetProperties.ipynb#W1sZmlsZQ%3D%3D?line=3'>4</a>\u001b[0m     \u001b[39mprint\u001b[39m(\u001b[39m\"\u001b[39m\u001b[39mRetriving data from postcode: \u001b[39m\u001b[39m\"\u001b[39m \u001b[39m+\u001b[39m \u001b[39mstr\u001b[39m(i))\n\u001b[1;32m      <a href='vscode-notebook-cell:/Users/jonghopark/Documents/GitHub/generic-real-estate-consulting-project-group-43/notebooks/Scraping/GetProperties.ipynb#W1sZmlsZQ%3D%3D?line=4'>5</a>\u001b[0m     \u001b[39mfor\u001b[39;00m p \u001b[39min\u001b[39;00m \u001b[39mrange\u001b[39m(\u001b[39m1\u001b[39m, \u001b[39m6\u001b[39m):\n\u001b[0;32m----> <a href='vscode-notebook-cell:/Users/jonghopark/Documents/GitHub/generic-real-estate-consulting-project-group-43/notebooks/Scraping/GetProperties.ipynb#W1sZmlsZQ%3D%3D?line=5'>6</a>\u001b[0m         \u001b[39mif\u001b[39;00m \u001b[39mnot\u001b[39;00m retrive_properties(client_id, client_secret, p, \u001b[39mstr\u001b[39;49m(i)):\n\u001b[1;32m      <a href='vscode-notebook-cell:/Users/jonghopark/Documents/GitHub/generic-real-estate-consulting-project-group-43/notebooks/Scraping/GetProperties.ipynb#W1sZmlsZQ%3D%3D?line=6'>7</a>\u001b[0m             \u001b[39mbreak\u001b[39;00m\n\u001b[1;32m      <a href='vscode-notebook-cell:/Users/jonghopark/Documents/GitHub/generic-real-estate-consulting-project-group-43/notebooks/Scraping/GetProperties.ipynb#W1sZmlsZQ%3D%3D?line=8'>9</a>\u001b[0m \u001b[39m# postcode 8000~9000\u001b[39;00m\n",
      "\u001b[1;32m/Users/jonghopark/Documents/GitHub/generic-real-estate-consulting-project-group-43/notebooks/Scraping/GetProperties.ipynb Cell 3\u001b[0m in \u001b[0;36mretrive_properties\u001b[0;34m(client_id, client_secret, pageNumber, postCode, state, pageSize, filename)\u001b[0m\n\u001b[1;32m     <a href='vscode-notebook-cell:/Users/jonghopark/Documents/GitHub/generic-real-estate-consulting-project-group-43/notebooks/Scraping/GetProperties.ipynb#W1sZmlsZQ%3D%3D?line=15'>16</a>\u001b[0m response \u001b[39m=\u001b[39m requests\u001b[39m.\u001b[39mpost(auth_url, data \u001b[39m=\u001b[39m {\n\u001b[1;32m     <a href='vscode-notebook-cell:/Users/jonghopark/Documents/GitHub/generic-real-estate-consulting-project-group-43/notebooks/Scraping/GetProperties.ipynb#W1sZmlsZQ%3D%3D?line=16'>17</a>\u001b[0m                         \u001b[39m'\u001b[39m\u001b[39mclient_id\u001b[39m\u001b[39m'\u001b[39m:client_id,\n\u001b[1;32m     <a href='vscode-notebook-cell:/Users/jonghopark/Documents/GitHub/generic-real-estate-consulting-project-group-43/notebooks/Scraping/GetProperties.ipynb#W1sZmlsZQ%3D%3D?line=17'>18</a>\u001b[0m                         \u001b[39m'\u001b[39m\u001b[39mclient_secret\u001b[39m\u001b[39m'\u001b[39m:client_secret,\n\u001b[0;32m   (...)\u001b[0m\n\u001b[1;32m     <a href='vscode-notebook-cell:/Users/jonghopark/Documents/GitHub/generic-real-estate-consulting-project-group-43/notebooks/Scraping/GetProperties.ipynb#W1sZmlsZQ%3D%3D?line=20'>21</a>\u001b[0m                         \u001b[39m'\u001b[39m\u001b[39mContent-Type\u001b[39m\u001b[39m'\u001b[39m:\u001b[39m'\u001b[39m\u001b[39mtext/json\u001b[39m\u001b[39m'\u001b[39m\n\u001b[1;32m     <a href='vscode-notebook-cell:/Users/jonghopark/Documents/GitHub/generic-real-estate-consulting-project-group-43/notebooks/Scraping/GetProperties.ipynb#W1sZmlsZQ%3D%3D?line=21'>22</a>\u001b[0m                         })\n\u001b[1;32m     <a href='vscode-notebook-cell:/Users/jonghopark/Documents/GitHub/generic-real-estate-consulting-project-group-43/notebooks/Scraping/GetProperties.ipynb#W1sZmlsZQ%3D%3D?line=22'>23</a>\u001b[0m json_res \u001b[39m=\u001b[39m response\u001b[39m.\u001b[39mjson()\n\u001b[0;32m---> <a href='vscode-notebook-cell:/Users/jonghopark/Documents/GitHub/generic-real-estate-consulting-project-group-43/notebooks/Scraping/GetProperties.ipynb#W1sZmlsZQ%3D%3D?line=23'>24</a>\u001b[0m access_token\u001b[39m=\u001b[39mjson_res[\u001b[39m'\u001b[39;49m\u001b[39maccess_token\u001b[39;49m\u001b[39m'\u001b[39;49m]\n\u001b[1;32m     <a href='vscode-notebook-cell:/Users/jonghopark/Documents/GitHub/generic-real-estate-consulting-project-group-43/notebooks/Scraping/GetProperties.ipynb#W1sZmlsZQ%3D%3D?line=24'>25</a>\u001b[0m \u001b[39mprint\u001b[39m(\u001b[39m\"\u001b[39m\u001b[39mAccess:\u001b[39m\u001b[39m\"\u001b[39m, access_token)\n\u001b[1;32m     <a href='vscode-notebook-cell:/Users/jonghopark/Documents/GitHub/generic-real-estate-consulting-project-group-43/notebooks/Scraping/GetProperties.ipynb#W1sZmlsZQ%3D%3D?line=25'>26</a>\u001b[0m auth \u001b[39m=\u001b[39m {\u001b[39m'\u001b[39m\u001b[39mAuthorization\u001b[39m\u001b[39m'\u001b[39m:\u001b[39m'\u001b[39m\u001b[39mBearer \u001b[39m\u001b[39m'\u001b[39m \u001b[39m+\u001b[39m access_token}\n",
      "\u001b[0;31mKeyError\u001b[0m: 'access_token'"
     ]
    }
   ],
   "source": [
    "\n",
    "# Retrive rental data by postcode\n",
    "# postcode 3000~4000\n",
    "for i in range(3000, 4000):\n",
    "    print(\"Retriving data from postcode: \" + str(i))\n",
    "    for p in range(1, 6):\n",
    "        if not retrive_properties(client_id, client_secret, p, str(i)):\n",
    "            break\n",
    "\n",
    "# postcode 8000~9000\n",
    "for i in range(8000, 9000):\n",
    "    print(\"Retriving data from postcode: \" + str(i))\n",
    "    for p in range(1, 6):\n",
    "        if not retrive_properties(client_id, client_secret, p, str(i)):\n",
    "            break"
   ]
  },
  {
   "cell_type": "code",
   "execution_count": null,
   "metadata": {},
   "outputs": [],
   "source": []
  }
 ],
 "metadata": {
  "kernelspec": {
   "display_name": "Python 3.10.5 64-bit ('3.10.5')",
   "language": "python",
   "name": "python3"
  },
  "language_info": {
   "codemirror_mode": {
    "name": "ipython",
    "version": 3
   },
   "file_extension": ".py",
   "mimetype": "text/x-python",
   "name": "python",
   "nbconvert_exporter": "python",
   "pygments_lexer": "ipython3",
   "version": "3.10.5"
  },
  "orig_nbformat": 4,
  "vscode": {
   "interpreter": {
    "hash": "ddc0034ad7dea0900e87274559c7f730dcb76ce48c43b93b61df066c264fb9ff"
   }
  }
 },
 "nbformat": 4,
 "nbformat_minor": 2
}
