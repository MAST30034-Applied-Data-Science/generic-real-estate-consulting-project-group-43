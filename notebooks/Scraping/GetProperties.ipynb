{
 "cells": [
  {
   "cell_type": "code",
   "execution_count": 7,
   "metadata": {},
   "outputs": [
    {
     "name": "stdout",
     "output_type": "stream",
     "text": [
      "Access: f3981e38d2a4cea1ce0a7f86e3648d06\n",
      "Loaded data: 200\n"
     ]
    }
   ],
   "source": [
    "import requests\n",
    "import json\n",
    "from bs4 import BeautifulSoup\n",
    "from csv import writer\n",
    "\n",
    "client_id = 'client_660b4d0cceb4cf9f989acef154caf4ab'\n",
    "client_secret = 'secret_bd749d4e48d050deb1d8873b061456f2'\n",
    "\n",
    "def retrive_properties(client_id, client_secret, pageNumber, pageSize=200, state=\"VIC\", filename=\"propertiesInfo.csv\"):\n",
    "  scopes = ['api_listings_read']\n",
    "  auth_url = 'https://auth.domain.com.au/v1/connect/token'\n",
    "  url_endpoint = 'https://api.domain.com.au/v1/listings/residential/_search'\n",
    "\n",
    "  response = requests.post(auth_url, data = {\n",
    "                          'client_id':client_id,\n",
    "                          'client_secret':client_secret,\n",
    "                          'grant_type':'client_credentials',\n",
    "                          'scope':scopes,\n",
    "                          'Content-Type':'text/json'\n",
    "                          })\n",
    "  json_res = response.json()\n",
    "  access_token=json_res['access_token']\n",
    "  print(\"Access:\", access_token)\n",
    "  auth = {'Authorization':'Bearer ' + access_token}\n",
    "  url = url_endpoint\n",
    "\n",
    "  post_fields = {\n",
    "        \"listingType\":\"Rent\",\n",
    "        \"pageSize\": 200, \n",
    "        \"pageNumber\": 1, # 10 per page\n",
    "        \"propertyTypes\":\"\",\n",
    "        \"minBedrooms\":1,\n",
    "        \"minBathrooms\":1,\n",
    "        # \"maxPrice\": 400,\n",
    "        \"sort\": {\n",
    "            \"sortKey\": \"Default\"\n",
    "        },\n",
    "\n",
    "        \"locations\":[\n",
    "          {\n",
    "            \"state\":state,\n",
    "            \"region\":\"\",\n",
    "            \"area\":\"\",\n",
    "            \"suburb\":\"\",\n",
    "            \"postCode\":\"\",\n",
    "            \"includeSurroundingSuburbs\":False\n",
    "          }\n",
    "        ]\n",
    "  }\n",
    "\n",
    "  # Request content\n",
    "  respond = requests.post(url,headers=auth,json=post_fields)\n",
    "  content = json.loads(respond.text)\n",
    "  print(\"Loaded data: \" + str(len(content)))\n",
    "\n",
    "  # Get request for each property ID and extract attributes\n",
    "  for i in content:\n",
    "      #get details\n",
    "      id = i['listing']['id']\n",
    "      listing_type = i['listing']['listingType']\n",
    "      r = i['listing']['propertyDetails']\n",
    "      street_address=r['displayableAddress']\n",
    "      suburb=r['suburb']\n",
    "      postcode=r['postcode']\n",
    "      area=r['area']\n",
    "      latitude = r['latitude']\n",
    "      longitude = r['longitude']\n",
    "      property_type=r['propertyType']\n",
    "      bathrooms=r['bathrooms']\n",
    "      bedrooms=r['bedrooms']\n",
    "\n",
    "      if(str(i).find('carspaces'))>0:\n",
    "          carspaces=i['listing']['propertyDetails']['carspaces']\n",
    "      else:\n",
    "          carspaces=0\n",
    "\n",
    "      price=i['listing']['priceDetails']['displayPrice'] #[1:4]\n",
    "\n",
    "      info = [id, listing_type, price, property_type, area, bedrooms, bathrooms, carspaces, street_address, suburb, postcode, latitude, longitude]\n",
    "\n",
    "      with open(filename, 'a', newline='') as g:\n",
    "          thewriter = writer(g)\n",
    "          thewriter.writerow(info)\n",
    "\n",
    "retrive_properties(client_id, client_secret, 1)"
   ]
  },
  {
   "cell_type": "code",
   "execution_count": null,
   "metadata": {},
   "outputs": [],
   "source": []
  },
  {
   "cell_type": "code",
   "execution_count": null,
   "metadata": {},
   "outputs": [],
   "source": []
  }
 ],
 "metadata": {
  "kernelspec": {
   "display_name": "Python 3.10.5 64-bit ('3.10.5')",
   "language": "python",
   "name": "python3"
  },
  "language_info": {
   "codemirror_mode": {
    "name": "ipython",
    "version": 3
   },
   "file_extension": ".py",
   "mimetype": "text/x-python",
   "name": "python",
   "nbconvert_exporter": "python",
   "pygments_lexer": "ipython3",
   "version": "3.10.5"
  },
  "orig_nbformat": 4,
  "vscode": {
   "interpreter": {
    "hash": "ddc0034ad7dea0900e87274559c7f730dcb76ce48c43b93b61df066c264fb9ff"
   }
  }
 },
 "nbformat": 4,
 "nbformat_minor": 2
}
