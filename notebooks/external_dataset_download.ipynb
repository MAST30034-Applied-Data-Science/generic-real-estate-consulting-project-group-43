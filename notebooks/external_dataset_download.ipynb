{
 "cells": [
  {
   "cell_type": "code",
   "execution_count": null,
   "metadata": {},
   "outputs": [],
   "source": [
    "pip install openpyxl"
   ]
  },
  {
   "cell_type": "code",
   "execution_count": 5,
   "metadata": {},
   "outputs": [
    {
     "name": "stdout",
     "output_type": "stream",
     "text": [
      "Completed net_migration\n",
      "Completed migration_interstate\n",
      "Completed criminal_rate\n",
      "Completed crime_cases\n",
      "Completed income\n",
      "Completed population_sa2\n",
      "Completed population_vic\n"
     ]
    }
   ],
   "source": [
    "from urllib.request import urlretrieve\n",
    "import os\n",
    "\n",
    "# from the current `tute_1` directory, go back two levels to the `MAST30034` directory\n",
    "output_relative_dir = '../data/raw/'\n",
    "\n",
    "# check if it exists as it makedir will raise an error if it does exist\n",
    "if not os.path.exists(output_relative_dir):\n",
    "    os.makedirs(output_relative_dir)\n",
    "    \n",
    "# now, for each type of data set we will need, we will create the paths\n",
    "target_dir = 'external_dataset_xlsx'\n",
    "if not os.path.exists(output_relative_dir + target_dir):\n",
    "    os.makedirs(output_relative_dir + target_dir)\n",
    "\n",
    "name = [\"net_migration\", \"migration_interstate\", \"criminal_rate\", \"crime_cases\", \"income\", \"population_sa2\", \"population_vic\"]\n",
    "URL = [\"https://www.abs.gov.au/statistics/people/population/national-state-and-territory-population/dec-2021/310101.xlsx\",\n",
    "\"https://www.abs.gov.au/statistics/people/population/national-state-and-territory-population/dec-2021/3101016A.xlsx\", \n",
    "\"https://files.crimestatistics.vic.gov.au/2022-06/Data_Tables_LGA_Recorded_Offences_Year_Ending_March_2022.xlsx\", \n",
    "\"https://files.crimestatistics.vic.gov.au/2022-06/Data_Tables_Recorded_Offences_Visualisation_Year_Ending_March_2022.xlsx\", \n",
    "\"https://www.abs.gov.au/statistics/labour/earnings-and-working-conditions/personal-income-australia/2014-15-2018-19/6524055002_DO001.xlsx\", \n",
    "\"https://www.abs.gov.au/statistics/people/population/regional-population/2021/32180DS0001_2001-21.xlsx\", \n",
    "\"https://www.abs.gov.au/statistics/people/population/national-state-and-territory-population/dec-2021/310104.xlsx\"]\n",
    "\n",
    "for i in range(len(name)):\n",
    "    URL_TEMPLATE = URL[i]\n",
    "\n",
    "    output_dir = output_relative_dir + 'external_dataset'\n",
    "\n",
    "    url = f'{URL_TEMPLATE}'\n",
    "\n",
    "    output_dir = f\"{output_dir}/{name[i]}.csv\"\n",
    "\n",
    "    urlretrieve(url, output_dir) \n",
    "        \n",
    "    print(f\"Completed {name[i]}\")"
   ]
  },
  {
   "cell_type": "code",
   "execution_count": null,
   "metadata": {},
   "outputs": [],
   "source": []
  }
 ],
 "metadata": {
  "kernelspec": {
   "display_name": "Python 3.9.1 64-bit",
   "language": "python",
   "name": "python3"
  },
  "language_info": {
   "codemirror_mode": {
    "name": "ipython",
    "version": 3
   },
   "file_extension": ".py",
   "mimetype": "text/x-python",
   "name": "python",
   "nbconvert_exporter": "python",
   "pygments_lexer": "ipython3",
   "version": "3.9.1"
  },
  "orig_nbformat": 4,
  "vscode": {
   "interpreter": {
    "hash": "aee8b7b246df8f9039afb4144a1f6fd8d2ca17a180786b69acc140d282b71a49"
   }
  }
 },
 "nbformat": 4,
 "nbformat_minor": 2
}
