{
 "cells": [
  {
   "cell_type": "markdown",
   "metadata": {},
   "source": [
    "### This notebook follows ``ors_iteration_add_rentalDistance.ipynb`` which computed distance/time from each property to all places and CBD. Now we only want the closest distances."
   ]
  },
  {
   "cell_type": "code",
   "execution_count": 1,
   "metadata": {},
   "outputs": [],
   "source": [
    "import pandas as pd\n",
    "import sys\n",
    "import os\n",
    "# caution: path[0] is reserved for script path (or '' in REPL)\n",
    "sys.path.insert(1, '../../scripts/')\n",
    "from add_distance import get_min_distance_time"
   ]
  },
  {
   "cell_type": "code",
   "execution_count": 3,
   "metadata": {},
   "outputs": [],
   "source": [
    "if not os.path.exists('../../data/distance'):\n",
    "    os.makedirs('../../data/distance')"
   ]
  },
  {
   "cell_type": "code",
   "execution_count": 4,
   "metadata": {},
   "outputs": [
    {
     "name": "stdout",
     "output_type": "stream",
     "text": [
      "Originally 10940 address-month pairs, shape = (153905, 25)\n",
      "Updated 10940 address-month pairs, shape = (34702, 22)\n",
      "Originally 12088 address-month pairs, shape = (195828, 25)\n",
      "Updated 12088 address-month pairs, shape = (40289, 22)\n",
      "Originally 12490 address-month pairs, shape = (203387, 25)\n",
      "Updated 12490 address-month pairs, shape = (41674, 22)\n",
      "Originally 14751 address-month pairs, shape = (292284, 25)\n",
      "Updated 14751 address-month pairs, shape = (49663, 22)\n",
      "Originally 16708 address-month pairs, shape = (330166, 25)\n",
      "Updated 16708 address-month pairs, shape = (56098, 22)\n",
      "Originally 19045 address-month pairs, shape = (373152, 25)\n",
      "Updated 19045 address-month pairs, shape = (63996, 22)\n",
      "Originally 20876 address-month pairs, shape = (404404, 25)\n",
      "Updated 20876 address-month pairs, shape = (70066, 22)\n",
      "Originally 20479 address-month pairs, shape = (412000, 25)\n",
      "Updated 20479 address-month pairs, shape = (68226, 22)\n",
      "Originally 24945 address-month pairs, shape = (486159, 25)\n",
      "Updated 24945 address-month pairs, shape = (82833, 22)\n",
      "Originally 69092 address-month pairs, shape = (1276996, 25)\n",
      "Updated 69092 address-month pairs, shape = (231325, 22)\n"
     ]
    }
   ],
   "source": [
    "YEARS = [2013, 2014, 2015, 2016, 2017, 2018, 2019, 2020, 2021, 2022]\n",
    "for year in YEARS:\n",
    "    distance_df = pd.read_csv(f\"../../data/featured/{year}_distance_rental_place.csv\")\n",
    "    addr_month_pair = len(distance_df.drop_duplicates(subset=['address', 'month']))\n",
    "    # Check original number of unique property-month pairs\n",
    "    print(f\"Originally {addr_month_pair} address-month pairs, shape = {distance_df.shape}\")\n",
    "    min_distance_df = get_min_distance_time(distance_df, year)"
   ]
  }
 ],
 "metadata": {
  "kernelspec": {
   "display_name": "Python 3.8.10 64-bit",
   "language": "python",
   "name": "python3"
  },
  "language_info": {
   "codemirror_mode": {
    "name": "ipython",
    "version": 3
   },
   "file_extension": ".py",
   "mimetype": "text/x-python",
   "name": "python",
   "nbconvert_exporter": "python",
   "pygments_lexer": "ipython3",
   "version": "3.8.10"
  },
  "orig_nbformat": 4,
  "vscode": {
   "interpreter": {
    "hash": "916dbcbb3f70747c44a77c7bcd40155683ae19c65e1c03b4aa3499c5328201f1"
   }
  }
 },
 "nbformat": 4,
 "nbformat_minor": 2
}
