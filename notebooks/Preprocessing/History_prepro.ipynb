{
 "cells": [
  {
   "cell_type": "code",
   "execution_count": 55,
   "metadata": {},
   "outputs": [],
   "source": [
    "import pandas as pd"
   ]
  },
  {
   "cell_type": "code",
   "execution_count": 71,
   "metadata": {},
   "outputs": [],
   "source": [
    "df = pd.read_csv(\"../../data/curated/historical_rent_data.csv\")"
   ]
  },
  {
   "cell_type": "code",
   "execution_count": 72,
   "metadata": {},
   "outputs": [],
   "source": [
    "df.historical_dates = pd.to_datetime(df.historical_dates)\n",
    "df['suburb'] = df.address.str.split(\" \").str[-1]\n",
    "df.replace(to_replace=['none'], value=0, inplace=True)\n",
    "df = df.drop(columns = \"Unnamed: 0\")"
   ]
  },
  {
   "cell_type": "code",
   "execution_count": 77,
   "metadata": {},
   "outputs": [],
   "source": [
    "df = df.rename(columns={\"historical_prices\":'price'} )"
   ]
  },
  {
   "cell_type": "code",
   "execution_count": 78,
   "metadata": {},
   "outputs": [
    {
     "data": {
      "text/html": [
       "<div>\n",
       "<style scoped>\n",
       "    .dataframe tbody tr th:only-of-type {\n",
       "        vertical-align: middle;\n",
       "    }\n",
       "\n",
       "    .dataframe tbody tr th {\n",
       "        vertical-align: top;\n",
       "    }\n",
       "\n",
       "    .dataframe thead th {\n",
       "        text-align: right;\n",
       "    }\n",
       "</style>\n",
       "<table border=\"1\" class=\"dataframe\">\n",
       "  <thead>\n",
       "    <tr style=\"text-align: right;\">\n",
       "      <th></th>\n",
       "      <th>address</th>\n",
       "      <th>latitude</th>\n",
       "      <th>longitude</th>\n",
       "      <th>nbed</th>\n",
       "      <th>nbath</th>\n",
       "      <th>ncar</th>\n",
       "      <th>price</th>\n",
       "      <th>historical_dates</th>\n",
       "      <th>suburb</th>\n",
       "    </tr>\n",
       "  </thead>\n",
       "  <tbody>\n",
       "    <tr>\n",
       "      <th>0</th>\n",
       "      <td>3803/483 SWANSTON STREET, MELBOURNE</td>\n",
       "      <td>-37.807094</td>\n",
       "      <td>144.962386</td>\n",
       "      <td>3</td>\n",
       "      <td>2</td>\n",
       "      <td>0</td>\n",
       "      <td>$1,500</td>\n",
       "      <td>2022-09-01</td>\n",
       "      <td>MELBOURNE</td>\n",
       "    </tr>\n",
       "    <tr>\n",
       "      <th>1</th>\n",
       "      <td>3803/483 SWANSTON STREET, MELBOURNE</td>\n",
       "      <td>-37.807094</td>\n",
       "      <td>144.962386</td>\n",
       "      <td>3</td>\n",
       "      <td>2</td>\n",
       "      <td>0</td>\n",
       "      <td>$1,500</td>\n",
       "      <td>2022-09-01</td>\n",
       "      <td>MELBOURNE</td>\n",
       "    </tr>\n",
       "    <tr>\n",
       "      <th>2</th>\n",
       "      <td>3803/483 SWANSTON STREET, MELBOURNE</td>\n",
       "      <td>-37.807094</td>\n",
       "      <td>144.962386</td>\n",
       "      <td>3</td>\n",
       "      <td>2</td>\n",
       "      <td>0</td>\n",
       "      <td>$800 per week</td>\n",
       "      <td>2022-03-01</td>\n",
       "      <td>MELBOURNE</td>\n",
       "    </tr>\n",
       "    <tr>\n",
       "      <th>3</th>\n",
       "      <td>3803/483 SWANSTON STREET, MELBOURNE</td>\n",
       "      <td>-37.807094</td>\n",
       "      <td>144.962386</td>\n",
       "      <td>3</td>\n",
       "      <td>2</td>\n",
       "      <td>0</td>\n",
       "      <td>$750 Weekly</td>\n",
       "      <td>2022-01-01</td>\n",
       "      <td>MELBOURNE</td>\n",
       "    </tr>\n",
       "    <tr>\n",
       "      <th>4</th>\n",
       "      <td>3803/483 SWANSTON STREET, MELBOURNE</td>\n",
       "      <td>-37.807094</td>\n",
       "      <td>144.962386</td>\n",
       "      <td>3</td>\n",
       "      <td>2</td>\n",
       "      <td>0</td>\n",
       "      <td>$750 Weekly</td>\n",
       "      <td>2020-06-01</td>\n",
       "      <td>MELBOURNE</td>\n",
       "    </tr>\n",
       "    <tr>\n",
       "      <th>...</th>\n",
       "      <td>...</td>\n",
       "      <td>...</td>\n",
       "      <td>...</td>\n",
       "      <td>...</td>\n",
       "      <td>...</td>\n",
       "      <td>...</td>\n",
       "      <td>...</td>\n",
       "      <td>...</td>\n",
       "      <td>...</td>\n",
       "    </tr>\n",
       "    <tr>\n",
       "      <th>1715</th>\n",
       "      <td>718/233 COLLINS STREET, MELBOURNE</td>\n",
       "      <td>-37.816010</td>\n",
       "      <td>144.966040</td>\n",
       "      <td>2</td>\n",
       "      <td>1</td>\n",
       "      <td>0</td>\n",
       "      <td>$400 per week</td>\n",
       "      <td>2022-08-01</td>\n",
       "      <td>MELBOURNE</td>\n",
       "    </tr>\n",
       "    <tr>\n",
       "      <th>1716</th>\n",
       "      <td>718/233 COLLINS STREET, MELBOURNE</td>\n",
       "      <td>-37.816010</td>\n",
       "      <td>144.966040</td>\n",
       "      <td>2</td>\n",
       "      <td>1</td>\n",
       "      <td>0</td>\n",
       "      <td>$400 per week</td>\n",
       "      <td>2022-02-01</td>\n",
       "      <td>MELBOURNE</td>\n",
       "    </tr>\n",
       "    <tr>\n",
       "      <th>1717</th>\n",
       "      <td>718/233 COLLINS STREET, MELBOURNE</td>\n",
       "      <td>-37.816010</td>\n",
       "      <td>144.966040</td>\n",
       "      <td>2</td>\n",
       "      <td>1</td>\n",
       "      <td>0</td>\n",
       "      <td>$400</td>\n",
       "      <td>2022-02-01</td>\n",
       "      <td>MELBOURNE</td>\n",
       "    </tr>\n",
       "    <tr>\n",
       "      <th>1718</th>\n",
       "      <td>718/233 COLLINS STREET, MELBOURNE</td>\n",
       "      <td>-37.816010</td>\n",
       "      <td>144.966040</td>\n",
       "      <td>2</td>\n",
       "      <td>1</td>\n",
       "      <td>0</td>\n",
       "      <td>$330 per week</td>\n",
       "      <td>2021-02-01</td>\n",
       "      <td>MELBOURNE</td>\n",
       "    </tr>\n",
       "    <tr>\n",
       "      <th>1719</th>\n",
       "      <td>718/233 COLLINS STREET, MELBOURNE</td>\n",
       "      <td>-37.816010</td>\n",
       "      <td>144.966040</td>\n",
       "      <td>2</td>\n",
       "      <td>1</td>\n",
       "      <td>0</td>\n",
       "      <td>$330 per week</td>\n",
       "      <td>2021-01-01</td>\n",
       "      <td>MELBOURNE</td>\n",
       "    </tr>\n",
       "  </tbody>\n",
       "</table>\n",
       "<p>1720 rows × 9 columns</p>\n",
       "</div>"
      ],
      "text/plain": [
       "                                  address   latitude   longitude nbed nbath  \\\n",
       "0     3803/483 SWANSTON STREET, MELBOURNE -37.807094  144.962386    3     2   \n",
       "1     3803/483 SWANSTON STREET, MELBOURNE -37.807094  144.962386    3     2   \n",
       "2     3803/483 SWANSTON STREET, MELBOURNE -37.807094  144.962386    3     2   \n",
       "3     3803/483 SWANSTON STREET, MELBOURNE -37.807094  144.962386    3     2   \n",
       "4     3803/483 SWANSTON STREET, MELBOURNE -37.807094  144.962386    3     2   \n",
       "...                                   ...        ...         ...  ...   ...   \n",
       "1715    718/233 COLLINS STREET, MELBOURNE -37.816010  144.966040    2     1   \n",
       "1716    718/233 COLLINS STREET, MELBOURNE -37.816010  144.966040    2     1   \n",
       "1717    718/233 COLLINS STREET, MELBOURNE -37.816010  144.966040    2     1   \n",
       "1718    718/233 COLLINS STREET, MELBOURNE -37.816010  144.966040    2     1   \n",
       "1719    718/233 COLLINS STREET, MELBOURNE -37.816010  144.966040    2     1   \n",
       "\n",
       "     ncar          price historical_dates     suburb  \n",
       "0       0         $1,500       2022-09-01  MELBOURNE  \n",
       "1       0         $1,500       2022-09-01  MELBOURNE  \n",
       "2       0  $800 per week       2022-03-01  MELBOURNE  \n",
       "3       0    $750 Weekly       2022-01-01  MELBOURNE  \n",
       "4       0    $750 Weekly       2020-06-01  MELBOURNE  \n",
       "...   ...            ...              ...        ...  \n",
       "1715    0  $400 per week       2022-08-01  MELBOURNE  \n",
       "1716    0  $400 per week       2022-02-01  MELBOURNE  \n",
       "1717    0           $400       2022-02-01  MELBOURNE  \n",
       "1718    0  $330 per week       2021-02-01  MELBOURNE  \n",
       "1719    0  $330 per week       2021-01-01  MELBOURNE  \n",
       "\n",
       "[1720 rows x 9 columns]"
      ]
     },
     "execution_count": 78,
     "metadata": {},
     "output_type": "execute_result"
    }
   ],
   "source": [
    "df"
   ]
  },
  {
   "cell_type": "code",
   "execution_count": 79,
   "metadata": {},
   "outputs": [
    {
     "name": "stdout",
     "output_type": "stream",
     "text": [
      "46 instances were dropped as no weekly rent was demonstrated\n",
      "11 instances were dropped as it was annual rent\n"
     ]
    },
    {
     "name": "stderr",
     "output_type": "stream",
     "text": [
      "<ipython-input-79-aaa3c82f04eb>:23: SettingWithCopyWarning: \n",
      "A value is trying to be set on a copy of a slice from a DataFrame.\n",
      "Try using .loc[row_indexer,col_indexer] = value instead\n",
      "\n",
      "See the caveats in the documentation: https://pandas.pydata.org/pandas-docs/stable/user_guide/indexing.html#returning-a-view-versus-a-copy\n",
      "  df2['weekly_rent'] = df2['weekly_rent'].str.extract('(\\d+)').astype(int)\n"
     ]
    }
   ],
   "source": [
    "df['price'] = df[\"price\"].str.replace(\",\",\"\")\n",
    "df['price'] = df[\"price\"].str.replace(\" \",\"_\") # replacing blank space with underline will simplify code in regex\n",
    "\n",
    "regex_str1 = r'([$]?\\d+[.]?\\d+\\w+[.]*\\w*[/]*\\w*[wW])' # $650.00 per week\n",
    "regex_str2 = r'([$]?\\d+[.]?\\d+$)' # $320\n",
    "regex_str3 = r'([$]?\\d+[.]?\\d+\\w+[-]?\\w+[d]$)' # $490 Fully Furnished\n",
    "regex_str4 = r'([$]?\\d+[.]?\\d+\\w*[*]+\\w*[*]+$)' # $750_**SPACIOUS_APARTMENT**\n",
    "\n",
    "df['price1']=df['price'].str.extract(regex_str1)\n",
    "df['price2']=df['price'].str.extract(regex_str2)\n",
    "df['price3']=df['price'].str.extract(regex_str3)\n",
    "df['price4']=df['price'].str.extract(regex_str4)\n",
    "\n",
    "df['weekly_rent'] = df['price1'].where(df['price1'].notnull(), df['price2'])\n",
    "df['weekly_rent'] = df['weekly_rent'].where(df['weekly_rent'].notnull(), df['price3'])\n",
    "df['weekly_rent'] = df['weekly_rent'].where(df['weekly_rent'].notnull(), df['price4'])\n",
    "df = df.drop(['price1','price2','price3', 'price4'],axis=1)\n",
    "#dff = df[['price', 'weekly_rent']]\n",
    "#dff.to_csv(\"re.csv\")\n",
    "#dff1 = dff[dff['weekly_rent'].isna()] #just for checking\n",
    "#dff1.to_csv('re_null.csv')\n",
    "df2 = df.dropna(subset = ['weekly_rent'])\n",
    "df2['weekly_rent'] = df2['weekly_rent'].str.extract('(\\d+)').astype(int)\n",
    "\n",
    "df3 = df2[df2['weekly_rent'] > 10000] # drop the yearly rent ones.\n",
    "result =  df2[df2['weekly_rent'] < 10000]\n",
    "result.to_csv(\"../../data/curated/HIS_3000_re_clean.csv\")\n",
    "\n",
    "print(f'{len(df) - len(df2)} instances were dropped as no weekly rent was demonstrated')\n",
    "print(f'{len(df3)} instances were dropped as it was annual rent')\n"
   ]
  },
  {
   "cell_type": "code",
   "execution_count": 80,
   "metadata": {},
   "outputs": [
    {
     "data": {
      "text/plain": [
       "(array([  7.,  45., 373., 526., 418., 114.,  58.,  31.,  23.,  20.,  20.,\n",
       "          3.,   6.,   6.,   2.,   7.,   0.,   1.,   0.,   0.,   0.,   0.,\n",
       "          0.,   0.,   2.,   0.,   0.,   0.,   0.,   1.]),\n",
       " array([  50. ,  164.2,  278.4,  392.6,  506.8,  621. ,  735.2,  849.4,\n",
       "         963.6, 1077.8, 1192. , 1306.2, 1420.4, 1534.6, 1648.8, 1763. ,\n",
       "        1877.2, 1991.4, 2105.6, 2219.8, 2334. , 2448.2, 2562.4, 2676.6,\n",
       "        2790.8, 2905. , 3019.2, 3133.4, 3247.6, 3361.8, 3476. ]),\n",
       " <BarContainer object of 30 artists>)"
      ]
     },
     "execution_count": 80,
     "metadata": {},
     "output_type": "execute_result"
    },
    {
     "data": {
      "image/png": "[encoded data removed]",
      "text/plain": [
       "<Figure size 432x288 with 1 Axes>"
      ]
     },
     "metadata": {
      "needs_background": "light"
     },
     "output_type": "display_data"
    }
   ],
   "source": [
    "plt.hist(result['weekly_rent'], bins=30)"
   ]
  },
  {
   "cell_type": "code",
   "execution_count": 83,
   "metadata": {},
   "outputs": [
    {
     "data": {
      "text/plain": [
       "(array([  3.,  23.,   0.,  18.,   0.,  24.,   0.,  32.,   0.,  37.,   0.,\n",
       "         72.,   0.,  69.,   0., 107.,  58.,   0.,  59.,   0.,  73.,   0.,\n",
       "         49.,   0.,  81.,   0., 149.,   0., 144., 665.]),\n",
       " array([2006.        , 2006.53333333, 2007.06666667, 2007.6       ,\n",
       "        2008.13333333, 2008.66666667, 2009.2       , 2009.73333333,\n",
       "        2010.26666667, 2010.8       , 2011.33333333, 2011.86666667,\n",
       "        2012.4       , 2012.93333333, 2013.46666667, 2014.        ,\n",
       "        2014.53333333, 2015.06666667, 2015.6       , 2016.13333333,\n",
       "        2016.66666667, 2017.2       , 2017.73333333, 2018.26666667,\n",
       "        2018.8       , 2019.33333333, 2019.86666667, 2020.4       ,\n",
       "        2020.93333333, 2021.46666667, 2022.        ]),\n",
       " <BarContainer object of 30 artists>)"
      ]
     },
     "execution_count": 83,
     "metadata": {},
     "output_type": "execute_result"
    },
    {
     "data": {
      "image/png": "[encoded data removed]",
      "text/plain": [
       "<Figure size 432x288 with 1 Axes>"
      ]
     },
     "metadata": {
      "needs_background": "light"
     },
     "output_type": "display_data"
    }
   ],
   "source": [
    "df2 = pd.to_datetime(result['historical_dates'])\n",
    "years = df2.dt.year\n",
    "years\n",
    "plt.hist(years, bins=30)"
   ]
  }
 ],
 "metadata": {
  "language_info": {
   "name": "python"
  },
  "orig_nbformat": 4
 },
 "nbformat": 4,
 "nbformat_minor": 2
}
