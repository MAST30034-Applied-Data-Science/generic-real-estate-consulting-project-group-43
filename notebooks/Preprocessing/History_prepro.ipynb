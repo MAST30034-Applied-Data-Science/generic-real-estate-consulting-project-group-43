{
 "cells": [
  {
   "cell_type": "code",
   "execution_count": 107,
   "metadata": {},
   "outputs": [],
   "source": [
    "import pandas as pd\n",
    "import matplotlib.pyplot as plt\n",
    "import glob\n",
    "import re\n",
    "import os \n",
    "import sys\n",
    "import seaborn as sns\n",
    "from matplotlib import pyplot as plt\n",
    "\n",
    "# caution: path[0] is reserved for script path (or '' in REPL)\n",
    "sys.path.insert(1, '../../scripts/')\n",
    "import historical7\n",
    "from historical7 import prepro\n",
    "\n",
    "path = \"../../data/raw/historical_data/*.csv\"\n",
    "file_lst = []\n",
    "for fname in glob.glob(path):\n",
    "    file_lst.append(fname)\n"
   ]
  },
  {
   "cell_type": "markdown",
   "metadata": {},
   "source": [
    "The preprocessing function will loop each raw file and they will be saved as curated data respectively."
   ]
  },
  {
   "cell_type": "code",
   "execution_count": 108,
   "metadata": {},
   "outputs": [
    {
     "name": "stderr",
     "output_type": "stream",
     "text": [
      "../../scripts/historical6.py:16: UserWarning: Pandas doesn't allow columns to be created via a new attribute name - see https://pandas.pydata.org/pandas-docs/stable/indexing.html#attribute-access\n",
      "  df.dates = pd.to_datetime(df.historical_dates)\n",
      "../../scripts/price.py:22: SettingWithCopyWarning: \n",
      "A value is trying to be set on a copy of a slice from a DataFrame.\n",
      "Try using .loc[row_indexer,col_indexer] = value instead\n",
      "\n",
      "See the caveats in the documentation: https://pandas.pydata.org/pandas-docs/stable/user_guide/indexing.html#returning-a-view-versus-a-copy\n",
      "  df2['weekly_rent'] = df2['weekly_rent'].str.extract('(\\d+)').astype(int)\n"
     ]
    },
    {
     "name": "stdout",
     "output_type": "stream",
     "text": [
      "374\n"
     ]
    },
    {
     "name": "stderr",
     "output_type": "stream",
     "text": [
      "../../scripts/historical6.py:16: UserWarning: Pandas doesn't allow columns to be created via a new attribute name - see https://pandas.pydata.org/pandas-docs/stable/indexing.html#attribute-access\n",
      "  df.dates = pd.to_datetime(df.historical_dates)\n",
      "../../scripts/price.py:22: SettingWithCopyWarning: \n",
      "A value is trying to be set on a copy of a slice from a DataFrame.\n",
      "Try using .loc[row_indexer,col_indexer] = value instead\n",
      "\n",
      "See the caveats in the documentation: https://pandas.pydata.org/pandas-docs/stable/user_guide/indexing.html#returning-a-view-versus-a-copy\n",
      "  df2['weekly_rent'] = df2['weekly_rent'].str.extract('(\\d+)').astype(int)\n"
     ]
    },
    {
     "name": "stdout",
     "output_type": "stream",
     "text": [
      "203\n"
     ]
    },
    {
     "name": "stderr",
     "output_type": "stream",
     "text": [
      "../../scripts/historical6.py:16: UserWarning: Pandas doesn't allow columns to be created via a new attribute name - see https://pandas.pydata.org/pandas-docs/stable/indexing.html#attribute-access\n",
      "  df.dates = pd.to_datetime(df.historical_dates)\n",
      "../../scripts/price.py:22: SettingWithCopyWarning: \n",
      "A value is trying to be set on a copy of a slice from a DataFrame.\n",
      "Try using .loc[row_indexer,col_indexer] = value instead\n",
      "\n",
      "See the caveats in the documentation: https://pandas.pydata.org/pandas-docs/stable/user_guide/indexing.html#returning-a-view-versus-a-copy\n",
      "  df2['weekly_rent'] = df2['weekly_rent'].str.extract('(\\d+)').astype(int)\n"
     ]
    },
    {
     "name": "stdout",
     "output_type": "stream",
     "text": [
      "258\n"
     ]
    },
    {
     "name": "stderr",
     "output_type": "stream",
     "text": [
      "../../scripts/historical6.py:16: UserWarning: Pandas doesn't allow columns to be created via a new attribute name - see https://pandas.pydata.org/pandas-docs/stable/indexing.html#attribute-access\n",
      "  df.dates = pd.to_datetime(df.historical_dates)\n",
      "../../scripts/price.py:22: SettingWithCopyWarning: \n",
      "A value is trying to be set on a copy of a slice from a DataFrame.\n",
      "Try using .loc[row_indexer,col_indexer] = value instead\n",
      "\n",
      "See the caveats in the documentation: https://pandas.pydata.org/pandas-docs/stable/user_guide/indexing.html#returning-a-view-versus-a-copy\n",
      "  df2['weekly_rent'] = df2['weekly_rent'].str.extract('(\\d+)').astype(int)\n"
     ]
    },
    {
     "name": "stdout",
     "output_type": "stream",
     "text": [
      "448\n"
     ]
    },
    {
     "name": "stderr",
     "output_type": "stream",
     "text": [
      "../../scripts/historical6.py:16: UserWarning: Pandas doesn't allow columns to be created via a new attribute name - see https://pandas.pydata.org/pandas-docs/stable/indexing.html#attribute-access\n",
      "  df.dates = pd.to_datetime(df.historical_dates)\n",
      "../../scripts/price.py:22: SettingWithCopyWarning: \n",
      "A value is trying to be set on a copy of a slice from a DataFrame.\n",
      "Try using .loc[row_indexer,col_indexer] = value instead\n",
      "\n",
      "See the caveats in the documentation: https://pandas.pydata.org/pandas-docs/stable/user_guide/indexing.html#returning-a-view-versus-a-copy\n",
      "  df2['weekly_rent'] = df2['weekly_rent'].str.extract('(\\d+)').astype(int)\n"
     ]
    },
    {
     "name": "stdout",
     "output_type": "stream",
     "text": [
      "481\n"
     ]
    },
    {
     "name": "stderr",
     "output_type": "stream",
     "text": [
      "../../scripts/historical6.py:16: UserWarning: Pandas doesn't allow columns to be created via a new attribute name - see https://pandas.pydata.org/pandas-docs/stable/indexing.html#attribute-access\n",
      "  df.dates = pd.to_datetime(df.historical_dates)\n",
      "../../scripts/price.py:22: SettingWithCopyWarning: \n",
      "A value is trying to be set on a copy of a slice from a DataFrame.\n",
      "Try using .loc[row_indexer,col_indexer] = value instead\n",
      "\n",
      "See the caveats in the documentation: https://pandas.pydata.org/pandas-docs/stable/user_guide/indexing.html#returning-a-view-versus-a-copy\n",
      "  df2['weekly_rent'] = df2['weekly_rent'].str.extract('(\\d+)').astype(int)\n"
     ]
    },
    {
     "name": "stdout",
     "output_type": "stream",
     "text": [
      "384\n"
     ]
    },
    {
     "name": "stderr",
     "output_type": "stream",
     "text": [
      "../../scripts/historical6.py:16: UserWarning: Pandas doesn't allow columns to be created via a new attribute name - see https://pandas.pydata.org/pandas-docs/stable/indexing.html#attribute-access\n",
      "  df.dates = pd.to_datetime(df.historical_dates)\n",
      "../../scripts/price.py:22: SettingWithCopyWarning: \n",
      "A value is trying to be set on a copy of a slice from a DataFrame.\n",
      "Try using .loc[row_indexer,col_indexer] = value instead\n",
      "\n",
      "See the caveats in the documentation: https://pandas.pydata.org/pandas-docs/stable/user_guide/indexing.html#returning-a-view-versus-a-copy\n",
      "  df2['weekly_rent'] = df2['weekly_rent'].str.extract('(\\d+)').astype(int)\n"
     ]
    },
    {
     "name": "stdout",
     "output_type": "stream",
     "text": [
      "494\n"
     ]
    },
    {
     "name": "stderr",
     "output_type": "stream",
     "text": [
      "../../scripts/historical6.py:16: UserWarning: Pandas doesn't allow columns to be created via a new attribute name - see https://pandas.pydata.org/pandas-docs/stable/indexing.html#attribute-access\n",
      "  df.dates = pd.to_datetime(df.historical_dates)\n",
      "../../scripts/price.py:22: SettingWithCopyWarning: \n",
      "A value is trying to be set on a copy of a slice from a DataFrame.\n",
      "Try using .loc[row_indexer,col_indexer] = value instead\n",
      "\n",
      "See the caveats in the documentation: https://pandas.pydata.org/pandas-docs/stable/user_guide/indexing.html#returning-a-view-versus-a-copy\n",
      "  df2['weekly_rent'] = df2['weekly_rent'].str.extract('(\\d+)').astype(int)\n",
      "../../scripts/historical6.py:16: UserWarning: Pandas doesn't allow columns to be created via a new attribute name - see https://pandas.pydata.org/pandas-docs/stable/indexing.html#attribute-access\n",
      "  df.dates = pd.to_datetime(df.historical_dates)\n"
     ]
    },
    {
     "name": "stdout",
     "output_type": "stream",
     "text": [
      "339\n"
     ]
    },
    {
     "name": "stderr",
     "output_type": "stream",
     "text": [
      "../../scripts/price.py:22: SettingWithCopyWarning: \n",
      "A value is trying to be set on a copy of a slice from a DataFrame.\n",
      "Try using .loc[row_indexer,col_indexer] = value instead\n",
      "\n",
      "See the caveats in the documentation: https://pandas.pydata.org/pandas-docs/stable/user_guide/indexing.html#returning-a-view-versus-a-copy\n",
      "  df2['weekly_rent'] = df2['weekly_rent'].str.extract('(\\d+)').astype(int)\n",
      "../../scripts/historical6.py:16: UserWarning: Pandas doesn't allow columns to be created via a new attribute name - see https://pandas.pydata.org/pandas-docs/stable/indexing.html#attribute-access\n",
      "  df.dates = pd.to_datetime(df.historical_dates)\n"
     ]
    },
    {
     "name": "stdout",
     "output_type": "stream",
     "text": [
      "126\n"
     ]
    },
    {
     "name": "stderr",
     "output_type": "stream",
     "text": [
      "../../scripts/price.py:22: SettingWithCopyWarning: \n",
      "A value is trying to be set on a copy of a slice from a DataFrame.\n",
      "Try using .loc[row_indexer,col_indexer] = value instead\n",
      "\n",
      "See the caveats in the documentation: https://pandas.pydata.org/pandas-docs/stable/user_guide/indexing.html#returning-a-view-versus-a-copy\n",
      "  df2['weekly_rent'] = df2['weekly_rent'].str.extract('(\\d+)').astype(int)\n",
      "../../scripts/historical6.py:16: UserWarning: Pandas doesn't allow columns to be created via a new attribute name - see https://pandas.pydata.org/pandas-docs/stable/indexing.html#attribute-access\n",
      "  df.dates = pd.to_datetime(df.historical_dates)\n"
     ]
    },
    {
     "name": "stdout",
     "output_type": "stream",
     "text": [
      "252\n"
     ]
    },
    {
     "name": "stderr",
     "output_type": "stream",
     "text": [
      "../../scripts/price.py:22: SettingWithCopyWarning: \n",
      "A value is trying to be set on a copy of a slice from a DataFrame.\n",
      "Try using .loc[row_indexer,col_indexer] = value instead\n",
      "\n",
      "See the caveats in the documentation: https://pandas.pydata.org/pandas-docs/stable/user_guide/indexing.html#returning-a-view-versus-a-copy\n",
      "  df2['weekly_rent'] = df2['weekly_rent'].str.extract('(\\d+)').astype(int)\n"
     ]
    },
    {
     "name": "stdout",
     "output_type": "stream",
     "text": [
      "263\n"
     ]
    },
    {
     "name": "stderr",
     "output_type": "stream",
     "text": [
      "../../scripts/historical6.py:16: UserWarning: Pandas doesn't allow columns to be created via a new attribute name - see https://pandas.pydata.org/pandas-docs/stable/indexing.html#attribute-access\n",
      "  df.dates = pd.to_datetime(df.historical_dates)\n",
      "../../scripts/price.py:22: SettingWithCopyWarning: \n",
      "A value is trying to be set on a copy of a slice from a DataFrame.\n",
      "Try using .loc[row_indexer,col_indexer] = value instead\n",
      "\n",
      "See the caveats in the documentation: https://pandas.pydata.org/pandas-docs/stable/user_guide/indexing.html#returning-a-view-versus-a-copy\n",
      "  df2['weekly_rent'] = df2['weekly_rent'].str.extract('(\\d+)').astype(int)\n"
     ]
    },
    {
     "name": "stdout",
     "output_type": "stream",
     "text": [
      "210\n"
     ]
    },
    {
     "name": "stderr",
     "output_type": "stream",
     "text": [
      "../../scripts/historical6.py:16: UserWarning: Pandas doesn't allow columns to be created via a new attribute name - see https://pandas.pydata.org/pandas-docs/stable/indexing.html#attribute-access\n",
      "  df.dates = pd.to_datetime(df.historical_dates)\n",
      "../../scripts/price.py:22: SettingWithCopyWarning: \n",
      "A value is trying to be set on a copy of a slice from a DataFrame.\n",
      "Try using .loc[row_indexer,col_indexer] = value instead\n",
      "\n",
      "See the caveats in the documentation: https://pandas.pydata.org/pandas-docs/stable/user_guide/indexing.html#returning-a-view-versus-a-copy\n",
      "  df2['weekly_rent'] = df2['weekly_rent'].str.extract('(\\d+)').astype(int)\n"
     ]
    },
    {
     "name": "stdout",
     "output_type": "stream",
     "text": [
      "255\n"
     ]
    },
    {
     "name": "stderr",
     "output_type": "stream",
     "text": [
      "../../scripts/historical6.py:16: UserWarning: Pandas doesn't allow columns to be created via a new attribute name - see https://pandas.pydata.org/pandas-docs/stable/indexing.html#attribute-access\n",
      "  df.dates = pd.to_datetime(df.historical_dates)\n",
      "../../scripts/price.py:22: SettingWithCopyWarning: \n",
      "A value is trying to be set on a copy of a slice from a DataFrame.\n",
      "Try using .loc[row_indexer,col_indexer] = value instead\n",
      "\n",
      "See the caveats in the documentation: https://pandas.pydata.org/pandas-docs/stable/user_guide/indexing.html#returning-a-view-versus-a-copy\n",
      "  df2['weekly_rent'] = df2['weekly_rent'].str.extract('(\\d+)').astype(int)\n"
     ]
    },
    {
     "name": "stdout",
     "output_type": "stream",
     "text": [
      "375\n"
     ]
    },
    {
     "name": "stderr",
     "output_type": "stream",
     "text": [
      "../../scripts/historical6.py:16: UserWarning: Pandas doesn't allow columns to be created via a new attribute name - see https://pandas.pydata.org/pandas-docs/stable/indexing.html#attribute-access\n",
      "  df.dates = pd.to_datetime(df.historical_dates)\n",
      "../../scripts/price.py:22: SettingWithCopyWarning: \n",
      "A value is trying to be set on a copy of a slice from a DataFrame.\n",
      "Try using .loc[row_indexer,col_indexer] = value instead\n",
      "\n",
      "See the caveats in the documentation: https://pandas.pydata.org/pandas-docs/stable/user_guide/indexing.html#returning-a-view-versus-a-copy\n",
      "  df2['weekly_rent'] = df2['weekly_rent'].str.extract('(\\d+)').astype(int)\n",
      "../../scripts/historical6.py:16: UserWarning: Pandas doesn't allow columns to be created via a new attribute name - see https://pandas.pydata.org/pandas-docs/stable/indexing.html#attribute-access\n",
      "  df.dates = pd.to_datetime(df.historical_dates)\n"
     ]
    },
    {
     "name": "stdout",
     "output_type": "stream",
     "text": [
      "29\n"
     ]
    },
    {
     "name": "stderr",
     "output_type": "stream",
     "text": [
      "../../scripts/price.py:22: SettingWithCopyWarning: \n",
      "A value is trying to be set on a copy of a slice from a DataFrame.\n",
      "Try using .loc[row_indexer,col_indexer] = value instead\n",
      "\n",
      "See the caveats in the documentation: https://pandas.pydata.org/pandas-docs/stable/user_guide/indexing.html#returning-a-view-versus-a-copy\n",
      "  df2['weekly_rent'] = df2['weekly_rent'].str.extract('(\\d+)').astype(int)\n",
      "../../scripts/historical6.py:16: UserWarning: Pandas doesn't allow columns to be created via a new attribute name - see https://pandas.pydata.org/pandas-docs/stable/indexing.html#attribute-access\n",
      "  df.dates = pd.to_datetime(df.historical_dates)\n"
     ]
    },
    {
     "name": "stdout",
     "output_type": "stream",
     "text": [
      "160\n"
     ]
    },
    {
     "name": "stderr",
     "output_type": "stream",
     "text": [
      "../../scripts/price.py:22: SettingWithCopyWarning: \n",
      "A value is trying to be set on a copy of a slice from a DataFrame.\n",
      "Try using .loc[row_indexer,col_indexer] = value instead\n",
      "\n",
      "See the caveats in the documentation: https://pandas.pydata.org/pandas-docs/stable/user_guide/indexing.html#returning-a-view-versus-a-copy\n",
      "  df2['weekly_rent'] = df2['weekly_rent'].str.extract('(\\d+)').astype(int)\n",
      "../../scripts/historical6.py:16: UserWarning: Pandas doesn't allow columns to be created via a new attribute name - see https://pandas.pydata.org/pandas-docs/stable/indexing.html#attribute-access\n",
      "  df.dates = pd.to_datetime(df.historical_dates)\n"
     ]
    },
    {
     "name": "stdout",
     "output_type": "stream",
     "text": [
      "76\n"
     ]
    },
    {
     "name": "stderr",
     "output_type": "stream",
     "text": [
      "../../scripts/price.py:22: SettingWithCopyWarning: \n",
      "A value is trying to be set on a copy of a slice from a DataFrame.\n",
      "Try using .loc[row_indexer,col_indexer] = value instead\n",
      "\n",
      "See the caveats in the documentation: https://pandas.pydata.org/pandas-docs/stable/user_guide/indexing.html#returning-a-view-versus-a-copy\n",
      "  df2['weekly_rent'] = df2['weekly_rent'].str.extract('(\\d+)').astype(int)\n",
      "../../scripts/historical6.py:16: UserWarning: Pandas doesn't allow columns to be created via a new attribute name - see https://pandas.pydata.org/pandas-docs/stable/indexing.html#attribute-access\n",
      "  df.dates = pd.to_datetime(df.historical_dates)\n"
     ]
    },
    {
     "name": "stdout",
     "output_type": "stream",
     "text": [
      "210\n"
     ]
    },
    {
     "name": "stderr",
     "output_type": "stream",
     "text": [
      "../../scripts/price.py:22: SettingWithCopyWarning: \n",
      "A value is trying to be set on a copy of a slice from a DataFrame.\n",
      "Try using .loc[row_indexer,col_indexer] = value instead\n",
      "\n",
      "See the caveats in the documentation: https://pandas.pydata.org/pandas-docs/stable/user_guide/indexing.html#returning-a-view-versus-a-copy\n",
      "  df2['weekly_rent'] = df2['weekly_rent'].str.extract('(\\d+)').astype(int)\n",
      "../../scripts/historical6.py:16: UserWarning: Pandas doesn't allow columns to be created via a new attribute name - see https://pandas.pydata.org/pandas-docs/stable/indexing.html#attribute-access\n",
      "  df.dates = pd.to_datetime(df.historical_dates)\n"
     ]
    },
    {
     "name": "stdout",
     "output_type": "stream",
     "text": [
      "271\n"
     ]
    },
    {
     "name": "stderr",
     "output_type": "stream",
     "text": [
      "../../scripts/price.py:22: SettingWithCopyWarning: \n",
      "A value is trying to be set on a copy of a slice from a DataFrame.\n",
      "Try using .loc[row_indexer,col_indexer] = value instead\n",
      "\n",
      "See the caveats in the documentation: https://pandas.pydata.org/pandas-docs/stable/user_guide/indexing.html#returning-a-view-versus-a-copy\n",
      "  df2['weekly_rent'] = df2['weekly_rent'].str.extract('(\\d+)').astype(int)\n"
     ]
    },
    {
     "name": "stdout",
     "output_type": "stream",
     "text": [
      "433\n"
     ]
    },
    {
     "name": "stderr",
     "output_type": "stream",
     "text": [
      "../../scripts/historical6.py:16: UserWarning: Pandas doesn't allow columns to be created via a new attribute name - see https://pandas.pydata.org/pandas-docs/stable/indexing.html#attribute-access\n",
      "  df.dates = pd.to_datetime(df.historical_dates)\n",
      "../../scripts/price.py:22: SettingWithCopyWarning: \n",
      "A value is trying to be set on a copy of a slice from a DataFrame.\n",
      "Try using .loc[row_indexer,col_indexer] = value instead\n",
      "\n",
      "See the caveats in the documentation: https://pandas.pydata.org/pandas-docs/stable/user_guide/indexing.html#returning-a-view-versus-a-copy\n",
      "  df2['weekly_rent'] = df2['weekly_rent'].str.extract('(\\d+)').astype(int)\n"
     ]
    },
    {
     "name": "stdout",
     "output_type": "stream",
     "text": [
      "377\n"
     ]
    },
    {
     "name": "stderr",
     "output_type": "stream",
     "text": [
      "../../scripts/historical6.py:16: UserWarning: Pandas doesn't allow columns to be created via a new attribute name - see https://pandas.pydata.org/pandas-docs/stable/indexing.html#attribute-access\n",
      "  df.dates = pd.to_datetime(df.historical_dates)\n",
      "../../scripts/price.py:22: SettingWithCopyWarning: \n",
      "A value is trying to be set on a copy of a slice from a DataFrame.\n",
      "Try using .loc[row_indexer,col_indexer] = value instead\n",
      "\n",
      "See the caveats in the documentation: https://pandas.pydata.org/pandas-docs/stable/user_guide/indexing.html#returning-a-view-versus-a-copy\n",
      "  df2['weekly_rent'] = df2['weekly_rent'].str.extract('(\\d+)').astype(int)\n"
     ]
    },
    {
     "name": "stdout",
     "output_type": "stream",
     "text": [
      "159\n"
     ]
    },
    {
     "name": "stderr",
     "output_type": "stream",
     "text": [
      "../../scripts/historical6.py:16: UserWarning: Pandas doesn't allow columns to be created via a new attribute name - see https://pandas.pydata.org/pandas-docs/stable/indexing.html#attribute-access\n",
      "  df.dates = pd.to_datetime(df.historical_dates)\n",
      "../../scripts/price.py:22: SettingWithCopyWarning: \n",
      "A value is trying to be set on a copy of a slice from a DataFrame.\n",
      "Try using .loc[row_indexer,col_indexer] = value instead\n",
      "\n",
      "See the caveats in the documentation: https://pandas.pydata.org/pandas-docs/stable/user_guide/indexing.html#returning-a-view-versus-a-copy\n",
      "  df2['weekly_rent'] = df2['weekly_rent'].str.extract('(\\d+)').astype(int)\n",
      "../../scripts/historical6.py:16: UserWarning: Pandas doesn't allow columns to be created via a new attribute name - see https://pandas.pydata.org/pandas-docs/stable/indexing.html#attribute-access\n",
      "  df.dates = pd.to_datetime(df.historical_dates)\n"
     ]
    },
    {
     "name": "stdout",
     "output_type": "stream",
     "text": [
      "336\n"
     ]
    },
    {
     "name": "stderr",
     "output_type": "stream",
     "text": [
      "../../scripts/price.py:22: SettingWithCopyWarning: \n",
      "A value is trying to be set on a copy of a slice from a DataFrame.\n",
      "Try using .loc[row_indexer,col_indexer] = value instead\n",
      "\n",
      "See the caveats in the documentation: https://pandas.pydata.org/pandas-docs/stable/user_guide/indexing.html#returning-a-view-versus-a-copy\n",
      "  df2['weekly_rent'] = df2['weekly_rent'].str.extract('(\\d+)').astype(int)\n"
     ]
    },
    {
     "name": "stdout",
     "output_type": "stream",
     "text": [
      "353\n"
     ]
    },
    {
     "name": "stderr",
     "output_type": "stream",
     "text": [
      "../../scripts/historical6.py:16: UserWarning: Pandas doesn't allow columns to be created via a new attribute name - see https://pandas.pydata.org/pandas-docs/stable/indexing.html#attribute-access\n",
      "  df.dates = pd.to_datetime(df.historical_dates)\n",
      "../../scripts/price.py:22: SettingWithCopyWarning: \n",
      "A value is trying to be set on a copy of a slice from a DataFrame.\n",
      "Try using .loc[row_indexer,col_indexer] = value instead\n",
      "\n",
      "See the caveats in the documentation: https://pandas.pydata.org/pandas-docs/stable/user_guide/indexing.html#returning-a-view-versus-a-copy\n",
      "  df2['weekly_rent'] = df2['weekly_rent'].str.extract('(\\d+)').astype(int)\n"
     ]
    },
    {
     "name": "stdout",
     "output_type": "stream",
     "text": [
      "402\n"
     ]
    },
    {
     "name": "stderr",
     "output_type": "stream",
     "text": [
      "../../scripts/historical6.py:16: UserWarning: Pandas doesn't allow columns to be created via a new attribute name - see https://pandas.pydata.org/pandas-docs/stable/indexing.html#attribute-access\n",
      "  df.dates = pd.to_datetime(df.historical_dates)\n",
      "../../scripts/price.py:22: SettingWithCopyWarning: \n",
      "A value is trying to be set on a copy of a slice from a DataFrame.\n",
      "Try using .loc[row_indexer,col_indexer] = value instead\n",
      "\n",
      "See the caveats in the documentation: https://pandas.pydata.org/pandas-docs/stable/user_guide/indexing.html#returning-a-view-versus-a-copy\n",
      "  df2['weekly_rent'] = df2['weekly_rent'].str.extract('(\\d+)').astype(int)\n"
     ]
    },
    {
     "name": "stdout",
     "output_type": "stream",
     "text": [
      "599\n"
     ]
    },
    {
     "name": "stderr",
     "output_type": "stream",
     "text": [
      "../../scripts/historical6.py:16: UserWarning: Pandas doesn't allow columns to be created via a new attribute name - see https://pandas.pydata.org/pandas-docs/stable/indexing.html#attribute-access\n",
      "  df.dates = pd.to_datetime(df.historical_dates)\n",
      "../../scripts/price.py:22: SettingWithCopyWarning: \n",
      "A value is trying to be set on a copy of a slice from a DataFrame.\n",
      "Try using .loc[row_indexer,col_indexer] = value instead\n",
      "\n",
      "See the caveats in the documentation: https://pandas.pydata.org/pandas-docs/stable/user_guide/indexing.html#returning-a-view-versus-a-copy\n",
      "  df2['weekly_rent'] = df2['weekly_rent'].str.extract('(\\d+)').astype(int)\n"
     ]
    },
    {
     "name": "stdout",
     "output_type": "stream",
     "text": [
      "177\n"
     ]
    },
    {
     "name": "stderr",
     "output_type": "stream",
     "text": [
      "../../scripts/historical6.py:16: UserWarning: Pandas doesn't allow columns to be created via a new attribute name - see https://pandas.pydata.org/pandas-docs/stable/indexing.html#attribute-access\n",
      "  df.dates = pd.to_datetime(df.historical_dates)\n",
      "../../scripts/price.py:22: SettingWithCopyWarning: \n",
      "A value is trying to be set on a copy of a slice from a DataFrame.\n",
      "Try using .loc[row_indexer,col_indexer] = value instead\n",
      "\n",
      "See the caveats in the documentation: https://pandas.pydata.org/pandas-docs/stable/user_guide/indexing.html#returning-a-view-versus-a-copy\n",
      "  df2['weekly_rent'] = df2['weekly_rent'].str.extract('(\\d+)').astype(int)\n"
     ]
    },
    {
     "name": "stdout",
     "output_type": "stream",
     "text": [
      "220\n"
     ]
    },
    {
     "name": "stderr",
     "output_type": "stream",
     "text": [
      "../../scripts/historical6.py:16: UserWarning: Pandas doesn't allow columns to be created via a new attribute name - see https://pandas.pydata.org/pandas-docs/stable/indexing.html#attribute-access\n",
      "  df.dates = pd.to_datetime(df.historical_dates)\n",
      "../../scripts/price.py:22: SettingWithCopyWarning: \n",
      "A value is trying to be set on a copy of a slice from a DataFrame.\n",
      "Try using .loc[row_indexer,col_indexer] = value instead\n",
      "\n",
      "See the caveats in the documentation: https://pandas.pydata.org/pandas-docs/stable/user_guide/indexing.html#returning-a-view-versus-a-copy\n",
      "  df2['weekly_rent'] = df2['weekly_rent'].str.extract('(\\d+)').astype(int)\n",
      "../../scripts/historical6.py:16: UserWarning: Pandas doesn't allow columns to be created via a new attribute name - see https://pandas.pydata.org/pandas-docs/stable/indexing.html#attribute-access\n",
      "  df.dates = pd.to_datetime(df.historical_dates)\n"
     ]
    },
    {
     "name": "stdout",
     "output_type": "stream",
     "text": [
      "258\n"
     ]
    },
    {
     "name": "stderr",
     "output_type": "stream",
     "text": [
      "../../scripts/price.py:22: SettingWithCopyWarning: \n",
      "A value is trying to be set on a copy of a slice from a DataFrame.\n",
      "Try using .loc[row_indexer,col_indexer] = value instead\n",
      "\n",
      "See the caveats in the documentation: https://pandas.pydata.org/pandas-docs/stable/user_guide/indexing.html#returning-a-view-versus-a-copy\n",
      "  df2['weekly_rent'] = df2['weekly_rent'].str.extract('(\\d+)').astype(int)\n",
      "../../scripts/historical6.py:16: UserWarning: Pandas doesn't allow columns to be created via a new attribute name - see https://pandas.pydata.org/pandas-docs/stable/indexing.html#attribute-access\n",
      "  df.dates = pd.to_datetime(df.historical_dates)\n"
     ]
    },
    {
     "name": "stdout",
     "output_type": "stream",
     "text": [
      "122\n"
     ]
    },
    {
     "name": "stderr",
     "output_type": "stream",
     "text": [
      "../../scripts/price.py:22: SettingWithCopyWarning: \n",
      "A value is trying to be set on a copy of a slice from a DataFrame.\n",
      "Try using .loc[row_indexer,col_indexer] = value instead\n",
      "\n",
      "See the caveats in the documentation: https://pandas.pydata.org/pandas-docs/stable/user_guide/indexing.html#returning-a-view-versus-a-copy\n",
      "  df2['weekly_rent'] = df2['weekly_rent'].str.extract('(\\d+)').astype(int)\n"
     ]
    },
    {
     "name": "stdout",
     "output_type": "stream",
     "text": [
      "478\n"
     ]
    },
    {
     "name": "stderr",
     "output_type": "stream",
     "text": [
      "../../scripts/historical6.py:16: UserWarning: Pandas doesn't allow columns to be created via a new attribute name - see https://pandas.pydata.org/pandas-docs/stable/indexing.html#attribute-access\n",
      "  df.dates = pd.to_datetime(df.historical_dates)\n",
      "../../scripts/price.py:22: SettingWithCopyWarning: \n",
      "A value is trying to be set on a copy of a slice from a DataFrame.\n",
      "Try using .loc[row_indexer,col_indexer] = value instead\n",
      "\n",
      "See the caveats in the documentation: https://pandas.pydata.org/pandas-docs/stable/user_guide/indexing.html#returning-a-view-versus-a-copy\n",
      "  df2['weekly_rent'] = df2['weekly_rent'].str.extract('(\\d+)').astype(int)\n",
      "../../scripts/historical6.py:16: UserWarning: Pandas doesn't allow columns to be created via a new attribute name - see https://pandas.pydata.org/pandas-docs/stable/indexing.html#attribute-access\n",
      "  df.dates = pd.to_datetime(df.historical_dates)\n"
     ]
    },
    {
     "name": "stdout",
     "output_type": "stream",
     "text": [
      "245\n"
     ]
    },
    {
     "name": "stderr",
     "output_type": "stream",
     "text": [
      "../../scripts/price.py:22: SettingWithCopyWarning: \n",
      "A value is trying to be set on a copy of a slice from a DataFrame.\n",
      "Try using .loc[row_indexer,col_indexer] = value instead\n",
      "\n",
      "See the caveats in the documentation: https://pandas.pydata.org/pandas-docs/stable/user_guide/indexing.html#returning-a-view-versus-a-copy\n",
      "  df2['weekly_rent'] = df2['weekly_rent'].str.extract('(\\d+)').astype(int)\n",
      "../../scripts/historical6.py:16: UserWarning: Pandas doesn't allow columns to be created via a new attribute name - see https://pandas.pydata.org/pandas-docs/stable/indexing.html#attribute-access\n",
      "  df.dates = pd.to_datetime(df.historical_dates)\n"
     ]
    },
    {
     "name": "stdout",
     "output_type": "stream",
     "text": [
      "314\n"
     ]
    },
    {
     "name": "stderr",
     "output_type": "stream",
     "text": [
      "../../scripts/price.py:22: SettingWithCopyWarning: \n",
      "A value is trying to be set on a copy of a slice from a DataFrame.\n",
      "Try using .loc[row_indexer,col_indexer] = value instead\n",
      "\n",
      "See the caveats in the documentation: https://pandas.pydata.org/pandas-docs/stable/user_guide/indexing.html#returning-a-view-versus-a-copy\n",
      "  df2['weekly_rent'] = df2['weekly_rent'].str.extract('(\\d+)').astype(int)\n",
      "../../scripts/historical6.py:16: UserWarning: Pandas doesn't allow columns to be created via a new attribute name - see https://pandas.pydata.org/pandas-docs/stable/indexing.html#attribute-access\n",
      "  df.dates = pd.to_datetime(df.historical_dates)\n"
     ]
    },
    {
     "name": "stdout",
     "output_type": "stream",
     "text": [
      "146\n"
     ]
    },
    {
     "name": "stderr",
     "output_type": "stream",
     "text": [
      "../../scripts/price.py:22: SettingWithCopyWarning: \n",
      "A value is trying to be set on a copy of a slice from a DataFrame.\n",
      "Try using .loc[row_indexer,col_indexer] = value instead\n",
      "\n",
      "See the caveats in the documentation: https://pandas.pydata.org/pandas-docs/stable/user_guide/indexing.html#returning-a-view-versus-a-copy\n",
      "  df2['weekly_rent'] = df2['weekly_rent'].str.extract('(\\d+)').astype(int)\n",
      "../../scripts/historical6.py:16: UserWarning: Pandas doesn't allow columns to be created via a new attribute name - see https://pandas.pydata.org/pandas-docs/stable/indexing.html#attribute-access\n",
      "  df.dates = pd.to_datetime(df.historical_dates)\n"
     ]
    },
    {
     "name": "stdout",
     "output_type": "stream",
     "text": [
      "285\n"
     ]
    },
    {
     "name": "stderr",
     "output_type": "stream",
     "text": [
      "../../scripts/price.py:22: SettingWithCopyWarning: \n",
      "A value is trying to be set on a copy of a slice from a DataFrame.\n",
      "Try using .loc[row_indexer,col_indexer] = value instead\n",
      "\n",
      "See the caveats in the documentation: https://pandas.pydata.org/pandas-docs/stable/user_guide/indexing.html#returning-a-view-versus-a-copy\n",
      "  df2['weekly_rent'] = df2['weekly_rent'].str.extract('(\\d+)').astype(int)\n",
      "../../scripts/historical6.py:16: UserWarning: Pandas doesn't allow columns to be created via a new attribute name - see https://pandas.pydata.org/pandas-docs/stable/indexing.html#attribute-access\n",
      "  df.dates = pd.to_datetime(df.historical_dates)\n"
     ]
    },
    {
     "name": "stdout",
     "output_type": "stream",
     "text": [
      "261\n"
     ]
    },
    {
     "name": "stderr",
     "output_type": "stream",
     "text": [
      "../../scripts/price.py:22: SettingWithCopyWarning: \n",
      "A value is trying to be set on a copy of a slice from a DataFrame.\n",
      "Try using .loc[row_indexer,col_indexer] = value instead\n",
      "\n",
      "See the caveats in the documentation: https://pandas.pydata.org/pandas-docs/stable/user_guide/indexing.html#returning-a-view-versus-a-copy\n",
      "  df2['weekly_rent'] = df2['weekly_rent'].str.extract('(\\d+)').astype(int)\n",
      "../../scripts/historical6.py:16: UserWarning: Pandas doesn't allow columns to be created via a new attribute name - see https://pandas.pydata.org/pandas-docs/stable/indexing.html#attribute-access\n",
      "  df.dates = pd.to_datetime(df.historical_dates)\n"
     ]
    },
    {
     "name": "stdout",
     "output_type": "stream",
     "text": [
      "226\n"
     ]
    },
    {
     "name": "stderr",
     "output_type": "stream",
     "text": [
      "../../scripts/price.py:22: SettingWithCopyWarning: \n",
      "A value is trying to be set on a copy of a slice from a DataFrame.\n",
      "Try using .loc[row_indexer,col_indexer] = value instead\n",
      "\n",
      "See the caveats in the documentation: https://pandas.pydata.org/pandas-docs/stable/user_guide/indexing.html#returning-a-view-versus-a-copy\n",
      "  df2['weekly_rent'] = df2['weekly_rent'].str.extract('(\\d+)').astype(int)\n"
     ]
    },
    {
     "name": "stdout",
     "output_type": "stream",
     "text": [
      "420\n"
     ]
    },
    {
     "name": "stderr",
     "output_type": "stream",
     "text": [
      "../../scripts/historical6.py:16: UserWarning: Pandas doesn't allow columns to be created via a new attribute name - see https://pandas.pydata.org/pandas-docs/stable/indexing.html#attribute-access\n",
      "  df.dates = pd.to_datetime(df.historical_dates)\n",
      "../../scripts/price.py:22: SettingWithCopyWarning: \n",
      "A value is trying to be set on a copy of a slice from a DataFrame.\n",
      "Try using .loc[row_indexer,col_indexer] = value instead\n",
      "\n",
      "See the caveats in the documentation: https://pandas.pydata.org/pandas-docs/stable/user_guide/indexing.html#returning-a-view-versus-a-copy\n",
      "  df2['weekly_rent'] = df2['weekly_rent'].str.extract('(\\d+)').astype(int)\n"
     ]
    },
    {
     "name": "stdout",
     "output_type": "stream",
     "text": [
      "163\n"
     ]
    },
    {
     "name": "stderr",
     "output_type": "stream",
     "text": [
      "../../scripts/historical6.py:16: UserWarning: Pandas doesn't allow columns to be created via a new attribute name - see https://pandas.pydata.org/pandas-docs/stable/indexing.html#attribute-access\n",
      "  df.dates = pd.to_datetime(df.historical_dates)\n",
      "../../scripts/price.py:22: SettingWithCopyWarning: \n",
      "A value is trying to be set on a copy of a slice from a DataFrame.\n",
      "Try using .loc[row_indexer,col_indexer] = value instead\n",
      "\n",
      "See the caveats in the documentation: https://pandas.pydata.org/pandas-docs/stable/user_guide/indexing.html#returning-a-view-versus-a-copy\n",
      "  df2['weekly_rent'] = df2['weekly_rent'].str.extract('(\\d+)').astype(int)\n"
     ]
    },
    {
     "name": "stdout",
     "output_type": "stream",
     "text": [
      "129\n"
     ]
    },
    {
     "name": "stderr",
     "output_type": "stream",
     "text": [
      "../../scripts/historical6.py:16: UserWarning: Pandas doesn't allow columns to be created via a new attribute name - see https://pandas.pydata.org/pandas-docs/stable/indexing.html#attribute-access\n",
      "  df.dates = pd.to_datetime(df.historical_dates)\n",
      "../../scripts/price.py:22: SettingWithCopyWarning: \n",
      "A value is trying to be set on a copy of a slice from a DataFrame.\n",
      "Try using .loc[row_indexer,col_indexer] = value instead\n",
      "\n",
      "See the caveats in the documentation: https://pandas.pydata.org/pandas-docs/stable/user_guide/indexing.html#returning-a-view-versus-a-copy\n",
      "  df2['weekly_rent'] = df2['weekly_rent'].str.extract('(\\d+)').astype(int)\n"
     ]
    },
    {
     "name": "stdout",
     "output_type": "stream",
     "text": [
      "501\n"
     ]
    },
    {
     "name": "stderr",
     "output_type": "stream",
     "text": [
      "../../scripts/historical6.py:16: UserWarning: Pandas doesn't allow columns to be created via a new attribute name - see https://pandas.pydata.org/pandas-docs/stable/indexing.html#attribute-access\n",
      "  df.dates = pd.to_datetime(df.historical_dates)\n",
      "../../scripts/price.py:22: SettingWithCopyWarning: \n",
      "A value is trying to be set on a copy of a slice from a DataFrame.\n",
      "Try using .loc[row_indexer,col_indexer] = value instead\n",
      "\n",
      "See the caveats in the documentation: https://pandas.pydata.org/pandas-docs/stable/user_guide/indexing.html#returning-a-view-versus-a-copy\n",
      "  df2['weekly_rent'] = df2['weekly_rent'].str.extract('(\\d+)').astype(int)\n"
     ]
    },
    {
     "name": "stdout",
     "output_type": "stream",
     "text": [
      "142\n"
     ]
    },
    {
     "name": "stderr",
     "output_type": "stream",
     "text": [
      "../../scripts/historical6.py:16: UserWarning: Pandas doesn't allow columns to be created via a new attribute name - see https://pandas.pydata.org/pandas-docs/stable/indexing.html#attribute-access\n",
      "  df.dates = pd.to_datetime(df.historical_dates)\n",
      "../../scripts/price.py:22: SettingWithCopyWarning: \n",
      "A value is trying to be set on a copy of a slice from a DataFrame.\n",
      "Try using .loc[row_indexer,col_indexer] = value instead\n",
      "\n",
      "See the caveats in the documentation: https://pandas.pydata.org/pandas-docs/stable/user_guide/indexing.html#returning-a-view-versus-a-copy\n",
      "  df2['weekly_rent'] = df2['weekly_rent'].str.extract('(\\d+)').astype(int)\n"
     ]
    },
    {
     "name": "stdout",
     "output_type": "stream",
     "text": [
      "136\n"
     ]
    },
    {
     "name": "stderr",
     "output_type": "stream",
     "text": [
      "../../scripts/historical6.py:16: UserWarning: Pandas doesn't allow columns to be created via a new attribute name - see https://pandas.pydata.org/pandas-docs/stable/indexing.html#attribute-access\n",
      "  df.dates = pd.to_datetime(df.historical_dates)\n",
      "../../scripts/price.py:22: SettingWithCopyWarning: \n",
      "A value is trying to be set on a copy of a slice from a DataFrame.\n",
      "Try using .loc[row_indexer,col_indexer] = value instead\n",
      "\n",
      "See the caveats in the documentation: https://pandas.pydata.org/pandas-docs/stable/user_guide/indexing.html#returning-a-view-versus-a-copy\n",
      "  df2['weekly_rent'] = df2['weekly_rent'].str.extract('(\\d+)').astype(int)\n"
     ]
    },
    {
     "name": "stdout",
     "output_type": "stream",
     "text": [
      "277\n"
     ]
    },
    {
     "name": "stderr",
     "output_type": "stream",
     "text": [
      "../../scripts/historical6.py:16: UserWarning: Pandas doesn't allow columns to be created via a new attribute name - see https://pandas.pydata.org/pandas-docs/stable/indexing.html#attribute-access\n",
      "  df.dates = pd.to_datetime(df.historical_dates)\n",
      "../../scripts/price.py:22: SettingWithCopyWarning: \n",
      "A value is trying to be set on a copy of a slice from a DataFrame.\n",
      "Try using .loc[row_indexer,col_indexer] = value instead\n",
      "\n",
      "See the caveats in the documentation: https://pandas.pydata.org/pandas-docs/stable/user_guide/indexing.html#returning-a-view-versus-a-copy\n",
      "  df2['weekly_rent'] = df2['weekly_rent'].str.extract('(\\d+)').astype(int)\n"
     ]
    },
    {
     "name": "stdout",
     "output_type": "stream",
     "text": [
      "166\n"
     ]
    },
    {
     "name": "stderr",
     "output_type": "stream",
     "text": [
      "../../scripts/historical6.py:16: UserWarning: Pandas doesn't allow columns to be created via a new attribute name - see https://pandas.pydata.org/pandas-docs/stable/indexing.html#attribute-access\n",
      "  df.dates = pd.to_datetime(df.historical_dates)\n",
      "../../scripts/price.py:22: SettingWithCopyWarning: \n",
      "A value is trying to be set on a copy of a slice from a DataFrame.\n",
      "Try using .loc[row_indexer,col_indexer] = value instead\n",
      "\n",
      "See the caveats in the documentation: https://pandas.pydata.org/pandas-docs/stable/user_guide/indexing.html#returning-a-view-versus-a-copy\n",
      "  df2['weekly_rent'] = df2['weekly_rent'].str.extract('(\\d+)').astype(int)\n"
     ]
    },
    {
     "name": "stdout",
     "output_type": "stream",
     "text": [
      "468\n"
     ]
    },
    {
     "name": "stderr",
     "output_type": "stream",
     "text": [
      "../../scripts/historical6.py:16: UserWarning: Pandas doesn't allow columns to be created via a new attribute name - see https://pandas.pydata.org/pandas-docs/stable/indexing.html#attribute-access\n",
      "  df.dates = pd.to_datetime(df.historical_dates)\n",
      "../../scripts/price.py:22: SettingWithCopyWarning: \n",
      "A value is trying to be set on a copy of a slice from a DataFrame.\n",
      "Try using .loc[row_indexer,col_indexer] = value instead\n",
      "\n",
      "See the caveats in the documentation: https://pandas.pydata.org/pandas-docs/stable/user_guide/indexing.html#returning-a-view-versus-a-copy\n",
      "  df2['weekly_rent'] = df2['weekly_rent'].str.extract('(\\d+)').astype(int)\n"
     ]
    },
    {
     "name": "stdout",
     "output_type": "stream",
     "text": [
      "351\n"
     ]
    },
    {
     "name": "stderr",
     "output_type": "stream",
     "text": [
      "../../scripts/historical6.py:16: UserWarning: Pandas doesn't allow columns to be created via a new attribute name - see https://pandas.pydata.org/pandas-docs/stable/indexing.html#attribute-access\n",
      "  df.dates = pd.to_datetime(df.historical_dates)\n",
      "../../scripts/price.py:22: SettingWithCopyWarning: \n",
      "A value is trying to be set on a copy of a slice from a DataFrame.\n",
      "Try using .loc[row_indexer,col_indexer] = value instead\n",
      "\n",
      "See the caveats in the documentation: https://pandas.pydata.org/pandas-docs/stable/user_guide/indexing.html#returning-a-view-versus-a-copy\n",
      "  df2['weekly_rent'] = df2['weekly_rent'].str.extract('(\\d+)').astype(int)\n"
     ]
    },
    {
     "name": "stdout",
     "output_type": "stream",
     "text": [
      "346\n"
     ]
    },
    {
     "name": "stderr",
     "output_type": "stream",
     "text": [
      "../../scripts/historical6.py:16: UserWarning: Pandas doesn't allow columns to be created via a new attribute name - see https://pandas.pydata.org/pandas-docs/stable/indexing.html#attribute-access\n",
      "  df.dates = pd.to_datetime(df.historical_dates)\n",
      "../../scripts/price.py:22: SettingWithCopyWarning: \n",
      "A value is trying to be set on a copy of a slice from a DataFrame.\n",
      "Try using .loc[row_indexer,col_indexer] = value instead\n",
      "\n",
      "See the caveats in the documentation: https://pandas.pydata.org/pandas-docs/stable/user_guide/indexing.html#returning-a-view-versus-a-copy\n",
      "  df2['weekly_rent'] = df2['weekly_rent'].str.extract('(\\d+)').astype(int)\n"
     ]
    },
    {
     "name": "stdout",
     "output_type": "stream",
     "text": [
      "242\n"
     ]
    },
    {
     "name": "stderr",
     "output_type": "stream",
     "text": [
      "../../scripts/historical6.py:16: UserWarning: Pandas doesn't allow columns to be created via a new attribute name - see https://pandas.pydata.org/pandas-docs/stable/indexing.html#attribute-access\n",
      "  df.dates = pd.to_datetime(df.historical_dates)\n",
      "../../scripts/price.py:22: SettingWithCopyWarning: \n",
      "A value is trying to be set on a copy of a slice from a DataFrame.\n",
      "Try using .loc[row_indexer,col_indexer] = value instead\n",
      "\n",
      "See the caveats in the documentation: https://pandas.pydata.org/pandas-docs/stable/user_guide/indexing.html#returning-a-view-versus-a-copy\n",
      "  df2['weekly_rent'] = df2['weekly_rent'].str.extract('(\\d+)').astype(int)\n"
     ]
    },
    {
     "name": "stdout",
     "output_type": "stream",
     "text": [
      "323\n"
     ]
    },
    {
     "name": "stderr",
     "output_type": "stream",
     "text": [
      "../../scripts/historical6.py:16: UserWarning: Pandas doesn't allow columns to be created via a new attribute name - see https://pandas.pydata.org/pandas-docs/stable/indexing.html#attribute-access\n",
      "  df.dates = pd.to_datetime(df.historical_dates)\n",
      "../../scripts/price.py:22: SettingWithCopyWarning: \n",
      "A value is trying to be set on a copy of a slice from a DataFrame.\n",
      "Try using .loc[row_indexer,col_indexer] = value instead\n",
      "\n",
      "See the caveats in the documentation: https://pandas.pydata.org/pandas-docs/stable/user_guide/indexing.html#returning-a-view-versus-a-copy\n",
      "  df2['weekly_rent'] = df2['weekly_rent'].str.extract('(\\d+)').astype(int)\n"
     ]
    },
    {
     "name": "stdout",
     "output_type": "stream",
     "text": [
      "467\n"
     ]
    },
    {
     "name": "stderr",
     "output_type": "stream",
     "text": [
      "../../scripts/historical6.py:16: UserWarning: Pandas doesn't allow columns to be created via a new attribute name - see https://pandas.pydata.org/pandas-docs/stable/indexing.html#attribute-access\n",
      "  df.dates = pd.to_datetime(df.historical_dates)\n",
      "../../scripts/price.py:22: SettingWithCopyWarning: \n",
      "A value is trying to be set on a copy of a slice from a DataFrame.\n",
      "Try using .loc[row_indexer,col_indexer] = value instead\n",
      "\n",
      "See the caveats in the documentation: https://pandas.pydata.org/pandas-docs/stable/user_guide/indexing.html#returning-a-view-versus-a-copy\n",
      "  df2['weekly_rent'] = df2['weekly_rent'].str.extract('(\\d+)').astype(int)\n"
     ]
    },
    {
     "name": "stdout",
     "output_type": "stream",
     "text": [
      "227\n"
     ]
    },
    {
     "name": "stderr",
     "output_type": "stream",
     "text": [
      "../../scripts/historical6.py:16: UserWarning: Pandas doesn't allow columns to be created via a new attribute name - see https://pandas.pydata.org/pandas-docs/stable/indexing.html#attribute-access\n",
      "  df.dates = pd.to_datetime(df.historical_dates)\n",
      "../../scripts/price.py:22: SettingWithCopyWarning: \n",
      "A value is trying to be set on a copy of a slice from a DataFrame.\n",
      "Try using .loc[row_indexer,col_indexer] = value instead\n",
      "\n",
      "See the caveats in the documentation: https://pandas.pydata.org/pandas-docs/stable/user_guide/indexing.html#returning-a-view-versus-a-copy\n",
      "  df2['weekly_rent'] = df2['weekly_rent'].str.extract('(\\d+)').astype(int)\n"
     ]
    },
    {
     "name": "stdout",
     "output_type": "stream",
     "text": [
      "375\n"
     ]
    },
    {
     "name": "stderr",
     "output_type": "stream",
     "text": [
      "../../scripts/historical6.py:16: UserWarning: Pandas doesn't allow columns to be created via a new attribute name - see https://pandas.pydata.org/pandas-docs/stable/indexing.html#attribute-access\n",
      "  df.dates = pd.to_datetime(df.historical_dates)\n"
     ]
    },
    {
     "name": "stdout",
     "output_type": "stream",
     "text": [
      "202\n"
     ]
    },
    {
     "name": "stderr",
     "output_type": "stream",
     "text": [
      "../../scripts/price.py:22: SettingWithCopyWarning: \n",
      "A value is trying to be set on a copy of a slice from a DataFrame.\n",
      "Try using .loc[row_indexer,col_indexer] = value instead\n",
      "\n",
      "See the caveats in the documentation: https://pandas.pydata.org/pandas-docs/stable/user_guide/indexing.html#returning-a-view-versus-a-copy\n",
      "  df2['weekly_rent'] = df2['weekly_rent'].str.extract('(\\d+)').astype(int)\n"
     ]
    }
   ],
   "source": [
    "for file in file_lst:\n",
    "    prepro(file, 'historical')"
   ]
  },
  {
   "cell_type": "code",
   "execution_count": 110,
   "metadata": {},
   "outputs": [],
   "source": [
    "newpath = r'../../data/curated/property_all' \n",
    "if not os.path.exists(newpath):\n",
    "    os.makedirs(newpath)"
   ]
  },
  {
   "cell_type": "markdown",
   "metadata": {},
   "source": [
    "After looping and preprocess through all historical data, we concatenate them into one dataframe and save them seperately base on year. "
   ]
  },
  {
   "cell_type": "code",
   "execution_count": 111,
   "metadata": {},
   "outputs": [],
   "source": [
    "curated_path = \"../../data/curated/historical/*.csv\"\n",
    "file_lst2 = []\n",
    "for fname in glob.glob(curated_path):\n",
    "    file_lst2.append(fname)\n",
    "\n",
    "# combine all files in the list\n",
    "combined_csv = pd.concat([pd.read_csv(f) for f in file_lst2 ])\n",
    "# run the following code if you want to generate a whole historical dataset. around 57MB. Thus, will not keep that in git for now.\n",
    "# export to csv\n",
    "# combined_csv.to_csv( \"../../data/curated/historical/combined_historical.csv\", index=False, encoding='utf-8-sig') "
   ]
  },
  {
   "cell_type": "code",
   "execution_count": 112,
   "metadata": {},
   "outputs": [],
   "source": [
    "api_df = pd.read_csv(\"../../data/curated/API_re_clean.csv\")"
   ]
  },
  {
   "cell_type": "code",
   "execution_count": 113,
   "metadata": {},
   "outputs": [
    {
     "name": "stdout",
     "output_type": "stream",
     "text": [
      "In total, we have 354518 instances, where 14694 were from domain API and 339824 were from oldlistings.com\n"
     ]
    }
   ],
   "source": [
    "COLS = ['address', 'latitude', 'longitude', 'nbed', 'nbath',\n",
    "       'ncar', 'price', 'type', 'historical_dates', 'postcode', 'year',\n",
    "       'month', 'suburb', 'weekly_rent']\n",
    "combined_csv = combined_csv[COLS]\n",
    "api_df = api_df[COLS]\n",
    "concat_df = pd.concat([combined_csv, api_df])\n",
    "concat_df = pd.concat([combined_csv, api_df])\n",
    "print(f'In total, we have {len(concat_df)} instances, where {len(api_df)} were from domain API and {len(combined_csv)} were from oldlistings.com')"
   ]
  },
  {
   "cell_type": "code",
   "execution_count": 114,
   "metadata": {},
   "outputs": [],
   "source": [
    "for file in file_lst2:\n",
    "    os.remove(file)"
   ]
  },
  {
   "cell_type": "code",
   "execution_count": 115,
   "metadata": {},
   "outputs": [],
   "source": [
    "# os.remove(\"../../data/curated/historical/combined_historical.csv\")"
   ]
  },
  {
   "cell_type": "markdown",
   "metadata": {},
   "source": [
    "### only include residential properties"
   ]
  },
  {
   "cell_type": "code",
   "execution_count": 116,
   "metadata": {},
   "outputs": [
    {
     "data": {
      "text/html": [
       "<div>\n",
       "<style scoped>\n",
       "    .dataframe tbody tr th:only-of-type {\n",
       "        vertical-align: middle;\n",
       "    }\n",
       "\n",
       "    .dataframe tbody tr th {\n",
       "        vertical-align: top;\n",
       "    }\n",
       "\n",
       "    .dataframe thead th {\n",
       "        text-align: right;\n",
       "    }\n",
       "</style>\n",
       "<table border=\"1\" class=\"dataframe\">\n",
       "  <thead>\n",
       "    <tr style=\"text-align: right;\">\n",
       "      <th></th>\n",
       "      <th>type</th>\n",
       "      <th>averaged_wk_rent</th>\n",
       "      <th>num</th>\n",
       "    </tr>\n",
       "  </thead>\n",
       "  <tbody>\n",
       "    <tr>\n",
       "      <th>0</th>\n",
       "      <td>- House</td>\n",
       "      <td>240.000000</td>\n",
       "      <td>1</td>\n",
       "    </tr>\n",
       "    <tr>\n",
       "      <th>1</th>\n",
       "      <td>2 Storey Unit</td>\n",
       "      <td>455.000000</td>\n",
       "      <td>1</td>\n",
       "    </tr>\n",
       "    <tr>\n",
       "      <th>2</th>\n",
       "      <td>Acreage</td>\n",
       "      <td>391.730769</td>\n",
       "      <td>52</td>\n",
       "    </tr>\n",
       "    <tr>\n",
       "      <th>3</th>\n",
       "      <td>Acreage Semi Rural</td>\n",
       "      <td>342.857143</td>\n",
       "      <td>7</td>\n",
       "    </tr>\n",
       "    <tr>\n",
       "      <th>4</th>\n",
       "      <td>Acreage Semi-rural</td>\n",
       "      <td>372.727273</td>\n",
       "      <td>11</td>\n",
       "    </tr>\n",
       "    <tr>\n",
       "      <th>...</th>\n",
       "      <td>...</td>\n",
       "      <td>...</td>\n",
       "      <td>...</td>\n",
       "    </tr>\n",
       "    <tr>\n",
       "      <th>69</th>\n",
       "      <td>Vacantland</td>\n",
       "      <td>353.333333</td>\n",
       "      <td>3</td>\n",
       "    </tr>\n",
       "    <tr>\n",
       "      <th>70</th>\n",
       "      <td>Villa</td>\n",
       "      <td>471.162896</td>\n",
       "      <td>442</td>\n",
       "    </tr>\n",
       "    <tr>\n",
       "      <th>71</th>\n",
       "      <td>Villa, House</td>\n",
       "      <td>365.000000</td>\n",
       "      <td>1</td>\n",
       "    </tr>\n",
       "    <tr>\n",
       "      <th>72</th>\n",
       "      <td>Villa, Unit, House</td>\n",
       "      <td>460.000000</td>\n",
       "      <td>1</td>\n",
       "    </tr>\n",
       "    <tr>\n",
       "      <th>73</th>\n",
       "      <td>none</td>\n",
       "      <td>467.574392</td>\n",
       "      <td>65262</td>\n",
       "    </tr>\n",
       "  </tbody>\n",
       "</table>\n",
       "<p>74 rows × 3 columns</p>\n",
       "</div>"
      ],
      "text/plain": [
       "                  type  averaged_wk_rent    num\n",
       "0              - House        240.000000      1\n",
       "1        2 Storey Unit        455.000000      1\n",
       "2              Acreage        391.730769     52\n",
       "3   Acreage Semi Rural        342.857143      7\n",
       "4   Acreage Semi-rural        372.727273     11\n",
       "..                 ...               ...    ...\n",
       "69          Vacantland        353.333333      3\n",
       "70               Villa        471.162896    442\n",
       "71        Villa, House        365.000000      1\n",
       "72  Villa, Unit, House        460.000000      1\n",
       "73                none        467.574392  65262\n",
       "\n",
       "[74 rows x 3 columns]"
      ]
     },
     "execution_count": 116,
     "metadata": {},
     "output_type": "execute_result"
    }
   ],
   "source": [
    "type_df = combined_csv[['type', 'year','weekly_rent','postcode']]\\\n",
    "        .groupby(['type'],as_index = False) \\\n",
    "        .agg(\n",
    "            {\\\n",
    "                'weekly_rent': 'mean', # count number of instances from sample\n",
    "                'postcode': 'count'\n",
    "            }\n",
    "        ) \\\n",
    "        .rename({'postcode': 'num','weekly_rent': 'averaged_wk_rent' }, axis=1)\n",
    "\n",
    "type_df"
   ]
  },
  {
   "cell_type": "code",
   "execution_count": 117,
   "metadata": {},
   "outputs": [
    {
     "data": {
      "text/plain": [
       "['- House',\n",
       " '2 Storey Unit',\n",
       " 'Acreage',\n",
       " 'Acreage Semi Rural',\n",
       " 'Acreage Semi-rural',\n",
       " 'Acreage/semi Rural',\n",
       " 'Acreage/semi-rural',\n",
       " 'Acreagesemi-rural',\n",
       " 'Alpine',\n",
       " 'Apartment',\n",
       " 'Available',\n",
       " 'Available Date',\n",
       " 'Available Now',\n",
       " 'Block Of Units',\n",
       " 'Block Units',\n",
       " 'Building',\n",
       " 'Commercial',\n",
       " 'Cottage',\n",
       " 'Development',\n",
       " 'Duplex',\n",
       " 'Duplex Or Semi',\n",
       " 'Duplex/semi Detach',\n",
       " 'Duplexsemi',\n",
       " 'Duplexsemi-detached',\n",
       " 'Farm',\n",
       " 'Flat',\n",
       " 'Flat, Block Of Units',\n",
       " 'Holiday',\n",
       " 'Holiday, Rural',\n",
       " 'Home Unit',\n",
       " 'Hotel/leisure',\n",
       " 'House',\n",
       " 'House-on-acreage',\n",
       " 'Houseland',\n",
       " 'Houses',\n",
       " 'Industrial/warehouse',\n",
       " 'Land',\n",
       " 'Land, House',\n",
       " 'Lifestyle',\n",
       " 'Lifestyle With House',\n",
       " 'Medical/consulting',\n",
       " 'Offices',\n",
       " 'Other',\n",
       " 'Rental',\n",
       " 'Rental Property',\n",
       " 'Rental_residential',\n",
       " 'Residential',\n",
       " 'Residential Home',\n",
       " 'Residential House',\n",
       " 'Residential Lease',\n",
       " 'Residential Rentals',\n",
       " 'Rural',\n",
       " 'Rural / Farm',\n",
       " 'Rural/farm',\n",
       " 'Rural/farm/acreage',\n",
       " 'Semi',\n",
       " 'Semi Detached',\n",
       " 'Semi-detached',\n",
       " 'Semi-detached/duplex',\n",
       " 'Semi-detatched',\n",
       " 'Semi-duplex',\n",
       " 'Semi-rural',\n",
       " 'Small Acreage',\n",
       " 'Studio',\n",
       " 'Swanpool',\n",
       " 'Terrace',\n",
       " 'Townhouse',\n",
       " 'Unit',\n",
       " 'Unit/apmt',\n",
       " 'Vacantland',\n",
       " 'Villa',\n",
       " 'Villa, House',\n",
       " 'Villa, Unit, House',\n",
       " 'none']"
      ]
     },
     "execution_count": 117,
     "metadata": {},
     "output_type": "execute_result"
    }
   ],
   "source": [
    "list(type_df.type)"
   ]
  },
  {
   "cell_type": "code",
   "execution_count": 118,
   "metadata": {},
   "outputs": [],
   "source": [
    "house_lst = [\n",
    "    '- House',\n",
    "    'Cottage',\n",
    "    'Duplex',\n",
    "    'Duplex Or Semi',\n",
    "    'Duplex/semi Detach',\n",
    "    'Duplexsemi',\n",
    "    'Duplexsemi-detached',\n",
    "    'House',\n",
    "    'Houses',\n",
    "    'Residential House',\n",
    "    'Semi',\n",
    "    'Semi Detached',\n",
    "    'Semi-detached',\n",
    "    'Semi-detached/duplex',\n",
    "    'Semi-detatched',\n",
    "    'Semi-duplex',\n",
    "    'Townhouse',\n",
    "    'Villa',\n",
    "    'Villa, House',\n",
    "    'Villa, Unit, House',\n",
    "    ]"
   ]
  },
  {
   "cell_type": "code",
   "execution_count": 119,
   "metadata": {},
   "outputs": [],
   "source": [
    "apt_lst = [\n",
    " '2 Storey Unit',\n",
    " 'Apartment',\n",
    " 'Block Of Units',\n",
    " 'Block Units',\n",
    "  'Flat',\n",
    " 'Flat, Block Of Units',\n",
    " 'Home Unit',\n",
    " 'Studio',\n",
    " 'Unit',\n",
    "]"
   ]
  },
  {
   "cell_type": "code",
   "execution_count": 120,
   "metadata": {},
   "outputs": [],
   "source": [
    "other_residential_lst = [\n",
    " 'Available',\n",
    " 'Available Now',\n",
    " 'Rental',\n",
    " 'Rental Property',\n",
    " 'Rental_residential',\n",
    " 'Residential',\n",
    " 'Residential Home',\n",
    " 'Residential House',\n",
    " 'Residential Lease',\n",
    " 'Residential Rentals',\n",
    " 'none']"
   ]
  },
  {
   "cell_type": "code",
   "execution_count": 121,
   "metadata": {},
   "outputs": [
    {
     "data": {
      "text/plain": [
       "['- House',\n",
       " 'Cottage',\n",
       " 'Duplex',\n",
       " 'Duplex Or Semi',\n",
       " 'Duplex/semi Detach',\n",
       " 'Duplexsemi',\n",
       " 'Duplexsemi-detached',\n",
       " 'House',\n",
       " 'Houses',\n",
       " 'Residential House',\n",
       " 'Semi',\n",
       " 'Semi Detached',\n",
       " 'Semi-detached',\n",
       " 'Semi-detached/duplex',\n",
       " 'Semi-detatched',\n",
       " 'Semi-duplex',\n",
       " 'Townhouse',\n",
       " 'Villa',\n",
       " 'Villa, House',\n",
       " 'Villa, Unit, House',\n",
       " '2 Storey Unit',\n",
       " 'Apartment',\n",
       " 'Block Of Units',\n",
       " 'Block Units',\n",
       " 'Flat',\n",
       " 'Flat, Block Of Units',\n",
       " 'Home Unit',\n",
       " 'Studio',\n",
       " 'Unit',\n",
       " 'Available',\n",
       " 'Available Now',\n",
       " 'Rental',\n",
       " 'Rental Property',\n",
       " 'Rental_residential',\n",
       " 'Residential',\n",
       " 'Residential Home',\n",
       " 'Residential House',\n",
       " 'Residential Lease',\n",
       " 'Residential Rentals',\n",
       " 'none']"
      ]
     },
     "execution_count": 121,
     "metadata": {},
     "output_type": "execute_result"
    }
   ],
   "source": [
    "all_lst = house_lst + apt_lst + other_residential_lst\n",
    "all_lst"
   ]
  },
  {
   "cell_type": "code",
   "execution_count": 122,
   "metadata": {},
   "outputs": [
    {
     "data": {
      "text/plain": [
       "0                    House\n",
       "1                    House\n",
       "2        Residential Lease\n",
       "3        Residential Lease\n",
       "4        Residential Lease\n",
       "               ...        \n",
       "14689                 Rent\n",
       "14690                 Rent\n",
       "14691                 Rent\n",
       "14692                 Rent\n",
       "14693                 Rent\n",
       "Name: type, Length: 354518, dtype: object"
      ]
     },
     "execution_count": 122,
     "metadata": {},
     "output_type": "execute_result"
    }
   ],
   "source": [
    "concat_df.type"
   ]
  },
  {
   "cell_type": "code",
   "execution_count": 123,
   "metadata": {},
   "outputs": [
    {
     "name": "stdout",
     "output_type": "stream",
     "text": [
      "72166 instances were dropped as they were not residential rental properties, 282352 instances were left.\n"
     ]
    }
   ],
   "source": [
    "residential_df = concat_df[concat_df['type'].isin(all_lst)]\n",
    "print(f'{len(concat_df)-len(residential_df)} instances were dropped as they were not residential rental properties, {len(residential_df)} instances were left.')"
   ]
  },
  {
   "cell_type": "code",
   "execution_count": 124,
   "metadata": {},
   "outputs": [
    {
     "name": "stderr",
     "output_type": "stream",
     "text": [
      "<ipython-input-124-ca841eeed4fd>:9: SettingWithCopyWarning: \n",
      "A value is trying to be set on a copy of a slice from a DataFrame.\n",
      "Try using .loc[row_indexer,col_indexer] = value instead\n",
      "\n",
      "See the caveats in the documentation: https://pandas.pydata.org/pandas-docs/stable/user_guide/indexing.html#returning-a-view-versus-a-copy\n",
      "  residential_df['residence_type'] = np.select(conditions, values)\n"
     ]
    },
    {
     "data": {
      "text/html": [
       "<div>\n",
       "<style scoped>\n",
       "    .dataframe tbody tr th:only-of-type {\n",
       "        vertical-align: middle;\n",
       "    }\n",
       "\n",
       "    .dataframe tbody tr th {\n",
       "        vertical-align: top;\n",
       "    }\n",
       "\n",
       "    .dataframe thead th {\n",
       "        text-align: right;\n",
       "    }\n",
       "</style>\n",
       "<table border=\"1\" class=\"dataframe\">\n",
       "  <thead>\n",
       "    <tr style=\"text-align: right;\">\n",
       "      <th></th>\n",
       "      <th>address</th>\n",
       "      <th>latitude</th>\n",
       "      <th>longitude</th>\n",
       "      <th>nbed</th>\n",
       "      <th>nbath</th>\n",
       "      <th>ncar</th>\n",
       "      <th>price</th>\n",
       "      <th>type</th>\n",
       "      <th>historical_dates</th>\n",
       "      <th>postcode</th>\n",
       "      <th>year</th>\n",
       "      <th>month</th>\n",
       "      <th>suburb</th>\n",
       "      <th>weekly_rent</th>\n",
       "      <th>residence_type</th>\n",
       "    </tr>\n",
       "  </thead>\n",
       "  <tbody>\n",
       "    <tr>\n",
       "      <th>0</th>\n",
       "      <td>231 MAIN ROAD, CHEWTON</td>\n",
       "      <td>-37.080966</td>\n",
       "      <td>144.265555</td>\n",
       "      <td>2.0</td>\n",
       "      <td>1.0</td>\n",
       "      <td>3</td>\n",
       "      <td>$380_per_week</td>\n",
       "      <td>House</td>\n",
       "      <td>March 2022</td>\n",
       "      <td>3451</td>\n",
       "      <td>2022</td>\n",
       "      <td>3</td>\n",
       "      <td>CHEWTON</td>\n",
       "      <td>380</td>\n",
       "      <td>House</td>\n",
       "    </tr>\n",
       "    <tr>\n",
       "      <th>1</th>\n",
       "      <td>231 MAIN ROAD, CHEWTON</td>\n",
       "      <td>-37.080966</td>\n",
       "      <td>144.265555</td>\n",
       "      <td>2.0</td>\n",
       "      <td>1.0</td>\n",
       "      <td>3</td>\n",
       "      <td>$380_per_week</td>\n",
       "      <td>House</td>\n",
       "      <td>February 2022</td>\n",
       "      <td>3451</td>\n",
       "      <td>2022</td>\n",
       "      <td>2</td>\n",
       "      <td>CHEWTON</td>\n",
       "      <td>380</td>\n",
       "      <td>House</td>\n",
       "    </tr>\n",
       "    <tr>\n",
       "      <th>2</th>\n",
       "      <td>108 ADELAIDE STREET, CHEWTON</td>\n",
       "      <td>-37.093186</td>\n",
       "      <td>144.254132</td>\n",
       "      <td>2.0</td>\n",
       "      <td>1.0</td>\n",
       "      <td>2</td>\n",
       "      <td>$340_per_week</td>\n",
       "      <td>Residential Lease</td>\n",
       "      <td>November 2021</td>\n",
       "      <td>3451</td>\n",
       "      <td>2021</td>\n",
       "      <td>11</td>\n",
       "      <td>CHEWTON</td>\n",
       "      <td>340</td>\n",
       "      <td>Other</td>\n",
       "    </tr>\n",
       "    <tr>\n",
       "      <th>3</th>\n",
       "      <td>108 ADELAIDE STREET, CHEWTON</td>\n",
       "      <td>-37.093186</td>\n",
       "      <td>144.254132</td>\n",
       "      <td>2.0</td>\n",
       "      <td>1.0</td>\n",
       "      <td>2</td>\n",
       "      <td>$330_pw</td>\n",
       "      <td>Residential Lease</td>\n",
       "      <td>June 2020</td>\n",
       "      <td>3451</td>\n",
       "      <td>2020</td>\n",
       "      <td>6</td>\n",
       "      <td>CHEWTON</td>\n",
       "      <td>330</td>\n",
       "      <td>Other</td>\n",
       "    </tr>\n",
       "    <tr>\n",
       "      <th>4</th>\n",
       "      <td>108 ADELAIDE STREET, CHEWTON</td>\n",
       "      <td>-37.093186</td>\n",
       "      <td>144.254132</td>\n",
       "      <td>2.0</td>\n",
       "      <td>1.0</td>\n",
       "      <td>2</td>\n",
       "      <td>$250_pw</td>\n",
       "      <td>Residential Lease</td>\n",
       "      <td>October 2010</td>\n",
       "      <td>3451</td>\n",
       "      <td>2010</td>\n",
       "      <td>10</td>\n",
       "      <td>CHEWTON</td>\n",
       "      <td>250</td>\n",
       "      <td>Other</td>\n",
       "    </tr>\n",
       "  </tbody>\n",
       "</table>\n",
       "</div>"
      ],
      "text/plain": [
       "                        address   latitude   longitude  nbed  nbath  ncar  \\\n",
       "0        231 MAIN ROAD, CHEWTON -37.080966  144.265555   2.0    1.0     3   \n",
       "1        231 MAIN ROAD, CHEWTON -37.080966  144.265555   2.0    1.0     3   \n",
       "2  108 ADELAIDE STREET, CHEWTON -37.093186  144.254132   2.0    1.0     2   \n",
       "3  108 ADELAIDE STREET, CHEWTON -37.093186  144.254132   2.0    1.0     2   \n",
       "4  108 ADELAIDE STREET, CHEWTON -37.093186  144.254132   2.0    1.0     2   \n",
       "\n",
       "           price               type historical_dates  postcode  year  month  \\\n",
       "0  $380_per_week              House       March 2022      3451  2022      3   \n",
       "1  $380_per_week              House    February 2022      3451  2022      2   \n",
       "2  $340_per_week  Residential Lease    November 2021      3451  2021     11   \n",
       "3        $330_pw  Residential Lease        June 2020      3451  2020      6   \n",
       "4        $250_pw  Residential Lease     October 2010      3451  2010     10   \n",
       "\n",
       "    suburb  weekly_rent residence_type  \n",
       "0  CHEWTON          380          House  \n",
       "1  CHEWTON          380          House  \n",
       "2  CHEWTON          340          Other  \n",
       "3  CHEWTON          330          Other  \n",
       "4  CHEWTON          250          Other  "
      ]
     },
     "execution_count": 124,
     "metadata": {},
     "output_type": "execute_result"
    }
   ],
   "source": [
    "import numpy as np\n",
    "#df = residential_df\n",
    "conditions = [\n",
    "    (residential_df['type'].isin(house_lst)),\n",
    "    (residential_df['type'].isin(apt_lst)),\n",
    "    (residential_df['type'].isin(other_residential_lst)),\n",
    "    ]\n",
    "values = ['House', 'Apartment', 'Other']\n",
    "residential_df['residence_type'] = np.select(conditions, values)\n",
    "residential_df.head()"
   ]
  },
  {
   "cell_type": "code",
   "execution_count": 125,
   "metadata": {},
   "outputs": [],
   "source": [
    "YEARS = []\n",
    "for i in range(2006,2023):\n",
    "    YEARS.append(i)\n",
    "YEARS\n",
    "for year in YEARS:\n",
    "    df = residential_df[residential_df.year == year]\n",
    "    df.to_csv(f'../../data/curated/property_all/{year}_historical_clean.csv')"
   ]
  },
  {
   "cell_type": "markdown",
   "metadata": {},
   "source": [
    "#### further visual checking after only keeping rental residential properties"
   ]
  },
  {
   "cell_type": "code",
   "execution_count": 126,
   "metadata": {},
   "outputs": [],
   "source": [
    "import pandas as pd\n",
    "import glob\n",
    "import seaborn as sns\n",
    "import numpy as np"
   ]
  },
  {
   "cell_type": "code",
   "execution_count": 127,
   "metadata": {},
   "outputs": [],
   "source": [
    "curated_path = \"../../data/curated/property_all/*.csv\"\n",
    "file_lst2 = []\n",
    "for fname in glob.glob(curated_path):\n",
    "    file_lst2.append(fname)\n",
    "\n",
    "# combine all files in the list\n",
    "residential_df = pd.concat([pd.read_csv(f) for f in file_lst2 ])"
   ]
  },
  {
   "cell_type": "code",
   "execution_count": 128,
   "metadata": {},
   "outputs": [
    {
     "data": {
      "text/html": [
       "<div>\n",
       "<style scoped>\n",
       "    .dataframe tbody tr th:only-of-type {\n",
       "        vertical-align: middle;\n",
       "    }\n",
       "\n",
       "    .dataframe tbody tr th {\n",
       "        vertical-align: top;\n",
       "    }\n",
       "\n",
       "    .dataframe thead th {\n",
       "        text-align: right;\n",
       "    }\n",
       "</style>\n",
       "<table border=\"1\" class=\"dataframe\">\n",
       "  <thead>\n",
       "    <tr style=\"text-align: right;\">\n",
       "      <th></th>\n",
       "      <th>residence_type</th>\n",
       "      <th>averaged_wk_rent</th>\n",
       "      <th>num</th>\n",
       "    </tr>\n",
       "  </thead>\n",
       "  <tbody>\n",
       "    <tr>\n",
       "      <th>0</th>\n",
       "      <td>Apartment</td>\n",
       "      <td>384.902496</td>\n",
       "      <td>11220</td>\n",
       "    </tr>\n",
       "    <tr>\n",
       "      <th>1</th>\n",
       "      <td>House</td>\n",
       "      <td>486.828051</td>\n",
       "      <td>147404</td>\n",
       "    </tr>\n",
       "    <tr>\n",
       "      <th>2</th>\n",
       "      <td>Other</td>\n",
       "      <td>471.272477</td>\n",
       "      <td>123728</td>\n",
       "    </tr>\n",
       "  </tbody>\n",
       "</table>\n",
       "</div>"
      ],
      "text/plain": [
       "  residence_type  averaged_wk_rent     num\n",
       "0      Apartment        384.902496   11220\n",
       "1          House        486.828051  147404\n",
       "2          Other        471.272477  123728"
      ]
     },
     "execution_count": 128,
     "metadata": {},
     "output_type": "execute_result"
    }
   ],
   "source": [
    "type_df2 = residential_df[['residence_type', 'year','weekly_rent','postcode']]\\\n",
    "        .groupby(['residence_type'],as_index = False) \\\n",
    "        .agg(\n",
    "            {\\\n",
    "                'weekly_rent': 'mean', # count number of instances from sample\n",
    "                'postcode': 'count'\n",
    "            }\n",
    "        ) \\\n",
    "        .rename({'postcode': 'num','weekly_rent': 'averaged_wk_rent' }, axis=1)\n",
    "\n",
    "type_df2"
   ]
  },
  {
   "cell_type": "code",
   "execution_count": 129,
   "metadata": {},
   "outputs": [
    {
     "data": {
      "image/png": "[encoded data removed]",
      "text/plain": [
       "<Figure size 432x288 with 1 Axes>"
      ]
     },
     "metadata": {
      "needs_background": "light"
     },
     "output_type": "display_data"
    }
   ],
   "source": [
    "#plt.figure(figsize=(15,15))\n",
    "ax = sns.barplot(\n",
    "    data=type_df2, x=\"num\", y=\"residence_type\",\n",
    ")"
   ]
  },
  {
   "cell_type": "markdown",
   "metadata": {},
   "source": [
    "### Further preprocessing after adding SA2 code\n",
    "After deciding the external features which will be used, we decided to use 2013-2022's property data as training and testing and validation dataset and make 5 year predictions for 2023-2027.\n",
    "\n",
    "Hence, we remove the outliers of 2013-2022's data"
   ]
  },
  {
   "cell_type": "code",
   "execution_count": 136,
   "metadata": {},
   "outputs": [],
   "source": [
    "path = \"../../data/curated/property_all/*.csv\"\n",
    "property_all_lst = []\n",
    "for fname in glob.glob(path):\n",
    "    property_all_lst.append(fname)\n"
   ]
  },
  {
   "cell_type": "code",
   "execution_count": 138,
   "metadata": {},
   "outputs": [
    {
     "data": {
      "text/plain": [
       "['../../data/curated/property_all/2013_historical_clean.csv',\n",
       " '../../data/curated/property_all/2014_historical_clean.csv',\n",
       " '../../data/curated/property_all/2015_historical_clean.csv',\n",
       " '../../data/curated/property_all/2016_historical_clean.csv',\n",
       " '../../data/curated/property_all/2017_historical_clean.csv',\n",
       " '../../data/curated/property_all/2018_historical_clean.csv',\n",
       " '../../data/curated/property_all/2019_historical_clean.csv',\n",
       " '../../data/curated/property_all/2020_historical_clean.csv',\n",
       " '../../data/curated/property_all/2021_historical_clean.csv',\n",
       " '../../data/curated/property_all/2022_historical_clean.csv']"
      ]
     },
     "execution_count": 138,
     "metadata": {},
     "output_type": "execute_result"
    }
   ],
   "source": [
    "file_list_2013_2022 = sorted(property_all_lst)[7::]\n",
    "file_list_2013_2022"
   ]
  },
  {
   "cell_type": "code",
   "execution_count": 139,
   "metadata": {},
   "outputs": [],
   "source": [
    "# combine all files in the list\n",
    "combined_2013_2022 = pd.concat([pd.read_csv(f) for f in file_list_2013_2022 ])"
   ]
  },
  {
   "cell_type": "code",
   "execution_count": 140,
   "metadata": {},
   "outputs": [
    {
     "data": {
      "image/png": "[encoded data removed]",
      "text/plain": [
       "<Figure size 432x288 with 1 Axes>"
      ]
     },
     "metadata": {
      "needs_background": "light"
     },
     "output_type": "display_data"
    }
   ],
   "source": [
    "ax = sns.boxplot(data=combined_2013_2022[['nbed','ncar','nbath']])"
   ]
  },
  {
   "cell_type": "code",
   "execution_count": 141,
   "metadata": {},
   "outputs": [
    {
     "data": {
      "text/html": [
       "<div>\n",
       "<style scoped>\n",
       "    .dataframe tbody tr th:only-of-type {\n",
       "        vertical-align: middle;\n",
       "    }\n",
       "\n",
       "    .dataframe tbody tr th {\n",
       "        vertical-align: top;\n",
       "    }\n",
       "\n",
       "    .dataframe thead th {\n",
       "        text-align: right;\n",
       "    }\n",
       "</style>\n",
       "<table border=\"1\" class=\"dataframe\">\n",
       "  <thead>\n",
       "    <tr style=\"text-align: right;\">\n",
       "      <th></th>\n",
       "      <th>Unnamed: 0</th>\n",
       "      <th>address</th>\n",
       "      <th>latitude</th>\n",
       "      <th>longitude</th>\n",
       "      <th>nbed</th>\n",
       "      <th>nbath</th>\n",
       "      <th>ncar</th>\n",
       "      <th>price</th>\n",
       "      <th>type</th>\n",
       "      <th>historical_dates</th>\n",
       "      <th>postcode</th>\n",
       "      <th>year</th>\n",
       "      <th>month</th>\n",
       "      <th>suburb</th>\n",
       "      <th>weekly_rent</th>\n",
       "      <th>residence_type</th>\n",
       "    </tr>\n",
       "  </thead>\n",
       "  <tbody>\n",
       "    <tr>\n",
       "      <th>4541</th>\n",
       "      <td>10730</td>\n",
       "      <td>15 GARRETY ROAD, CAROLINE SPRINGS</td>\n",
       "      <td>-37.731142</td>\n",
       "      <td>144.746371</td>\n",
       "      <td>6.0</td>\n",
       "      <td>6.0</td>\n",
       "      <td>2</td>\n",
       "      <td>$650_Weekly</td>\n",
       "      <td>House</td>\n",
       "      <td>October 2015</td>\n",
       "      <td>3023</td>\n",
       "      <td>2015</td>\n",
       "      <td>10</td>\n",
       "      <td>SPRINGS</td>\n",
       "      <td>650</td>\n",
       "      <td>House</td>\n",
       "    </tr>\n",
       "    <tr>\n",
       "      <th>5897</th>\n",
       "      <td>10728</td>\n",
       "      <td>15 GARRETY ROAD, CAROLINE SPRINGS</td>\n",
       "      <td>-37.731142</td>\n",
       "      <td>144.746371</td>\n",
       "      <td>6.0</td>\n",
       "      <td>6.0</td>\n",
       "      <td>2</td>\n",
       "      <td>$600_per_week</td>\n",
       "      <td>House</td>\n",
       "      <td>July 2017</td>\n",
       "      <td>3023</td>\n",
       "      <td>2017</td>\n",
       "      <td>7</td>\n",
       "      <td>SPRINGS</td>\n",
       "      <td>600</td>\n",
       "      <td>House</td>\n",
       "    </tr>\n",
       "    <tr>\n",
       "      <th>5898</th>\n",
       "      <td>10729</td>\n",
       "      <td>15 GARRETY ROAD, CAROLINE SPRINGS</td>\n",
       "      <td>-37.731142</td>\n",
       "      <td>144.746371</td>\n",
       "      <td>6.0</td>\n",
       "      <td>6.0</td>\n",
       "      <td>2</td>\n",
       "      <td>$650_per_week</td>\n",
       "      <td>House</td>\n",
       "      <td>April 2017</td>\n",
       "      <td>3023</td>\n",
       "      <td>2017</td>\n",
       "      <td>4</td>\n",
       "      <td>SPRINGS</td>\n",
       "      <td>650</td>\n",
       "      <td>House</td>\n",
       "    </tr>\n",
       "    <tr>\n",
       "      <th>12827</th>\n",
       "      <td>111</td>\n",
       "      <td>966 DAYLESFORD TRENTHAM ROAD, BULLARTO</td>\n",
       "      <td>-37.394639</td>\n",
       "      <td>144.225358</td>\n",
       "      <td>6.0</td>\n",
       "      <td>6.0</td>\n",
       "      <td>8</td>\n",
       "      <td>$700_per_week</td>\n",
       "      <td>House</td>\n",
       "      <td>May 2017</td>\n",
       "      <td>3461</td>\n",
       "      <td>2017</td>\n",
       "      <td>5</td>\n",
       "      <td>BULLARTO</td>\n",
       "      <td>700</td>\n",
       "      <td>House</td>\n",
       "    </tr>\n",
       "    <tr>\n",
       "      <th>13772</th>\n",
       "      <td>2316</td>\n",
       "      <td>120 WATERY GULLY ROAD, KANGAROO GROUND</td>\n",
       "      <td>-37.670440</td>\n",
       "      <td>145.208372</td>\n",
       "      <td>6.0</td>\n",
       "      <td>7.0</td>\n",
       "      <td>3</td>\n",
       "      <td>$1750_pw</td>\n",
       "      <td>House</td>\n",
       "      <td>March 2017</td>\n",
       "      <td>3097</td>\n",
       "      <td>2017</td>\n",
       "      <td>3</td>\n",
       "      <td>GROUND</td>\n",
       "      <td>1750</td>\n",
       "      <td>House</td>\n",
       "    </tr>\n",
       "    <tr>\n",
       "      <th>13675</th>\n",
       "      <td>3483</td>\n",
       "      <td>79 POOLEYS ROAD, INDIGO VALLEY</td>\n",
       "      <td>-36.132127</td>\n",
       "      <td>146.715808</td>\n",
       "      <td>6.0</td>\n",
       "      <td>6.0</td>\n",
       "      <td>2</td>\n",
       "      <td>$550_per_week</td>\n",
       "      <td>House</td>\n",
       "      <td>September 2019</td>\n",
       "      <td>3688</td>\n",
       "      <td>2019</td>\n",
       "      <td>9</td>\n",
       "      <td>VALLEY</td>\n",
       "      <td>550</td>\n",
       "      <td>House</td>\n",
       "    </tr>\n",
       "    <tr>\n",
       "      <th>8031</th>\n",
       "      <td>10727</td>\n",
       "      <td>15 GARRETY ROAD, CAROLINE SPRINGS</td>\n",
       "      <td>-37.731142</td>\n",
       "      <td>144.746371</td>\n",
       "      <td>6.0</td>\n",
       "      <td>6.0</td>\n",
       "      <td>2</td>\n",
       "      <td>$600_per_week</td>\n",
       "      <td>House</td>\n",
       "      <td>January 2020</td>\n",
       "      <td>3023</td>\n",
       "      <td>2020</td>\n",
       "      <td>1</td>\n",
       "      <td>SPRINGS</td>\n",
       "      <td>600</td>\n",
       "      <td>House</td>\n",
       "    </tr>\n",
       "    <tr>\n",
       "      <th>10202</th>\n",
       "      <td>10725</td>\n",
       "      <td>15 GARRETY ROAD, CAROLINE SPRINGS</td>\n",
       "      <td>-37.731142</td>\n",
       "      <td>144.746371</td>\n",
       "      <td>6.0</td>\n",
       "      <td>6.0</td>\n",
       "      <td>2</td>\n",
       "      <td>$550_per_week</td>\n",
       "      <td>House</td>\n",
       "      <td>July 2021</td>\n",
       "      <td>3023</td>\n",
       "      <td>2021</td>\n",
       "      <td>7</td>\n",
       "      <td>SPRINGS</td>\n",
       "      <td>550</td>\n",
       "      <td>House</td>\n",
       "    </tr>\n",
       "    <tr>\n",
       "      <th>10203</th>\n",
       "      <td>10726</td>\n",
       "      <td>15 GARRETY ROAD, CAROLINE SPRINGS</td>\n",
       "      <td>-37.731142</td>\n",
       "      <td>144.746371</td>\n",
       "      <td>6.0</td>\n",
       "      <td>6.0</td>\n",
       "      <td>2</td>\n",
       "      <td>$550_per_week</td>\n",
       "      <td>House</td>\n",
       "      <td>June 2021</td>\n",
       "      <td>3023</td>\n",
       "      <td>2021</td>\n",
       "      <td>6</td>\n",
       "      <td>SPRINGS</td>\n",
       "      <td>550</td>\n",
       "      <td>House</td>\n",
       "    </tr>\n",
       "    <tr>\n",
       "      <th>3850</th>\n",
       "      <td>2181</td>\n",
       "      <td>RM 6/6 CORRIGAN ST, BURWOOD</td>\n",
       "      <td>-37.854216</td>\n",
       "      <td>145.111499</td>\n",
       "      <td>8.0</td>\n",
       "      <td>6.0</td>\n",
       "      <td>4</td>\n",
       "      <td>$190</td>\n",
       "      <td>Rental_residential</td>\n",
       "      <td>August 2022</td>\n",
       "      <td>3125</td>\n",
       "      <td>2022</td>\n",
       "      <td>8</td>\n",
       "      <td>BURWOOD</td>\n",
       "      <td>190</td>\n",
       "      <td>Other</td>\n",
       "    </tr>\n",
       "    <tr>\n",
       "      <th>17732</th>\n",
       "      <td>1175</td>\n",
       "      <td>2/10 BLACK STREET, OAKLEIGH EAST</td>\n",
       "      <td>-37.912680</td>\n",
       "      <td>145.119540</td>\n",
       "      <td>6.0</td>\n",
       "      <td>6.0</td>\n",
       "      <td>2</td>\n",
       "      <td>$850_per_week</td>\n",
       "      <td>House</td>\n",
       "      <td>June 2022</td>\n",
       "      <td>3166</td>\n",
       "      <td>2022</td>\n",
       "      <td>6</td>\n",
       "      <td>EAST</td>\n",
       "      <td>850</td>\n",
       "      <td>House</td>\n",
       "    </tr>\n",
       "    <tr>\n",
       "      <th>17735</th>\n",
       "      <td>1179</td>\n",
       "      <td>2/10 BLACK ST, OAKLEIGH EAST</td>\n",
       "      <td>-37.912445</td>\n",
       "      <td>145.119795</td>\n",
       "      <td>6.0</td>\n",
       "      <td>6.0</td>\n",
       "      <td>2</td>\n",
       "      <td>$850_per_week</td>\n",
       "      <td>House</td>\n",
       "      <td>June 2022</td>\n",
       "      <td>3166</td>\n",
       "      <td>2022</td>\n",
       "      <td>6</td>\n",
       "      <td>EAST</td>\n",
       "      <td>850</td>\n",
       "      <td>House</td>\n",
       "    </tr>\n",
       "    <tr>\n",
       "      <th>25412</th>\n",
       "      <td>1828</td>\n",
       "      <td>46 CHAUCER CRESCENT, CANTERBURY</td>\n",
       "      <td>-37.824598</td>\n",
       "      <td>145.076118</td>\n",
       "      <td>5.0</td>\n",
       "      <td>7.0</td>\n",
       "      <td>5</td>\n",
       "      <td>$4000_per_week</td>\n",
       "      <td>Rental_residential</td>\n",
       "      <td>August 2022</td>\n",
       "      <td>3126</td>\n",
       "      <td>2022</td>\n",
       "      <td>8</td>\n",
       "      <td>CANTERBURY</td>\n",
       "      <td>4000</td>\n",
       "      <td>Other</td>\n",
       "    </tr>\n",
       "    <tr>\n",
       "      <th>27042</th>\n",
       "      <td>10724</td>\n",
       "      <td>15 GARRETY ROAD, CAROLINE SPRINGS</td>\n",
       "      <td>-37.731142</td>\n",
       "      <td>144.746371</td>\n",
       "      <td>6.0</td>\n",
       "      <td>6.0</td>\n",
       "      <td>2</td>\n",
       "      <td>$600_per_week</td>\n",
       "      <td>House</td>\n",
       "      <td>July 2022</td>\n",
       "      <td>3023</td>\n",
       "      <td>2022</td>\n",
       "      <td>7</td>\n",
       "      <td>SPRINGS</td>\n",
       "      <td>600</td>\n",
       "      <td>House</td>\n",
       "    </tr>\n",
       "    <tr>\n",
       "      <th>40603</th>\n",
       "      <td>2188</td>\n",
       "      <td>5 OAKS COURT, LYSTERFIELD SOUTH</td>\n",
       "      <td>-37.960606</td>\n",
       "      <td>145.284575</td>\n",
       "      <td>4.0</td>\n",
       "      <td>6.0</td>\n",
       "      <td>4</td>\n",
       "      <td>$1500</td>\n",
       "      <td>Rental_residential</td>\n",
       "      <td>August 2022</td>\n",
       "      <td>3156</td>\n",
       "      <td>2022</td>\n",
       "      <td>8</td>\n",
       "      <td>SOUTH</td>\n",
       "      <td>1500</td>\n",
       "      <td>Other</td>\n",
       "    </tr>\n",
       "    <tr>\n",
       "      <th>57274</th>\n",
       "      <td>2903</td>\n",
       "      <td>29 BOUNDARY ROAD, LILYDALE</td>\n",
       "      <td>-37.744760</td>\n",
       "      <td>145.407529</td>\n",
       "      <td>6.0</td>\n",
       "      <td>8.0</td>\n",
       "      <td>6</td>\n",
       "      <td>$950_pw</td>\n",
       "      <td>none</td>\n",
       "      <td>July 2022</td>\n",
       "      <td>3140</td>\n",
       "      <td>2022</td>\n",
       "      <td>7</td>\n",
       "      <td>LILYDALE</td>\n",
       "      <td>950</td>\n",
       "      <td>Other</td>\n",
       "    </tr>\n",
       "    <tr>\n",
       "      <th>57275</th>\n",
       "      <td>2904</td>\n",
       "      <td>29 BOUNDARY ROAD, LILYDALE</td>\n",
       "      <td>-37.744760</td>\n",
       "      <td>145.407529</td>\n",
       "      <td>6.0</td>\n",
       "      <td>8.0</td>\n",
       "      <td>6</td>\n",
       "      <td>$950_pw</td>\n",
       "      <td>none</td>\n",
       "      <td>June 2022</td>\n",
       "      <td>3140</td>\n",
       "      <td>2022</td>\n",
       "      <td>6</td>\n",
       "      <td>LILYDALE</td>\n",
       "      <td>950</td>\n",
       "      <td>Other</td>\n",
       "    </tr>\n",
       "    <tr>\n",
       "      <th>65937</th>\n",
       "      <td>3093</td>\n",
       "      <td>1 MOLESWORTH ST, KEW</td>\n",
       "      <td>-37.800309</td>\n",
       "      <td>145.020626</td>\n",
       "      <td>6.0</td>\n",
       "      <td>6.0</td>\n",
       "      <td>4</td>\n",
       "      <td>$4500_pw</td>\n",
       "      <td>none</td>\n",
       "      <td>August 2022</td>\n",
       "      <td>3101</td>\n",
       "      <td>2022</td>\n",
       "      <td>8</td>\n",
       "      <td>KEW</td>\n",
       "      <td>4500</td>\n",
       "      <td>Other</td>\n",
       "    </tr>\n",
       "    <tr>\n",
       "      <th>67319</th>\n",
       "      <td>1060</td>\n",
       "      <td>4511 FRANKSTON-FLINDERS ROAD, FLINDERS</td>\n",
       "      <td>-38.460390</td>\n",
       "      <td>145.021240</td>\n",
       "      <td>6.0</td>\n",
       "      <td>6.0</td>\n",
       "      <td>2</td>\n",
       "      <td>$4800_per_week</td>\n",
       "      <td>House</td>\n",
       "      <td>June 2022</td>\n",
       "      <td>3929</td>\n",
       "      <td>2022</td>\n",
       "      <td>6</td>\n",
       "      <td>FLINDERS</td>\n",
       "      <td>4800</td>\n",
       "      <td>House</td>\n",
       "    </tr>\n",
       "    <tr>\n",
       "      <th>67320</th>\n",
       "      <td>1061</td>\n",
       "      <td>4511 FRANKSTON-FLINDERS ROAD, FLINDERS</td>\n",
       "      <td>-38.460390</td>\n",
       "      <td>145.021240</td>\n",
       "      <td>6.0</td>\n",
       "      <td>6.0</td>\n",
       "      <td>2</td>\n",
       "      <td>$4800_per_week</td>\n",
       "      <td>House</td>\n",
       "      <td>May 2022</td>\n",
       "      <td>3929</td>\n",
       "      <td>2022</td>\n",
       "      <td>5</td>\n",
       "      <td>FLINDERS</td>\n",
       "      <td>4800</td>\n",
       "      <td>House</td>\n",
       "    </tr>\n",
       "  </tbody>\n",
       "</table>\n",
       "</div>"
      ],
      "text/plain": [
       "       Unnamed: 0                                 address   latitude  \\\n",
       "4541        10730       15 GARRETY ROAD, CAROLINE SPRINGS -37.731142   \n",
       "5897        10728       15 GARRETY ROAD, CAROLINE SPRINGS -37.731142   \n",
       "5898        10729       15 GARRETY ROAD, CAROLINE SPRINGS -37.731142   \n",
       "12827         111  966 DAYLESFORD TRENTHAM ROAD, BULLARTO -37.394639   \n",
       "13772        2316  120 WATERY GULLY ROAD, KANGAROO GROUND -37.670440   \n",
       "13675        3483          79 POOLEYS ROAD, INDIGO VALLEY -36.132127   \n",
       "8031        10727       15 GARRETY ROAD, CAROLINE SPRINGS -37.731142   \n",
       "10202       10725       15 GARRETY ROAD, CAROLINE SPRINGS -37.731142   \n",
       "10203       10726       15 GARRETY ROAD, CAROLINE SPRINGS -37.731142   \n",
       "3850         2181             RM 6/6 CORRIGAN ST, BURWOOD -37.854216   \n",
       "17732        1175        2/10 BLACK STREET, OAKLEIGH EAST -37.912680   \n",
       "17735        1179            2/10 BLACK ST, OAKLEIGH EAST -37.912445   \n",
       "25412        1828         46 CHAUCER CRESCENT, CANTERBURY -37.824598   \n",
       "27042       10724       15 GARRETY ROAD, CAROLINE SPRINGS -37.731142   \n",
       "40603        2188         5 OAKS COURT, LYSTERFIELD SOUTH -37.960606   \n",
       "57274        2903              29 BOUNDARY ROAD, LILYDALE -37.744760   \n",
       "57275        2904              29 BOUNDARY ROAD, LILYDALE -37.744760   \n",
       "65937        3093                    1 MOLESWORTH ST, KEW -37.800309   \n",
       "67319        1060  4511 FRANKSTON-FLINDERS ROAD, FLINDERS -38.460390   \n",
       "67320        1061  4511 FRANKSTON-FLINDERS ROAD, FLINDERS -38.460390   \n",
       "\n",
       "        longitude  nbed  nbath  ncar           price                type  \\\n",
       "4541   144.746371   6.0    6.0     2     $650_Weekly               House   \n",
       "5897   144.746371   6.0    6.0     2   $600_per_week               House   \n",
       "5898   144.746371   6.0    6.0     2   $650_per_week               House   \n",
       "12827  144.225358   6.0    6.0     8   $700_per_week               House   \n",
       "13772  145.208372   6.0    7.0     3        $1750_pw               House   \n",
       "13675  146.715808   6.0    6.0     2   $550_per_week               House   \n",
       "8031   144.746371   6.0    6.0     2   $600_per_week               House   \n",
       "10202  144.746371   6.0    6.0     2   $550_per_week               House   \n",
       "10203  144.746371   6.0    6.0     2   $550_per_week               House   \n",
       "3850   145.111499   8.0    6.0     4            $190  Rental_residential   \n",
       "17732  145.119540   6.0    6.0     2   $850_per_week               House   \n",
       "17735  145.119795   6.0    6.0     2   $850_per_week               House   \n",
       "25412  145.076118   5.0    7.0     5  $4000_per_week  Rental_residential   \n",
       "27042  144.746371   6.0    6.0     2   $600_per_week               House   \n",
       "40603  145.284575   4.0    6.0     4           $1500  Rental_residential   \n",
       "57274  145.407529   6.0    8.0     6         $950_pw                none   \n",
       "57275  145.407529   6.0    8.0     6         $950_pw                none   \n",
       "65937  145.020626   6.0    6.0     4        $4500_pw                none   \n",
       "67319  145.021240   6.0    6.0     2  $4800_per_week               House   \n",
       "67320  145.021240   6.0    6.0     2  $4800_per_week               House   \n",
       "\n",
       "      historical_dates  postcode  year  month      suburb  weekly_rent  \\\n",
       "4541      October 2015      3023  2015     10     SPRINGS          650   \n",
       "5897         July 2017      3023  2017      7     SPRINGS          600   \n",
       "5898        April 2017      3023  2017      4     SPRINGS          650   \n",
       "12827         May 2017      3461  2017      5    BULLARTO          700   \n",
       "13772       March 2017      3097  2017      3      GROUND         1750   \n",
       "13675   September 2019      3688  2019      9      VALLEY          550   \n",
       "8031      January 2020      3023  2020      1     SPRINGS          600   \n",
       "10202        July 2021      3023  2021      7     SPRINGS          550   \n",
       "10203        June 2021      3023  2021      6     SPRINGS          550   \n",
       "3850       August 2022      3125  2022      8     BURWOOD          190   \n",
       "17732        June 2022      3166  2022      6        EAST          850   \n",
       "17735        June 2022      3166  2022      6        EAST          850   \n",
       "25412      August 2022      3126  2022      8  CANTERBURY         4000   \n",
       "27042        July 2022      3023  2022      7     SPRINGS          600   \n",
       "40603      August 2022      3156  2022      8       SOUTH         1500   \n",
       "57274        July 2022      3140  2022      7    LILYDALE          950   \n",
       "57275        June 2022      3140  2022      6    LILYDALE          950   \n",
       "65937      August 2022      3101  2022      8         KEW         4500   \n",
       "67319        June 2022      3929  2022      6    FLINDERS         4800   \n",
       "67320         May 2022      3929  2022      5    FLINDERS         4800   \n",
       "\n",
       "      residence_type  \n",
       "4541           House  \n",
       "5897           House  \n",
       "5898           House  \n",
       "12827          House  \n",
       "13772          House  \n",
       "13675          House  \n",
       "8031           House  \n",
       "10202          House  \n",
       "10203          House  \n",
       "3850           Other  \n",
       "17732          House  \n",
       "17735          House  \n",
       "25412          Other  \n",
       "27042          House  \n",
       "40603          Other  \n",
       "57274          Other  \n",
       "57275          Other  \n",
       "65937          Other  \n",
       "67319          House  \n",
       "67320          House  "
      ]
     },
     "execution_count": 141,
     "metadata": {},
     "output_type": "execute_result"
    }
   ],
   "source": [
    "combined_2013_2022[combined_2013_2022.nbath > 5]\n",
    "# we can see from the below that the number of bedrroms are also large hence we assume there's no outliers for nbed and nbath"
   ]
  },
  {
   "cell_type": "markdown",
   "metadata": {},
   "source": [
    "### 2013"
   ]
  },
  {
   "cell_type": "code",
   "execution_count": 142,
   "metadata": {},
   "outputs": [],
   "source": [
    "df_2013 = combined_2013_2022[combined_2013_2022.year == 2013]"
   ]
  },
  {
   "cell_type": "code",
   "execution_count": 143,
   "metadata": {},
   "outputs": [],
   "source": [
    "COLS = ['address','type','weekly_rent','postcode','nbed','nbath','ncar','residence_type']"
   ]
  },
  {
   "cell_type": "code",
   "execution_count": 144,
   "metadata": {},
   "outputs": [
    {
     "data": {
      "text/html": [
       "<div>\n",
       "<style scoped>\n",
       "    .dataframe tbody tr th:only-of-type {\n",
       "        vertical-align: middle;\n",
       "    }\n",
       "\n",
       "    .dataframe tbody tr th {\n",
       "        vertical-align: top;\n",
       "    }\n",
       "\n",
       "    .dataframe thead th {\n",
       "        text-align: right;\n",
       "    }\n",
       "</style>\n",
       "<table border=\"1\" class=\"dataframe\">\n",
       "  <thead>\n",
       "    <tr style=\"text-align: right;\">\n",
       "      <th></th>\n",
       "      <th>address</th>\n",
       "      <th>type</th>\n",
       "      <th>weekly_rent</th>\n",
       "      <th>postcode</th>\n",
       "      <th>nbed</th>\n",
       "      <th>nbath</th>\n",
       "      <th>ncar</th>\n",
       "      <th>residence_type</th>\n",
       "    </tr>\n",
       "  </thead>\n",
       "  <tbody>\n",
       "    <tr>\n",
       "      <th>0</th>\n",
       "      <td>208 MAIN ROAD, CHEWTON</td>\n",
       "      <td>House</td>\n",
       "      <td>300</td>\n",
       "      <td>3451</td>\n",
       "      <td>3.0</td>\n",
       "      <td>1.0</td>\n",
       "      <td>2</td>\n",
       "      <td>House</td>\n",
       "    </tr>\n",
       "    <tr>\n",
       "      <th>1</th>\n",
       "      <td>171 MAIN ROAD, CHEWTON</td>\n",
       "      <td>House</td>\n",
       "      <td>330</td>\n",
       "      <td>3451</td>\n",
       "      <td>3.0</td>\n",
       "      <td>1.0</td>\n",
       "      <td>8</td>\n",
       "      <td>House</td>\n",
       "    </tr>\n",
       "    <tr>\n",
       "      <th>2</th>\n",
       "      <td>173 MAIN ROAD, CHEWTON</td>\n",
       "      <td>House</td>\n",
       "      <td>270</td>\n",
       "      <td>3451</td>\n",
       "      <td>2.0</td>\n",
       "      <td>1.0</td>\n",
       "      <td>0</td>\n",
       "      <td>House</td>\n",
       "    </tr>\n",
       "    <tr>\n",
       "      <th>3</th>\n",
       "      <td>173 MAIN ROAD, CHEWTON</td>\n",
       "      <td>House</td>\n",
       "      <td>270</td>\n",
       "      <td>3451</td>\n",
       "      <td>2.0</td>\n",
       "      <td>1.0</td>\n",
       "      <td>0</td>\n",
       "      <td>House</td>\n",
       "    </tr>\n",
       "    <tr>\n",
       "      <th>4</th>\n",
       "      <td>4 GEORGE STREET, CHEWTON</td>\n",
       "      <td>House</td>\n",
       "      <td>350</td>\n",
       "      <td>3451</td>\n",
       "      <td>3.0</td>\n",
       "      <td>1.0</td>\n",
       "      <td>2</td>\n",
       "      <td>House</td>\n",
       "    </tr>\n",
       "    <tr>\n",
       "      <th>...</th>\n",
       "      <td>...</td>\n",
       "      <td>...</td>\n",
       "      <td>...</td>\n",
       "      <td>...</td>\n",
       "      <td>...</td>\n",
       "      <td>...</td>\n",
       "      <td>...</td>\n",
       "      <td>...</td>\n",
       "    </tr>\n",
       "    <tr>\n",
       "      <th>11834</th>\n",
       "      <td>7 BENNETT STREET, YINNAR</td>\n",
       "      <td>House</td>\n",
       "      <td>340</td>\n",
       "      <td>3869</td>\n",
       "      <td>4.0</td>\n",
       "      <td>2.0</td>\n",
       "      <td>1</td>\n",
       "      <td>House</td>\n",
       "    </tr>\n",
       "    <tr>\n",
       "      <th>11835</th>\n",
       "      <td>7 BENNETT STREET, YINNAR</td>\n",
       "      <td>House</td>\n",
       "      <td>300</td>\n",
       "      <td>3869</td>\n",
       "      <td>4.0</td>\n",
       "      <td>2.0</td>\n",
       "      <td>1</td>\n",
       "      <td>House</td>\n",
       "    </tr>\n",
       "    <tr>\n",
       "      <th>11836</th>\n",
       "      <td>7 BENNETT STREET, YINNAR</td>\n",
       "      <td>House</td>\n",
       "      <td>340</td>\n",
       "      <td>3869</td>\n",
       "      <td>4.0</td>\n",
       "      <td>2.0</td>\n",
       "      <td>1</td>\n",
       "      <td>House</td>\n",
       "    </tr>\n",
       "    <tr>\n",
       "      <th>11837</th>\n",
       "      <td>7 BENNETT STREET, YINNAR</td>\n",
       "      <td>House</td>\n",
       "      <td>350</td>\n",
       "      <td>3869</td>\n",
       "      <td>4.0</td>\n",
       "      <td>2.0</td>\n",
       "      <td>1</td>\n",
       "      <td>House</td>\n",
       "    </tr>\n",
       "    <tr>\n",
       "      <th>11838</th>\n",
       "      <td>17 BENNETT STREET, YINNAR</td>\n",
       "      <td>none</td>\n",
       "      <td>180</td>\n",
       "      <td>3869</td>\n",
       "      <td>2.0</td>\n",
       "      <td>1.0</td>\n",
       "      <td>2</td>\n",
       "      <td>Other</td>\n",
       "    </tr>\n",
       "  </tbody>\n",
       "</table>\n",
       "<p>11839 rows × 8 columns</p>\n",
       "</div>"
      ],
      "text/plain": [
       "                         address   type  weekly_rent  postcode  nbed  nbath  \\\n",
       "0         208 MAIN ROAD, CHEWTON  House          300      3451   3.0    1.0   \n",
       "1         171 MAIN ROAD, CHEWTON  House          330      3451   3.0    1.0   \n",
       "2         173 MAIN ROAD, CHEWTON  House          270      3451   2.0    1.0   \n",
       "3         173 MAIN ROAD, CHEWTON  House          270      3451   2.0    1.0   \n",
       "4       4 GEORGE STREET, CHEWTON  House          350      3451   3.0    1.0   \n",
       "...                          ...    ...          ...       ...   ...    ...   \n",
       "11834   7 BENNETT STREET, YINNAR  House          340      3869   4.0    2.0   \n",
       "11835   7 BENNETT STREET, YINNAR  House          300      3869   4.0    2.0   \n",
       "11836   7 BENNETT STREET, YINNAR  House          340      3869   4.0    2.0   \n",
       "11837   7 BENNETT STREET, YINNAR  House          350      3869   4.0    2.0   \n",
       "11838  17 BENNETT STREET, YINNAR   none          180      3869   2.0    1.0   \n",
       "\n",
       "       ncar residence_type  \n",
       "0         2          House  \n",
       "1         8          House  \n",
       "2         0          House  \n",
       "3         0          House  \n",
       "4         2          House  \n",
       "...     ...            ...  \n",
       "11834     1          House  \n",
       "11835     1          House  \n",
       "11836     1          House  \n",
       "11837     1          House  \n",
       "11838     2          Other  \n",
       "\n",
       "[11839 rows x 8 columns]"
      ]
     },
     "execution_count": 144,
     "metadata": {},
     "output_type": "execute_result"
    }
   ],
   "source": [
    "df_2013 = df_2013[COLS]\n",
    "df_2013"
   ]
  },
  {
   "cell_type": "code",
   "execution_count": 145,
   "metadata": {},
   "outputs": [
    {
     "data": {
      "image/png": "[encoded data removed]",
      "text/plain": [
       "<Figure size 432x288 with 1 Axes>"
      ]
     },
     "metadata": {
      "needs_background": "light"
     },
     "output_type": "display_data"
    }
   ],
   "source": [
    "ax = sns.boxplot(data=df_2013[['weekly_rent']])"
   ]
  },
  {
   "cell_type": "code",
   "execution_count": 146,
   "metadata": {},
   "outputs": [
    {
     "data": {
      "text/html": [
       "<div>\n",
       "<style scoped>\n",
       "    .dataframe tbody tr th:only-of-type {\n",
       "        vertical-align: middle;\n",
       "    }\n",
       "\n",
       "    .dataframe tbody tr th {\n",
       "        vertical-align: top;\n",
       "    }\n",
       "\n",
       "    .dataframe thead th {\n",
       "        text-align: right;\n",
       "    }\n",
       "</style>\n",
       "<table border=\"1\" class=\"dataframe\">\n",
       "  <thead>\n",
       "    <tr style=\"text-align: right;\">\n",
       "      <th></th>\n",
       "      <th>address</th>\n",
       "      <th>type</th>\n",
       "      <th>weekly_rent</th>\n",
       "      <th>postcode</th>\n",
       "      <th>nbed</th>\n",
       "      <th>nbath</th>\n",
       "      <th>ncar</th>\n",
       "      <th>residence_type</th>\n",
       "    </tr>\n",
       "  </thead>\n",
       "  <tbody>\n",
       "    <tr>\n",
       "      <th>685</th>\n",
       "      <td>102/8 BLIGH PLACE, MELBOURNE</td>\n",
       "      <td>Available Now</td>\n",
       "      <td>4127</td>\n",
       "      <td>3000</td>\n",
       "      <td>2.0</td>\n",
       "      <td>2.0</td>\n",
       "      <td>2</td>\n",
       "      <td>Other</td>\n",
       "    </tr>\n",
       "    <tr>\n",
       "      <th>4252</th>\n",
       "      <td>4/57 ASLING STREET, BRIGHTON</td>\n",
       "      <td>none</td>\n",
       "      <td>4400</td>\n",
       "      <td>3186</td>\n",
       "      <td>2.0</td>\n",
       "      <td>1.0</td>\n",
       "      <td>1</td>\n",
       "      <td>Other</td>\n",
       "    </tr>\n",
       "    <tr>\n",
       "      <th>4812</th>\n",
       "      <td>15 RICHARD STREET, WILLIAMSTOWN</td>\n",
       "      <td>Available Now</td>\n",
       "      <td>3737</td>\n",
       "      <td>3016</td>\n",
       "      <td>3.0</td>\n",
       "      <td>2.0</td>\n",
       "      <td>1</td>\n",
       "      <td>Other</td>\n",
       "    </tr>\n",
       "    <tr>\n",
       "      <th>5146</th>\n",
       "      <td>37 MURRAY DRIVE, POINT LEO</td>\n",
       "      <td>none</td>\n",
       "      <td>3600</td>\n",
       "      <td>3916</td>\n",
       "      <td>3.0</td>\n",
       "      <td>2.0</td>\n",
       "      <td>2</td>\n",
       "      <td>Other</td>\n",
       "    </tr>\n",
       "    <tr>\n",
       "      <th>5147</th>\n",
       "      <td>37 MURRAY DRIVE, POINT LEO</td>\n",
       "      <td>none</td>\n",
       "      <td>3600</td>\n",
       "      <td>3916</td>\n",
       "      <td>3.0</td>\n",
       "      <td>2.0</td>\n",
       "      <td>2</td>\n",
       "      <td>Other</td>\n",
       "    </tr>\n",
       "    <tr>\n",
       "      <th>6718</th>\n",
       "      <td>2 DRAKE STREET, MORNINGTON</td>\n",
       "      <td>none</td>\n",
       "      <td>3120</td>\n",
       "      <td>3931</td>\n",
       "      <td>5.0</td>\n",
       "      <td>3.0</td>\n",
       "      <td>2</td>\n",
       "      <td>Other</td>\n",
       "    </tr>\n",
       "    <tr>\n",
       "      <th>6728</th>\n",
       "      <td>55 BELEURA HILL ROAD, MORNINGTON</td>\n",
       "      <td>House</td>\n",
       "      <td>6500</td>\n",
       "      <td>3931</td>\n",
       "      <td>4.0</td>\n",
       "      <td>4.0</td>\n",
       "      <td>2</td>\n",
       "      <td>House</td>\n",
       "    </tr>\n",
       "    <tr>\n",
       "      <th>7120</th>\n",
       "      <td>535 GREAT OCEAN ROAD, MOGGS CREEK</td>\n",
       "      <td>none</td>\n",
       "      <td>3200</td>\n",
       "      <td>3231</td>\n",
       "      <td>4.0</td>\n",
       "      <td>2.0</td>\n",
       "      <td>0</td>\n",
       "      <td>Other</td>\n",
       "    </tr>\n",
       "    <tr>\n",
       "      <th>8918</th>\n",
       "      <td>30 SHOREHAM ROAD, SHOREHAM</td>\n",
       "      <td>none</td>\n",
       "      <td>3600</td>\n",
       "      <td>3916</td>\n",
       "      <td>4.0</td>\n",
       "      <td>2.0</td>\n",
       "      <td>0</td>\n",
       "      <td>Other</td>\n",
       "    </tr>\n",
       "    <tr>\n",
       "      <th>8919</th>\n",
       "      <td>30 SHOREHAM ROAD, SHOREHAM</td>\n",
       "      <td>none</td>\n",
       "      <td>3600</td>\n",
       "      <td>3916</td>\n",
       "      <td>4.0</td>\n",
       "      <td>2.0</td>\n",
       "      <td>0</td>\n",
       "      <td>Other</td>\n",
       "    </tr>\n",
       "    <tr>\n",
       "      <th>10169</th>\n",
       "      <td>148 BROUGHAM STREET, KEW</td>\n",
       "      <td>House</td>\n",
       "      <td>3454</td>\n",
       "      <td>3101</td>\n",
       "      <td>3.0</td>\n",
       "      <td>2.0</td>\n",
       "      <td>2</td>\n",
       "      <td>House</td>\n",
       "    </tr>\n",
       "  </tbody>\n",
       "</table>\n",
       "</div>"
      ],
      "text/plain": [
       "                                 address           type  weekly_rent  \\\n",
       "685         102/8 BLIGH PLACE, MELBOURNE  Available Now         4127   \n",
       "4252        4/57 ASLING STREET, BRIGHTON           none         4400   \n",
       "4812     15 RICHARD STREET, WILLIAMSTOWN  Available Now         3737   \n",
       "5146          37 MURRAY DRIVE, POINT LEO           none         3600   \n",
       "5147          37 MURRAY DRIVE, POINT LEO           none         3600   \n",
       "6718          2 DRAKE STREET, MORNINGTON           none         3120   \n",
       "6728    55 BELEURA HILL ROAD, MORNINGTON          House         6500   \n",
       "7120   535 GREAT OCEAN ROAD, MOGGS CREEK           none         3200   \n",
       "8918          30 SHOREHAM ROAD, SHOREHAM           none         3600   \n",
       "8919          30 SHOREHAM ROAD, SHOREHAM           none         3600   \n",
       "10169           148 BROUGHAM STREET, KEW          House         3454   \n",
       "\n",
       "       postcode  nbed  nbath  ncar residence_type  \n",
       "685        3000   2.0    2.0     2          Other  \n",
       "4252       3186   2.0    1.0     1          Other  \n",
       "4812       3016   3.0    2.0     1          Other  \n",
       "5146       3916   3.0    2.0     2          Other  \n",
       "5147       3916   3.0    2.0     2          Other  \n",
       "6718       3931   5.0    3.0     2          Other  \n",
       "6728       3931   4.0    4.0     2          House  \n",
       "7120       3231   4.0    2.0     0          Other  \n",
       "8918       3916   4.0    2.0     0          Other  \n",
       "8919       3916   4.0    2.0     0          Other  \n",
       "10169      3101   3.0    2.0     2          House  "
      ]
     },
     "execution_count": 146,
     "metadata": {},
     "output_type": "execute_result"
    }
   ],
   "source": [
    "df_2013[df_2013['weekly_rent'] > 3000]"
   ]
  },
  {
   "cell_type": "markdown",
   "metadata": {},
   "source": [
    "102/8 Bligh Place, Melbourne, Vic 3000: $890 per week in 2022: https://www.realestate.com.au/property-apartment-vic-melbourne-429072318\n",
    "\n",
    "15 RICHARD STREET, WILLIAMSTOWN: $1,100pw in 2022: https://www.homely.com.au/homes/15-richard-street-williamstown-vic-3016/5250272\n",
    "\n",
    "37 Murray Drive: $654 pw in 2022: https://www.propertyvalue.com.au/property/37-murray-drive-point-leo-vic-3916/12541662\n",
    "\n",
    "2 Drake Street, Mornington VIC 3931: $1,525PER WEEK in 2022: https://www.domain.com.au/property-profile2-drake-street-mornington-vic-3931\n",
    "\n",
    "55 BELEURA HILL ROAD, MORNINGTON: $1500.00 pw in 2022: https://www.homely.com.au/homes/55-beleura-hill-road-mornington-vic-3931/1269977\n",
    "\n",
    "535 Great Ocean Road Moggs Creek VIC 3231: $552 pw in 2022: https://www.propertyvalue.com.au/property/535-great-ocean-road-moggs-creek-vic-3231/11874101\n",
    "\n",
    "30 Shoreham Road Shoreham VIC 3916: $850/w in 2022: https://www.onthehouse.com.au/property/vic/shoreham-3916/30-shoreham-rd-shoreham-vic-3916-8066322\n",
    "\n",
    "148 BROUGHAM STREET, KEW: $995.00 per week in 2022: https://www.domain.com.au/148-brougham-street-kew-vic-3101-15300836\n"
   ]
  },
  {
   "cell_type": "code",
   "execution_count": 147,
   "metadata": {},
   "outputs": [
    {
     "data": {
      "text/plain": [
       "168842.91472956346"
      ]
     },
     "execution_count": 147,
     "metadata": {},
     "output_type": "execute_result"
    }
   ],
   "source": [
    "df.weekly_rent.var()"
   ]
  },
  {
   "cell_type": "code",
   "execution_count": 148,
   "metadata": {},
   "outputs": [],
   "source": [
    "import numpy as np\n",
    "from scipy import stats"
   ]
  },
  {
   "cell_type": "code",
   "execution_count": 149,
   "metadata": {},
   "outputs": [
    {
     "name": "stdout",
     "output_type": "stream",
     "text": [
      "270 instances were dropped from 11839, 11569 remaining\n"
     ]
    }
   ],
   "source": [
    "df_2013_rent = df_2013[(np.abs(stats.zscore(df_2013.weekly_rent)) < 3)]\n",
    "print(f'{len(df_2013) - len(df_2013_rent)} instances were dropped from {len(df_2013)}, {len(df_2013_rent)} remaining')"
   ]
  },
  {
   "cell_type": "code",
   "execution_count": 150,
   "metadata": {},
   "outputs": [
    {
     "data": {
      "image/png": "[encoded data removed]",
      "text/plain": [
       "<Figure size 432x288 with 1 Axes>"
      ]
     },
     "metadata": {
      "needs_background": "light"
     },
     "output_type": "display_data"
    }
   ],
   "source": [
    "ax = sns.boxplot(data=df_2013_rent.weekly_rent)"
   ]
  },
  {
   "cell_type": "markdown",
   "metadata": {},
   "source": [
    "### 2014"
   ]
  },
  {
   "cell_type": "code",
   "execution_count": 151,
   "metadata": {},
   "outputs": [],
   "source": [
    "df_2014 = combined_2013_2022[combined_2013_2022.year == 2014]"
   ]
  },
  {
   "cell_type": "code",
   "execution_count": 152,
   "metadata": {},
   "outputs": [
    {
     "data": {
      "image/png": "[encoded data removed]",
      "text/plain": [
       "<Figure size 432x288 with 1 Axes>"
      ]
     },
     "metadata": {
      "needs_background": "light"
     },
     "output_type": "display_data"
    }
   ],
   "source": [
    "ax = sns.boxplot(data=df_2014[['weekly_rent']])"
   ]
  },
  {
   "cell_type": "code",
   "execution_count": 153,
   "metadata": {},
   "outputs": [
    {
     "name": "stdout",
     "output_type": "stream",
     "text": [
      "251 (1.96%) instances were dropped from 12789, 12538 remaining\n"
     ]
    }
   ],
   "source": [
    "df_2014_rent = df_2014[(np.abs(stats.zscore(df_2014.weekly_rent)) < 3)]\n",
    "print(f'{len(df_2014) - len(df_2014_rent)} ({round((len(df_2014) - len(df_2014_rent))/len(df_2014)*100,2)}%) instances were dropped from {len(df_2014)}, {len(df_2014_rent)} remaining')"
   ]
  },
  {
   "cell_type": "code",
   "execution_count": 154,
   "metadata": {},
   "outputs": [
    {
     "data": {
      "image/png": "[encoded data removed]",
      "text/plain": [
       "<Figure size 432x288 with 1 Axes>"
      ]
     },
     "metadata": {
      "needs_background": "light"
     },
     "output_type": "display_data"
    }
   ],
   "source": [
    "ax = sns.boxplot(data=df_2013_rent.weekly_rent)"
   ]
  },
  {
   "cell_type": "markdown",
   "metadata": {},
   "source": [
    "As approaches for rental outliers detection is quite are quite similar, we apply a function for this."
   ]
  },
  {
   "cell_type": "code",
   "execution_count": 155,
   "metadata": {},
   "outputs": [],
   "source": [
    "sys.path.insert(1, '../../scripts/')\n",
    "import outlier_drop\n",
    "from outlier_drop import outlier_removal"
   ]
  },
  {
   "cell_type": "code",
   "execution_count": 156,
   "metadata": {},
   "outputs": [],
   "source": [
    "property_all_lst = sorted(property_all_lst)"
   ]
  },
  {
   "cell_type": "code",
   "execution_count": 157,
   "metadata": {},
   "outputs": [
    {
     "name": "stdout",
     "output_type": "stream",
     "text": [
      "2006: 11 (2.1%) instances were dropped from 523, 512 remaining\n",
      "2007: 75 (1.59%) instances were dropped from 4708, 4633 remaining\n",
      "2008: 98 (1.78%) instances were dropped from 5494, 5396 remaining\n",
      "2009: 94 (1.82%) instances were dropped from 5172, 5078 remaining\n",
      "2010: 99 (1.59%) instances were dropped from 6232, 6133 remaining\n",
      "2011: 135 (1.53%) instances were dropped from 8815, 8680 remaining\n",
      "2012: 200 (1.8%) instances were dropped from 11117, 10917 remaining\n",
      "2013: 270 (2.28%) instances were dropped from 11839, 11569 remaining\n",
      "2014: 251 (1.96%) instances were dropped from 12789, 12538 remaining\n",
      "2015: 260 (1.97%) instances were dropped from 13188, 12928 remaining\n",
      "2016: 340 (2.18%) instances were dropped from 15606, 15266 remaining\n",
      "2017: 420 (2.37%) instances were dropped from 17751, 17331 remaining\n",
      "2018: 443 (2.18%) instances were dropped from 20320, 19877 remaining\n",
      "2019: 549 (2.45%) instances were dropped from 22400, 21851 remaining\n",
      "2020: 607 (2.69%) instances were dropped from 22594, 21987 remaining\n",
      "2021: 770 (2.77%) instances were dropped from 27805, 27035 remaining\n",
      "2022: 2360 (3.11%) instances were dropped from 75999, 73639 remaining\n"
     ]
    }
   ],
   "source": [
    "for path in property_all_lst:\n",
    "    outlier_removal(path)"
   ]
  }
 ],
 "metadata": {
  "kernelspec": {
   "display_name": "Python 3.8.5 ('base')",
   "language": "python",
   "name": "python3"
  },
  "language_info": {
   "codemirror_mode": {
    "name": "ipython",
    "version": 3
   },
   "file_extension": ".py",
   "mimetype": "text/x-python",
   "name": "python",
   "nbconvert_exporter": "python",
   "pygments_lexer": "ipython3",
   "version": "3.8.5"
  },
  "orig_nbformat": 4,
  "vscode": {
   "interpreter": {
    "hash": "c86cb5e9148e7c4bccb8072cef861029eee896e08e86645269b0451f021733e2"
   }
  }
 },
 "nbformat": 4,
 "nbformat_minor": 2
}
