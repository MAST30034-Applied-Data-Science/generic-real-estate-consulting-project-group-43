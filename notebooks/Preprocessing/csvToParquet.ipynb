{
 "cells": [
  {
   "cell_type": "code",
   "execution_count": 1,
   "metadata": {},
   "outputs": [
    {
     "name": "stdout",
     "output_type": "stream",
     "text": [
      "22/09/19 00:11:37 WARN Utils: Your hostname, Jonghos-MacBook-Air.local resolves to a loopback address: 127.0.0.1; using 192.168.1.6 instead (on interface en0)\n",
      "22/09/19 00:11:37 WARN Utils: Set SPARK_LOCAL_IP if you need to bind to another address\n"
     ]
    },
    {
     "name": "stderr",
     "output_type": "stream",
     "text": [
      "Setting default log level to \"WARN\".\n",
      "To adjust logging level use sc.setLogLevel(newLevel). For SparkR, use setLogLevel(newLevel).\n"
     ]
    },
    {
     "name": "stdout",
     "output_type": "stream",
     "text": [
      "22/09/19 00:11:38 WARN NativeCodeLoader: Unable to load native-hadoop library for your platform... using builtin-java classes where applicable\n"
     ]
    }
   ],
   "source": [
    "from pyspark.sql import SparkSession, functions as F\n",
    "\n",
    "# Create a spark session (which will run spark jobs)\n",
    "spark = (\n",
    "    SparkSession.builder.appName(\"MAST30034 Project2\")\n",
    "    .config(\"spark.sql.repl.eagerEval.enabled\", True) \n",
    "    .config(\"spark.sql.parquet.cacheMetadata\", \"true\")\n",
    "    .getOrCreate()\n",
    ")"
   ]
  },
  {
   "cell_type": "code",
   "execution_count": 8,
   "metadata": {},
   "outputs": [
    {
     "name": "stdout",
     "output_type": "stream",
     "text": [
      "22/09/19 00:19:12 WARN MemoryManager: Total allocation exceeds 95.00% (1,020,054,720 bytes) of heap memory\n",
      "Scaling row group sizes to 95.00% for 8 writers\n"
     ]
    },
    {
     "name": "stderr",
     "output_type": "stream",
     "text": [
      "                                                                                \r"
     ]
    },
    {
     "name": "stdout",
     "output_type": "stream",
     "text": [
      "22/09/19 00:19:13 WARN MemoryManager: Total allocation exceeds 95.00% (1,020,054,720 bytes) of heap memory\n",
      "Scaling row group sizes to 95.00% for 8 writers\n"
     ]
    },
    {
     "name": "stderr",
     "output_type": "stream",
     "text": [
      "                                                                                \r"
     ]
    },
    {
     "name": "stdout",
     "output_type": "stream",
     "text": [
      "22/09/19 00:19:15 WARN MemoryManager: Total allocation exceeds 95.00% (1,020,054,720 bytes) of heap memory\n",
      "Scaling row group sizes to 95.00% for 8 writers\n"
     ]
    },
    {
     "name": "stderr",
     "output_type": "stream",
     "text": [
      "                                                                                \r"
     ]
    },
    {
     "name": "stdout",
     "output_type": "stream",
     "text": [
      "22/09/19 00:19:16 WARN MemoryManager: Total allocation exceeds 95.00% (1,020,054,720 bytes) of heap memory\n",
      "Scaling row group sizes to 95.00% for 8 writers\n"
     ]
    },
    {
     "name": "stderr",
     "output_type": "stream",
     "text": [
      "                                                                                \r"
     ]
    },
    {
     "name": "stdout",
     "output_type": "stream",
     "text": [
      "22/09/19 00:19:17 WARN MemoryManager: Total allocation exceeds 95.00% (1,020,054,720 bytes) of heap memory\n",
      "Scaling row group sizes to 95.00% for 8 writers\n"
     ]
    },
    {
     "name": "stderr",
     "output_type": "stream",
     "text": [
      "                                                                                \r"
     ]
    },
    {
     "name": "stdout",
     "output_type": "stream",
     "text": [
      "22/09/19 00:19:19 WARN MemoryManager: Total allocation exceeds 95.00% (1,020,054,720 bytes) of heap memory\n",
      "Scaling row group sizes to 95.00% for 8 writers\n"
     ]
    },
    {
     "name": "stderr",
     "output_type": "stream",
     "text": [
      "                                                                                \r"
     ]
    },
    {
     "name": "stdout",
     "output_type": "stream",
     "text": [
      "22/09/19 00:19:21 WARN MemoryManager: Total allocation exceeds 95.00% (1,020,054,720 bytes) of heap memory\n",
      "Scaling row group sizes to 95.00% for 8 writers\n"
     ]
    },
    {
     "name": "stderr",
     "output_type": "stream",
     "text": [
      "                                                                                \r"
     ]
    },
    {
     "name": "stdout",
     "output_type": "stream",
     "text": [
      "22/09/19 00:19:24 WARN MemoryManager: Total allocation exceeds 95.00% (1,020,054,720 bytes) of heap memory\n",
      "Scaling row group sizes to 95.00% for 8 writers\n"
     ]
    },
    {
     "name": "stderr",
     "output_type": "stream",
     "text": [
      "                                                                                \r"
     ]
    },
    {
     "name": "stdout",
     "output_type": "stream",
     "text": [
      "22/09/19 00:19:26 WARN MemoryManager: Total allocation exceeds 95.00% (1,020,054,720 bytes) of heap memory\n",
      "Scaling row group sizes to 95.00% for 8 writers\n"
     ]
    },
    {
     "name": "stderr",
     "output_type": "stream",
     "text": [
      "                                                                                \r"
     ]
    },
    {
     "name": "stdout",
     "output_type": "stream",
     "text": [
      "22/09/19 00:19:28 WARN MemoryManager: Total allocation exceeds 95.00% (1,020,054,720 bytes) of heap memory\n",
      "Scaling row group sizes to 95.00% for 8 writers\n"
     ]
    },
    {
     "name": "stderr",
     "output_type": "stream",
     "text": [
      "                                                                                \r"
     ]
    }
   ],
   "source": [
    "for i in range(2013, 2023):\n",
    "    year = str(i)\n",
    "    sdf = spark.read.option(\"header\",True).csv('../../data/raw/merged_property_place_distance/'+year+'_distance_rental_place.csv')\n",
    "    sdf.write.parquet('../../data/curated/merged_property_place_distance_parquet/'+year+'_distance_rental_place.parquet')"
   ]
  },
  {
   "cell_type": "code",
   "execution_count": 9,
   "metadata": {},
   "outputs": [
    {
     "data": {
      "text/html": [
       "<table border='1'>\n",
       "<tr><th>address</th><th>latitude_ori</th><th>longitude_ori</th><th>nbed</th><th>nbath</th><th>ncar</th><th>weekly_rent</th><th>type</th><th>postcode</th><th>year</th><th>month</th><th>residence_type</th><th>SA2_CODE</th><th>Place_Names</th><th>latitude_des</th><th>longitude_des</th><th>place_type</th><th>dist_to_place_M</th><th>dist_to_place_KM</th><th>time_to_place_S</th><th>time_to_place_MIN</th><th>dist_to_cbd_M</th><th>dist_to_cbd_KM</th><th>time_to_cbd_S</th><th>time_to_cbd_MIN</th></tr>\n",
       "<tr><td>231 MAIN ROAD, CH...</td><td>-37.0809661</td><td>144.2655551</td><td>2.0</td><td>1.0</td><td>3</td><td>380</td><td>House</td><td>3451</td><td>2022</td><td>3</td><td>House</td><td>202021027</td><td>Castlemaine High ...</td><td>-37.0505400004888</td><td>144.22750002004</td><td>secondary</td><td>7895.97</td><td>7.89597</td><td>601.73</td><td>10.028833333333333</td><td>116076.56</td><td>116.07656</td><td>5236.62</td><td>87.277</td></tr>\n",
       "<tr><td>231 MAIN ROAD, CH...</td><td>-37.0809661</td><td>144.2655551</td><td>2.0</td><td>1.0</td><td>3</td><td>380</td><td>House</td><td>3451</td><td>2022</td><td>3</td><td>House</td><td>202021027</td><td>CASTLEMAINE TECHN...</td><td>-37.0634599991444</td><td>144.220979981831</td><td>secondary</td><td>5254.1</td><td>5.2541</td><td>441.94</td><td>7.365666666666667</td><td>116076.56</td><td>116.07656</td><td>5236.62</td><td>87.277</td></tr>\n",
       "<tr><td>231 MAIN ROAD, CH...</td><td>-37.0809661</td><td>144.2655551</td><td>2.0</td><td>1.0</td><td>3</td><td>380</td><td>House</td><td>3451</td><td>2022</td><td>3</td><td>House</td><td>202021027</td><td>Castlemaine Secon...</td><td>-37.0505400004888</td><td>144.22750002004</td><td>secondary</td><td>7895.97</td><td>7.89597</td><td>601.73</td><td>10.028833333333333</td><td>116076.56</td><td>116.07656</td><td>5236.62</td><td>87.277</td></tr>\n",
       "<tr><td>231 MAIN ROAD, CH...</td><td>-37.0809661</td><td>144.2655551</td><td>2.0</td><td>1.0</td><td>3</td><td>380</td><td>House</td><td>3451</td><td>2022</td><td>3</td><td>House</td><td>202021027</td><td>Castlemaine Secon...</td><td>-37.077069999809</td><td>144.214529969542</td><td>secondary</td><td>6224.54</td><td>6.22454</td><td>625.11</td><td>10.4185</td><td>116076.56</td><td>116.07656</td><td>5236.62</td><td>87.277</td></tr>\n",
       "<tr><td>231 MAIN ROAD, CH...</td><td>-37.0809661</td><td>144.2655551</td><td>2.0</td><td>1.0</td><td>3</td><td>380</td><td>House</td><td>3451</td><td>2022</td><td>3</td><td>House</td><td>202021027</td><td>OLIVET CHRISTIAN ...</td><td>-37.0884800012871</td><td>144.205429990926</td><td>secondary</td><td>8087.73</td><td>8.087729999999999</td><td>622.79</td><td>10.379833333333332</td><td>116076.56</td><td>116.07656</td><td>5236.62</td><td>87.277</td></tr>\n",
       "<tr><td>231 MAIN ROAD, CH...</td><td>-37.0809661</td><td>144.2655551</td><td>2.0</td><td>1.0</td><td>3</td><td>380</td><td>House</td><td>3451</td><td>2022</td><td>3</td><td>House</td><td>202021027</td><td>WINTERS FLAT PRIM...</td><td>-37.0701600003064</td><td>144.207489980437</td><td>primary</td><td>6406.5</td><td>6.4065</td><td>619.35</td><td>10.3225</td><td>116076.56</td><td>116.07656</td><td>5236.62</td><td>87.277</td></tr>\n",
       "<tr><td>231 MAIN ROAD, CH...</td><td>-37.0809661</td><td>144.2655551</td><td>2.0</td><td>1.0</td><td>3</td><td>380</td><td>House</td><td>3451</td><td>2022</td><td>3</td><td>House</td><td>202021027</td><td>CASTLEMAINE NORTH...</td><td>-37.0578299989792</td><td>144.218989994741</td><td>primary</td><td>6107.61</td><td>6.107609999999999</td><td>423.85</td><td>7.064166666666667</td><td>116076.56</td><td>116.07656</td><td>5236.62</td><td>87.277</td></tr>\n",
       "<tr><td>231 MAIN ROAD, CH...</td><td>-37.0809661</td><td>144.2655551</td><td>2.0</td><td>1.0</td><td>3</td><td>380</td><td>House</td><td>3451</td><td>2022</td><td>3</td><td>House</td><td>202021027</td><td>CASTLEMAINE PRIMA...</td><td>-37.0666000002522</td><td>144.222329978283</td><td>primary</td><td>4592.83</td><td>4.59283</td><td>320.81</td><td>5.3468333333333335</td><td>116076.56</td><td>116.07656</td><td>5236.62</td><td>87.277</td></tr>\n",
       "<tr><td>231 MAIN ROAD, CH...</td><td>-37.0809661</td><td>144.2655551</td><td>2.0</td><td>1.0</td><td>3</td><td>380</td><td>House</td><td>3451</td><td>2022</td><td>3</td><td>House</td><td>202021027</td><td>CHEWTON PRIMARY S...</td><td>-37.0823299998888</td><td>144.261159985099</td><td>primary</td><td>673.75</td><td>0.67375</td><td>57.82</td><td>0.9636666666666667</td><td>116076.56</td><td>116.07656</td><td>5236.62</td><td>87.277</td></tr>\n",
       "<tr><td>231 MAIN ROAD, CH...</td><td>-37.0809661</td><td>144.2655551</td><td>2.0</td><td>1.0</td><td>3</td><td>380</td><td>House</td><td>3451</td><td>2022</td><td>3</td><td>House</td><td>202021027</td><td>CAMPBELLS CREEK P...</td><td>-37.0929300012648</td><td>144.204659996604</td><td>primary</td><td>8474.68</td><td>8.474680000000001</td><td>646.31</td><td>10.771833333333332</td><td>116076.56</td><td>116.07656</td><td>5236.62</td><td>87.277</td></tr>\n",
       "<tr><td>231 MAIN ROAD, CH...</td><td>-37.0809661</td><td>144.2655551</td><td>2.0</td><td>1.0</td><td>3</td><td>380</td><td>House</td><td>3451</td><td>2022</td><td>3</td><td>House</td><td>202021027</td><td>ST MARYS SCHOOL</td><td>-37.0639599991462</td><td>144.220959980784</td><td>primary</td><td>5222.68</td><td>5.22268</td><td>437.46</td><td>7.2909999999999995</td><td>116076.56</td><td>116.07656</td><td>5236.62</td><td>87.277</td></tr>\n",
       "<tr><td>231 MAIN ROAD, CH...</td><td>-37.0809661</td><td>144.2655551</td><td>2.0</td><td>1.0</td><td>3</td><td>380</td><td>House</td><td>3451</td><td>2022</td><td>3</td><td>House</td><td>202021027</td><td>CASTLEMAINE</td><td>-37.0631599986733</td><td>144.21378998508</td><td>station</td><td>5674.28</td><td>5.6742799999999995</td><td>455.74</td><td>7.595666666666667</td><td>116076.56</td><td>116.07656</td><td>5236.62</td><td>87.277</td></tr>\n",
       "<tr><td>231 MAIN ROAD, CH...</td><td>-37.0809661</td><td>144.2655551</td><td>2.0</td><td>1.0</td><td>3</td><td>380</td><td>House</td><td>3451</td><td>2022</td><td>3</td><td>House</td><td>202021027</td><td>CHEWTON</td><td>-37.0848499997293</td><td>144.258479992296</td><td>station</td><td>1466.65</td><td>1.46665</td><td>114.21</td><td>1.9035</td><td>116076.56</td><td>116.07656</td><td>5236.62</td><td>87.277</td></tr>\n",
       "<tr><td>231 MAIN ROAD, CH...</td><td>-37.0809661</td><td>144.2655551</td><td>2.0</td><td>1.0</td><td>3</td><td>380</td><td>House</td><td>3451</td><td>2022</td><td>3</td><td>House</td><td>202021027</td><td>OLD DIAMOND HILL ...</td><td>-37.0817900019732</td><td>144.201259982313</td><td>park</td><td>7308.57</td><td>7.30857</td><td>570.02</td><td>9.500333333333334</td><td>116076.56</td><td>116.07656</td><td>5236.62</td><td>87.277</td></tr>\n",
       "<tr><td>231 MAIN ROAD, CH...</td><td>-37.0809661</td><td>144.2655551</td><td>2.0</td><td>1.0</td><td>3</td><td>380</td><td>House</td><td>3451</td><td>2022</td><td>2</td><td>House</td><td>202021027</td><td>Castlemaine High ...</td><td>-37.0505400004888</td><td>144.22750002004</td><td>secondary</td><td>7895.97</td><td>7.89597</td><td>601.73</td><td>10.028833333333333</td><td>116076.56</td><td>116.07656</td><td>5236.62</td><td>87.277</td></tr>\n",
       "<tr><td>231 MAIN ROAD, CH...</td><td>-37.0809661</td><td>144.2655551</td><td>2.0</td><td>1.0</td><td>3</td><td>380</td><td>House</td><td>3451</td><td>2022</td><td>2</td><td>House</td><td>202021027</td><td>CASTLEMAINE TECHN...</td><td>-37.0634599991444</td><td>144.220979981831</td><td>secondary</td><td>5254.1</td><td>5.2541</td><td>441.94</td><td>7.365666666666667</td><td>116076.56</td><td>116.07656</td><td>5236.62</td><td>87.277</td></tr>\n",
       "<tr><td>231 MAIN ROAD, CH...</td><td>-37.0809661</td><td>144.2655551</td><td>2.0</td><td>1.0</td><td>3</td><td>380</td><td>House</td><td>3451</td><td>2022</td><td>2</td><td>House</td><td>202021027</td><td>Castlemaine Secon...</td><td>-37.0505400004888</td><td>144.22750002004</td><td>secondary</td><td>7895.97</td><td>7.89597</td><td>601.73</td><td>10.028833333333333</td><td>116076.56</td><td>116.07656</td><td>5236.62</td><td>87.277</td></tr>\n",
       "<tr><td>231 MAIN ROAD, CH...</td><td>-37.0809661</td><td>144.2655551</td><td>2.0</td><td>1.0</td><td>3</td><td>380</td><td>House</td><td>3451</td><td>2022</td><td>2</td><td>House</td><td>202021027</td><td>Castlemaine Secon...</td><td>-37.077069999809</td><td>144.214529969542</td><td>secondary</td><td>6224.54</td><td>6.22454</td><td>625.11</td><td>10.4185</td><td>116076.56</td><td>116.07656</td><td>5236.62</td><td>87.277</td></tr>\n",
       "<tr><td>231 MAIN ROAD, CH...</td><td>-37.0809661</td><td>144.2655551</td><td>2.0</td><td>1.0</td><td>3</td><td>380</td><td>House</td><td>3451</td><td>2022</td><td>2</td><td>House</td><td>202021027</td><td>OLIVET CHRISTIAN ...</td><td>-37.0884800012871</td><td>144.205429990926</td><td>secondary</td><td>8087.73</td><td>8.087729999999999</td><td>622.79</td><td>10.379833333333332</td><td>116076.56</td><td>116.07656</td><td>5236.62</td><td>87.277</td></tr>\n",
       "<tr><td>231 MAIN ROAD, CH...</td><td>-37.0809661</td><td>144.2655551</td><td>2.0</td><td>1.0</td><td>3</td><td>380</td><td>House</td><td>3451</td><td>2022</td><td>2</td><td>House</td><td>202021027</td><td>WINTERS FLAT PRIM...</td><td>-37.0701600003064</td><td>144.207489980437</td><td>primary</td><td>6406.5</td><td>6.4065</td><td>619.35</td><td>10.3225</td><td>116076.56</td><td>116.07656</td><td>5236.62</td><td>87.277</td></tr>\n",
       "</table>\n",
       "only showing top 20 rows\n"
      ],
      "text/plain": [
       "+--------------------+------------+-------------+----+-----+----+-----------+-----+--------+----+-----+--------------+---------+--------------------+-----------------+----------------+----------+---------------+------------------+---------------+------------------+-------------+--------------+-------------+---------------+\n",
       "|             address|latitude_ori|longitude_ori|nbed|nbath|ncar|weekly_rent| type|postcode|year|month|residence_type| SA2_CODE|         Place_Names|     latitude_des|   longitude_des|place_type|dist_to_place_M|  dist_to_place_KM|time_to_place_S| time_to_place_MIN|dist_to_cbd_M|dist_to_cbd_KM|time_to_cbd_S|time_to_cbd_MIN|\n",
       "+--------------------+------------+-------------+----+-----+----+-----------+-----+--------+----+-----+--------------+---------+--------------------+-----------------+----------------+----------+---------------+------------------+---------------+------------------+-------------+--------------+-------------+---------------+\n",
       "|231 MAIN ROAD, CH...| -37.0809661|  144.2655551| 2.0|  1.0|   3|        380|House|    3451|2022|    3|         House|202021027|Castlemaine High ...|-37.0505400004888| 144.22750002004| secondary|        7895.97|           7.89597|         601.73|10.028833333333333|    116076.56|     116.07656|      5236.62|         87.277|\n",
       "|231 MAIN ROAD, CH...| -37.0809661|  144.2655551| 2.0|  1.0|   3|        380|House|    3451|2022|    3|         House|202021027|CASTLEMAINE TECHN...|-37.0634599991444|144.220979981831| secondary|         5254.1|            5.2541|         441.94| 7.365666666666667|    116076.56|     116.07656|      5236.62|         87.277|\n",
       "|231 MAIN ROAD, CH...| -37.0809661|  144.2655551| 2.0|  1.0|   3|        380|House|    3451|2022|    3|         House|202021027|Castlemaine Secon...|-37.0505400004888| 144.22750002004| secondary|        7895.97|           7.89597|         601.73|10.028833333333333|    116076.56|     116.07656|      5236.62|         87.277|\n",
       "|231 MAIN ROAD, CH...| -37.0809661|  144.2655551| 2.0|  1.0|   3|        380|House|    3451|2022|    3|         House|202021027|Castlemaine Secon...| -37.077069999809|144.214529969542| secondary|        6224.54|           6.22454|         625.11|           10.4185|    116076.56|     116.07656|      5236.62|         87.277|\n",
       "|231 MAIN ROAD, CH...| -37.0809661|  144.2655551| 2.0|  1.0|   3|        380|House|    3451|2022|    3|         House|202021027|OLIVET CHRISTIAN ...|-37.0884800012871|144.205429990926| secondary|        8087.73| 8.087729999999999|         622.79|10.379833333333332|    116076.56|     116.07656|      5236.62|         87.277|\n",
       "|231 MAIN ROAD, CH...| -37.0809661|  144.2655551| 2.0|  1.0|   3|        380|House|    3451|2022|    3|         House|202021027|WINTERS FLAT PRIM...|-37.0701600003064|144.207489980437|   primary|         6406.5|            6.4065|         619.35|           10.3225|    116076.56|     116.07656|      5236.62|         87.277|\n",
       "|231 MAIN ROAD, CH...| -37.0809661|  144.2655551| 2.0|  1.0|   3|        380|House|    3451|2022|    3|         House|202021027|CASTLEMAINE NORTH...|-37.0578299989792|144.218989994741|   primary|        6107.61| 6.107609999999999|         423.85| 7.064166666666667|    116076.56|     116.07656|      5236.62|         87.277|\n",
       "|231 MAIN ROAD, CH...| -37.0809661|  144.2655551| 2.0|  1.0|   3|        380|House|    3451|2022|    3|         House|202021027|CASTLEMAINE PRIMA...|-37.0666000002522|144.222329978283|   primary|        4592.83|           4.59283|         320.81|5.3468333333333335|    116076.56|     116.07656|      5236.62|         87.277|\n",
       "|231 MAIN ROAD, CH...| -37.0809661|  144.2655551| 2.0|  1.0|   3|        380|House|    3451|2022|    3|         House|202021027|CHEWTON PRIMARY S...|-37.0823299998888|144.261159985099|   primary|         673.75|           0.67375|          57.82|0.9636666666666667|    116076.56|     116.07656|      5236.62|         87.277|\n",
       "|231 MAIN ROAD, CH...| -37.0809661|  144.2655551| 2.0|  1.0|   3|        380|House|    3451|2022|    3|         House|202021027|CAMPBELLS CREEK P...|-37.0929300012648|144.204659996604|   primary|        8474.68| 8.474680000000001|         646.31|10.771833333333332|    116076.56|     116.07656|      5236.62|         87.277|\n",
       "|231 MAIN ROAD, CH...| -37.0809661|  144.2655551| 2.0|  1.0|   3|        380|House|    3451|2022|    3|         House|202021027|     ST MARYS SCHOOL|-37.0639599991462|144.220959980784|   primary|        5222.68|           5.22268|         437.46|7.2909999999999995|    116076.56|     116.07656|      5236.62|         87.277|\n",
       "|231 MAIN ROAD, CH...| -37.0809661|  144.2655551| 2.0|  1.0|   3|        380|House|    3451|2022|    3|         House|202021027|         CASTLEMAINE|-37.0631599986733| 144.21378998508|   station|        5674.28|5.6742799999999995|         455.74| 7.595666666666667|    116076.56|     116.07656|      5236.62|         87.277|\n",
       "|231 MAIN ROAD, CH...| -37.0809661|  144.2655551| 2.0|  1.0|   3|        380|House|    3451|2022|    3|         House|202021027|             CHEWTON|-37.0848499997293|144.258479992296|   station|        1466.65|           1.46665|         114.21|            1.9035|    116076.56|     116.07656|      5236.62|         87.277|\n",
       "|231 MAIN ROAD, CH...| -37.0809661|  144.2655551| 2.0|  1.0|   3|        380|House|    3451|2022|    3|         House|202021027|OLD DIAMOND HILL ...|-37.0817900019732|144.201259982313|      park|        7308.57|           7.30857|         570.02| 9.500333333333334|    116076.56|     116.07656|      5236.62|         87.277|\n",
       "|231 MAIN ROAD, CH...| -37.0809661|  144.2655551| 2.0|  1.0|   3|        380|House|    3451|2022|    2|         House|202021027|Castlemaine High ...|-37.0505400004888| 144.22750002004| secondary|        7895.97|           7.89597|         601.73|10.028833333333333|    116076.56|     116.07656|      5236.62|         87.277|\n",
       "|231 MAIN ROAD, CH...| -37.0809661|  144.2655551| 2.0|  1.0|   3|        380|House|    3451|2022|    2|         House|202021027|CASTLEMAINE TECHN...|-37.0634599991444|144.220979981831| secondary|         5254.1|            5.2541|         441.94| 7.365666666666667|    116076.56|     116.07656|      5236.62|         87.277|\n",
       "|231 MAIN ROAD, CH...| -37.0809661|  144.2655551| 2.0|  1.0|   3|        380|House|    3451|2022|    2|         House|202021027|Castlemaine Secon...|-37.0505400004888| 144.22750002004| secondary|        7895.97|           7.89597|         601.73|10.028833333333333|    116076.56|     116.07656|      5236.62|         87.277|\n",
       "|231 MAIN ROAD, CH...| -37.0809661|  144.2655551| 2.0|  1.0|   3|        380|House|    3451|2022|    2|         House|202021027|Castlemaine Secon...| -37.077069999809|144.214529969542| secondary|        6224.54|           6.22454|         625.11|           10.4185|    116076.56|     116.07656|      5236.62|         87.277|\n",
       "|231 MAIN ROAD, CH...| -37.0809661|  144.2655551| 2.0|  1.0|   3|        380|House|    3451|2022|    2|         House|202021027|OLIVET CHRISTIAN ...|-37.0884800012871|144.205429990926| secondary|        8087.73| 8.087729999999999|         622.79|10.379833333333332|    116076.56|     116.07656|      5236.62|         87.277|\n",
       "|231 MAIN ROAD, CH...| -37.0809661|  144.2655551| 2.0|  1.0|   3|        380|House|    3451|2022|    2|         House|202021027|WINTERS FLAT PRIM...|-37.0701600003064|144.207489980437|   primary|         6406.5|            6.4065|         619.35|           10.3225|    116076.56|     116.07656|      5236.62|         87.277|\n",
       "+--------------------+------------+-------------+----+-----+----+-----------+-----+--------+----+-----+--------------+---------+--------------------+-----------------+----------------+----------+---------------+------------------+---------------+------------------+-------------+--------------+-------------+---------------+\n",
       "only showing top 20 rows"
      ]
     },
     "execution_count": 9,
     "metadata": {},
     "output_type": "execute_result"
    }
   ],
   "source": [
    "sdf"
   ]
  }
 ],
 "metadata": {
  "kernelspec": {
   "display_name": "Python 3.10.5 64-bit ('3.10.5')",
   "language": "python",
   "name": "python3"
  },
  "language_info": {
   "codemirror_mode": {
    "name": "ipython",
    "version": 3
   },
   "file_extension": ".py",
   "mimetype": "text/x-python",
   "name": "python",
   "nbconvert_exporter": "python",
   "pygments_lexer": "ipython3",
   "version": "3.10.5"
  },
  "orig_nbformat": 4,
  "vscode": {
   "interpreter": {
    "hash": "ddc0034ad7dea0900e87274559c7f730dcb76ce48c43b93b61df066c264fb9ff"
   }
  }
 },
 "nbformat": 4,
 "nbformat_minor": 2
}
