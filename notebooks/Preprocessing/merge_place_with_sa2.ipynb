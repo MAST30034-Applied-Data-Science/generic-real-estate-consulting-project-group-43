{
 "cells": [
  {
   "cell_type": "code",
   "execution_count": 1,
   "metadata": {},
   "outputs": [],
   "source": [
    "import pandas as pd"
   ]
  },
  {
   "cell_type": "code",
   "execution_count": 2,
   "metadata": {},
   "outputs": [],
   "source": [
    "df1 = pd.read_csv('../../data/curated/features_of_interst/addtional_place_all_with_sa2.csv')\n",
    "df2 = pd.read_csv('../../data/curated/features_of_interst/place_all_with_sa2.csv')"
   ]
  },
  {
   "cell_type": "code",
   "execution_count": 3,
   "metadata": {},
   "outputs": [
    {
     "data": {
      "text/html": [
       "<div>\n",
       "<style scoped>\n",
       "    .dataframe tbody tr th:only-of-type {\n",
       "        vertical-align: middle;\n",
       "    }\n",
       "\n",
       "    .dataframe tbody tr th {\n",
       "        vertical-align: top;\n",
       "    }\n",
       "\n",
       "    .dataframe thead th {\n",
       "        text-align: right;\n",
       "    }\n",
       "</style>\n",
       "<table border=\"1\" class=\"dataframe\">\n",
       "  <thead>\n",
       "    <tr style=\"text-align: right;\">\n",
       "      <th></th>\n",
       "      <th>Unnamed: 0</th>\n",
       "      <th>Place_Names</th>\n",
       "      <th>latitude</th>\n",
       "      <th>longitude</th>\n",
       "      <th>year</th>\n",
       "      <th>place_type</th>\n",
       "      <th>SA2_CODE</th>\n",
       "    </tr>\n",
       "  </thead>\n",
       "  <tbody>\n",
       "    <tr>\n",
       "      <th>0</th>\n",
       "      <td>0</td>\n",
       "      <td>GLADSTONE PARK SHOPPING CENTRE</td>\n",
       "      <td>-37.68802</td>\n",
       "      <td>144.88478</td>\n",
       "      <td>2015</td>\n",
       "      <td>shopping</td>\n",
       "      <td>210051245</td>\n",
       "    </tr>\n",
       "    <tr>\n",
       "      <th>1</th>\n",
       "      <td>1</td>\n",
       "      <td>WHITEHORSE PLAZA SHOPPING CENTRE</td>\n",
       "      <td>-37.81804</td>\n",
       "      <td>145.11973</td>\n",
       "      <td>2015</td>\n",
       "      <td>shopping</td>\n",
       "      <td>207031163</td>\n",
       "    </tr>\n",
       "    <tr>\n",
       "      <th>2</th>\n",
       "      <td>2</td>\n",
       "      <td>SOUTHLAND SHOPPING CENTRE</td>\n",
       "      <td>-37.96138</td>\n",
       "      <td>145.05445</td>\n",
       "      <td>2015</td>\n",
       "      <td>shopping</td>\n",
       "      <td>208031188</td>\n",
       "    </tr>\n",
       "    <tr>\n",
       "      <th>3</th>\n",
       "      <td>3</td>\n",
       "      <td>WANTIRNA MALL SHOPPING CENTRE</td>\n",
       "      <td>-37.84693</td>\n",
       "      <td>145.22945</td>\n",
       "      <td>2015</td>\n",
       "      <td>shopping</td>\n",
       "      <td>211011259</td>\n",
       "    </tr>\n",
       "    <tr>\n",
       "      <th>4</th>\n",
       "      <td>4</td>\n",
       "      <td>WARREN VILLAGE</td>\n",
       "      <td>-37.99332</td>\n",
       "      <td>145.09278</td>\n",
       "      <td>2015</td>\n",
       "      <td>shopping</td>\n",
       "      <td>208031193</td>\n",
       "    </tr>\n",
       "  </tbody>\n",
       "</table>\n",
       "</div>"
      ],
      "text/plain": [
       "   Unnamed: 0                       Place_Names  latitude  longitude  year  \\\n",
       "0           0    GLADSTONE PARK SHOPPING CENTRE -37.68802  144.88478  2015   \n",
       "1           1  WHITEHORSE PLAZA SHOPPING CENTRE -37.81804  145.11973  2015   \n",
       "2           2         SOUTHLAND SHOPPING CENTRE -37.96138  145.05445  2015   \n",
       "3           3     WANTIRNA MALL SHOPPING CENTRE -37.84693  145.22945  2015   \n",
       "4           4                    WARREN VILLAGE -37.99332  145.09278  2015   \n",
       "\n",
       "  place_type   SA2_CODE  \n",
       "0   shopping  210051245  \n",
       "1   shopping  207031163  \n",
       "2   shopping  208031188  \n",
       "3   shopping  211011259  \n",
       "4   shopping  208031193  "
      ]
     },
     "execution_count": 3,
     "metadata": {},
     "output_type": "execute_result"
    }
   ],
   "source": [
    "df1.head()"
   ]
  },
  {
   "cell_type": "code",
   "execution_count": 4,
   "metadata": {},
   "outputs": [
    {
     "data": {
      "text/html": [
       "<div>\n",
       "<style scoped>\n",
       "    .dataframe tbody tr th:only-of-type {\n",
       "        vertical-align: middle;\n",
       "    }\n",
       "\n",
       "    .dataframe tbody tr th {\n",
       "        vertical-align: top;\n",
       "    }\n",
       "\n",
       "    .dataframe thead th {\n",
       "        text-align: right;\n",
       "    }\n",
       "</style>\n",
       "<table border=\"1\" class=\"dataframe\">\n",
       "  <thead>\n",
       "    <tr style=\"text-align: right;\">\n",
       "      <th></th>\n",
       "      <th>Unnamed: 0</th>\n",
       "      <th>Place_Names</th>\n",
       "      <th>latitude</th>\n",
       "      <th>longitude</th>\n",
       "      <th>year</th>\n",
       "      <th>place_type</th>\n",
       "      <th>SA2_CODE</th>\n",
       "    </tr>\n",
       "  </thead>\n",
       "  <tbody>\n",
       "    <tr>\n",
       "      <th>0</th>\n",
       "      <td>0</td>\n",
       "      <td>TAHARA BRIDGE RESERVE PICNIC AREA</td>\n",
       "      <td>-37.66568</td>\n",
       "      <td>141.66459</td>\n",
       "      <td>2013</td>\n",
       "      <td>park</td>\n",
       "      <td>217011420</td>\n",
       "    </tr>\n",
       "    <tr>\n",
       "      <th>1</th>\n",
       "      <td>1</td>\n",
       "      <td>CULGOA RECREATION RESERVE</td>\n",
       "      <td>-35.71682</td>\n",
       "      <td>143.10101</td>\n",
       "      <td>2013</td>\n",
       "      <td>park</td>\n",
       "      <td>215031400</td>\n",
       "    </tr>\n",
       "    <tr>\n",
       "      <th>2</th>\n",
       "      <td>2</td>\n",
       "      <td>CUMBERLAND</td>\n",
       "      <td>-38.57263</td>\n",
       "      <td>143.94681</td>\n",
       "      <td>2013</td>\n",
       "      <td>park</td>\n",
       "      <td>203031049</td>\n",
       "    </tr>\n",
       "    <tr>\n",
       "      <th>3</th>\n",
       "      <td>3</td>\n",
       "      <td>WAREENA PARK</td>\n",
       "      <td>-36.35911</td>\n",
       "      <td>146.30977</td>\n",
       "      <td>2013</td>\n",
       "      <td>park</td>\n",
       "      <td>204021066</td>\n",
       "    </tr>\n",
       "    <tr>\n",
       "      <th>4</th>\n",
       "      <td>4</td>\n",
       "      <td>ENTERPRIZE PARK</td>\n",
       "      <td>-37.82000</td>\n",
       "      <td>144.95973</td>\n",
       "      <td>2013</td>\n",
       "      <td>park</td>\n",
       "      <td>206041505</td>\n",
       "    </tr>\n",
       "  </tbody>\n",
       "</table>\n",
       "</div>"
      ],
      "text/plain": [
       "   Unnamed: 0                        Place_Names  latitude  longitude  year  \\\n",
       "0           0  TAHARA BRIDGE RESERVE PICNIC AREA -37.66568  141.66459  2013   \n",
       "1           1          CULGOA RECREATION RESERVE -35.71682  143.10101  2013   \n",
       "2           2                         CUMBERLAND -38.57263  143.94681  2013   \n",
       "3           3                       WAREENA PARK -36.35911  146.30977  2013   \n",
       "4           4                    ENTERPRIZE PARK -37.82000  144.95973  2013   \n",
       "\n",
       "  place_type   SA2_CODE  \n",
       "0       park  217011420  \n",
       "1       park  215031400  \n",
       "2       park  203031049  \n",
       "3       park  204021066  \n",
       "4       park  206041505  "
      ]
     },
     "execution_count": 4,
     "metadata": {},
     "output_type": "execute_result"
    }
   ],
   "source": [
    "df2.head()"
   ]
  },
  {
   "cell_type": "code",
   "execution_count": 6,
   "metadata": {},
   "outputs": [],
   "source": [
    "df = pd.concat([df1,df2])"
   ]
  },
  {
   "cell_type": "code",
   "execution_count": 10,
   "metadata": {},
   "outputs": [],
   "source": [
    "df = df.drop(columns ='Unnamed: 0')"
   ]
  },
  {
   "cell_type": "code",
   "execution_count": 12,
   "metadata": {},
   "outputs": [],
   "source": [
    "df.to_csv('../../data/curated/features_of_interst/result_place_all_with_sa2.csv')"
   ]
  },
  {
   "cell_type": "code",
   "execution_count": null,
   "metadata": {},
   "outputs": [],
   "source": [
    "import os\n",
    "os.remove('../../data/curated/features_of_interst/addtional_place_all_with_sa2.csv')\n",
    "os.remove('../../data/curated/features_of_interst/place_all_with_sa2.csv')"
   ]
  }
 ],
 "metadata": {
  "kernelspec": {
   "display_name": "Python 3.8.5 ('base')",
   "language": "python",
   "name": "python3"
  },
  "language_info": {
   "codemirror_mode": {
    "name": "ipython",
    "version": 3
   },
   "file_extension": ".py",
   "mimetype": "text/x-python",
   "name": "python",
   "nbconvert_exporter": "python",
   "pygments_lexer": "ipython3",
   "version": "3.8.5"
  },
  "orig_nbformat": 4,
  "vscode": {
   "interpreter": {
    "hash": "c86cb5e9148e7c4bccb8072cef861029eee896e08e86645269b0451f021733e2"
   }
  }
 },
 "nbformat": 4,
 "nbformat_minor": 2
}
