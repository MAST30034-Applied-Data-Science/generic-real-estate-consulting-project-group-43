{
 "cells": [
  {
   "cell_type": "markdown",
   "metadata": {},
   "source": [
    "# Preprocessing for API retrieved property data\n",
    "This scrape we describe the rental price preprocessing using regular expression in detail. \n",
    "\n",
    "Preprocessing for other features (location, number of rooms, rental price outliers) will not be disucssed in this notebook as the API data and Web Scraped data will me merged and outlier detection will be performed together for the merged data in `/notebooks/Preprocessing/History_prepro.ipynb`"
   ]
  },
  {
   "cell_type": "markdown",
   "metadata": {},
   "source": [
    "## Rental Price Preprocessing Appraoch Overview"
   ]
  },
  {
   "cell_type": "markdown",
   "metadata": {},
   "source": [
    "We want to preprocess rental price for all instances into integers. In summary, we have found these type of price:\n",
    "\n",
    "*Weekly rent only*\n",
    "\n",
    "*   `520pw`\n",
    "*   `$650.00 per week`\n",
    "*   `$650 p.w.`\n",
    "*   `$395 per week`\n",
    "*   `$580 per weekly - Unfurnished`\n",
    "*   `$160-$200 weekly`:\n",
    "\n",
    "*Weekly + Monthly rent*\n",
    "\n",
    "*   `$2300pw \\ $9994pcm`\n",
    "*    `545 PW \\ $2368 PCM`\n",
    "*    `$690pw\\$2998pcm`\n",
    "\n",
    "*Undefined rent* (will be assumed as weekly rent)\n",
    "*   `$750 **SPACIOUS APARTMENT**`\n",
    "*   `$320 OR $320.00` \n",
    "*   `$490 Fully Furnished`\n",
    "\n",
    "*Others (will be dropped)*\n",
    "\n",
    "*   `Contact Agent`: no value\n",
    "*   `$2384 calendar month`: monthly rent\n",
    "*   `$33,000 Per Year`: annual rent\n",
    "*   `160 per night`\n",
    "*   `1Bed + 1Study $560 Negotiable`\n",
    "\n",
    "As we will only be analysising with weekly rent, we will use regular expression to extract the weekly rent. In general, we generated 4 types of regular expression:\n",
    "*   --TYPE1-- **price value with `'w'`**: \n",
    "    *   The common characteristic betweem 'pw', 'per week', 'weekly' etc. is that they all have 'w' in their unit. Thus by extracting price followed by w, we can aviod extracting monthly rent.\n",
    "*   --TYPE2--  **price value only**: \n",
    "    *   We assume if the price discription contains value only, it is the weekly rent.\n",
    "*   --TYPE3-- **price value ended with `'d'`**: \n",
    "    *   From expirements, we discovered that there are many instances which didn't specify weekly rent however specified 'furnished' eg`$490 Fully Furnished`, we will assume these as weekly rent.\n",
    "*   --TYPE4--**price value with `**discription**`**: \n",
    "    *   We also discovered many price looked like `$750 **SPACIOUS APARTMENT**`, hence we assume those are weekly rent."
   ]
  },
  {
   "cell_type": "markdown",
   "metadata": {},
   "source": [
    "Import packages"
   ]
  },
  {
   "cell_type": "code",
   "execution_count": 7,
   "metadata": {},
   "outputs": [],
   "source": [
    "import pandas as pd\n",
    "import numpy as np\n",
    "import re\n",
    "import matplotlib.pyplot as plt\n",
    "import seaborn as sns\n",
    "import matplotlib.pyplot as plt"
   ]
  },
  {
   "cell_type": "markdown",
   "metadata": {},
   "source": [
    "Read the rent data from `domain.com` retrived by API"
   ]
  },
  {
   "cell_type": "code",
   "execution_count": 8,
   "metadata": {},
   "outputs": [],
   "source": [
    "df = pd.read_csv(\"../../data/raw/API_Raw_PropertiesInfo.csv\")\n",
    "df['price'] = df[\"price\"].str.replace(\",\",\"\")\n",
    "df['price'] = df[\"price\"].str.replace(\" \",\"_\") # replacing blank space with underline will simplify code in regex"
   ]
  },
  {
   "cell_type": "markdown",
   "metadata": {},
   "source": [
    "Create regular expression for retriving price"
   ]
  },
  {
   "cell_type": "code",
   "execution_count": null,
   "metadata": {},
   "outputs": [],
   "source": [
    "regex_str1 = r'([$]?\\d+[.]?\\d+\\w+[.]*\\w*[/]*\\w*[wW])' # $650.00 per week\n",
    "regex_str2 = r'([$]?\\d+[.]?\\d+$)' # $320\n",
    "regex_str3 = r'([$]?\\d+[.]?\\d+\\w+[-]?\\w+[d]$)' # $490 Fully Furnished\n",
    "regex_str4 = r'([$]?\\d+[.]?\\d+\\w*[*]+\\w)' # $750_**SPACIOUS_APARTMENT**\n",
    "\n",
    "df['price1']=df['price'].str.extract(regex_str1)\n",
    "df['price2']=df['price'].str.extract(regex_str2)\n",
    "df['price3']=df['price'].str.extract(regex_str3)\n",
    "df['price4']=df['price'].str.extract(regex_str4)"
   ]
  },
  {
   "cell_type": "markdown",
   "metadata": {},
   "source": [
    "Apply four types of regular expressions"
   ]
  },
  {
   "cell_type": "code",
   "execution_count": 9,
   "metadata": {},
   "outputs": [
    {
     "name": "stderr",
     "output_type": "stream",
     "text": [
      "<ipython-input-9-833372bdb65f>:6: SettingWithCopyWarning: \n",
      "A value is trying to be set on a copy of a slice from a DataFrame.\n",
      "Try using .loc[row_indexer,col_indexer] = value instead\n",
      "\n",
      "See the caveats in the documentation: https://pandas.pydata.org/pandas-docs/stable/user_guide/indexing.html#returning-a-view-versus-a-copy\n",
      "  df2['weekly_rent'] = df2['weekly_rent'].str.extract('(\\d+)').astype(int)\n"
     ]
    },
    {
     "name": "stdout",
     "output_type": "stream",
     "text": [
      "482 instances were dropped as no weekly rent was demonstrated\n",
      "1 instances were dropped as it was annual rent\n"
     ]
    }
   ],
   "source": [
    "df['weekly_rent'] = df['price4'].where(df['price4'].notnull(), df['price1'])\n",
    "df['weekly_rent'] = df['weekly_rent'].where(df['weekly_rent'].notnull(), df['price2'])\n",
    "df['weekly_rent'] = df['weekly_rent'].where(df['weekly_rent'].notnull(), df['price3'])\n",
    "df = df.drop(['price1','price2','price3', 'price4'],axis=1)\n",
    "df2 = df.dropna(subset = ['weekly_rent'])\n",
    "df2['weekly_rent'] = df2['weekly_rent'].str.extract('(\\d+)').astype(int)\n",
    "\n",
    "df3 = df2[df2['weekly_rent'] > 10000] # drop the yearly rent ones.\n",
    "result =  df2[df2['weekly_rent'] < 10000]\n",
    "result.to_csv(\"../../data/curated/API_re_clean.csv\")\n",
    "\n",
    "print(f'{len(df) - len(df2)} instances were dropped as no weekly rent was demonstrated')\n",
    "print(f'{len(df3)} instances were dropped as it was annual rent')\n"
   ]
  },
  {
   "cell_type": "markdown",
   "metadata": {},
   "source": [
    "Plot histogram of price data"
   ]
  },
  {
   "cell_type": "code",
   "execution_count": 10,
   "metadata": {},
   "outputs": [
    {
     "data": {
      "text/plain": [
       "(array([1.720e+02, 4.686e+03, 7.081e+03, 1.761e+03, 5.370e+02, 1.740e+02,\n",
       "        1.050e+02, 5.500e+01, 3.700e+01, 2.900e+01, 8.000e+00, 6.000e+00,\n",
       "        2.000e+01, 3.000e+00, 5.000e+00, 2.000e+00, 0.000e+00, 5.000e+00,\n",
       "        4.000e+00, 2.000e+00, 0.000e+00, 0.000e+00, 1.000e+00, 0.000e+00,\n",
       "        1.000e+00, 0.000e+00, 0.000e+00, 1.000e+00, 0.000e+00, 1.000e+00]),\n",
       " array([1.00000000e+00, 2.00966667e+02, 4.00933333e+02, 6.00900000e+02,\n",
       "        8.00866667e+02, 1.00083333e+03, 1.20080000e+03, 1.40076667e+03,\n",
       "        1.60073333e+03, 1.80070000e+03, 2.00066667e+03, 2.20063333e+03,\n",
       "        2.40060000e+03, 2.60056667e+03, 2.80053333e+03, 3.00050000e+03,\n",
       "        3.20046667e+03, 3.40043333e+03, 3.60040000e+03, 3.80036667e+03,\n",
       "        4.00033333e+03, 4.20030000e+03, 4.40026667e+03, 4.60023333e+03,\n",
       "        4.80020000e+03, 5.00016667e+03, 5.20013333e+03, 5.40010000e+03,\n",
       "        5.60006667e+03, 5.80003333e+03, 6.00000000e+03]),\n",
       " <BarContainer object of 30 artists>)"
      ]
     },
     "execution_count": 10,
     "metadata": {},
     "output_type": "execute_result"
    },
    {
     "data": {
      "image/png": "[encoded data removed]",
      "text/plain": [
       "<Figure size 432x288 with 1 Axes>"
      ]
     },
     "metadata": {
      "needs_background": "light"
     },
     "output_type": "display_data"
    }
   ],
   "source": [
    "plt.hist(result['weekly_rent'], bins=30)"
   ]
  },
  {
   "cell_type": "markdown",
   "metadata": {},
   "source": [
    "Plot the number of instances by year\n",
    "- It is shown that the most of the data is on 2022. \n",
    "- We assume there is a sampling bias from scrapping and retriving process.\n",
    "- The website `Domain.com` has limited access for the historical data"
   ]
  },
  {
   "cell_type": "code",
   "execution_count": 11,
   "metadata": {},
   "outputs": [
    {
     "data": {
      "text/plain": [
       "(array([2.0000e+00, 0.0000e+00, 0.0000e+00, 0.0000e+00, 0.0000e+00,\n",
       "        0.0000e+00, 2.0000e+00, 0.0000e+00, 6.0000e+00, 0.0000e+00,\n",
       "        2.4000e+01, 0.0000e+00, 5.0000e+00, 0.0000e+00, 0.0000e+00,\n",
       "        3.0000e+00, 0.0000e+00, 8.0000e+00, 0.0000e+00, 2.7000e+01,\n",
       "        0.0000e+00, 4.6000e+01, 0.0000e+00, 7.6000e+01, 0.0000e+00,\n",
       "        2.2700e+02, 0.0000e+00, 3.8200e+02, 0.0000e+00, 1.3888e+04]),\n",
       " array([2008.        , 2008.46666667, 2008.93333333, 2009.4       ,\n",
       "        2009.86666667, 2010.33333333, 2010.8       , 2011.26666667,\n",
       "        2011.73333333, 2012.2       , 2012.66666667, 2013.13333333,\n",
       "        2013.6       , 2014.06666667, 2014.53333333, 2015.        ,\n",
       "        2015.46666667, 2015.93333333, 2016.4       , 2016.86666667,\n",
       "        2017.33333333, 2017.8       , 2018.26666667, 2018.73333333,\n",
       "        2019.2       , 2019.66666667, 2020.13333333, 2020.6       ,\n",
       "        2021.06666667, 2021.53333333, 2022.        ]),\n",
       " <BarContainer object of 30 artists>)"
      ]
     },
     "execution_count": 11,
     "metadata": {},
     "output_type": "execute_result"
    },
    {
     "data": {
      "image/png": "[encoded data removed]",
      "text/plain": [
       "<Figure size 432x288 with 1 Axes>"
      ]
     },
     "metadata": {
      "needs_background": "light"
     },
     "output_type": "display_data"
    }
   ],
   "source": [
    "# pd.Timestamp(result['time_listed'])\n",
    "#result['time_listed'].to_timestamp()\n",
    "\n",
    "df2 = pd.to_datetime(result['time'])\n",
    "years = df2.dt.year\n",
    "years\n",
    "plt.hist(years, bins=30)"
   ]
  },
  {
   "cell_type": "markdown",
   "metadata": {},
   "source": [
    "Identify residential types"
   ]
  },
  {
   "cell_type": "code",
   "execution_count": 12,
   "metadata": {},
   "outputs": [
    {
     "name": "stdout",
     "output_type": "stream",
     "text": [
      "{'House', 'Penthouse', 'Rural', 'CarSpace', 'SemiDetached', 'Villa', 'AcreageSemiRural', 'Terrace', 'ApartmentUnitFlat', 'Studio', 'NewApartments', 'Duplex', 'Townhouse', 'NewHouseLand'}\n"
     ]
    }
   ],
   "source": [
    "print(set(result.property_type))"
   ]
  },
  {
   "cell_type": "code",
   "execution_count": 13,
   "metadata": {},
   "outputs": [
    {
     "data": {
      "text/html": [
       "<div>\n",
       "<style scoped>\n",
       "    .dataframe tbody tr th:only-of-type {\n",
       "        vertical-align: middle;\n",
       "    }\n",
       "\n",
       "    .dataframe tbody tr th {\n",
       "        vertical-align: top;\n",
       "    }\n",
       "\n",
       "    .dataframe thead th {\n",
       "        text-align: right;\n",
       "    }\n",
       "</style>\n",
       "<table border=\"1\" class=\"dataframe\">\n",
       "  <thead>\n",
       "    <tr style=\"text-align: right;\">\n",
       "      <th></th>\n",
       "      <th>property_type</th>\n",
       "      <th>averaged_wk_rent</th>\n",
       "      <th>num</th>\n",
       "    </tr>\n",
       "  </thead>\n",
       "  <tbody>\n",
       "    <tr>\n",
       "      <th>0</th>\n",
       "      <td>AcreageSemiRural</td>\n",
       "      <td>801.428571</td>\n",
       "      <td>14</td>\n",
       "    </tr>\n",
       "    <tr>\n",
       "      <th>1</th>\n",
       "      <td>ApartmentUnitFlat</td>\n",
       "      <td>474.964988</td>\n",
       "      <td>5798</td>\n",
       "    </tr>\n",
       "    <tr>\n",
       "      <th>2</th>\n",
       "      <td>CarSpace</td>\n",
       "      <td>50.000000</td>\n",
       "      <td>1</td>\n",
       "    </tr>\n",
       "    <tr>\n",
       "      <th>3</th>\n",
       "      <td>Duplex</td>\n",
       "      <td>546.000000</td>\n",
       "      <td>5</td>\n",
       "    </tr>\n",
       "    <tr>\n",
       "      <th>4</th>\n",
       "      <td>House</td>\n",
       "      <td>532.665825</td>\n",
       "      <td>7125</td>\n",
       "    </tr>\n",
       "    <tr>\n",
       "      <th>5</th>\n",
       "      <td>NewApartments</td>\n",
       "      <td>476.833333</td>\n",
       "      <td>6</td>\n",
       "    </tr>\n",
       "    <tr>\n",
       "      <th>6</th>\n",
       "      <td>NewHouseLand</td>\n",
       "      <td>435.000000</td>\n",
       "      <td>2</td>\n",
       "    </tr>\n",
       "    <tr>\n",
       "      <th>7</th>\n",
       "      <td>Penthouse</td>\n",
       "      <td>825.000000</td>\n",
       "      <td>1</td>\n",
       "    </tr>\n",
       "    <tr>\n",
       "      <th>8</th>\n",
       "      <td>Rural</td>\n",
       "      <td>1000.000000</td>\n",
       "      <td>1</td>\n",
       "    </tr>\n",
       "    <tr>\n",
       "      <th>9</th>\n",
       "      <td>SemiDetached</td>\n",
       "      <td>673.125000</td>\n",
       "      <td>8</td>\n",
       "    </tr>\n",
       "    <tr>\n",
       "      <th>10</th>\n",
       "      <td>Studio</td>\n",
       "      <td>280.104000</td>\n",
       "      <td>125</td>\n",
       "    </tr>\n",
       "    <tr>\n",
       "      <th>11</th>\n",
       "      <td>Terrace</td>\n",
       "      <td>656.875000</td>\n",
       "      <td>8</td>\n",
       "    </tr>\n",
       "    <tr>\n",
       "      <th>12</th>\n",
       "      <td>Townhouse</td>\n",
       "      <td>579.010918</td>\n",
       "      <td>1557</td>\n",
       "    </tr>\n",
       "    <tr>\n",
       "      <th>13</th>\n",
       "      <td>Villa</td>\n",
       "      <td>429.777778</td>\n",
       "      <td>45</td>\n",
       "    </tr>\n",
       "  </tbody>\n",
       "</table>\n",
       "</div>"
      ],
      "text/plain": [
       "        property_type  averaged_wk_rent   num\n",
       "0    AcreageSemiRural        801.428571    14\n",
       "1   ApartmentUnitFlat        474.964988  5798\n",
       "2            CarSpace         50.000000     1\n",
       "3              Duplex        546.000000     5\n",
       "4               House        532.665825  7125\n",
       "5       NewApartments        476.833333     6\n",
       "6        NewHouseLand        435.000000     2\n",
       "7           Penthouse        825.000000     1\n",
       "8               Rural       1000.000000     1\n",
       "9        SemiDetached        673.125000     8\n",
       "10             Studio        280.104000   125\n",
       "11            Terrace        656.875000     8\n",
       "12          Townhouse        579.010918  1557\n",
       "13              Villa        429.777778    45"
      ]
     },
     "execution_count": 13,
     "metadata": {},
     "output_type": "execute_result"
    }
   ],
   "source": [
    "property_type = result[['property_type', 'weekly_rent','postcode']] \\\n",
    "                .groupby(['property_type'],as_index = False) \\\n",
    "                .agg(\n",
    "                    {\\\n",
    "                        'weekly_rent': 'mean', # count number of instances from sample\n",
    "                        'postcode': 'count'\n",
    "                    }\n",
    "                ) \\\n",
    "                .rename({'postcode': 'num','weekly_rent': 'averaged_wk_rent' }, axis=1)\n",
    "\n",
    "property_type"
   ]
  },
  {
   "cell_type": "markdown",
   "metadata": {},
   "source": [
    "Plot distribution of terms of residential types"
   ]
  },
  {
   "cell_type": "code",
   "execution_count": 14,
   "metadata": {},
   "outputs": [
    {
     "data": {
      "image/png": "[encoded data removed]",
      "text/plain": [
       "<Figure size 1440x720 with 1 Axes>"
      ]
     },
     "metadata": {},
     "output_type": "display_data"
    }
   ],
   "source": [
    "import seaborn as sns\n",
    "from matplotlib import pyplot\n",
    "import os\n",
    "newpath = r'../../plots/figure/' \n",
    "if not os.path.exists(newpath):\n",
    "    os.makedirs(newpath)\n",
    "\n",
    "#sns.set(rc={'figure.figsize':(20,10)})\n",
    "sns.set(font_scale=1.5)\n",
    "\n",
    "size = (20,10)\n",
    "fig, ax = pyplot.subplots(figsize=size)\n",
    "b = sns.boxplot(ax=ax, data=result, x=\"weekly_rent\", y=\"property_type\")\n",
    "b.axes.set_title(\"Weekly Rent per Property Type\")\n",
    "b.set_xlabel(\"Weekly Rent\")\n",
    "b.set_ylabel(\"Property Type\")\n",
    "b.figure.savefig(\"../../plots/figure/API_Rent_per_Property_Type.png\")"
   ]
  },
  {
   "cell_type": "markdown",
   "metadata": {},
   "source": [
    "### Formatting API data as web scraped historical data"
   ]
  },
  {
   "cell_type": "code",
   "execution_count": 15,
   "metadata": {},
   "outputs": [
    {
     "data": {
      "text/plain": [
       "Index(['Unnamed: 0', 'id', 'time', 'listing_type', 'price', 'property_type',\n",
       "       'area', 'building_area', 'land_area', 'bedrooms', 'bathrooms',\n",
       "       'carspaces', 'street_address', 'suburb', 'postcode', 'latitude',\n",
       "       'longitude', 'weekly_rent'],\n",
       "      dtype='object')"
      ]
     },
     "execution_count": 15,
     "metadata": {},
     "output_type": "execute_result"
    }
   ],
   "source": [
    "import pandas as pd\n",
    "df = pd.read_csv('../../data/curated/API_re_clean.csv')\n",
    "df2 = pd.read_csv('../../data/raw/historical_data/0_100_historical.csv')\n",
    "df.columns"
   ]
  },
  {
   "cell_type": "code",
   "execution_count": 16,
   "metadata": {},
   "outputs": [
    {
     "data": {
      "text/plain": [
       "Index(['Unnamed: 0', 'address', 'latitude', 'longitude', 'nbed', 'nbath',\n",
       "       'ncar', 'historical_prices', 'type', 'historical_dates', 'postcode'],\n",
       "      dtype='object')"
      ]
     },
     "execution_count": 16,
     "metadata": {},
     "output_type": "execute_result"
    }
   ],
   "source": [
    "df2.columns"
   ]
  },
  {
   "cell_type": "code",
   "execution_count": 26,
   "metadata": {},
   "outputs": [],
   "source": [
    "# generate the year and month column as Web Scraping data\n",
    "df['year'] = pd.DatetimeIndex(df.time).year\n",
    "df['month'] = pd.DatetimeIndex(df.time).month\n",
    "# select the common columns with Web Scraping data\n",
    "lst = ['street_address', 'latitude', 'longitude', 'bedrooms', 'bathrooms', 'carspaces', 'price', 'listing_type', 'time', 'postcode', 'year', 'month', 'suburb', 'weekly_rent']\n",
    "df = df[lst]\n",
    "# rename as the Web Scraping data\n",
    "df = df.rename(columns = {'street_address': 'address', 'bedrooms': 'nbed', 'bathrooms': 'nbath', 'carspaces': 'ncar', 'listing_type': 'type', 'time': 'historical_dates'})\n",
    "df.to_csv(\"../../data/curated/API_re_clean.csv\")"
   ]
  }
 ],
 "metadata": {
  "kernelspec": {
   "display_name": "Python 3.10.5 64-bit ('3.10.5')",
   "language": "python",
   "name": "python3"
  },
  "language_info": {
   "codemirror_mode": {
    "name": "ipython",
    "version": 3
   },
   "file_extension": ".py",
   "mimetype": "text/x-python",
   "name": "python",
   "nbconvert_exporter": "python",
   "pygments_lexer": "ipython3",
   "version": "3.10.5"
  },
  "orig_nbformat": 4,
  "vscode": {
   "interpreter": {
    "hash": "ddc0034ad7dea0900e87274559c7f730dcb76ce48c43b93b61df066c264fb9ff"
   }
  }
 },
 "nbformat": 4,
 "nbformat_minor": 2
}
