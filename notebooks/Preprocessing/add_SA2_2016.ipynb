{
 "cells": [
  {
   "cell_type": "code",
   "execution_count": 4,
   "metadata": {},
   "outputs": [],
   "source": [
    "import pandas as pd\n",
    "import geopandas as gpd\n",
    "import numpy as np\n",
    "from shapely.geometry import Point\n",
    "from shapely.geometry.polygon import Polygon\n",
    "import os\n",
    "import glob\n",
    "import re"
   ]
  },
  {
   "cell_type": "code",
   "execution_count": 14,
   "metadata": {},
   "outputs": [],
   "source": [
    "def add_sa2(data, sf, name):\n",
    "    \"\"\"add 2016 SA2 CODE based on the geo location\"\"\"\n",
    "    \n",
    "    data = data.dropna(subset=['longitude_ori', 'latitude_ori'])\n",
    "    #if \n",
    "    data['SA2_CODE_2016'] = np.nan\n",
    "    data = data.astype({'longitude_ori': 'float', 'latitude_ori': 'float'})\n",
    "\n",
    "    print(\"Estimated processing size:\", len(sf) * len(data))\n",
    "\n",
    "    # Allocate SA2 code based on the coordinates from rent data\n",
    "    for index, row in data.iterrows():\n",
    "        for index_area, row_area in sf.iterrows():\n",
    "            geo = row_area[\"geometry\"]\n",
    "            fit = False         \n",
    "            fit = geo.contains(Point(row[\"longitude_ori\"], row[\"latitude_ori\"]))\n",
    "\n",
    "            if fit:\n",
    "                data.loc[index,'SA2_CODE_2016'] = row_area[\"SA2_MAIN16\"]\n",
    "                # print(row['id'], \":\", row_area[\"SA2_CODE21\"])\n",
    "                break\n",
    "\n",
    "    # Show data loss\n",
    "    len_data = len(data)\n",
    "    len_result = len(data.dropna(subset=['SA2_CODE_2016']))\n",
    "    print(\"Original size:\", len_data, \"=> Result size:\", len_result)\n",
    "    print(\"Loss:\", len_data - len_result)\n",
    "\n",
    "    # Convert SA2 code as Interger\n",
    "    data = data.dropna(subset=['SA2_CODE_2016'])\n",
    "    data['SA2_CODE'] = data[\"SA2_CODE\"].astype(int)\n",
    "\n",
    "    # Export as csv\n",
    "    data.to_csv(\"../../data/distanceWithSA2/\"+name+\"_property_with_SA22016.csv\")"
   ]
  },
  {
   "cell_type": "code",
   "execution_count": 15,
   "metadata": {},
   "outputs": [
    {
     "data": {
      "text/html": [
       "<div>\n",
       "<style scoped>\n",
       "    .dataframe tbody tr th:only-of-type {\n",
       "        vertical-align: middle;\n",
       "    }\n",
       "\n",
       "    .dataframe tbody tr th {\n",
       "        vertical-align: top;\n",
       "    }\n",
       "\n",
       "    .dataframe thead th {\n",
       "        text-align: right;\n",
       "    }\n",
       "</style>\n",
       "<table border=\"1\" class=\"dataframe\">\n",
       "  <thead>\n",
       "    <tr style=\"text-align: right;\">\n",
       "      <th></th>\n",
       "      <th>SA2_MAIN16</th>\n",
       "      <th>geometry</th>\n",
       "    </tr>\n",
       "  </thead>\n",
       "  <tbody>\n",
       "    <tr>\n",
       "      <th>1</th>\n",
       "      <td>204031069</td>\n",
       "      <td>POLYGON ((147.14253 -36.69219, 147.14202 -36.6...</td>\n",
       "    </tr>\n",
       "    <tr>\n",
       "      <th>2</th>\n",
       "      <td>204031069</td>\n",
       "      <td>POLYGON ((146.95935 -36.72779, 146.95966 -36.7...</td>\n",
       "    </tr>\n",
       "    <tr>\n",
       "      <th>3</th>\n",
       "      <td>204031069</td>\n",
       "      <td>POLYGON ((146.96137 -36.72686, 146.96271 -36.7...</td>\n",
       "    </tr>\n",
       "    <tr>\n",
       "      <th>4</th>\n",
       "      <td>204031069</td>\n",
       "      <td>POLYGON ((146.96105 -36.72821, 146.96051 -36.7...</td>\n",
       "    </tr>\n",
       "    <tr>\n",
       "      <th>5</th>\n",
       "      <td>204031069</td>\n",
       "      <td>POLYGON ((146.95908 -36.72687, 146.95925 -36.7...</td>\n",
       "    </tr>\n",
       "    <tr>\n",
       "      <th>...</th>\n",
       "      <td>...</td>\n",
       "      <td>...</td>\n",
       "    </tr>\n",
       "    <tr>\n",
       "      <th>85002</th>\n",
       "      <td>213051365</td>\n",
       "      <td>POLYGON ((144.66607 -37.83603, 144.66389 -37.8...</td>\n",
       "    </tr>\n",
       "    <tr>\n",
       "      <th>85003</th>\n",
       "      <td>213051365</td>\n",
       "      <td>POLYGON ((144.66607 -37.83603, 144.66666 -37.8...</td>\n",
       "    </tr>\n",
       "    <tr>\n",
       "      <th>85004</th>\n",
       "      <td>213051365</td>\n",
       "      <td>POLYGON ((144.66762 -37.83618, 144.66778 -37.8...</td>\n",
       "    </tr>\n",
       "    <tr>\n",
       "      <th>85005</th>\n",
       "      <td>213051366</td>\n",
       "      <td>POLYGON ((144.73143 -37.86130, 144.73142 -37.8...</td>\n",
       "    </tr>\n",
       "    <tr>\n",
       "      <th>85006</th>\n",
       "      <td>213051366</td>\n",
       "      <td>POLYGON ((144.73143 -37.86130, 144.73167 -37.8...</td>\n",
       "    </tr>\n",
       "  </tbody>\n",
       "</table>\n",
       "<p>85006 rows × 2 columns</p>\n",
       "</div>"
      ],
      "text/plain": [
       "       SA2_MAIN16                                           geometry\n",
       "1       204031069  POLYGON ((147.14253 -36.69219, 147.14202 -36.6...\n",
       "2       204031069  POLYGON ((146.95935 -36.72779, 146.95966 -36.7...\n",
       "3       204031069  POLYGON ((146.96137 -36.72686, 146.96271 -36.7...\n",
       "4       204031069  POLYGON ((146.96105 -36.72821, 146.96051 -36.7...\n",
       "5       204031069  POLYGON ((146.95908 -36.72687, 146.95925 -36.7...\n",
       "...           ...                                                ...\n",
       "85002   213051365  POLYGON ((144.66607 -37.83603, 144.66389 -37.8...\n",
       "85003   213051365  POLYGON ((144.66607 -37.83603, 144.66666 -37.8...\n",
       "85004   213051365  POLYGON ((144.66762 -37.83618, 144.66778 -37.8...\n",
       "85005   213051366  POLYGON ((144.73143 -37.86130, 144.73142 -37.8...\n",
       "85006   213051366  POLYGON ((144.73143 -37.86130, 144.73167 -37.8...\n",
       "\n",
       "[85006 rows x 2 columns]"
      ]
     },
     "execution_count": 15,
     "metadata": {},
     "output_type": "execute_result"
    }
   ],
   "source": [
    "# Read SA2-Geolocation data (shape file)\n",
    "# https://www.abs.gov.au/statistics/standards/australian-statistical-geography-standard-asgs-edition-3/jul2021-jun2026/access-and-downloads/digital-boundary-files\n",
    "sf = gpd.read_file(\"../../data/raw/Geo/1270055001_mb_2016_vic_shape 2/MB_2016_VIC.shp\")\n",
    "# Slice the geolocation for Victoria\n",
    "COL_SF = [\"SA2_MAIN16\", \"geometry\"]\n",
    "sf = sf.loc[sf[\"STE_CODE16\"] == '2']\n",
    "sf['geometry'] = sf['geometry'].to_crs(\"+proj=longlat +ellps=WGS84 +datum=WGS84 +no_defs\")\n",
    "sf = sf[COL_SF]\n",
    "sf = sf.dropna(subset=['geometry'])\n",
    "sf[\"SA2_MAIN16\"] = sf[\"SA2_MAIN16\"].astype(int)\n",
    "sf"
   ]
  },
  {
   "cell_type": "code",
   "execution_count": 16,
   "metadata": {},
   "outputs": [
    {
     "data": {
      "text/plain": [
       "['../../data/distance/2013_min_distance.csv']"
      ]
     },
     "execution_count": 16,
     "metadata": {},
     "output_type": "execute_result"
    }
   ],
   "source": [
    "# this part should be run after running History_prepro.ipynb, files and directory will be deleted after for space saving\n",
    "path = \"../../data/distance/2013_min_distance.csv\"\n",
    "property_all_lst = []\n",
    "for fname in glob.glob(path):\n",
    "    property_all_lst.append(fname)\n",
    "property_all_lst = sorted(property_all_lst)\n",
    "property_all_lst\n"
   ]
  },
  {
   "cell_type": "code",
   "execution_count": 17,
   "metadata": {},
   "outputs": [
    {
     "name": "stdout",
     "output_type": "stream",
     "text": [
      "2013\n",
      "Estimated processing size: 2949878212\n"
     ]
    },
    {
     "ename": "KeyboardInterrupt",
     "evalue": "",
     "output_type": "error",
     "traceback": [
      "\u001b[0;31m---------------------------------------------------------------------------\u001b[0m",
      "\u001b[0;31mKeyboardInterrupt\u001b[0m                         Traceback (most recent call last)",
      "\u001b[1;32m/Users/jonghopark/Documents/GitHub/generic-real-estate-consulting-project-group-43/notebooks/Preprocessing/add_SA2_2016.ipynb Cell 5\u001b[0m in \u001b[0;36m<cell line: 1>\u001b[0;34m()\u001b[0m\n\u001b[1;32m      <a href='vscode-notebook-cell:/Users/jonghopark/Documents/GitHub/generic-real-estate-consulting-project-group-43/notebooks/Preprocessing/add_SA2_2016.ipynb#W2sZmlsZQ%3D%3D?line=6'>7</a>\u001b[0m data \u001b[39m=\u001b[39m pd\u001b[39m.\u001b[39mread_csv(path)\n\u001b[1;32m      <a href='vscode-notebook-cell:/Users/jonghopark/Documents/GitHub/generic-real-estate-consulting-project-group-43/notebooks/Preprocessing/add_SA2_2016.ipynb#W2sZmlsZQ%3D%3D?line=7'>8</a>\u001b[0m \u001b[39m#print(data.longitude.sum())\u001b[39;00m\n\u001b[0;32m----> <a href='vscode-notebook-cell:/Users/jonghopark/Documents/GitHub/generic-real-estate-consulting-project-group-43/notebooks/Preprocessing/add_SA2_2016.ipynb#W2sZmlsZQ%3D%3D?line=8'>9</a>\u001b[0m add_sa2(data, sf, year)\n",
      "\u001b[1;32m/Users/jonghopark/Documents/GitHub/generic-real-estate-consulting-project-group-43/notebooks/Preprocessing/add_SA2_2016.ipynb Cell 5\u001b[0m in \u001b[0;36madd_sa2\u001b[0;34m(data, sf, name)\u001b[0m\n\u001b[1;32m     <a href='vscode-notebook-cell:/Users/jonghopark/Documents/GitHub/generic-real-estate-consulting-project-group-43/notebooks/Preprocessing/add_SA2_2016.ipynb#W2sZmlsZQ%3D%3D?line=10'>11</a>\u001b[0m \u001b[39m# Allocate SA2 code based on the coordinates from rent data\u001b[39;00m\n\u001b[1;32m     <a href='vscode-notebook-cell:/Users/jonghopark/Documents/GitHub/generic-real-estate-consulting-project-group-43/notebooks/Preprocessing/add_SA2_2016.ipynb#W2sZmlsZQ%3D%3D?line=11'>12</a>\u001b[0m \u001b[39mfor\u001b[39;00m index, row \u001b[39min\u001b[39;00m data\u001b[39m.\u001b[39miterrows():\n\u001b[0;32m---> <a href='vscode-notebook-cell:/Users/jonghopark/Documents/GitHub/generic-real-estate-consulting-project-group-43/notebooks/Preprocessing/add_SA2_2016.ipynb#W2sZmlsZQ%3D%3D?line=12'>13</a>\u001b[0m     \u001b[39mfor\u001b[39;00m index_area, row_area \u001b[39min\u001b[39;00m sf\u001b[39m.\u001b[39miterrows():\n\u001b[1;32m     <a href='vscode-notebook-cell:/Users/jonghopark/Documents/GitHub/generic-real-estate-consulting-project-group-43/notebooks/Preprocessing/add_SA2_2016.ipynb#W2sZmlsZQ%3D%3D?line=13'>14</a>\u001b[0m         geo \u001b[39m=\u001b[39m row_area[\u001b[39m\"\u001b[39m\u001b[39mgeometry\u001b[39m\u001b[39m\"\u001b[39m]\n\u001b[1;32m     <a href='vscode-notebook-cell:/Users/jonghopark/Documents/GitHub/generic-real-estate-consulting-project-group-43/notebooks/Preprocessing/add_SA2_2016.ipynb#W2sZmlsZQ%3D%3D?line=14'>15</a>\u001b[0m         fit \u001b[39m=\u001b[39m \u001b[39mFalse\u001b[39;00m         \n",
      "File \u001b[0;32m~/.pyenv/versions/3.10.5/lib/python3.10/site-packages/pandas/core/frame.py:1324\u001b[0m, in \u001b[0;36mDataFrame.iterrows\u001b[0;34m(self)\u001b[0m\n\u001b[1;32m   1322\u001b[0m klass \u001b[39m=\u001b[39m \u001b[39mself\u001b[39m\u001b[39m.\u001b[39m_constructor_sliced\n\u001b[1;32m   1323\u001b[0m \u001b[39mfor\u001b[39;00m k, v \u001b[39min\u001b[39;00m \u001b[39mzip\u001b[39m(\u001b[39mself\u001b[39m\u001b[39m.\u001b[39mindex, \u001b[39mself\u001b[39m\u001b[39m.\u001b[39mvalues):\n\u001b[0;32m-> 1324\u001b[0m     s \u001b[39m=\u001b[39m klass(v, index\u001b[39m=\u001b[39;49mcolumns, name\u001b[39m=\u001b[39;49mk)\n\u001b[1;32m   1325\u001b[0m     \u001b[39myield\u001b[39;00m k, s\n",
      "File \u001b[0;32m~/.pyenv/versions/3.10.5/lib/python3.10/site-packages/geopandas/geodataframe.py:1563\u001b[0m, in \u001b[0;36mGeoDataFrame._constructor_sliced.<locals>._geodataframe_constructor_sliced\u001b[0;34m(*args, **kwargs)\u001b[0m\n\u001b[1;32m   1547\u001b[0m \u001b[39mdef\u001b[39;00m \u001b[39m_geodataframe_constructor_sliced\u001b[39m(\u001b[39m*\u001b[39margs, \u001b[39m*\u001b[39m\u001b[39m*\u001b[39mkwargs):\n\u001b[1;32m   1548\u001b[0m     \u001b[39m\"\"\"\u001b[39;00m\n\u001b[1;32m   1549\u001b[0m \u001b[39m    A specialized (Geo)Series constructor which can fall back to a\u001b[39;00m\n\u001b[1;32m   1550\u001b[0m \u001b[39m    Series if a certain operation does not produce geometries:\u001b[39;00m\n\u001b[0;32m   (...)\u001b[0m\n\u001b[1;32m   1561\u001b[0m \u001b[39m      checking the identity of the index)\u001b[39;00m\n\u001b[1;32m   1562\u001b[0m \u001b[39m    \"\"\"\u001b[39;00m\n\u001b[0;32m-> 1563\u001b[0m     srs \u001b[39m=\u001b[39m pd\u001b[39m.\u001b[39;49mSeries(\u001b[39m*\u001b[39;49margs, \u001b[39m*\u001b[39;49m\u001b[39m*\u001b[39;49mkwargs)\n\u001b[1;32m   1564\u001b[0m     is_row_proxy \u001b[39m=\u001b[39m srs\u001b[39m.\u001b[39mindex \u001b[39mis\u001b[39;00m \u001b[39mself\u001b[39m\u001b[39m.\u001b[39mcolumns\n\u001b[1;32m   1565\u001b[0m     \u001b[39mif\u001b[39;00m is_geometry_type(srs) \u001b[39mand\u001b[39;00m \u001b[39mnot\u001b[39;00m is_row_proxy:\n",
      "File \u001b[0;32m~/.pyenv/versions/3.10.5/lib/python3.10/site-packages/pandas/core/series.py:460\u001b[0m, in \u001b[0;36mSeries.__init__\u001b[0;34m(self, data, index, dtype, name, copy, fastpath)\u001b[0m\n\u001b[1;32m    457\u001b[0m             data \u001b[39m=\u001b[39m SingleArrayManager\u001b[39m.\u001b[39mfrom_array(data, index)\n\u001b[1;32m    459\u001b[0m NDFrame\u001b[39m.\u001b[39m\u001b[39m__init__\u001b[39m(\u001b[39mself\u001b[39m, data)\n\u001b[0;32m--> 460\u001b[0m \u001b[39mself\u001b[39;49m\u001b[39m.\u001b[39;49mname \u001b[39m=\u001b[39m name\n\u001b[1;32m    461\u001b[0m \u001b[39mself\u001b[39m\u001b[39m.\u001b[39m_set_axis(\u001b[39m0\u001b[39m, index, fastpath\u001b[39m=\u001b[39m\u001b[39mTrue\u001b[39;00m)\n",
      "File \u001b[0;32m~/.pyenv/versions/3.10.5/lib/python3.10/site-packages/pandas/core/generic.py:5597\u001b[0m, in \u001b[0;36mNDFrame.__setattr__\u001b[0;34m(self, name, value)\u001b[0m\n\u001b[1;32m   5595\u001b[0m     \u001b[39mobject\u001b[39m\u001b[39m.\u001b[39m\u001b[39m__setattr__\u001b[39m(\u001b[39mself\u001b[39m, name, value)\n\u001b[1;32m   5596\u001b[0m \u001b[39melif\u001b[39;00m name \u001b[39min\u001b[39;00m \u001b[39mself\u001b[39m\u001b[39m.\u001b[39m_metadata:\n\u001b[0;32m-> 5597\u001b[0m     \u001b[39mobject\u001b[39;49m\u001b[39m.\u001b[39;49m\u001b[39m__setattr__\u001b[39;49m(\u001b[39mself\u001b[39;49m, name, value)\n\u001b[1;32m   5598\u001b[0m \u001b[39melse\u001b[39;00m:\n\u001b[1;32m   5599\u001b[0m     \u001b[39mtry\u001b[39;00m:\n",
      "File \u001b[0;32m~/.pyenv/versions/3.10.5/lib/python3.10/site-packages/pandas/core/series.py:642\u001b[0m, in \u001b[0;36mSeries.name\u001b[0;34m(self, value)\u001b[0m\n\u001b[1;32m    640\u001b[0m \u001b[39m@name\u001b[39m\u001b[39m.\u001b[39msetter\n\u001b[1;32m    641\u001b[0m \u001b[39mdef\u001b[39;00m \u001b[39mname\u001b[39m(\u001b[39mself\u001b[39m, value: Hashable) \u001b[39m-\u001b[39m\u001b[39m>\u001b[39m \u001b[39mNone\u001b[39;00m:\n\u001b[0;32m--> 642\u001b[0m     validate_all_hashable(value, error_name\u001b[39m=\u001b[39;49m\u001b[39mf\u001b[39;49m\u001b[39m\"\u001b[39;49m\u001b[39m{\u001b[39;49;00m\u001b[39mtype\u001b[39;49m(\u001b[39mself\u001b[39;49m)\u001b[39m.\u001b[39;49m\u001b[39m__name__\u001b[39;49m\u001b[39m}\u001b[39;49;00m\u001b[39m.name\u001b[39;49m\u001b[39m\"\u001b[39;49m)\n\u001b[1;32m    643\u001b[0m     \u001b[39mobject\u001b[39m\u001b[39m.\u001b[39m\u001b[39m__setattr__\u001b[39m(\u001b[39mself\u001b[39m, \u001b[39m\"\u001b[39m\u001b[39m_name\u001b[39m\u001b[39m\"\u001b[39m, value)\n",
      "File \u001b[0;32m~/.pyenv/versions/3.10.5/lib/python3.10/site-packages/pandas/core/dtypes/common.py:1721\u001b[0m, in \u001b[0;36mvalidate_all_hashable\u001b[0;34m(error_name, *args)\u001b[0m\n\u001b[1;32m   1714\u001b[0m     \u001b[39mif\u001b[39;00m typ \u001b[39mnot\u001b[39;00m \u001b[39min\u001b[39;00m [\u001b[39m\"\u001b[39m\u001b[39mgeneric\u001b[39m\u001b[39m\"\u001b[39m, \u001b[39m\"\u001b[39m\u001b[39mns\u001b[39m\u001b[39m\"\u001b[39m]:\n\u001b[1;32m   1715\u001b[0m         \u001b[39mraise\u001b[39;00m \u001b[39mValueError\u001b[39;00m(\n\u001b[1;32m   1716\u001b[0m             \u001b[39mf\u001b[39m\u001b[39m\"\u001b[39m\u001b[39m{\u001b[39;00m\u001b[39mrepr\u001b[39m(dtype\u001b[39m.\u001b[39mname)\u001b[39m}\u001b[39;00m\u001b[39m is too specific of a frequency, \u001b[39m\u001b[39m\"\u001b[39m\n\u001b[1;32m   1717\u001b[0m             \u001b[39mf\u001b[39m\u001b[39m\"\u001b[39m\u001b[39mtry passing \u001b[39m\u001b[39m{\u001b[39;00m\u001b[39mrepr\u001b[39m(dtype\u001b[39m.\u001b[39mtype\u001b[39m.\u001b[39m\u001b[39m__name__\u001b[39m)\u001b[39m}\u001b[39;00m\u001b[39m\"\u001b[39m\n\u001b[1;32m   1718\u001b[0m         )\n\u001b[0;32m-> 1721\u001b[0m \u001b[39mdef\u001b[39;00m \u001b[39mvalidate_all_hashable\u001b[39m(\u001b[39m*\u001b[39margs, error_name: \u001b[39mstr\u001b[39m \u001b[39m|\u001b[39m \u001b[39mNone\u001b[39;00m \u001b[39m=\u001b[39m \u001b[39mNone\u001b[39;00m) \u001b[39m-\u001b[39m\u001b[39m>\u001b[39m \u001b[39mNone\u001b[39;00m:\n\u001b[1;32m   1722\u001b[0m     \u001b[39m\"\"\"\u001b[39;00m\n\u001b[1;32m   1723\u001b[0m \u001b[39m    Return None if all args are hashable, else raise a TypeError.\u001b[39;00m\n\u001b[1;32m   1724\u001b[0m \n\u001b[0;32m   (...)\u001b[0m\n\u001b[1;32m   1738\u001b[0m \u001b[39m    None\u001b[39;00m\n\u001b[1;32m   1739\u001b[0m \u001b[39m    \"\"\"\u001b[39;00m\n\u001b[1;32m   1740\u001b[0m     \u001b[39mif\u001b[39;00m \u001b[39mnot\u001b[39;00m \u001b[39mall\u001b[39m(is_hashable(arg) \u001b[39mfor\u001b[39;00m arg \u001b[39min\u001b[39;00m args):\n",
      "\u001b[0;31mKeyboardInterrupt\u001b[0m: "
     ]
    }
   ],
   "source": [
    "for path in property_all_lst:\n",
    "    \n",
    "    regex = r'\\d+\\w\\d+'\n",
    "    year = re.findall(regex, path)[0]\n",
    "    print(year)\n",
    "    # Read Rent Data\n",
    "    data = pd.read_csv(path)\n",
    "    #print(data.longitude.sum())\n",
    "    add_sa2(data, sf, year)"
   ]
  },
  {
   "cell_type": "code",
   "execution_count": null,
   "metadata": {},
   "outputs": [],
   "source": []
  }
 ],
 "metadata": {
  "kernelspec": {
   "display_name": "Python 3.10.5 64-bit ('3.10.5')",
   "language": "python",
   "name": "python3"
  },
  "language_info": {
   "codemirror_mode": {
    "name": "ipython",
    "version": 3
   },
   "file_extension": ".py",
   "mimetype": "text/x-python",
   "name": "python",
   "nbconvert_exporter": "python",
   "pygments_lexer": "ipython3",
   "version": "3.10.5"
  },
  "orig_nbformat": 4,
  "vscode": {
   "interpreter": {
    "hash": "ddc0034ad7dea0900e87274559c7f730dcb76ce48c43b93b61df066c264fb9ff"
   }
  }
 },
 "nbformat": 4,
 "nbformat_minor": 2
}
