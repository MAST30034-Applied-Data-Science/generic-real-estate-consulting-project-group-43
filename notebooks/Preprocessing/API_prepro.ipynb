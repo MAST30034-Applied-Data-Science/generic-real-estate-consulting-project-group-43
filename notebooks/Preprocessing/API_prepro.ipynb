{
 "cells": [
  {
   "cell_type": "markdown",
   "metadata": {},
   "source": [
    "# Rental Price Preprocessing Appraoch Overview"
   ]
  },
  {
   "cell_type": "markdown",
   "metadata": {},
   "source": [
    "We want to preprocess rental price for all instances into integers. In summary, we have found these type of price:\n",
    "\n",
    "*Weekly rent only*\n",
    "\n",
    "*   `520pw`\n",
    "*   `$650.00 per week`\n",
    "*   `$650 p.w.`\n",
    "*   `$395 per week`\n",
    "*   `$580 per weekly - Unfurnished`\n",
    "*   `$160-$200 weekly`:\n",
    "\n",
    "*Weekly + Monthly rent*\n",
    "\n",
    "*   `$2300pw \\ $9994pcm`\n",
    "*    `545 PW \\ $2368 PCM`\n",
    "*    `$690pw\\$2998pcm`\n",
    "\n",
    "*Undefined rent* (will be assumed as weekly rent)\n",
    "*   `$750 **SPACIOUS APARTMENT**`\n",
    "*   `$320 OR $320.00` \n",
    "*   `$490 Fully Furnished`\n",
    "\n",
    "*Others (will be dropped)*\n",
    "\n",
    "*   `Contact Agent`: no value\n",
    "*   `$2384 calendar month`: monthly rent\n",
    "*   `$33,000 Per Year`: annual rent\n",
    "*   `160 per night`\n",
    "*   `1Bed + 1Study $560 Negotiable`\n",
    "\n",
    "As we will only be analysising with weekly rent, we will use regular expression to extract the weekly rent. In general, we generated 4 types of regular expression:\n",
    "*   --TYPE1-- **price value with `'w'`**: \n",
    "    *   The common characteristic betweem 'pw', 'per week', 'weekly' etc. is that they all have 'w' in their unit. Thus by extracting price followed by w, we can aviod extracting monthly rent.\n",
    "*   --TYPE2--  **price value only**: \n",
    "    *   We assume if the price discription contains value only, it is the weekly rent.\n",
    "*   --TYPE3-- **price value ended with `'d'`**: \n",
    "    *   From expirements, we discovered that there are many instances which didn't specify weekly rent however specified 'furnished' eg`$490 Fully Furnished`, we will assume these as weekly rent.\n",
    "*   --TYPE4--**price value with `**discription**`**: \n",
    "    *   We also discovered many price looked like `$750 **SPACIOUS APARTMENT**`, hence we assume those are weekly rent."
   ]
  },
  {
   "cell_type": "code",
   "execution_count": 27,
   "metadata": {},
   "outputs": [],
   "source": [
    "import pandas as pd\n",
    "import numpy as np\n",
    "import re\n",
    "import matplotlib.pyplot as plt"
   ]
  },
  {
   "cell_type": "markdown",
   "metadata": {},
   "source": [
    "# RE version"
   ]
  },
  {
   "cell_type": "code",
   "execution_count": 28,
   "metadata": {},
   "outputs": [],
   "source": [
    "df = pd.read_csv(\"../../data/raw/API_Raw_PropertiesInfo.csv\")\n",
    "df['price'] = df[\"price\"].str.replace(\",\",\"\")\n",
    "df['price'] = df[\"price\"].str.replace(\" \",\"_\") # replacing blank space with underline will simplify code in regex\n",
    "\n",
    "regex_str1 = r'([$]?\\d+[.]?\\d+\\w+[.]*\\w*[/]*\\w*[wW])' # $650.00 per week\n",
    "regex_str2 = r'([$]?\\d+[.]?\\d+$)' # $320\n",
    "regex_str3 = r'([$]?\\d+[.]?\\d+\\w+[-]?\\w+[d]$)' # $490 Fully Furnished\n",
    "regex_str4 = r'([$]?\\d+[.]?\\d+\\w*[*]+\\w*[*]+$)' # $750_**SPACIOUS_APARTMENT**\n",
    "\n",
    "df['price1']=df['price'].str.extract(regex_str1)\n",
    "df['price2']=df['price'].str.extract(regex_str2)\n",
    "df['price3']=df['price'].str.extract(regex_str3)\n",
    "df['price4']=df['price'].str.extract(regex_str4)\n"
   ]
  },
  {
   "cell_type": "code",
   "execution_count": 29,
   "metadata": {},
   "outputs": [
    {
     "name": "stderr",
     "output_type": "stream",
     "text": [
      "<ipython-input-29-6af63d129efe>:10: SettingWithCopyWarning: \n",
      "A value is trying to be set on a copy of a slice from a DataFrame.\n",
      "Try using .loc[row_indexer,col_indexer] = value instead\n",
      "\n",
      "See the caveats in the documentation: https://pandas.pydata.org/pandas-docs/stable/user_guide/indexing.html#returning-a-view-versus-a-copy\n",
      "  df2['weekly_rent'] = df2['weekly_rent'].str.extract('(\\d+)').astype(int)\n"
     ]
    },
    {
     "name": "stdout",
     "output_type": "stream",
     "text": [
      "483 instances were dropped as no weekly rent was demonstrated\n",
      "1 instances were dropped as it was annual rent\n"
     ]
    }
   ],
   "source": [
    "df['weekly_rent'] = df['price1'].where(df['price1'].notnull(), df['price2'])\n",
    "df['weekly_rent'] = df['weekly_rent'].where(df['weekly_rent'].notnull(), df['price3'])\n",
    "df['weekly_rent'] = df['weekly_rent'].where(df['weekly_rent'].notnull(), df['price4'])\n",
    "df = df.drop(['price1','price2','price3', 'price4'],axis=1)\n",
    "#dff = df[['price', 'weekly_rent']]\n",
    "#dff.to_csv(\"re.csv\")\n",
    "#dff1 = dff[dff['weekly_rent'].isna()] #just for checking\n",
    "#dff1.to_csv('re_null.csv')\n",
    "df2 = df.dropna(subset = ['weekly_rent'])\n",
    "df2['weekly_rent'] = df2['weekly_rent'].str.extract('(\\d+)').astype(int)\n",
    "\n",
    "df3 = df2[df2['weekly_rent'] > 10000] # drop the yearly rent ones.\n",
    "result =  df2[df2['weekly_rent'] < 10000]\n",
    "result.to_csv(\"../../data/curated/API_re_clean.csv\")\n",
    "\n",
    "print(f'{len(df) - len(df2)} instances were dropped as no weekly rent was demonstrated')\n",
    "print(f'{len(df3)} instances were dropped as it was annual rent')\n"
   ]
  },
  {
   "cell_type": "code",
   "execution_count": 30,
   "metadata": {},
   "outputs": [
    {
     "data": {
      "text/plain": [
       "(array([1.730e+02, 4.686e+03, 7.081e+03, 1.760e+03, 5.360e+02, 1.740e+02,\n",
       "        1.050e+02, 5.500e+01, 3.700e+01, 2.900e+01, 8.000e+00, 6.000e+00,\n",
       "        2.000e+01, 3.000e+00, 5.000e+00, 2.000e+00, 0.000e+00, 5.000e+00,\n",
       "        4.000e+00, 2.000e+00, 0.000e+00, 0.000e+00, 1.000e+00, 0.000e+00,\n",
       "        1.000e+00, 0.000e+00, 0.000e+00, 1.000e+00, 0.000e+00, 1.000e+00]),\n",
       " array([1.00000000e+00, 2.00966667e+02, 4.00933333e+02, 6.00900000e+02,\n",
       "        8.00866667e+02, 1.00083333e+03, 1.20080000e+03, 1.40076667e+03,\n",
       "        1.60073333e+03, 1.80070000e+03, 2.00066667e+03, 2.20063333e+03,\n",
       "        2.40060000e+03, 2.60056667e+03, 2.80053333e+03, 3.00050000e+03,\n",
       "        3.20046667e+03, 3.40043333e+03, 3.60040000e+03, 3.80036667e+03,\n",
       "        4.00033333e+03, 4.20030000e+03, 4.40026667e+03, 4.60023333e+03,\n",
       "        4.80020000e+03, 5.00016667e+03, 5.20013333e+03, 5.40010000e+03,\n",
       "        5.60006667e+03, 5.80003333e+03, 6.00000000e+03]),\n",
       " <BarContainer object of 30 artists>)"
      ]
     },
     "execution_count": 30,
     "metadata": {},
     "output_type": "execute_result"
    },
    {
     "data": {
      "image/png": "[encoded data removed]",
      "text/plain": [
       "<Figure size 432x288 with 1 Axes>"
      ]
     },
     "metadata": {
      "needs_background": "light"
     },
     "output_type": "display_data"
    }
   ],
   "source": [
    "plt.hist(result['weekly_rent'], bins=30)"
   ]
  },
  {
   "cell_type": "code",
   "execution_count": 31,
   "metadata": {},
   "outputs": [
    {
     "data": {
      "text/plain": [
       "(array([2.0000e+00, 0.0000e+00, 0.0000e+00, 0.0000e+00, 0.0000e+00,\n",
       "        0.0000e+00, 2.0000e+00, 0.0000e+00, 6.0000e+00, 0.0000e+00,\n",
       "        2.4000e+01, 0.0000e+00, 5.0000e+00, 0.0000e+00, 0.0000e+00,\n",
       "        3.0000e+00, 0.0000e+00, 8.0000e+00, 0.0000e+00, 2.7000e+01,\n",
       "        0.0000e+00, 4.6000e+01, 0.0000e+00, 7.6000e+01, 0.0000e+00,\n",
       "        2.2700e+02, 0.0000e+00, 3.8200e+02, 0.0000e+00, 1.3887e+04]),\n",
       " array([2008.        , 2008.46666667, 2008.93333333, 2009.4       ,\n",
       "        2009.86666667, 2010.33333333, 2010.8       , 2011.26666667,\n",
       "        2011.73333333, 2012.2       , 2012.66666667, 2013.13333333,\n",
       "        2013.6       , 2014.06666667, 2014.53333333, 2015.        ,\n",
       "        2015.46666667, 2015.93333333, 2016.4       , 2016.86666667,\n",
       "        2017.33333333, 2017.8       , 2018.26666667, 2018.73333333,\n",
       "        2019.2       , 2019.66666667, 2020.13333333, 2020.6       ,\n",
       "        2021.06666667, 2021.53333333, 2022.        ]),\n",
       " <BarContainer object of 30 artists>)"
      ]
     },
     "execution_count": 31,
     "metadata": {},
     "output_type": "execute_result"
    },
    {
     "data": {
      "image/png": "[encoded data removed]",
      "text/plain": [
       "<Figure size 432x288 with 1 Axes>"
      ]
     },
     "metadata": {
      "needs_background": "light"
     },
     "output_type": "display_data"
    }
   ],
   "source": [
    "\n",
    "# pd.Timestamp(result['time_listed'])\n",
    "#result['time_listed'].to_timestamp()\n",
    "\n",
    "df2 = pd.to_datetime(result['time'])\n",
    "years = df2.dt.year\n",
    "years\n",
    "plt.hist(years, bins=30)"
   ]
  }
 ],
 "metadata": {
  "kernelspec": {
   "display_name": "Python 3.8.5 ('base')",
   "language": "python",
   "name": "python3"
  },
  "language_info": {
   "codemirror_mode": {
    "name": "ipython",
    "version": 3
   },
   "file_extension": ".py",
   "mimetype": "text/x-python",
   "name": "python",
   "nbconvert_exporter": "python",
   "pygments_lexer": "ipython3",
   "version": "3.8.5"
  },
  "orig_nbformat": 4,
  "vscode": {
   "interpreter": {
    "hash": "c86cb5e9148e7c4bccb8072cef861029eee896e08e86645269b0451f021733e2"
   }
  }
 },
 "nbformat": 4,
 "nbformat_minor": 2
}
