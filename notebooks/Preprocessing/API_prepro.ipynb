{
 "cells": [
  {
   "cell_type": "markdown",
   "metadata": {},
   "source": [
    "# Rental Price Preprocessing Appraoch Overview"
   ]
  },
  {
   "cell_type": "markdown",
   "metadata": {},
   "source": [
    "We want to preprocess rental price for all instances into integers. In summary, we have found these type of price:\n",
    "\n",
    "*Weekly rent only*\n",
    "\n",
    "*   `520pw`\n",
    "*   `$650.00 per week`\n",
    "*   `$650 p.w.`\n",
    "*   `$395 per week`\n",
    "*   `$580 per weekly - Unfurnished`\n",
    "*   `$160-$200 weekly`:\n",
    "\n",
    "*Weekly + Monthly rent*\n",
    "\n",
    "*   `$2300pw \\ $9994pcm`\n",
    "*    `545 PW \\ $2368 PCM`\n",
    "*    `$690pw\\$2998pcm`\n",
    "\n",
    "*Undefined rent* (will be assumed as weekly rent)\n",
    "*   `$750 **SPACIOUS APARTMENT**`\n",
    "*   `$320 OR $320.00` \n",
    "*   `$490 Fully Furnished`\n",
    "\n",
    "*Others (will be dropped)*\n",
    "\n",
    "*   `Contact Agent`: no value\n",
    "*   `$2384 calendar month`: monthly rent\n",
    "*   `$33,000 Per Year`: annual rent\n",
    "*   `160 per night`\n",
    "*   `1Bed + 1Study $560 Negotiable`\n",
    "\n",
    "As we will only be analysising with weekly rent, we will use regular expression to extract the weekly rent. In general, we generated 4 types of regular expression:\n",
    "*   --TYPE1-- **price value with `'w'`**: \n",
    "    *   The common characteristic betweem 'pw', 'per week', 'weekly' etc. is that they all have 'w' in their unit. Thus by extracting price followed by w, we can aviod extracting monthly rent.\n",
    "*   --TYPE2--  **price value only**: \n",
    "    *   We assume if the price discription contains value only, it is the weekly rent.\n",
    "*   --TYPE3-- **price value ended with `'d'`**: \n",
    "    *   From expirements, we discovered that there are many instances which didn't specify weekly rent however specified 'furnished' eg`$490 Fully Furnished`, we will assume these as weekly rent.\n",
    "*   --TYPE4--**price value with `**discription**`**: \n",
    "    *   We also discovered many price looked like `$750 **SPACIOUS APARTMENT**`, hence we assume those are weekly rent."
   ]
  },
  {
   "cell_type": "code",
   "execution_count": 18,
   "metadata": {},
   "outputs": [],
   "source": [
    "import pandas as pd\n",
    "import numpy as np\n",
    "import re\n",
    "import matplotlib.pyplot as plt"
   ]
  },
  {
   "cell_type": "markdown",
   "metadata": {},
   "source": [
    "# RE version"
   ]
  },
  {
   "cell_type": "code",
   "execution_count": 19,
   "metadata": {},
   "outputs": [],
   "source": [
    "df = pd.read_csv(\"../../data/raw/API_Raw_PropertiesInfo.csv\")\n",
    "df['price'] = df[\"price\"].str.replace(\",\",\"\")\n",
    "df['price'] = df[\"price\"].str.replace(\" \",\"_\") # replacing blank space with underline will simplify code in regex\n",
    "\n",
    "regex_str1 = r'([$]?\\d+[.]?\\d+\\w+[.]*\\w*[/]*\\w*[wW])' # $650.00 per week\n",
    "regex_str2 = r'([$]?\\d+[.]?\\d+$)' # $320\n",
    "regex_str3 = r'([$]?\\d+[.]?\\d+\\w+[-]?\\w+[d]$)' # $490 Fully Furnished\n",
    "regex_str4 = r'([$]?\\d+[.]?\\d+\\w*[*]+\\w*[*]+$)' # $750_**SPACIOUS_APARTMENT**\n",
    "\n",
    "df['price1']=df['price'].str.extract(regex_str1)\n",
    "df['price2']=df['price'].str.extract(regex_str2)\n",
    "df['price3']=df['price'].str.extract(regex_str3)\n",
    "df['price4']=df['price'].str.extract(regex_str4)\n"
   ]
  },
  {
   "cell_type": "code",
   "execution_count": 20,
   "metadata": {},
   "outputs": [],
   "source": [
    "df['weekly_rent'] = df['price1'].where(df['price1'].notnull(), df['price2'])\n",
    "df['weekly_rent'] = df['weekly_rent'].where(df['weekly_rent'].notnull(), df['price3'])\n",
    "df['weekly_rent'] = df['weekly_rent'].where(df['weekly_rent'].notnull(), df['price4'])\n",
    "df = df.drop(['price1','price2','price3', 'price4'],axis=1)\n",
    "dff = df[['price', 'weekly_rent']]\n",
    "dff.to_csv(\"re.csv\")\n",
    "dff1 = dff[dff['weekly_rent'].isna()]\n",
    "dff1.to_csv('re_null.csv')\n",
    "df = df.dropna(subset = ['weekly_rent'])\n",
    "df['weekly_rent'] = df['weekly_rent'].str.extract('(\\d+)').astype(int)\n",
    "\n",
    "df2 = df[df['weekly_rent'] > 10000] # drop the yearly rent ones.\n",
    "result =  df[df['weekly_rent'] < 10000]\n",
    "result.to_csv(\"../../data/curated/API_re_clean.csv\")"
   ]
  },
  {
   "cell_type": "code",
   "execution_count": 15,
   "metadata": {},
   "outputs": [
    {
     "data": {
      "text/plain": [
       "(array([ 13., 188., 899., 208.,  42.,  15.,   4.,  11.,   5.,   1.,   0.,\n",
       "          4.,   0.,   1.,   2.,   0.,   1.,   0.,   0.,   0.,   0.,   0.,\n",
       "          0.,   1.,   0.,   0.,   0.,   0.,   0.,   1.]),\n",
       " array([  33.        ,  198.56666667,  364.13333333,  529.7       ,\n",
       "         695.26666667,  860.83333333, 1026.4       , 1191.96666667,\n",
       "        1357.53333333, 1523.1       , 1688.66666667, 1854.23333333,\n",
       "        2019.8       , 2185.36666667, 2350.93333333, 2516.5       ,\n",
       "        2682.06666667, 2847.63333333, 3013.2       , 3178.76666667,\n",
       "        3344.33333333, 3509.9       , 3675.46666667, 3841.03333333,\n",
       "        4006.6       , 4172.16666667, 4337.73333333, 4503.3       ,\n",
       "        4668.86666667, 4834.43333333, 5000.        ]),\n",
       " <BarContainer object of 30 artists>)"
      ]
     },
     "execution_count": 15,
     "metadata": {},
     "output_type": "execute_result"
    },
    {
     "data": {
      "image/png": "[encoded data removed]",
      "text/plain": [
       "<Figure size 432x288 with 1 Axes>"
      ]
     },
     "metadata": {
      "needs_background": "light"
     },
     "output_type": "display_data"
    }
   ],
   "source": [
    "plt.hist(result['weekly_rent'], bins=30)"
   ]
  },
  {
   "cell_type": "code",
   "execution_count": 16,
   "metadata": {},
   "outputs": [
    {
     "data": {
      "text/plain": [
       "(array([1.000e+00, 0.000e+00, 0.000e+00, 0.000e+00, 1.000e+00, 0.000e+00,\n",
       "        0.000e+00, 0.000e+00, 1.000e+00, 0.000e+00, 0.000e+00, 0.000e+00,\n",
       "        1.000e+00, 0.000e+00, 0.000e+00, 0.000e+00, 0.000e+00, 7.000e+00,\n",
       "        0.000e+00, 0.000e+00, 0.000e+00, 4.000e+00, 0.000e+00, 0.000e+00,\n",
       "        0.000e+00, 1.200e+01, 0.000e+00, 0.000e+00, 0.000e+00, 1.369e+03]),\n",
       " array([2015.        , 2015.23333333, 2015.46666667, 2015.7       ,\n",
       "        2015.93333333, 2016.16666667, 2016.4       , 2016.63333333,\n",
       "        2016.86666667, 2017.1       , 2017.33333333, 2017.56666667,\n",
       "        2017.8       , 2018.03333333, 2018.26666667, 2018.5       ,\n",
       "        2018.73333333, 2018.96666667, 2019.2       , 2019.43333333,\n",
       "        2019.66666667, 2019.9       , 2020.13333333, 2020.36666667,\n",
       "        2020.6       , 2020.83333333, 2021.06666667, 2021.3       ,\n",
       "        2021.53333333, 2021.76666667, 2022.        ]),\n",
       " <BarContainer object of 30 artists>)"
      ]
     },
     "execution_count": 16,
     "metadata": {},
     "output_type": "execute_result"
    },
    {
     "data": {
      "image/png": "[encoded data removed]",
      "text/plain": [
       "<Figure size 432x288 with 1 Axes>"
      ]
     },
     "metadata": {
      "needs_background": "light"
     },
     "output_type": "display_data"
    }
   ],
   "source": [
    "\n",
    "# pd.Timestamp(result['time_listed'])\n",
    "#result['time_listed'].to_timestamp()\n",
    "\n",
    "df2 = pd.to_datetime(result['time'])\n",
    "years = df2.dt.year\n",
    "years\n",
    "plt.hist(years, bins=30)"
   ]
  }
 ],
 "metadata": {
  "kernelspec": {
   "display_name": "Python 3.8.5 ('base')",
   "language": "python",
   "name": "python3"
  },
  "language_info": {
   "codemirror_mode": {
    "name": "ipython",
    "version": 3
   },
   "file_extension": ".py",
   "mimetype": "text/x-python",
   "name": "python",
   "nbconvert_exporter": "python",
   "pygments_lexer": "ipython3",
   "version": "3.8.5"
  },
  "orig_nbformat": 4,
  "vscode": {
   "interpreter": {
    "hash": "c86cb5e9148e7c4bccb8072cef861029eee896e08e86645269b0451f021733e2"
   }
  }
 },
 "nbformat": 4,
 "nbformat_minor": 2
}
