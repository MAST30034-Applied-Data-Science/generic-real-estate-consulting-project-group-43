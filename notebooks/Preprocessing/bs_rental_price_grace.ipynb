{
 "cells": [
  {
   "cell_type": "code",
   "execution_count": 27,
   "metadata": {},
   "outputs": [],
   "source": [
    "import pandas as pd\n",
    "import numpy as np\n",
    "import re\n",
    "def prepro_price(file_path, method):\n",
    "    df = pd.read_csv(file_path)\n",
    "    lst = []\n",
    "    for i in range(len(df)):\n",
    "        price = df['price'].iloc[i].split(\" \")\n",
    "        lst.append(price)\n",
    "    #print(lst[0:5]) \n",
    "\n",
    "    valid_price_lst = []\n",
    "    for pricelst in lst:\n",
    "        valid_price = [price for price in pricelst if (\"$\" in price)] # some data demonstrated two rent price e.g \"$680PW, $2955.00PCM\"\n",
    "        valid_price_lst.append(valid_price)                           # thus we will keep both $values and drop the montly one \n",
    "    one_price_lst = []\n",
    "    for price_lst in valid_price_lst:\n",
    "        if price_lst:\n",
    "            one_price_lst.append(price_lst[0]) # we assume that the weekly rent value will always present first\n",
    "        else:\n",
    "            one_price_lst.append(\"\")\n",
    "    one_price_lst\n",
    "    #print(one_price_lst[0:5])\n",
    "    print(f'the price list containing the weekly rent is of length {len(one_price_lst)}')\n",
    "\n",
    "    price_num_lst = []\n",
    "    for price in one_price_lst:\n",
    "        if \".\" in price:\n",
    "            price = price[:price.index(\".\")] # convert $450.00 and $450.99 to $450\n",
    "        if \"/\" in price:\n",
    "            price = price[:price.index(\"/\")] # some price has no space \"$690pw/$2998pcm\", we slice out the later part\n",
    "        if \"-\" in price:\n",
    "            price = price[:price.index(\"-\")] # some price looks like \"$160-$200 weekly\", we assume rent is the first price\n",
    "        if price.count(\"$\") == 2:\n",
    "            price = price[:price.rindex(\"$\")]# some price looks like \"$425pw$1,847pcm\", we slice out the later part starting with $\n",
    "        price=''.join(char for char in price if char.isdigit()) # keep numbers only drop other illustration words\n",
    "        if price:\n",
    "            price = int(price)\n",
    "            price_num_lst.append(price)\n",
    "        else:\n",
    "            price = np.nan # some rental price consists word only \"contact manager\", thus we make them as nan and drop later\n",
    "            price_num_lst.append(price)\n",
    "    #print(price_num_lst[0:5])\n",
    "    #print(f'the price list containing the weekly rent is of length {len(price_num_lst)}')\n",
    "\n",
    "    df['weekly_rent'] = price_num_lst\n",
    "    df2 = df.dropna(subset=['weekly_rent'])\n",
    "    print(f'{len(df) - len(df2)} data was dropped as no rental price was demonstrated')\n",
    "    df2.to_csv(f'../../data/curated/{method}_clean_price.csv')"
   ]
  },
  {
   "cell_type": "code",
   "execution_count": 29,
   "metadata": {},
   "outputs": [
    {
     "name": "stdout",
     "output_type": "stream",
     "text": [
      "the price list containing the weekly rent is of length 3660\n",
      "85 data was dropped as no rental price was demonstrated\n",
      "the price list containing the weekly rent is of length 4811\n",
      "103 data was dropped as no rental price was demonstrated\n"
     ]
    }
   ],
   "source": [
    "prepro_price(\"../Scraping/BS_Raw_PropertiesInfo.csv\", \"BS\")\n",
    "prepro_price(\"../Scraping/propertiesInfo_philip.csv\", \"API\")"
   ]
  }
 ],
 "metadata": {
  "kernelspec": {
   "display_name": "Python 3.8.5 ('base')",
   "language": "python",
   "name": "python3"
  },
  "language_info": {
   "codemirror_mode": {
    "name": "ipython",
    "version": 3
   },
   "file_extension": ".py",
   "mimetype": "text/x-python",
   "name": "python",
   "nbconvert_exporter": "python",
   "pygments_lexer": "ipython3",
   "version": "3.8.5"
  },
  "orig_nbformat": 4,
  "vscode": {
   "interpreter": {
    "hash": "c86cb5e9148e7c4bccb8072cef861029eee896e08e86645269b0451f021733e2"
   }
  }
 },
 "nbformat": 4,
 "nbformat_minor": 2
}
