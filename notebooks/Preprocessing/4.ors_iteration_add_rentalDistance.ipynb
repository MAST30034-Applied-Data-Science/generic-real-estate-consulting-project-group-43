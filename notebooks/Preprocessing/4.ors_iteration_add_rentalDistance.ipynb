{
 "cells": [
  {
   "cell_type": "markdown",
   "metadata": {},
   "source": [
    "### ``Important:`` Only reproduce (Run All) this when the API's have been restored with at least 5000 total calls\n",
    "### Use ``Open Route Service API`` to retrieve distance matrix (Iterative version)\n",
    "#### Quota 500 per client per day, approx 1 year of merged rental-place dataset per client. "
   ]
  },
  {
   "cell_type": "code",
   "execution_count": 1,
   "metadata": {},
   "outputs": [],
   "source": [
    "import pandas as pd\n",
    "import sys\n",
    "import os\n",
    "from dotenv import load_dotenv\n",
    "\n",
    "load_dotenv()\n",
    "# caution: path[0] is reserved for script path (or '' in REPL)\n",
    "sys.path.insert(1, '../../scripts/')\n",
    "import openrouteservice as ors\n",
    "from add_distance import add_distance_time\n"
   ]
  },
  {
   "cell_type": "code",
   "execution_count": 2,
   "metadata": {},
   "outputs": [
    {
     "data": {
      "text/plain": [
       "['5b3ce3597851110001cf6248b55ae99fc05b4e5d80e222bbbe04657d',\n",
       " '5b3ce3597851110001cf6248e33707f5c3914f39b4671bac87646ac7',\n",
       " '5b3ce3597851110001cf6248e33390389e0b4e0292fb3dcd2dec286b',\n",
       " '5b3ce3597851110001cf62488fd6bd483e964233809653e71984440a',\n",
       " '5b3ce3597851110001cf62482d289033372149f7b6419d839d18a3dc',\n",
       " '5b3ce3597851110001cf62488fb71274f7ac4b2ca2c679bedd963683',\n",
       " '5b3ce3597851110001cf6248768e34108776435cabbcffaf2fb63a60',\n",
       " '5b3ce3597851110001cf624851a53f74cc8e4c6c9e751bb8aee27e05',\n",
       " '5b3ce3597851110001cf6248ce6c95ac96814219a4c3a7741f323b73']"
      ]
     },
     "execution_count": 2,
     "metadata": {},
     "output_type": "execute_result"
    }
   ],
   "source": [
    "ORS_CLIENT_ID = []\n",
    "for i in range(1, 10):\n",
    "    ORS_CLIENT_ID.append(os.getenv('CLIENT_ORS'+str(i)))\n",
    "ORS_CLIENT_ID"
   ]
  },
  {
   "cell_type": "markdown",
   "metadata": {},
   "source": [
    "### The whole Place dataset from 2013 to 2021"
   ]
  },
  {
   "cell_type": "code",
   "execution_count": 4,
   "metadata": {},
   "outputs": [
    {
     "name": "stdout",
     "output_type": "stream",
     "text": [
      "(75723, 6)\n"
     ]
    },
    {
     "data": {
      "text/html": [
       "<div>\n",
       "<style scoped>\n",
       "    .dataframe tbody tr th:only-of-type {\n",
       "        vertical-align: middle;\n",
       "    }\n",
       "\n",
       "    .dataframe tbody tr th {\n",
       "        vertical-align: top;\n",
       "    }\n",
       "\n",
       "    .dataframe thead th {\n",
       "        text-align: right;\n",
       "    }\n",
       "</style>\n",
       "<table border=\"1\" class=\"dataframe\">\n",
       "  <thead>\n",
       "    <tr style=\"text-align: right;\">\n",
       "      <th></th>\n",
       "      <th>Place_Names</th>\n",
       "      <th>latitude</th>\n",
       "      <th>longitude</th>\n",
       "      <th>year</th>\n",
       "      <th>place_type</th>\n",
       "      <th>SA2_CODE</th>\n",
       "    </tr>\n",
       "  </thead>\n",
       "  <tbody>\n",
       "    <tr>\n",
       "      <th>0</th>\n",
       "      <td>GLADSTONE PARK SHOPPING CENTRE</td>\n",
       "      <td>-37.68802</td>\n",
       "      <td>144.88478</td>\n",
       "      <td>2015</td>\n",
       "      <td>shopping</td>\n",
       "      <td>210051245</td>\n",
       "    </tr>\n",
       "    <tr>\n",
       "      <th>1</th>\n",
       "      <td>WHITEHORSE PLAZA SHOPPING CENTRE</td>\n",
       "      <td>-37.81804</td>\n",
       "      <td>145.11973</td>\n",
       "      <td>2015</td>\n",
       "      <td>shopping</td>\n",
       "      <td>207031163</td>\n",
       "    </tr>\n",
       "    <tr>\n",
       "      <th>2</th>\n",
       "      <td>SOUTHLAND SHOPPING CENTRE</td>\n",
       "      <td>-37.96138</td>\n",
       "      <td>145.05445</td>\n",
       "      <td>2015</td>\n",
       "      <td>shopping</td>\n",
       "      <td>208031188</td>\n",
       "    </tr>\n",
       "    <tr>\n",
       "      <th>3</th>\n",
       "      <td>WANTIRNA MALL SHOPPING CENTRE</td>\n",
       "      <td>-37.84693</td>\n",
       "      <td>145.22945</td>\n",
       "      <td>2015</td>\n",
       "      <td>shopping</td>\n",
       "      <td>211011259</td>\n",
       "    </tr>\n",
       "    <tr>\n",
       "      <th>4</th>\n",
       "      <td>WARREN VILLAGE</td>\n",
       "      <td>-37.99332</td>\n",
       "      <td>145.09278</td>\n",
       "      <td>2015</td>\n",
       "      <td>shopping</td>\n",
       "      <td>208031193</td>\n",
       "    </tr>\n",
       "    <tr>\n",
       "      <th>5</th>\n",
       "      <td>MELTON REGIONAL SHOPPING CENTRE</td>\n",
       "      <td>-37.68627</td>\n",
       "      <td>144.56309</td>\n",
       "      <td>2015</td>\n",
       "      <td>shopping</td>\n",
       "      <td>213041358</td>\n",
       "    </tr>\n",
       "    <tr>\n",
       "      <th>6</th>\n",
       "      <td>KUMALA VILLAGE SHOPPING CENTRE</td>\n",
       "      <td>-37.84193</td>\n",
       "      <td>145.25695</td>\n",
       "      <td>2015</td>\n",
       "      <td>shopping</td>\n",
       "      <td>211011251</td>\n",
       "    </tr>\n",
       "    <tr>\n",
       "      <th>7</th>\n",
       "      <td>CHADSTONE SHOPPING CENTRE</td>\n",
       "      <td>-37.88647</td>\n",
       "      <td>145.08299</td>\n",
       "      <td>2015</td>\n",
       "      <td>shopping</td>\n",
       "      <td>208041195</td>\n",
       "    </tr>\n",
       "    <tr>\n",
       "      <th>8</th>\n",
       "      <td>CAULFIELD PARK SHOPPING CENTRE</td>\n",
       "      <td>-37.87276</td>\n",
       "      <td>145.02417</td>\n",
       "      <td>2015</td>\n",
       "      <td>shopping</td>\n",
       "      <td>208021177</td>\n",
       "    </tr>\n",
       "    <tr>\n",
       "      <th>9</th>\n",
       "      <td>DONCASTER SHOPPINGTOWN</td>\n",
       "      <td>-37.78415</td>\n",
       "      <td>145.12639</td>\n",
       "      <td>2015</td>\n",
       "      <td>shopping</td>\n",
       "      <td>207021157</td>\n",
       "    </tr>\n",
       "  </tbody>\n",
       "</table>\n",
       "</div>"
      ],
      "text/plain": [
       "                        Place_Names  latitude  longitude  year place_type  \\\n",
       "0    GLADSTONE PARK SHOPPING CENTRE -37.68802  144.88478  2015   shopping   \n",
       "1  WHITEHORSE PLAZA SHOPPING CENTRE -37.81804  145.11973  2015   shopping   \n",
       "2         SOUTHLAND SHOPPING CENTRE -37.96138  145.05445  2015   shopping   \n",
       "3     WANTIRNA MALL SHOPPING CENTRE -37.84693  145.22945  2015   shopping   \n",
       "4                    WARREN VILLAGE -37.99332  145.09278  2015   shopping   \n",
       "5   MELTON REGIONAL SHOPPING CENTRE -37.68627  144.56309  2015   shopping   \n",
       "6    KUMALA VILLAGE SHOPPING CENTRE -37.84193  145.25695  2015   shopping   \n",
       "7         CHADSTONE SHOPPING CENTRE -37.88647  145.08299  2015   shopping   \n",
       "8    CAULFIELD PARK SHOPPING CENTRE -37.87276  145.02417  2015   shopping   \n",
       "9            DONCASTER SHOPPINGTOWN -37.78415  145.12639  2015   shopping   \n",
       "\n",
       "    SA2_CODE  \n",
       "0  210051245  \n",
       "1  207031163  \n",
       "2  208031188  \n",
       "3  211011259  \n",
       "4  208031193  \n",
       "5  213041358  \n",
       "6  211011251  \n",
       "7  208041195  \n",
       "8  208021177  \n",
       "9  207021157  "
      ]
     },
     "execution_count": 4,
     "metadata": {},
     "output_type": "execute_result"
    }
   ],
   "source": [
    "if not os.path.exists('../../data/featured'):\n",
    "    os.makedirs('../../data/featured')\n",
    "PLACE_COLS = ['Place_Names', 'latitude', 'longitude', 'year', 'place_type', 'SA2_CODE']\n",
    "place_df = pd.read_csv('../../data/curated/features_of_interst/result_place_all_with_sa2.csv')[PLACE_COLS]\n",
    "place_df.drop(place_df[place_df['place_type'] == 'market'].index, inplace=True)\n",
    "print(place_df.shape)\n",
    "place_df.head(10)"
   ]
  },
  {
   "cell_type": "code",
   "execution_count": 5,
   "metadata": {},
   "outputs": [],
   "source": [
    "# columns of interest in property dataset\n",
    "PROPERTY_COLS = ['address', 'latitude', 'longitude', 'nbed', 'nbath', 'ncar', 'weekly_rent', 'postcode', 'year', 'month', 'residence_type', 'SA2_CODE']"
   ]
  },
  {
   "cell_type": "code",
   "execution_count": 6,
   "metadata": {},
   "outputs": [
    {
     "name": "stdout",
     "output_type": "stream",
     "text": [
      "Year 2013 place sample = (6512, 6)\n",
      "Client 0 property df = (11466, 12)\n",
      "merged df has shape (168757, 16)\n",
      "Executing SA2 Code 211051275\n",
      "Subset size = 14, Places count = 2, Property count = 7\n",
      "To Place Distance Grand List, Normal Branch, length = 14\n",
      "Executing SA2 Code 211051276\n",
      "Subset size = 506, Places count = 23, Property count = 22\n",
      "To Place Distance Grand List, Normal Branch, length = 520\n",
      "Executing SA2 Code 205041094\n",
      "Subset size = 1073, Places count = 37, Property count = 29\n",
      "To Place Distance Grand List, Normal Branch, length = 1593\n",
      "Executing SA2 Code 212041309\n",
      "Subset size = 14, Places count = 2, Property count = 7\n",
      "To Place Distance Grand List, Normal Branch, length = 1607\n",
      "Executing SA2 Code 212051567\n",
      "Subset size = 145, Places count = 5, Property count = 29\n",
      "To Place Distance Grand List, Normal Branch, length = 1752\n",
      "Executing SA2 Code 212041310\n",
      "Subset size = 64, Places count = 8, Property count = 8\n",
      "To Place Distance Grand List, Normal Branch, length = 1816\n",
      "Executing SA2 Code 212051568\n",
      "Subset size = 297, Places count = 9, Property count = 33\n",
      "To Place Distance Grand List, Normal Branch, length = 2113\n",
      "Executing SA2 Code 212011289\n",
      "Subset size = 646, Places count = 17, Property count = 38\n"
     ]
    }
   ],
   "source": [
    "# Test the quota status of this API key\n",
    "#locations = [(144.204874, -37.088043), (144.962379, -37.810454)]\n",
    "#sources = [0]\n",
    "#destinations = [1]\n",
    "\n",
    "# add back 2013, 2014 for reproduction\n",
    "YEARS = [2013, 2014, 2015, 2016, 2017, 2018, 2019, 2020, 2021] # 2022 do separately\n",
    "client_index = 0 # check this back to 0\n",
    "for year in YEARS:\n",
    "    # update client settings\n",
    "    client1 = ors.Client(ORS_CLIENT_ID[0]) # Philly's api key 500\n",
    "    client2 = ors.Client(ORS_CLIENT_ID[1]) # Phikho's api key 500\n",
    "    client3 = ors.Client(ORS_CLIENT_ID[2]) # Phikhocaz's api key 500\n",
    "    client4 = ors.Client(ORS_CLIENT_ID[3]) # jonghop api key 500\n",
    "    client5 = ors.Client(ORS_CLIENT_ID[4]) # gracelovesyah api key 500 \n",
    "    client6 = ors.Client(ORS_CLIENT_ID[5]) # gracelovesyah1 api key 500\n",
    "    client7 = ors.Client(ORS_CLIENT_ID[6]) # kakakkaa api key 500\n",
    "    client8 = ors.Client(ORS_CLIENT_ID[7]) # hyunjinp api key 500\n",
    "    client9 = ors.Client(ORS_CLIENT_ID[8]) # Phikho-caz's api key 2500, back up for at least 4 full year\n",
    "    client_list = [client1, client2, client3, client4, client5, client6, client7, client8, client9]\n",
    "    \n",
    "    place_sample = place_df[place_df['year'] == year] # place df of selected year\n",
    "    place_sample = place_sample.drop_duplicates(subset=['Place_Names', 'latitude']).reset_index(drop=True)   \n",
    "    property_df = pd.read_csv(f\"../../data/curated/property_all_with_SA2_classified/{year}_property_with_SA2_classified.csv\")[PROPERTY_COLS] # property df of selected year\n",
    "    print(f\"Year {year} place sample = {place_sample.shape}\")\n",
    "    print(f\"Client {client_index} property df = {property_df.shape}\")\n",
    "    # merge the place df and property df\n",
    "    merged_df = property_df.merge(place_sample, how='inner', on='SA2_CODE')\n",
    "    merged_df = merged_df.rename(columns={'latitude_x': 'latitude_ori', 'longitude_x': 'longitude_ori', 'latitude_y': 'latitude_des', 'longitude_y': 'longitude_des', 'year_x': 'year'})\n",
    "    merged_df.drop('year_y', axis=1, inplace=True)\n",
    "    print(f\"merged df has shape {merged_df.shape}\")\n",
    "    \n",
    "    client = client_list[client_index]\n",
    "    added_distance_merged_df = add_distance_time(merged_df, year, client, 'saving')\n",
    "    print(f\"Year {year} completed, distance added dataset has shape {added_distance_merged_df.shape}\")\n",
    "    client_index += 1 # each client is approximately responsible for a year"
   ]
  }
 ],
 "metadata": {
  "kernelspec": {
   "display_name": "Python 3.8.10 64-bit",
   "language": "python",
   "name": "python3"
  },
  "language_info": {
   "codemirror_mode": {
    "name": "ipython",
    "version": 3
   },
   "file_extension": ".py",
   "mimetype": "text/x-python",
   "name": "python",
   "nbconvert_exporter": "python",
   "pygments_lexer": "ipython3",
   "version": "3.8.10"
  },
  "orig_nbformat": 4,
  "vscode": {
   "interpreter": {
    "hash": "916dbcbb3f70747c44a77c7bcd40155683ae19c65e1c03b4aa3499c5328201f1"
   }
  }
 },
 "nbformat": 4,
 "nbformat_minor": 2
}
