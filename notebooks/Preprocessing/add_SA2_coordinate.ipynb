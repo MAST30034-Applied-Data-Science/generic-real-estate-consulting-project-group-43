{
 "cells": [
  {
   "cell_type": "code",
   "execution_count": 8,
   "metadata": {},
   "outputs": [],
   "source": [
    "import pandas as pd\n",
    "import geopandas as gpd"
   ]
  },
  {
   "cell_type": "code",
   "execution_count": 9,
   "metadata": {},
   "outputs": [],
   "source": [
    "# Read Rent Data\n",
    "data = pd.read_csv(\"../../data/curated/API_re_clean.csv\", index_col=0)\n",
    "\n",
    "# Read SA2-Geolocation data (shape file)\n",
    "sf = gpd.read_file(\"./SA2_2021_AUST_SHP_GDA2020/SA2_2021_AUST_GDA2020.shp\")"
   ]
  },
  {
   "cell_type": "code",
   "execution_count": 10,
   "metadata": {},
   "outputs": [],
   "source": [
    "from operator import concat\n",
    "\n",
    "# Slice the geolocation for Victoria\n",
    "COL_SF = [\"SA2_CODE21\", \"geometry\"]\n",
    "sf = sf.loc[sf[\"STE_CODE21\"] == '2']\n",
    "sf['geometry'] = sf['geometry'].to_crs(\"+proj=longlat +ellps=WGS84 +datum=WGS84 +no_defs\")\n",
    "sf = sf[COL_SF]\n",
    "sf = sf.dropna()"
   ]
  },
  {
   "cell_type": "code",
   "execution_count": 11,
   "metadata": {},
   "outputs": [],
   "source": [
    "sf[\"SA2_CODE21\"] = sf[\"SA2_CODE21\"].astype(int)"
   ]
  },
  {
   "cell_type": "code",
   "execution_count": 12,
   "metadata": {},
   "outputs": [],
   "source": [
    "import numpy as np\n",
    "\n",
    "data = data.dropna()\n",
    "data['SA2_CODE'] = np.nan\n",
    "# data\n"
   ]
  },
  {
   "cell_type": "code",
   "execution_count": 13,
   "metadata": {},
   "outputs": [],
   "source": [
    "from shapely.geometry import Point\n",
    "from shapely.geometry.polygon import Polygon"
   ]
  },
  {
   "cell_type": "code",
   "execution_count": 14,
   "metadata": {},
   "outputs": [
    {
     "name": "stdout",
     "output_type": "stream",
     "text": [
      "Estimated processing size: 7670268\n"
     ]
    }
   ],
   "source": [
    "print(\"Estimated processing size:\", len(sf) * len(data))"
   ]
  },
  {
   "cell_type": "code",
   "execution_count": 15,
   "metadata": {},
   "outputs": [],
   "source": [
    "# Allocate SA2 code based on the coordinates from rent data\n",
    "for index, row in data.iterrows():\n",
    "    for index_area, row_area in sf.iterrows():\n",
    "        geo = row_area[\"geometry\"]\n",
    "        fit = geo.contains(Point(row[\"longitude\"], row[\"latitude\"]))\n",
    "\n",
    "        if fit:\n",
    "            data.loc[data['id'] == row['id'],'SA2_CODE'] = row_area[\"SA2_CODE21\"]\n",
    "            # print(row['id'], \":\", row_area[\"SA2_CODE21\"])\n",
    "            break\n"
   ]
  },
  {
   "cell_type": "code",
   "execution_count": 16,
   "metadata": {},
   "outputs": [
    {
     "name": "stdout",
     "output_type": "stream",
     "text": [
      "Original size: 14694 => Result size: 14694\n",
      "Loss: 0\n"
     ]
    }
   ],
   "source": [
    "# Show data loss\n",
    "print(\"Original size:\", len(data), \"=> Result size:\", len(data.dropna()))\n",
    "print(\"Loss:\", len(data) - len(data.dropna()))"
   ]
  },
  {
   "cell_type": "code",
   "execution_count": 17,
   "metadata": {},
   "outputs": [],
   "source": [
    "# Export as csv\n",
    "data.to_csv(\"../../data/curated/API_clean_price_with_SA2_using_geolocation.csv\")"
   ]
  },
  {
   "cell_type": "code",
   "execution_count": 18,
   "metadata": {},
   "outputs": [],
   "source": [
    "import folium\n",
    "import numpy as np\n",
    "\n",
    "# make geometry as JSON type\n",
    "geoJSON = sf['geometry'].to_json()"
   ]
  },
  {
   "cell_type": "code",
   "execution_count": null,
   "metadata": {},
   "outputs": [],
   "source": [
    "# Map whole SA2 area\n",
    "_map = folium.Map(location=[-37, 144], tiles=\"Stamen Terrain\", zoom_start=10)\n",
    "\n",
    "_map.add_child(folium.Choropleth(\n",
    "    geo_data=geoJSON,\n",
    "    name='SA2 Area',\n",
    "))\n",
    "\n",
    "_map.save('../../plots/SA2_Map.html')\n",
    "_map"
   ]
  },
  {
   "cell_type": "code",
   "execution_count": null,
   "metadata": {},
   "outputs": [],
   "source": [
    "# Point rent data in the map\n",
    "\n",
    "data_s = data.dropna(subset=['latitude', 'longitude'])\n",
    "\n",
    "id_data = data_s['id']\n",
    "latitude_data = data_s['latitude']\n",
    "longitude_data = data_s['longitude']\n",
    "\n",
    "# plot points out of geolocation\n",
    "for id, lati, long in zip(id_data, latitude_data, longitude_data):\n",
    "    _map.add_child(\n",
    "        folium.Marker(location=[lati, long], popup=str(id))\n",
    "    )\n",
    "\n",
    "_map.save('../../plots/rentalData_in_SA2Location.html')\n",
    "_map"
   ]
  }
 ],
 "metadata": {
  "kernelspec": {
   "display_name": "Python 3.10.5 64-bit ('3.10.5')",
   "language": "python",
   "name": "python3"
  },
  "language_info": {
   "codemirror_mode": {
    "name": "ipython",
    "version": 3
   },
   "file_extension": ".py",
   "mimetype": "text/x-python",
   "name": "python",
   "nbconvert_exporter": "python",
   "pygments_lexer": "ipython3",
   "version": "3.10.5"
  },
  "orig_nbformat": 4,
  "vscode": {
   "interpreter": {
    "hash": "ddc0034ad7dea0900e87274559c7f730dcb76ce48c43b93b61df066c264fb9ff"
   }
  }
 },
 "nbformat": 4,
 "nbformat_minor": 2
}
