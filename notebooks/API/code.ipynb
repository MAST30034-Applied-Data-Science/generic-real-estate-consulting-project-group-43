{
 "cells": [
  {
   "cell_type": "code",
   "execution_count": 11,
   "metadata": {},
   "outputs": [
    {
     "name": "stdout",
     "output_type": "stream",
     "text": [
      "d6f361c8f83fc5158fafcaf5dcbe5379\n",
      "<Response [200]>\n",
      "200\n"
     ]
    }
   ],
   "source": [
    "import requests\n",
    "import json\n",
    "from bs4 import BeautifulSoup\n",
    "from csv import writer\n",
    "\n",
    "client_id = 'client_80e72e5511155fdde9a18e467f829c15'\n",
    "client_secret = 'secret_4e3af2f4c36e901b8f7c0afbda475f32'\n",
    "scopes = ['api_listings_read']\n",
    "auth_url = 'https://auth.domain.com.au/v1/connect/token'\n",
    "url_endpoint = 'https://api.domain.com.au/v1/listings/residential/_search'\n",
    "\n",
    "response = requests.post(auth_url, data = {\n",
    "                        'client_id':client_id,\n",
    "                        'client_secret':client_secret,\n",
    "                        'grant_type':'client_credentials',\n",
    "                        'scope':scopes,\n",
    "                        'Content-Type':'text/json'\n",
    "                        })\n",
    "json_res = response.json()\n",
    "access_token=json_res['access_token']\n",
    "print(access_token)\n",
    "auth = {'Authorization':'Bearer ' + access_token}\n",
    "url = url_endpoint\n",
    "\n",
    "#areas = [\"Melbourne City Council - Greater Area\",\n",
    "#                  \"Port Philip City Council - Greater Area\",\n",
    "#                  \"Stonnington City Council - Greater Area\",\n",
    "#                  \"Yarra City Council - Greater Area\"]\n",
    "post_fields = {\n",
    "      \"listingType\":\"Rent\",\n",
    "      \"pageSize\": 200,\n",
    "      #\"pageNumber\": 2,\n",
    "      \"propertyTypes\":\"\",\n",
    "      \"minBedrooms\":1,\n",
    "      \"minBathrooms\":1,\n",
    "      #\"maxPrice\": 400,\n",
    "      \"sort\": {\n",
    "          \"sortKey\": \"Default\"\n",
    "      },\n",
    "      \n",
    "      \"locations\":[\n",
    "        {\n",
    "          \"state\":\"VIC\",\n",
    "          \"region\":\"\",\n",
    "          #\"area\":\"Melbourne City Council - Greater Area\",\n",
    "          #\"area\":\"\",\n",
    "          \"suburb\":\"\",\n",
    "          \"postCode\":\"\",\n",
    "          \"includeSurroundingSuburbs\":False\n",
    "        }\n",
    "      ]\n",
    "}\n",
    "\n",
    "# Request content\n",
    "res1 = requests.post(url,headers=auth,json=post_fields)\n",
    "print(res1)\n",
    "content = json.loads(res1.text)\n",
    "print(len(content))\n"
   ]
  },
  {
   "cell_type": "code",
   "execution_count": 10,
   "metadata": {},
   "outputs": [
    {
     "data": {
      "text/plain": [
       "{'errors': {'searchParameters.PageSize': [\"'Page Size' must be less than or equal to '200'.\"]},\n",
       " 'message': 'The request is invalid.'}"
      ]
     },
     "execution_count": 10,
     "metadata": {},
     "output_type": "execute_result"
    }
   ],
   "source": [
    "#content"
   ]
  },
  {
   "cell_type": "code",
   "execution_count": 12,
   "metadata": {},
   "outputs": [],
   "source": [
    "import csv\n",
    "\n",
    "# Write column headers\n",
    "headers = ['street_adress', 'suburb', 'postcode', 'area', 'property_type', 'bedrooms', 'bathrooms', 'carspaces', 'price', 'time', 'latitude', 'longitude']\n",
    "output_csv = open('lst1.csv', 'w')\n",
    "# create the csv writer object\n",
    "csv_writer = csv.writer(output_csv)\n",
    "# first write the headers\n",
    "csv_writer.writerow(headers)\n",
    "\n",
    "output_csv.close()\n",
    "\n",
    "# Get request for each property ID and extract attributes\n",
    "for i in content:\n",
    "    #get details\n",
    "    r = i['listing']['propertyDetails']\n",
    "    street_address=r['displayableAddress']\n",
    "    suburb=r['suburb']\n",
    "    postcode=r['postcode']\n",
    "    area=r['area']\n",
    "    latitude = r['latitude']\n",
    "    longitude = r['longitude']\n",
    "    property_type=r['propertyType']\n",
    "    bathrooms=r['bathrooms']\n",
    "    bedrooms=r['bedrooms']\n",
    "    \n",
    "    #print(i['listing']['inspectionSchedule']['times'])\n",
    "    if(i['listing']['inspectionSchedule']['times']):\n",
    "        time = i['listing']['inspectionSchedule']['times'][0]['openingTime']\n",
    "    else:\n",
    "        time = 0\n",
    "\n",
    "    if(str(i).find('carspaces'))>0:\n",
    "        carspaces=i['listing']['propertyDetails']['carspaces']\n",
    "    else:\n",
    "        carspaces=0\n",
    "    \n",
    "    price=i['listing']['priceDetails']['displayPrice'][1:4]\n",
    "\n",
    "    info = [street_address, suburb, postcode, area, property_type, bedrooms, bathrooms, carspaces, price, time, latitude, longitude]\n",
    "    \n",
    "    # append the remaining rows one by one\n",
    "    with open('lst1.csv', 'a', newline='') as g:\n",
    "        thewriter = writer(g)        \n",
    "        thewriter.writerow(info)\n",
    "\n",
    "\n"
   ]
  },
  {
   "cell_type": "code",
   "execution_count": null,
   "metadata": {},
   "outputs": [],
   "source": []
  }
 ],
 "metadata": {
  "kernelspec": {
   "display_name": "Python 3.8.10 64-bit",
   "language": "python",
   "name": "python3"
  },
  "language_info": {
   "codemirror_mode": {
    "name": "ipython",
    "version": 3
   },
   "file_extension": ".py",
   "mimetype": "text/x-python",
   "name": "python",
   "nbconvert_exporter": "python",
   "pygments_lexer": "ipython3",
   "version": "3.8.10"
  },
  "orig_nbformat": 4,
  "vscode": {
   "interpreter": {
    "hash": "916dbcbb3f70747c44a77c7bcd40155683ae19c65e1c03b4aa3499c5328201f1"
   }
  }
 },
 "nbformat": 4,
 "nbformat_minor": 2
}
