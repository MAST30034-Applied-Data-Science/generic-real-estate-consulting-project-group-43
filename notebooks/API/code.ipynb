{
 "cells": [
  {
   "cell_type": "code",
   "execution_count": 3,
   "metadata": {},
   "outputs": [
    {
     "name": "stdout",
     "output_type": "stream",
     "text": [
      "1b57218c04a9c01ce8ad20d09d62bc3b\n",
      "<Response [200]>\n",
      "Completed Page 1, this page has 200 data instances\n",
      "<Response [200]>\n",
      "Completed Page 2, this page has 200 data instances\n",
      "<Response [200]>\n",
      "Completed Page 3, this page has 200 data instances\n",
      "<Response [200]>\n",
      "Completed Page 4, this page has 200 data instances\n",
      "<Response [200]>\n",
      "Completed Page 5, this page has 200 data instances\n",
      "<Response [400]>\n",
      "Completed Page 6, this page has 2 data instances\n",
      "<Response [400]>\n",
      "Completed Page 7, this page has 2 data instances\n",
      "<Response [400]>\n",
      "Completed Page 8, this page has 2 data instances\n",
      "<Response [400]>\n",
      "Completed Page 9, this page has 2 data instances\n",
      "<Response [400]>\n",
      "Completed Page 10, this page has 2 data instances\n"
     ]
    }
   ],
   "source": [
    "import requests\n",
    "import json\n",
    "from bs4 import BeautifulSoup\n",
    "from csv import writer\n",
    "\n",
    "client_id = 'client_80e72e5511155fdde9a18e467f829c15'\n",
    "client_secret = 'secret_4e3af2f4c36e901b8f7c0afbda475f32'\n",
    "scopes = ['api_listings_read']\n",
    "auth_url = 'https://auth.domain.com.au/v1/connect/token'\n",
    "url_endpoint = 'https://api.domain.com.au/v1/listings/residential/_search'\n",
    "\n",
    "response = requests.post(auth_url, data = {\n",
    "                        'client_id':client_id,\n",
    "                        'client_secret':client_secret,\n",
    "                        'grant_type':'client_credentials',\n",
    "                        'scope':scopes,\n",
    "                        'Content-Type':'text/json'\n",
    "                        })\n",
    "json_res = response.json()\n",
    "access_token=json_res['access_token']\n",
    "print(access_token)\n",
    "auth = {'Authorization':'Bearer ' + access_token}\n",
    "url = url_endpoint\n",
    "\n",
    "# Write column headers\n",
    "headers = ['street_adress', 'suburb', 'postcode', 'area', 'property_type', 'bedrooms', 'bathrooms', 'carspaces', 'price', 'time', 'latitude', 'longitude']\n",
    "output_csv = open('lst1.csv', 'w')\n",
    "# create the csv writer object\n",
    "csv_writer = writer(output_csv)\n",
    "# first write the headers\n",
    "csv_writer.writerow(headers)\n",
    "\n",
    "output_csv.close()\n",
    "content = []\n",
    "#areas = [\"Melbourne City Council - Greater Area\",\n",
    "#                  \"Port Philip City Council - Greater Area\",\n",
    "#                  \"Stonnington City Council - Greater Area\",\n",
    "#                  \"Yarra City Council - Greater Area\"]\n",
    "\n",
    "# set how many pages we want to collect\n",
    "for page in range(1,6):\n",
    "    post_fields = {\n",
    "          \"listingType\":\"Rent\",\n",
    "          \"pageNumber\":page,\n",
    "          \"pageSize\": 200,\n",
    "          #\"pageNumber\": 2,\n",
    "          \"propertyTypes\":\"\",\n",
    "          \"minBedrooms\":1,\n",
    "          \"minBathrooms\":1,\n",
    "          #\"maxPrice\": 400,\n",
    "          \"sort\": {\n",
    "              \"sortKey\": \"Default\"\n",
    "          },\n",
    "          \n",
    "          \"locations\":[\n",
    "            {\n",
    "              \"state\":\"VIC\",\n",
    "              \"region\":\"\",\n",
    "              #\"area\":\"Melbourne City Council - Greater Area\",\n",
    "              #\"area\":\"\",\n",
    "              \"suburb\":\"\",\n",
    "              \"postCode\":\"\",\n",
    "              \"includeSurroundingSuburbs\":False\n",
    "            }\n",
    "          ]\n",
    "    }\n",
    "\n",
    "    # Request content\n",
    "    res1 = requests.post(url,headers=auth,json=post_fields)\n",
    "    print(res1)\n",
    "    content.append(json.loads(res1.text))\n",
    "    print(f\"Completed Page {len(content)}, this page has {len(content[len(content)-1])} data instances\")   \n"
   ]
  },
  {
   "cell_type": "code",
   "execution_count": 4,
   "metadata": {},
   "outputs": [
    {
     "data": {
      "text/plain": [
       "{'errors': {'searchParameters.Page': ['Cannot page beyond 1000 records.']},\n",
       " 'message': 'The request is invalid.'}"
      ]
     },
     "execution_count": 4,
     "metadata": {},
     "output_type": "execute_result"
    }
   ],
   "source": [
    "content[5]"
   ]
  },
  {
   "cell_type": "code",
   "execution_count": 2,
   "metadata": {},
   "outputs": [
    {
     "ename": "TypeError",
     "evalue": "string indices must be integers",
     "output_type": "error",
     "traceback": [
      "\u001b[0;31m---------------------------------------------------------------------------\u001b[0m",
      "\u001b[0;31mTypeError\u001b[0m                                 Traceback (most recent call last)",
      "\u001b[1;32m/home/phikhocaz/Applied_DS/generic-real-estate-consulting-project-group-43/notebooks/API/code.ipynb Cell 2\u001b[0m in \u001b[0;36m<cell line: 1>\u001b[0;34m()\u001b[0m\n\u001b[1;32m      <a href='vscode-notebook-cell://wsl%2Bubuntu/home/phikhocaz/Applied_DS/generic-real-estate-consulting-project-group-43/notebooks/API/code.ipynb#W5sdnNjb2RlLXJlbW90ZQ%3D%3D?line=0'>1</a>\u001b[0m \u001b[39mfor\u001b[39;00m each \u001b[39min\u001b[39;00m content:\n\u001b[1;32m      <a href='vscode-notebook-cell://wsl%2Bubuntu/home/phikhocaz/Applied_DS/generic-real-estate-consulting-project-group-43/notebooks/API/code.ipynb#W5sdnNjb2RlLXJlbW90ZQ%3D%3D?line=1'>2</a>\u001b[0m     \u001b[39m# Get request for each property ID and extract attributes\u001b[39;00m\n\u001b[1;32m      <a href='vscode-notebook-cell://wsl%2Bubuntu/home/phikhocaz/Applied_DS/generic-real-estate-consulting-project-group-43/notebooks/API/code.ipynb#W5sdnNjb2RlLXJlbW90ZQ%3D%3D?line=2'>3</a>\u001b[0m     \u001b[39mfor\u001b[39;00m i \u001b[39min\u001b[39;00m each:\n\u001b[1;32m      <a href='vscode-notebook-cell://wsl%2Bubuntu/home/phikhocaz/Applied_DS/generic-real-estate-consulting-project-group-43/notebooks/API/code.ipynb#W5sdnNjb2RlLXJlbW90ZQ%3D%3D?line=3'>4</a>\u001b[0m         \u001b[39m#get details\u001b[39;00m\n\u001b[0;32m----> <a href='vscode-notebook-cell://wsl%2Bubuntu/home/phikhocaz/Applied_DS/generic-real-estate-consulting-project-group-43/notebooks/API/code.ipynb#W5sdnNjb2RlLXJlbW90ZQ%3D%3D?line=4'>5</a>\u001b[0m         r \u001b[39m=\u001b[39m i[\u001b[39m'\u001b[39;49m\u001b[39mlisting\u001b[39;49m\u001b[39m'\u001b[39;49m][\u001b[39m'\u001b[39m\u001b[39mpropertyDetails\u001b[39m\u001b[39m'\u001b[39m]\n\u001b[1;32m      <a href='vscode-notebook-cell://wsl%2Bubuntu/home/phikhocaz/Applied_DS/generic-real-estate-consulting-project-group-43/notebooks/API/code.ipynb#W5sdnNjb2RlLXJlbW90ZQ%3D%3D?line=5'>6</a>\u001b[0m         street_address\u001b[39m=\u001b[39mr[\u001b[39m'\u001b[39m\u001b[39mdisplayableAddress\u001b[39m\u001b[39m'\u001b[39m]\n\u001b[1;32m      <a href='vscode-notebook-cell://wsl%2Bubuntu/home/phikhocaz/Applied_DS/generic-real-estate-consulting-project-group-43/notebooks/API/code.ipynb#W5sdnNjb2RlLXJlbW90ZQ%3D%3D?line=6'>7</a>\u001b[0m         suburb\u001b[39m=\u001b[39mr[\u001b[39m'\u001b[39m\u001b[39msuburb\u001b[39m\u001b[39m'\u001b[39m]\n",
      "\u001b[0;31mTypeError\u001b[0m: string indices must be integers"
     ]
    }
   ],
   "source": [
    "for each in content:\n",
    "    # Get request for each property ID and extract attributes\n",
    "    for i in each:\n",
    "        #get details\n",
    "        r = i['listing']['propertyDetails']\n",
    "        street_address=r['displayableAddress']\n",
    "        suburb=r['suburb']\n",
    "        postcode=r['postcode']\n",
    "        area=r['area']\n",
    "        latitude = r['latitude']\n",
    "        longitude = r['longitude']\n",
    "        property_type=r['propertyType']\n",
    "        bathrooms=r['bathrooms']\n",
    "        bedrooms=r['bedrooms']\n",
    "        \n",
    "        #print(i['listing']['inspectionSchedule']['times'])\n",
    "        if(i['listing']['inspectionSchedule']['times']):\n",
    "            time = i['listing']['inspectionSchedule']['times'][0]['openingTime']\n",
    "        else:\n",
    "            time = 0\n",
    "\n",
    "        if(str(i).find('carspaces'))>0:\n",
    "            carspaces=i['listing']['propertyDetails']['carspaces']\n",
    "        else:\n",
    "            carspaces=0\n",
    "        \n",
    "        price=i['listing']['priceDetails']['displayPrice'][1:4]\n",
    "\n",
    "        info = [street_address, suburb, postcode, area, property_type, bedrooms, bathrooms, carspaces, price, time, latitude, longitude]\n",
    "        \n",
    "        # append the remaining rows one by one\n",
    "        with open('lst1.csv', 'a', newline='') as g:\n",
    "            thewriter = writer(g)        \n",
    "            thewriter.writerow(info)\n",
    "\n"
   ]
  },
  {
   "cell_type": "code",
   "execution_count": 15,
   "metadata": {},
   "outputs": [],
   "source": [
    "#content"
   ]
  },
  {
   "cell_type": "code",
   "execution_count": 12,
   "metadata": {},
   "outputs": [],
   "source": [
    "# Write column headers\n",
    "headers = ['street_adress', 'suburb', 'postcode', 'area', 'property_type', 'bedrooms', 'bathrooms', 'carspaces', 'price', 'time', 'latitude', 'longitude']\n",
    "output_csv = open('lst1.csv', 'w')\n",
    "# create the csv writer object\n",
    "csv_writer = writer(output_csv)\n",
    "# first write the headers\n",
    "csv_writer.writerow(headers)\n",
    "\n",
    "output_csv.close()\n",
    "\n",
    "# Get request for each property ID and extract attributes\n",
    "for i in content:\n",
    "    #get details\n",
    "    r = i['listing']['propertyDetails']\n",
    "    street_address=r['displayableAddress']\n",
    "    suburb=r['suburb']\n",
    "    postcode=r['postcode']\n",
    "    area=r['area']\n",
    "    latitude = r['latitude']\n",
    "    longitude = r['longitude']\n",
    "    property_type=r['propertyType']\n",
    "    bathrooms=r['bathrooms']\n",
    "    bedrooms=r['bedrooms']\n",
    "    \n",
    "    #print(i['listing']['inspectionSchedule']['times'])\n",
    "    if(i['listing']['inspectionSchedule']['times']):\n",
    "        time = i['listing']['inspectionSchedule']['times'][0]['openingTime']\n",
    "    else:\n",
    "        time = 0\n",
    "\n",
    "    if(str(i).find('carspaces'))>0:\n",
    "        carspaces=i['listing']['propertyDetails']['carspaces']\n",
    "    else:\n",
    "        carspaces=0\n",
    "    \n",
    "    price=i['listing']['priceDetails']['displayPrice'][1:4]\n",
    "\n",
    "    info = [street_address, suburb, postcode, area, property_type, bedrooms, bathrooms, carspaces, price, time, latitude, longitude]\n",
    "    \n",
    "    # append the remaining rows one by one\n",
    "    with open('lst1.csv', 'a', newline='') as g:\n",
    "        thewriter = writer(g)        \n",
    "        thewriter.writerow(info)\n",
    "\n",
    "\n"
   ]
  },
  {
   "cell_type": "code",
   "execution_count": null,
   "metadata": {},
   "outputs": [],
   "source": []
  }
 ],
 "metadata": {
  "kernelspec": {
   "display_name": "Python 3.8.10 64-bit",
   "language": "python",
   "name": "python3"
  },
  "language_info": {
   "codemirror_mode": {
    "name": "ipython",
    "version": 3
   },
   "file_extension": ".py",
   "mimetype": "text/x-python",
   "name": "python",
   "nbconvert_exporter": "python",
   "pygments_lexer": "ipython3",
   "version": "3.8.10"
  },
  "orig_nbformat": 4,
  "vscode": {
   "interpreter": {
    "hash": "916dbcbb3f70747c44a77c7bcd40155683ae19c65e1c03b4aa3499c5328201f1"
   }
  }
 },
 "nbformat": 4,
 "nbformat_minor": 2
}
