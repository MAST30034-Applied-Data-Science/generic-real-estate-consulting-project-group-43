{
 "cells": [
  {
   "cell_type": "code",
   "execution_count": null,
   "metadata": {},
   "outputs": [],
   "source": [
    "pip install openpyxl"
   ]
  },
  {
   "cell_type": "code",
   "execution_count": null,
   "metadata": {},
   "outputs": [],
   "source": [
    "import pandas as pd\n",
    "\n",
    "data_xlsx = pd.read_excel('../data/raw/external_dataset_xlsx/migration.xlsx')\n",
    "data_xlsx.to_csv('../data/raw/external_dataset_csv/migration.csv') \n",
    "\n",
    "data_xlsx = pd.read_excel('../data/raw/external_dataset_xlsx/Data_Tables_LGA_Recorded_Offences_Year_Ending_March_2022_rate.xlsx')\n",
    "data_xlsx.to_csv('../data/raw/external_dataset_csv/Data_Tables_LGA_Recorded_Offences_Year_Ending_March_2022_rate.csv') \n",
    "\n",
    "data_xlsx = pd.read_excel('../data/raw/external_dataset_xlsx/Data_Tables_LGA_Recorded_Offences_Year_Ending_March_2022_cases.xlsx')\n",
    "data_xlsx.to_csv('../data/raw/external_dataset_csv/Data_Tables_LGA_Recorded_Offences_Year_Ending_March_2022_cases.csv') \n",
    "\n",
    "data_xlsx = pd.read_excel('../data/raw/external_dataset_xlsx/income_victoria_sa2.xlsx')\n",
    "data_xlsx.to_csv('../data/raw/external_dataset_csv/income_victoria_sa2.csv') \n",
    "\n",
    "data_xlsx = pd.read_excel('../data/raw/external_dataset_xlsx/Population - states and territories.xlsx')\n",
    "data_xlsx.to_csv('../data/raw/external_dataset_csv/Population - states and territories.csv') \n",
    "\n",
    "data_xlsx = pd.read_excel('../data/raw/external_dataset_xlsx/population-sa2.xlsx')\n",
    "data_xlsx.to_csv('../data/raw/external_dataset_csv/population-sa2.csv') \n",
    "\n",
    "data_xlsx = pd.read_excel('../data/raw/external_dataset_xlsx/Population - Victoria-age.xlsx')\n",
    "data_xlsx.to_csv('../data/raw/external_dataset_csv/Population - Victoria-age.csv') \n",
    "\n"
   ]
  }
 ],
 "metadata": {
  "kernelspec": {
   "display_name": "Python 3.9.1 64-bit",
   "language": "python",
   "name": "python3"
  },
  "language_info": {
   "name": "python",
   "version": "3.9.1"
  },
  "orig_nbformat": 4,
  "vscode": {
   "interpreter": {
    "hash": "aee8b7b246df8f9039afb4144a1f6fd8d2ca17a180786b69acc140d282b71a49"
   }
  }
 },
 "nbformat": 4,
 "nbformat_minor": 2
}
