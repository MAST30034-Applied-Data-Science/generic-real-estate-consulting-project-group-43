{
 "cells": [
  {
   "cell_type": "markdown",
   "metadata": {},
   "source": [
    "## Slidebar annimated Geo Visual of rental prices (2013-2022)\n",
    "This notebook visualises the averaged rental prices for all properties in our dataset from 2013 - 2022. The generated geo visual plot with a slide bar will easily demonstrate the trend of overall rental price value from 2013 - 2022\n",
    "\n",
    "**results**\n",
    "1. the overall rental prices increases for most suburbs from 2013 to 2022\n",
    "2. largest rental prices changes occurred in central vic (melbs) area\n",
    "\n",
    "**implication**\n",
    "\n",
    "rental price may be affected due to economic factors such as inflation. Hence we could include GDP, saving rate, income, population as economic factors which may influence rental price."
   ]
  },
  {
   "cell_type": "code",
   "execution_count": null,
   "metadata": {},
   "outputs": [],
   "source": [
    "import pandas as pd\n",
    "import glob\n",
    "import os"
   ]
  },
  {
   "cell_type": "markdown",
   "metadata": {},
   "source": [
    "## Analyse Combined Data"
   ]
  },
  {
   "cell_type": "code",
   "execution_count": null,
   "metadata": {},
   "outputs": [],
   "source": [
    "curated_path = \"../data/curated/merged_dataset/*.csv\"\n",
    "file_lst2 = []\n",
    "for fname in glob.glob(curated_path):\n",
    "    file_lst2.append(fname)\n",
    "file_lst2\n",
    "# combine all files in the list\n",
    "merged_df = pd.concat([pd.read_csv(f) for f in file_lst2 ])\n",
    "merged_df.dropna(inplace=True)\n",
    "merged_df = merged_df[['year', 'sa2_2021', 'weekly_rent']]\n",
    "merged_df = merged_df.groupby(['year', 'sa2_2021'], as_index=False).agg({'weekly_rent': 'mean'})"
   ]
  },
  {
   "cell_type": "code",
   "execution_count": null,
   "metadata": {},
   "outputs": [],
   "source": [
    "vic_sa2 = pd.read_csv('../data/curated/sa2_vic_2021.csv').iloc[:, 1:]\n",
    "vic_sa2.rename({'SA2_CODE21': 'sa2_2021', 'SA2_NAME21': 'name_2021'}, axis=1, inplace=True)"
   ]
  },
  {
   "cell_type": "code",
   "execution_count": null,
   "metadata": {},
   "outputs": [],
   "source": [
    "all_year_df = merged_df.merge(vic_sa2, how='left', left_on='sa2_2021', right_on='sa2_2021')\n",
    "all_year_df.head()"
   ]
  },
  {
   "cell_type": "markdown",
   "metadata": {},
   "source": [
    "## Geo Anlaysis"
   ]
  },
  {
   "cell_type": "code",
   "execution_count": null,
   "metadata": {},
   "outputs": [],
   "source": [
    "import geopandas as gpd\n",
    "import json\n",
    "import pandas as pd\n",
    "with open('../data/curated/geo.json', 'r') as filename:\n",
    "    geoJSON=json.load(filename)\n",
    "geoJSON[:500]"
   ]
  },
  {
   "cell_type": "code",
   "execution_count": null,
   "metadata": {},
   "outputs": [],
   "source": [
    "#Preparing the geometries for neighbourhoods\n",
    "neighbourhoods = gpd.read_file(geoJSON)\n",
    "\n",
    "#The index of the json has to be the neighbourhood name\n",
    "neighbourhoods.index = neighbourhoods['SA2_NAME21']\n",
    "#Dropping useless columns for this application (it's all about saving memory)\n",
    "neighbourhoods.drop(['SA2_NAME21','id'], axis=1, inplace=True)\n",
    "\n",
    "#Choropleth mapbox accepts a json for the geometries of neighbourhoods.\n",
    "neighbourhoods_json = json.loads(neighbourhoods.to_json())\n",
    "neighbourhoods.head()"
   ]
  },
  {
   "cell_type": "code",
   "execution_count": null,
   "metadata": {},
   "outputs": [],
   "source": [
    "all_year_df = merged_df.merge(vic_sa2, how='left', left_on='sa2_2021', right_on='sa2_2021')\n"
   ]
  },
  {
   "cell_type": "code",
   "execution_count": null,
   "metadata": {},
   "outputs": [],
   "source": [
    "all_year_df.head()"
   ]
  },
  {
   "cell_type": "code",
   "execution_count": null,
   "metadata": {},
   "outputs": [],
   "source": [
    "\n",
    "import folium\n",
    "m = folium.Map(location=[-37.81, 144.96], tiles=\"Stamen Terrain\", zoom_start=10, color='white')\n",
    "svg_style = '<style>svg {background-color: rgb(255, 255, 255,0.5);}</style>'\n",
    "m.get_root().header.add_child(folium.Element(svg_style))\n",
    "\n",
    "c = folium.Choropleth(\n",
    "    geo_data=geoJSON,\n",
    "    name='choropleth',\n",
    "    data=all_year_df[all_year_df['year']==2022], \n",
    "    columns=['name_2021','weekly_rent'],\n",
    "    key_on='properties.SA2_NAME21', \n",
    "    fill_color='PiYG', \n",
    "    nan_fill_color='black',\n",
    "    legend_name='weekly rent by SA2',\n",
    ")\n",
    "\n",
    "c.add_to(m)\n",
    "m"
   ]
  },
  {
   "cell_type": "code",
   "execution_count": null,
   "metadata": {},
   "outputs": [],
   "source": [
    "max_count = all_year_df['weekly_rent'].max()\n",
    "\n",
    "import plotly.express as px\n",
    "fig = px.choropleth_mapbox(data_frame=all_year_df,\n",
    "                           geojson=neighbourhoods,\n",
    "                           locations=all_year_df['name_2021'],\n",
    "                           color='weekly_rent',\n",
    "                           center={'lat':-37.81, 'lon':144.96},\n",
    "                           mapbox_style='open-street-map',\n",
    "                           zoom=5,\n",
    "                           color_continuous_scale='blues',\n",
    "                           range_color=(0, 1000),\n",
    "                           animation_frame='year',\n",
    "                           width=800,\n",
    "                           height=600)\n",
    "fig.write_html('../plots/aggregated_geo/plow_map.html')\n",
    "#fig.show()"
   ]
  }
 ],
 "metadata": {
  "kernelspec": {
   "display_name": "Python 3.8.5 ('base')",
   "language": "python",
   "name": "python3"
  },
  "language_info": {
   "codemirror_mode": {
    "name": "ipython",
    "version": 3
   },
   "file_extension": ".py",
   "mimetype": "text/x-python",
   "name": "python",
   "nbconvert_exporter": "python",
   "pygments_lexer": "ipython3",
   "version": "3.8.5"
  },
  "orig_nbformat": 4,
  "vscode": {
   "interpreter": {
    "hash": "c86cb5e9148e7c4bccb8072cef861029eee896e08e86645269b0451f021733e2"
   }
  }
 },
 "nbformat": 4,
 "nbformat_minor": 2
}
