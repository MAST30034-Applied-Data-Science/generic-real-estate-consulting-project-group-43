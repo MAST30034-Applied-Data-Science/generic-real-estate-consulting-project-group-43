{
 "cells": [
  {
   "cell_type": "code",
   "execution_count": null,
   "metadata": {},
   "outputs": [],
   "source": [
    "import pandas as pd\n",
    "import glob\n",
    "import os\n",
    "import seaborn as sns\n",
    "from matplotlib import pyplot as plt"
   ]
  },
  {
   "cell_type": "markdown",
   "metadata": {},
   "source": [
    "## Analyse Combined Data"
   ]
  },
  {
   "cell_type": "code",
   "execution_count": null,
   "metadata": {},
   "outputs": [],
   "source": [
    "curated_path = \"../data/curated/property_all_with_SA2_classified/*.csv\"\n",
    "file_lst2 = []\n",
    "for fname in glob.glob(curated_path):\n",
    "    file_lst2.append(fname)\n",
    "file_lst2\n",
    "# combine all files in the list\n",
    "df = pd.concat([pd.read_csv(f) for f in file_lst2 ])\n",
    "combined_df = df"
   ]
  },
  {
   "cell_type": "code",
   "execution_count": null,
   "metadata": {},
   "outputs": [],
   "source": [
    "df"
   ]
  },
  {
   "cell_type": "code",
   "execution_count": null,
   "metadata": {},
   "outputs": [],
   "source": [
    "\n",
    "type_df = df[['residence_type', 'year','weekly_rent','postcode']]\\\n",
    "        .groupby(['residence_type'],as_index = False) \\\n",
    "        .agg(\n",
    "            {\\\n",
    "                'weekly_rent': 'mean', # count number of instances from sample\n",
    "                'postcode': 'count'\n",
    "            }\n",
    "        ) \\\n",
    "        .rename({'postcode': 'num','weekly_rent': 'averaged_wk_rent' }, axis=1)\n",
    "\n",
    "type_df"
   ]
  },
  {
   "cell_type": "code",
   "execution_count": null,
   "metadata": {},
   "outputs": [],
   "source": [
    "#plt.figure(figsize=(15,15))\n",
    "ax = sns.barplot(\n",
    "    data=type_df, y=\"num\", x=\"residence_type\",\n",
    ")"
   ]
  },
  {
   "cell_type": "code",
   "execution_count": null,
   "metadata": {},
   "outputs": [],
   "source": [
    "df.columns"
   ]
  },
  {
   "cell_type": "markdown",
   "metadata": {},
   "source": [
    "### Aggregation by SA2 and residence type"
   ]
  },
  {
   "cell_type": "code",
   "execution_count": null,
   "metadata": {},
   "outputs": [],
   "source": [
    "\n",
    "sa2_df = df[['residence_type', 'year','weekly_rent','postcode','SA2_CODE','Unnamed: 0']]\\\n",
    "        .groupby(['SA2_CODE' ,'residence_type'],as_index = False) \\\n",
    "        .agg(\n",
    "            {\\\n",
    "                'weekly_rent': 'mean', # count number of instances from sample\n",
    "                'Unnamed: 0': 'count',\n",
    "            }\n",
    "        ) \\\n",
    "        .rename({'Unnamed: 0': 'num','weekly_rent': 'averaged_wk_rent' }, axis=1)\n",
    "\n",
    "sa2_df"
   ]
  },
  {
   "cell_type": "code",
   "execution_count": null,
   "metadata": {},
   "outputs": [],
   "source": [
    "\n",
    "sa2_df_all = df[['residence_type', 'year','weekly_rent','postcode','SA2_CODE','Unnamed: 0']]\\\n",
    "        .groupby(['SA2_CODE'],as_index = False) \\\n",
    "        .agg(\n",
    "            {\\\n",
    "                'weekly_rent': 'mean', # count number of instances from sample\n",
    "                'Unnamed: 0': 'count',\n",
    "            }\n",
    "        ) \\\n",
    "        .rename({'Unnamed: 0': 'num','weekly_rent': 'averaged_wk_rent' }, axis=1)\n",
    "\n",
    "sa2_df_all"
   ]
  },
  {
   "cell_type": "markdown",
   "metadata": {},
   "source": [
    "Rank SA2 by number of House and Apt rented in that suburb"
   ]
  },
  {
   "cell_type": "code",
   "execution_count": null,
   "metadata": {},
   "outputs": [],
   "source": [
    "sa2_df_a = sa2_df[sa2_df.residence_type == 'Apartment']\n",
    "sa2_df_h = sa2_df[sa2_df.residence_type == 'House']\n",
    "\n",
    "sa2_df_a = sa2_df_a.sort_values(by=['num'],ascending=False)\n",
    "sa2_df_h = sa2_df_h.sort_values(by=['num'],ascending=False)"
   ]
  },
  {
   "cell_type": "code",
   "execution_count": null,
   "metadata": {},
   "outputs": [],
   "source": [
    "vic_sa2 = pd.read_csv('../data/curated/sa2_vic_2021.csv')\n",
    "top_df_a = sa2_df_a.merge(vic_sa2, how='left', left_on='SA2_CODE',right_on = 'SA2_CODE21')\n",
    "top_df_h = sa2_df_h.merge(vic_sa2, how='left', left_on='SA2_CODE',right_on = 'SA2_CODE21')"
   ]
  },
  {
   "cell_type": "code",
   "execution_count": null,
   "metadata": {},
   "outputs": [],
   "source": [
    "top_df_a = top_df_a[['SA2_NAME21','SA2_CODE21']]\n",
    "top_df_h = top_df_h[['SA2_NAME21','SA2_CODE21']]"
   ]
  },
  {
   "cell_type": "code",
   "execution_count": null,
   "metadata": {},
   "outputs": [],
   "source": [
    "html = top_df_a.to_html()\n",
    "import os\n",
    "# write html to file\n",
    "path = '../web/templates/html/'\n",
    "if not os.path.exists(path):\n",
    "    os.makedirs(path)\n",
    "text_file = open(\"../web/templates/html/top_df_a.html\", \"w\")\n",
    "text_file.write(html)\n",
    "text_file.close()"
   ]
  },
  {
   "cell_type": "code",
   "execution_count": null,
   "metadata": {},
   "outputs": [],
   "source": [
    "html = top_df_h.to_html()\n",
    "import os\n",
    "# write html to file\n",
    "path = '../web/templates/html/'\n",
    "if not os.path.exists(path):\n",
    "    os.makedirs(path)\n",
    "text_file = open(\"../web/templates/html/top_df_h.html\", \"w\")\n",
    "text_file.write(html)\n",
    "text_file.close()"
   ]
  },
  {
   "cell_type": "markdown",
   "metadata": {},
   "source": [
    "## Geo Anlaysis"
   ]
  },
  {
   "cell_type": "code",
   "execution_count": null,
   "metadata": {},
   "outputs": [],
   "source": [
    "import geopandas as gpd\n",
    "import json\n",
    "import pandas as pd\n",
    "with open('../data/curated/geo.json', 'r') as filename:\n",
    "    geoJSON=json.load(filename)\n"
   ]
  },
  {
   "cell_type": "code",
   "execution_count": null,
   "metadata": {},
   "outputs": [],
   "source": [
    "sa2_df.head()"
   ]
  },
  {
   "cell_type": "code",
   "execution_count": null,
   "metadata": {},
   "outputs": [],
   "source": [
    "SA2 = pd.read_csv('../data/curated/sa2_vic_2021.csv')\n",
    "sa2_df = sa2_df.merge(SA2, how='left', left_on = 'SA2_CODE', right_on = 'SA2_CODE21').drop(columns = ['SA2_CODE21','Unnamed: 0'])\n",
    "sa2_df_all = sa2_df_all.merge(SA2, how='left', left_on = 'SA2_CODE', right_on = 'SA2_CODE21').drop(columns = ['SA2_CODE21','Unnamed: 0'])"
   ]
  },
  {
   "cell_type": "code",
   "execution_count": null,
   "metadata": {},
   "outputs": [],
   "source": [
    "sa2_df_a = sa2_df[sa2_df.residence_type == 'Apartment']\n",
    "sa2_df_h = sa2_df[sa2_df.residence_type == 'House']"
   ]
  },
  {
   "cell_type": "markdown",
   "metadata": {},
   "source": [
    "number of total property"
   ]
  },
  {
   "cell_type": "code",
   "execution_count": null,
   "metadata": {},
   "outputs": [],
   "source": [
    "\n",
    "import folium\n",
    "m = folium.Map(location=[-37.81, 144.96], tiles=\"Stamen Terrain\", zoom_start=10, color='white')\n",
    "svg_style = '<style>svg {background-color: rgb(255, 255, 255,0.5);}</style>'\n",
    "m.get_root().header.add_child(folium.Element(svg_style))\n",
    "\n",
    "c = folium.Choropleth(\n",
    "    geo_data=geoJSON,\n",
    "    name='choropleth',\n",
    "    data=sa2_df_all.reset_index(), \n",
    "    columns=['SA2_NAME21','num'],\n",
    "    key_on='properties.SA2_NAME21', \n",
    "    fill_color='PiYG', \n",
    "    nan_fill_color='black',\n",
    "    legend_name='number of total propety',\n",
    ")\n",
    "\n",
    "c.add_to(m)"
   ]
  },
  {
   "cell_type": "code",
   "execution_count": null,
   "metadata": {},
   "outputs": [],
   "source": [
    "path = '../plots/aggregated_geo/'\n",
    "import os\n",
    "if not os.path.exists(path):\n",
    "    os.makedirs(path)\n",
    "m.save(path +'number of total propety.html')"
   ]
  },
  {
   "cell_type": "markdown",
   "metadata": {},
   "source": [
    "number of apartment"
   ]
  },
  {
   "cell_type": "code",
   "execution_count": null,
   "metadata": {},
   "outputs": [],
   "source": [
    "\n",
    "import folium\n",
    "m = folium.Map(location=[-37.81, 144.96], tiles=\"Stamen Terrain\", zoom_start=10, color='white')\n",
    "svg_style = '<style>svg {background-color: rgb(255, 255, 255,0.5);}</style>'\n",
    "m.get_root().header.add_child(folium.Element(svg_style))\n",
    "\n",
    "c = folium.Choropleth(\n",
    "    geo_data=geoJSON,\n",
    "    name='choropleth',\n",
    "    data=sa2_df_a.reset_index(), \n",
    "    columns=['SA2_NAME21','num'],\n",
    "    key_on='properties.SA2_NAME21', \n",
    "    fill_color='PiYG', \n",
    "    nan_fill_color='black',\n",
    "    legend_name='number of apartment',\n",
    ")\n",
    "\n",
    "c.add_to(m)\n",
    "m"
   ]
  },
  {
   "cell_type": "code",
   "execution_count": null,
   "metadata": {},
   "outputs": [],
   "source": [
    "\n",
    "m.save(path +'number of apartment.html')"
   ]
  },
  {
   "cell_type": "markdown",
   "metadata": {},
   "source": [
    "number of house"
   ]
  },
  {
   "cell_type": "code",
   "execution_count": null,
   "metadata": {},
   "outputs": [],
   "source": [
    "\n",
    "import folium\n",
    "m = folium.Map(location=[-37.81, 144.96], tiles=\"Stamen Terrain\", zoom_start=10, color='white')\n",
    "svg_style = '<style>svg {background-color: rgb(255, 255, 255,0.5);}</style>'\n",
    "m.get_root().header.add_child(folium.Element(svg_style))\n",
    "\n",
    "c = folium.Choropleth(\n",
    "    geo_data=geoJSON,\n",
    "    name='choropleth',\n",
    "    data=sa2_df_h.reset_index(), \n",
    "    columns=['SA2_NAME21','num'],\n",
    "    key_on='properties.SA2_NAME21', \n",
    "    fill_color='PiYG', \n",
    "    nan_fill_color='black',\n",
    "    legend_name='number of apartment',\n",
    ")\n",
    "\n",
    "c.add_to(m)\n",
    "m"
   ]
  },
  {
   "cell_type": "code",
   "execution_count": null,
   "metadata": {},
   "outputs": [],
   "source": [
    "m.save(path +'number of houses.html')"
   ]
  },
  {
   "cell_type": "markdown",
   "metadata": {},
   "source": [
    "averaged weekly rent of apartment"
   ]
  },
  {
   "cell_type": "code",
   "execution_count": null,
   "metadata": {},
   "outputs": [],
   "source": [
    "\n",
    "import folium\n",
    "m = folium.Map(location=[-37.81, 144.96], tiles=\"Stamen Terrain\", zoom_start=10, color='white')\n",
    "svg_style = '<style>svg {background-color: rgb(255, 255, 255,0.5);}</style>'\n",
    "m.get_root().header.add_child(folium.Element(svg_style))\n",
    "\n",
    "c = folium.Choropleth(\n",
    "    geo_data=geoJSON,\n",
    "    name='choropleth',\n",
    "    data=sa2_df_a.reset_index(), \n",
    "    columns=['SA2_NAME21','averaged_wk_rent'],\n",
    "    key_on='properties.SA2_NAME21', \n",
    "    fill_color='PiYG', \n",
    "    nan_fill_color='black',\n",
    "    legend_name='averaged weekly rent of apartment',\n",
    ")\n",
    "\n",
    "c.add_to(m)\n",
    "m"
   ]
  },
  {
   "cell_type": "code",
   "execution_count": null,
   "metadata": {},
   "outputs": [],
   "source": [
    "m.save(path +'averaged weekly rent of apartment.html')"
   ]
  },
  {
   "cell_type": "markdown",
   "metadata": {},
   "source": [
    "averaged weekly rent of hosue"
   ]
  },
  {
   "cell_type": "code",
   "execution_count": null,
   "metadata": {},
   "outputs": [],
   "source": [
    "\n",
    "import folium\n",
    "m = folium.Map(location=[-37.81, 144.96], tiles=\"Stamen Terrain\", zoom_start=10, color='white')\n",
    "svg_style = '<style>svg {background-color: rgb(255, 255, 255,0.5);}</style>'\n",
    "m.get_root().header.add_child(folium.Element(svg_style))\n",
    "\n",
    "c = folium.Choropleth(\n",
    "    geo_data=geoJSON,\n",
    "    name='choropleth',\n",
    "    data=sa2_df_h.reset_index(), \n",
    "    columns=['SA2_NAME21','averaged_wk_rent'],\n",
    "    key_on='properties.SA2_NAME21', \n",
    "    fill_color='PiYG', \n",
    "    nan_fill_color='black',\n",
    "    legend_name='averaged weekly rent of house',\n",
    ")\n",
    "\n",
    "c.add_to(m)\n",
    "m"
   ]
  },
  {
   "cell_type": "code",
   "execution_count": null,
   "metadata": {},
   "outputs": [],
   "source": [
    "m.save(path +'averaged weekly rent of house.html')"
   ]
  }
 ],
 "metadata": {
  "kernelspec": {
   "display_name": "Python 3.8.5 ('base')",
   "language": "python",
   "name": "python3"
  },
  "language_info": {
   "codemirror_mode": {
    "name": "ipython",
    "version": 3
   },
   "file_extension": ".py",
   "mimetype": "text/x-python",
   "name": "python",
   "nbconvert_exporter": "python",
   "pygments_lexer": "ipython3",
   "version": "3.8.5"
  },
  "orig_nbformat": 4,
  "vscode": {
   "interpreter": {
    "hash": "c86cb5e9148e7c4bccb8072cef861029eee896e08e86645269b0451f021733e2"
   }
  }
 },
 "nbformat": 4,
 "nbformat_minor": 2
}
