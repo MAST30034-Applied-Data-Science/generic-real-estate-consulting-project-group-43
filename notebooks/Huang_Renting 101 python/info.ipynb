{
 "cells": [
  {
   "cell_type": "code",
   "execution_count": 1,
   "metadata": {},
   "outputs": [
    {
     "name": "stdout",
     "output_type": "stream",
     "text": [
      "{'title': 'Not Found', 'detail': 'No Matching Route'}\n"
     ]
    }
   ],
   "source": [
    "import requests\n",
    "import json\n",
    "from bs4 import BeautifulSoup\n",
    "from csv import writer\n",
    "\n",
    "client_id = 'client_660b4d0cceb4cf9f989acef154caf4ab'\n",
    "client_secret = 'secret_bd749d4e48d050deb1d8873b061456f2'\n",
    "scopes = ['api_listings_read']\n",
    "auth_url = 'https://auth.domain.com.au/v1/connect/token'\n",
    "url_endpoint = 'https://api.domain.com.au/v1/listings/residential/_search'\n",
    "\n",
    "response = requests.post(auth_url, data = {\n",
    "                    'client_id':client_id,\n",
    "                    'client_secret':client_secret,\n",
    "                    'grant_type':'client_credentials',\n",
    "                    'scope':scopes,\n",
    "                    'Content-Type':'text/json'\n",
    "                    })\n",
    "json_res = response.json()\n",
    "access_token=json_res['access_token']\n",
    "#print(access_token)\n",
    "auth = {'Authorization':'Bearer ' + access_token}\n",
    "url = url_endpoint\n",
    "res1 = requests.get(url, headers=auth)    \n",
    "r = res1.json()\n",
    "\n",
    "print(r)"
   ]
  }
 ],
 "metadata": {
  "kernelspec": {
   "display_name": "Python 3.8.10 64-bit",
   "language": "python",
   "name": "python3"
  },
  "language_info": {
   "codemirror_mode": {
    "name": "ipython",
    "version": 3
   },
   "file_extension": ".py",
   "mimetype": "text/x-python",
   "name": "python",
   "nbconvert_exporter": "python",
   "pygments_lexer": "ipython3",
   "version": "3.8.10"
  },
  "orig_nbformat": 4,
  "vscode": {
   "interpreter": {
    "hash": "916dbcbb3f70747c44a77c7bcd40155683ae19c65e1c03b4aa3499c5328201f1"
   }
  }
 },
 "nbformat": 4,
 "nbformat_minor": 2
}
