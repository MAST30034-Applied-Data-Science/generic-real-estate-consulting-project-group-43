{
 "cells": [
  {
   "cell_type": "markdown",
   "metadata": {},
   "source": [
    "# Logistic Regression for Residence Type Classification\n",
    "\n",
    "This notebook referenced https://towardsdatascience.com/building-a-logistic-regression-in-python-step-by-step-becd4d56c9c8\n",
    "\n",
    "This notebook will demonstrate the classfication process of classifying 'Other' residence type into either 'House' type or 'Apartment' type using logistic regression model.\n",
    "\n",
    "The reason for using logistic regression model is because our model satisifies the following assumptions of logistic regression:\n",
    "\n",
    "1. output class: residence type is binary (1: House, 0: Apartment). \n",
    "\n",
    "2. observations are independent of each other: each rental records are independet of other records. \n",
    "\n",
    "3. independent variables are not be too highly correlated with each other.\n",
    "\n",
    "4. logistic regression assumes linearity of independent variables and log odds. \n",
    "\n",
    "5. large sample size.\n",
    "\n",
    "\n",
    "**Input variables**\n",
    "\n",
    "* number of bedrooms: numeric\n",
    "\n",
    "* number of bathrooms: numeric\n",
    "\n",
    "* number of carspace: numeric\n",
    "\n",
    "* weekly rent value: numeric\n",
    "\n",
    "* year: categorical\n",
    "\n",
    "* month: categorical\n",
    "\n",
    "* SA2 code: categorical\n",
    "\n",
    "**Output variable**\n",
    "\n",
    "* residence_type: categorical (binary) where '1' represents house, '0' represents apartment\n",
    "\n"
   ]
  },
  {
   "cell_type": "code",
   "execution_count": 22,
   "metadata": {},
   "outputs": [],
   "source": [
    "import pandas as pd\n",
    "import seaborn as sns\n",
    "from matplotlib import pyplot as plt\n",
    "import pandas as pd\n",
    "import glob\n",
    "import pandas as pd\n",
    "import numpy as np\n",
    "from sklearn import preprocessing\n",
    "import matplotlib.pyplot as plt \n",
    "plt.rc(\"font\", size=14)\n",
    "from sklearn.linear_model import LogisticRegression\n",
    "from sklearn.model_selection import train_test_split\n",
    "import sys\n",
    "sys.path.insert(1, '../scripts/')\n",
    "import show_values\n",
    "from show_values import show_values"
   ]
  },
  {
   "cell_type": "code",
   "execution_count": 2,
   "metadata": {},
   "outputs": [],
   "source": [
    "path = '/Users/graceliu/generic-real-estate-consulting-project-group-43/data/curated/property_all_with_SA2/*.csv'\n",
    "file_lst2 = []\n",
    "for fname in glob.glob(path):\n",
    "    file_lst2.append(fname)\n",
    "combine_df = pd.concat([pd.read_csv(f) for f in file_lst2 ])"
   ]
  },
  {
   "cell_type": "code",
   "execution_count": 3,
   "metadata": {},
   "outputs": [],
   "source": [
    "df = combine_df"
   ]
  },
  {
   "cell_type": "code",
   "execution_count": 4,
   "metadata": {},
   "outputs": [
    {
     "data": {
      "text/plain": [
       "Index(['Unnamed: 0.3', 'Unnamed: 0', 'Unnamed: 0.2', 'Unnamed: 0.1', 'address',\n",
       "       'latitude', 'longitude', 'nbed', 'nbath', 'ncar', 'price', 'type',\n",
       "       'historical_dates', 'postcode', 'year', 'month', 'suburb',\n",
       "       'weekly_rent', 'residence_type', 'SA2_CODE'],\n",
       "      dtype='object')"
      ]
     },
     "execution_count": 4,
     "metadata": {},
     "output_type": "execute_result"
    }
   ],
   "source": [
    "df.columns"
   ]
  },
  {
   "cell_type": "code",
   "execution_count": 5,
   "metadata": {},
   "outputs": [
    {
     "data": {
      "text/plain": [
       "(231497, 20)"
      ]
     },
     "execution_count": 5,
     "metadata": {},
     "output_type": "execute_result"
    }
   ],
   "source": [
    "df.shape"
   ]
  },
  {
   "cell_type": "code",
   "execution_count": 6,
   "metadata": {},
   "outputs": [],
   "source": [
    "index = range(len(df))"
   ]
  },
  {
   "cell_type": "code",
   "execution_count": 7,
   "metadata": {},
   "outputs": [],
   "source": [
    "df.index = index"
   ]
  },
  {
   "cell_type": "code",
   "execution_count": 8,
   "metadata": {},
   "outputs": [
    {
     "data": {
      "text/plain": [
       "231497"
      ]
     },
     "execution_count": 8,
     "metadata": {},
     "output_type": "execute_result"
    }
   ],
   "source": [
    "len(df)"
   ]
  },
  {
   "cell_type": "code",
   "execution_count": 9,
   "metadata": {},
   "outputs": [
    {
     "data": {
      "text/plain": [
       "231497"
      ]
     },
     "execution_count": 9,
     "metadata": {},
     "output_type": "execute_result"
    }
   ],
   "source": [
    "len(df.index.unique())"
   ]
  },
  {
   "cell_type": "code",
   "execution_count": 10,
   "metadata": {},
   "outputs": [
    {
     "data": {
      "text/plain": [
       "array(['House', 'Other', 'Apartment'], dtype=object)"
      ]
     },
     "execution_count": 10,
     "metadata": {},
     "output_type": "execute_result"
    }
   ],
   "source": [
    "df.residence_type.unique()"
   ]
  },
  {
   "cell_type": "code",
   "execution_count": 11,
   "metadata": {},
   "outputs": [
    {
     "data": {
      "text/plain": [
       "(231497, 20)"
      ]
     },
     "execution_count": 11,
     "metadata": {},
     "output_type": "execute_result"
    }
   ],
   "source": [
    "df.shape"
   ]
  },
  {
   "cell_type": "code",
   "execution_count": 12,
   "metadata": {},
   "outputs": [],
   "source": [
    "COLS = ['nbed', 'nbath', 'ncar','weekly_rent','residence_type', 'year', 'month', 'SA2_CODE' ]\n",
    "df = df[COLS]"
   ]
  },
  {
   "cell_type": "code",
   "execution_count": 13,
   "metadata": {},
   "outputs": [],
   "source": [
    "df1 = df[df.residence_type != 'Other'] # train and test dataset \n",
    "df2 = df[df.residence_type == 'Other'] # prediction dataset "
   ]
  },
  {
   "cell_type": "code",
   "execution_count": 16,
   "metadata": {},
   "outputs": [
    {
     "data": {
      "text/html": [
       "<div>\n",
       "<style scoped>\n",
       "    .dataframe tbody tr th:only-of-type {\n",
       "        vertical-align: middle;\n",
       "    }\n",
       "\n",
       "    .dataframe tbody tr th {\n",
       "        vertical-align: top;\n",
       "    }\n",
       "\n",
       "    .dataframe thead th {\n",
       "        text-align: right;\n",
       "    }\n",
       "</style>\n",
       "<table border=\"1\" class=\"dataframe\">\n",
       "  <thead>\n",
       "    <tr style=\"text-align: right;\">\n",
       "      <th></th>\n",
       "      <th>residence_type</th>\n",
       "      <th>averaged_wk_rent</th>\n",
       "      <th>num</th>\n",
       "    </tr>\n",
       "  </thead>\n",
       "  <tbody>\n",
       "    <tr>\n",
       "      <th>0</th>\n",
       "      <td>Apartment</td>\n",
       "      <td>385.779142</td>\n",
       "      <td>9531</td>\n",
       "    </tr>\n",
       "    <tr>\n",
       "      <th>1</th>\n",
       "      <td>House</td>\n",
       "      <td>453.518520</td>\n",
       "      <td>123220</td>\n",
       "    </tr>\n",
       "    <tr>\n",
       "      <th>2</th>\n",
       "      <td>Other</td>\n",
       "      <td>451.422316</td>\n",
       "      <td>98746</td>\n",
       "    </tr>\n",
       "  </tbody>\n",
       "</table>\n",
       "</div>"
      ],
      "text/plain": [
       "  residence_type  averaged_wk_rent     num\n",
       "0      Apartment        385.779142    9531\n",
       "1          House        453.518520  123220\n",
       "2          Other        451.422316   98746"
      ]
     },
     "execution_count": 16,
     "metadata": {},
     "output_type": "execute_result"
    }
   ],
   "source": [
    "\n",
    "df_agg = df[['residence_type', 'weekly_rent','year']]\\\n",
    "        .groupby(['residence_type'],as_index = False) \\\n",
    "        .agg(\n",
    "            {\\\n",
    "                'weekly_rent': 'mean', # count number of instances from sample\n",
    "                'year': 'count',\n",
    "            }\n",
    "        ) \\\n",
    "        .rename({'year': 'num','weekly_rent': 'averaged_wk_rent' }, axis=1)\n",
    "\n",
    "df_agg\n"
   ]
  },
  {
   "cell_type": "code",
   "execution_count": 32,
   "metadata": {},
   "outputs": [
    {
     "data": {
      "image/png": "[encoded data removed]",
      "text/plain": [
       "<Figure size 432x288 with 1 Axes>"
      ]
     },
     "metadata": {
      "needs_background": "light"
     },
     "output_type": "display_data"
    }
   ],
   "source": [
    "#plt.figure(figsize=(6,4))\n",
    "ax = sns.barplot(data=df_agg, x=\"residence_type\", y=\"num\").set(title='number of properties for each residence type')\n",
    "plt.savefig('../plots/figure/number of properties for each residence type.jpg')"
   ]
  },
  {
   "cell_type": "code",
   "execution_count": 39,
   "metadata": {},
   "outputs": [
    {
     "name": "stdout",
     "output_type": "stream",
     "text": [
      "In total 42.66% of properties (231497 property data in total) do not have a residence type label\n"
     ]
    }
   ],
   "source": [
    "\n",
    "total =  int(sum(df_agg.num))\n",
    "percent = round(float(df_agg[df_agg.residence_type == 'Other'].num / sum(df_agg.num)*100),2)\n",
    "print(f'In total {percent}% of properties ({total} property data in total) do not have a residence type label')"
   ]
  },
  {
   "cell_type": "markdown",
   "metadata": {},
   "source": [
    "### Check for the presence of categorical variables\n",
    "detect whether all data occurred in prediction dataset exists in training and testing dataset"
   ]
  },
  {
   "cell_type": "code",
   "execution_count": 18,
   "metadata": {},
   "outputs": [],
   "source": [
    "sa2_train = df1.SA2_CODE.unique() # sa2 for house and apt\n",
    "sa2_predict = df2.SA2_CODE.unique() # sa2 for other"
   ]
  },
  {
   "cell_type": "code",
   "execution_count": 19,
   "metadata": {},
   "outputs": [
    {
     "data": {
      "text/plain": [
       "[206041120, 206041505, 206041127, 206061515, 210011227, 206041119]"
      ]
     },
     "execution_count": 19,
     "metadata": {},
     "output_type": "execute_result"
    }
   ],
   "source": [
    "missing_sa2lst = list(set(sa2_predict) - set(sa2_train))\n",
    "missing_sa2lst"
   ]
  },
  {
   "cell_type": "code",
   "execution_count": 20,
   "metadata": {},
   "outputs": [
    {
     "data": {
      "text/plain": [
       "[212031458, 206061516, 210051248, 208031184, 211041271]"
      ]
     },
     "execution_count": 20,
     "metadata": {},
     "output_type": "execute_result"
    }
   ],
   "source": [
    "excessive_sa2lst = list(set(sa2_train) - set(sa2_predict))\n",
    "excessive_sa2lst"
   ]
  },
  {
   "cell_type": "code",
   "execution_count": 21,
   "metadata": {},
   "outputs": [],
   "source": [
    "excessive_id = list(df[df['SA2_CODE'].isin(excessive_sa2lst)].index)"
   ]
  },
  {
   "cell_type": "code",
   "execution_count": 22,
   "metadata": {},
   "outputs": [],
   "source": [
    "missing_id = list(df[df['SA2_CODE'].isin(missing_sa2lst)].index)"
   ]
  },
  {
   "cell_type": "code",
   "execution_count": 23,
   "metadata": {},
   "outputs": [],
   "source": [
    "df = df[~df.index.isin(excessive_id)]"
   ]
  },
  {
   "cell_type": "code",
   "execution_count": 24,
   "metadata": {},
   "outputs": [
    {
     "data": {
      "text/plain": [
       "(231477, 8)"
      ]
     },
     "execution_count": 24,
     "metadata": {},
     "output_type": "execute_result"
    }
   ],
   "source": [
    "df.shape"
   ]
  },
  {
   "cell_type": "code",
   "execution_count": 25,
   "metadata": {},
   "outputs": [
    {
     "name": "stdout",
     "output_type": "stream",
     "text": [
      "[2018 2022 2020 2014 2016 2019 2013 2021 2015 2017]\n",
      "[ 5  4 11  8 12  9  1  7  2 10  3  6]\n",
      "[2018 2022 2020 2014 2016 2019 2013 2021 2015 2017]\n",
      "[ 9 12  1  4  5  7  2  6  3 11 10  8]\n"
     ]
    }
   ],
   "source": [
    "print(df1.year.unique())\n",
    "print(df1.month.unique())\n",
    "\n",
    "print(df2.year.unique())\n",
    "print(df2.month.unique())\n"
   ]
  },
  {
   "cell_type": "markdown",
   "metadata": {},
   "source": [
    "We discovered that, there are 4 sa2 code that exist in prediction dataset have not occured in training and testing dataset.\n",
    "\n",
    "206041120, 206041505, 206041127, 206061515, 210011227, 206041119\n",
    "\n",
    "To deal with this, we will look up the SA2 table first. From the table we found that:\n",
    "\n",
    "**206041505: Melbourne CBD - West**. However, we have 206041503: Melbourne CBD - East in our training datasdet. \n",
    "\n",
    "Hence we will assume they are Melbourne CBD - West and Melbourne CBD - East are the same. As the type of the property should be similar for neighbor SA2s. \n",
    "\n",
    "Similarly, \n",
    "\n",
    "**206041120: Flemington Racecourse** -> assmue as 206041121: Kensington (Vic.) \n",
    "\n",
    "**210011227: Essendon Airport** ->  assmue as 210011226\tAirport West\n",
    "\n",
    "For \n",
    "**206061515: South Yarra - North**\n",
    "\n",
    "**206041119: East Melbourne**\n",
    "\n",
    "**206041127: West Melbourne - Industrial**\n",
    "\n",
    "We will do some mannual classification"
   ]
  },
  {
   "cell_type": "code",
   "execution_count": 26,
   "metadata": {},
   "outputs": [],
   "source": [
    "Melbourne_CBD_West = 206041505\n",
    "Flemington = 206041120\n",
    "Essendon = 210011227\n",
    "South_Yarra =206061515\n",
    "East_Melbourne = 206041119\n",
    "West_Melbourne = 206041127\n",
    "Melbourne_CBD_East = 206041503\n",
    "Kensington = 206041121\n",
    "Airport_West = 210011226"
   ]
  },
  {
   "cell_type": "code",
   "execution_count": 27,
   "metadata": {},
   "outputs": [
    {
     "data": {
      "text/html": [
       "<div>\n",
       "<style scoped>\n",
       "    .dataframe tbody tr th:only-of-type {\n",
       "        vertical-align: middle;\n",
       "    }\n",
       "\n",
       "    .dataframe tbody tr th {\n",
       "        vertical-align: top;\n",
       "    }\n",
       "\n",
       "    .dataframe thead th {\n",
       "        text-align: right;\n",
       "    }\n",
       "</style>\n",
       "<table border=\"1\" class=\"dataframe\">\n",
       "  <thead>\n",
       "    <tr style=\"text-align: right;\">\n",
       "      <th></th>\n",
       "      <th>nbed</th>\n",
       "      <th>nbath</th>\n",
       "      <th>ncar</th>\n",
       "      <th>weekly_rent</th>\n",
       "      <th>residence_type</th>\n",
       "      <th>year</th>\n",
       "      <th>month</th>\n",
       "      <th>SA2_CODE</th>\n",
       "    </tr>\n",
       "  </thead>\n",
       "  <tbody>\n",
       "    <tr>\n",
       "      <th>87905</th>\n",
       "      <td>1.0</td>\n",
       "      <td>1.0</td>\n",
       "      <td>0</td>\n",
       "      <td>325</td>\n",
       "      <td>Other</td>\n",
       "      <td>2022</td>\n",
       "      <td>7</td>\n",
       "      <td>206061515</td>\n",
       "    </tr>\n",
       "    <tr>\n",
       "      <th>87906</th>\n",
       "      <td>1.0</td>\n",
       "      <td>1.0</td>\n",
       "      <td>0</td>\n",
       "      <td>325</td>\n",
       "      <td>Other</td>\n",
       "      <td>2022</td>\n",
       "      <td>2</td>\n",
       "      <td>206061515</td>\n",
       "    </tr>\n",
       "  </tbody>\n",
       "</table>\n",
       "</div>"
      ],
      "text/plain": [
       "       nbed  nbath  ncar  weekly_rent residence_type  year  month   SA2_CODE\n",
       "87905   1.0    1.0     0          325          Other  2022      7  206061515\n",
       "87906   1.0    1.0     0          325          Other  2022      2  206061515"
      ]
     },
     "execution_count": 27,
     "metadata": {},
     "output_type": "execute_result"
    }
   ],
   "source": [
    "df[df['SA2_CODE'] == South_Yarra]"
   ]
  },
  {
   "cell_type": "code",
   "execution_count": 28,
   "metadata": {},
   "outputs": [
    {
     "data": {
      "text/html": [
       "<div>\n",
       "<style scoped>\n",
       "    .dataframe tbody tr th:only-of-type {\n",
       "        vertical-align: middle;\n",
       "    }\n",
       "\n",
       "    .dataframe tbody tr th {\n",
       "        vertical-align: top;\n",
       "    }\n",
       "\n",
       "    .dataframe thead th {\n",
       "        text-align: right;\n",
       "    }\n",
       "</style>\n",
       "<table border=\"1\" class=\"dataframe\">\n",
       "  <thead>\n",
       "    <tr style=\"text-align: right;\">\n",
       "      <th></th>\n",
       "      <th>nbed</th>\n",
       "      <th>nbath</th>\n",
       "      <th>ncar</th>\n",
       "      <th>weekly_rent</th>\n",
       "      <th>residence_type</th>\n",
       "      <th>year</th>\n",
       "      <th>month</th>\n",
       "      <th>SA2_CODE</th>\n",
       "    </tr>\n",
       "  </thead>\n",
       "  <tbody>\n",
       "    <tr>\n",
       "      <th>21769</th>\n",
       "      <td>1.0</td>\n",
       "      <td>1.0</td>\n",
       "      <td>0</td>\n",
       "      <td>240</td>\n",
       "      <td>Other</td>\n",
       "      <td>2022</td>\n",
       "      <td>7</td>\n",
       "      <td>206041119</td>\n",
       "    </tr>\n",
       "    <tr>\n",
       "      <th>77487</th>\n",
       "      <td>1.0</td>\n",
       "      <td>1.0</td>\n",
       "      <td>1</td>\n",
       "      <td>425</td>\n",
       "      <td>Other</td>\n",
       "      <td>2022</td>\n",
       "      <td>8</td>\n",
       "      <td>206041119</td>\n",
       "    </tr>\n",
       "    <tr>\n",
       "      <th>77547</th>\n",
       "      <td>2.0</td>\n",
       "      <td>2.0</td>\n",
       "      <td>2</td>\n",
       "      <td>675</td>\n",
       "      <td>Other</td>\n",
       "      <td>2022</td>\n",
       "      <td>8</td>\n",
       "      <td>206041119</td>\n",
       "    </tr>\n",
       "    <tr>\n",
       "      <th>93369</th>\n",
       "      <td>1.0</td>\n",
       "      <td>1.0</td>\n",
       "      <td>0</td>\n",
       "      <td>270</td>\n",
       "      <td>Other</td>\n",
       "      <td>2020</td>\n",
       "      <td>9</td>\n",
       "      <td>206041119</td>\n",
       "    </tr>\n",
       "    <tr>\n",
       "      <th>175811</th>\n",
       "      <td>1.0</td>\n",
       "      <td>1.0</td>\n",
       "      <td>0</td>\n",
       "      <td>270</td>\n",
       "      <td>Other</td>\n",
       "      <td>2021</td>\n",
       "      <td>5</td>\n",
       "      <td>206041119</td>\n",
       "    </tr>\n",
       "    <tr>\n",
       "      <th>214811</th>\n",
       "      <td>1.0</td>\n",
       "      <td>1.0</td>\n",
       "      <td>0</td>\n",
       "      <td>270</td>\n",
       "      <td>Other</td>\n",
       "      <td>2017</td>\n",
       "      <td>4</td>\n",
       "      <td>206041119</td>\n",
       "    </tr>\n",
       "  </tbody>\n",
       "</table>\n",
       "</div>"
      ],
      "text/plain": [
       "        nbed  nbath  ncar  weekly_rent residence_type  year  month   SA2_CODE\n",
       "21769    1.0    1.0     0          240          Other  2022      7  206041119\n",
       "77487    1.0    1.0     1          425          Other  2022      8  206041119\n",
       "77547    2.0    2.0     2          675          Other  2022      8  206041119\n",
       "93369    1.0    1.0     0          270          Other  2020      9  206041119\n",
       "175811   1.0    1.0     0          270          Other  2021      5  206041119\n",
       "214811   1.0    1.0     0          270          Other  2017      4  206041119"
      ]
     },
     "execution_count": 28,
     "metadata": {},
     "output_type": "execute_result"
    }
   ],
   "source": [
    "df[df['SA2_CODE'] == East_Melbourne]"
   ]
  },
  {
   "cell_type": "code",
   "execution_count": 29,
   "metadata": {},
   "outputs": [
    {
     "data": {
      "text/html": [
       "<div>\n",
       "<style scoped>\n",
       "    .dataframe tbody tr th:only-of-type {\n",
       "        vertical-align: middle;\n",
       "    }\n",
       "\n",
       "    .dataframe tbody tr th {\n",
       "        vertical-align: top;\n",
       "    }\n",
       "\n",
       "    .dataframe thead th {\n",
       "        text-align: right;\n",
       "    }\n",
       "</style>\n",
       "<table border=\"1\" class=\"dataframe\">\n",
       "  <thead>\n",
       "    <tr style=\"text-align: right;\">\n",
       "      <th></th>\n",
       "      <th>nbed</th>\n",
       "      <th>nbath</th>\n",
       "      <th>ncar</th>\n",
       "      <th>weekly_rent</th>\n",
       "      <th>residence_type</th>\n",
       "      <th>year</th>\n",
       "      <th>month</th>\n",
       "      <th>SA2_CODE</th>\n",
       "    </tr>\n",
       "  </thead>\n",
       "  <tbody>\n",
       "    <tr>\n",
       "      <th>23884</th>\n",
       "      <td>2.0</td>\n",
       "      <td>2.0</td>\n",
       "      <td>1</td>\n",
       "      <td>900</td>\n",
       "      <td>Other</td>\n",
       "      <td>2022</td>\n",
       "      <td>9</td>\n",
       "      <td>206041127</td>\n",
       "    </tr>\n",
       "    <tr>\n",
       "      <th>23885</th>\n",
       "      <td>2.0</td>\n",
       "      <td>2.0</td>\n",
       "      <td>1</td>\n",
       "      <td>900</td>\n",
       "      <td>Other</td>\n",
       "      <td>2022</td>\n",
       "      <td>7</td>\n",
       "      <td>206041127</td>\n",
       "    </tr>\n",
       "    <tr>\n",
       "      <th>23908</th>\n",
       "      <td>2.0</td>\n",
       "      <td>1.0</td>\n",
       "      <td>1</td>\n",
       "      <td>550</td>\n",
       "      <td>Other</td>\n",
       "      <td>2022</td>\n",
       "      <td>9</td>\n",
       "      <td>206041127</td>\n",
       "    </tr>\n",
       "  </tbody>\n",
       "</table>\n",
       "</div>"
      ],
      "text/plain": [
       "       nbed  nbath  ncar  weekly_rent residence_type  year  month   SA2_CODE\n",
       "23884   2.0    2.0     1          900          Other  2022      9  206041127\n",
       "23885   2.0    2.0     1          900          Other  2022      7  206041127\n",
       "23908   2.0    1.0     1          550          Other  2022      9  206041127"
      ]
     },
     "execution_count": 29,
     "metadata": {},
     "output_type": "execute_result"
    }
   ],
   "source": [
    "df[df['SA2_CODE'] == West_Melbourne]\n"
   ]
  },
  {
   "cell_type": "markdown",
   "metadata": {},
   "source": [
    "Hence for \n",
    "\n",
    "**206061515: South Yarra - North**\n",
    "\n",
    "**206041119: East Melbourne**\n",
    "\n",
    "**206041127: West Melbourne - Industrial**\n",
    "\n",
    "We checked that they are all apartments."
   ]
  },
  {
   "cell_type": "code",
   "execution_count": 30,
   "metadata": {},
   "outputs": [],
   "source": [
    "#index = list(df[df['SA2_CODE'].isin([206061515, 206041127,206041119])].index)\n",
    "#index"
   ]
  },
  {
   "cell_type": "code",
   "execution_count": 31,
   "metadata": {},
   "outputs": [],
   "source": [
    "#df[df['SA2_CODE'].isin([206041127,206041119])]"
   ]
  },
  {
   "cell_type": "code",
   "execution_count": 32,
   "metadata": {},
   "outputs": [],
   "source": [
    "#index = list(df[df['SA2_CODE'].isin([206041127,206041119])].index)\n",
    "#for i in index:\n",
    "#    df.at[i, 'residence_type'] = 'Apartment'\n"
   ]
  },
  {
   "cell_type": "code",
   "execution_count": 33,
   "metadata": {},
   "outputs": [],
   "source": [
    "Melbourne_CBD_West_index = list(df[df['SA2_CODE'] == Melbourne_CBD_West].index) # Melbourne CBD - West\n",
    "Flemington_index = list(df[df['SA2_CODE'] == Flemington].index) # Flemington Racecourse\n",
    "Essendon_index = list(df[df['SA2_CODE'] == Essendon].index) # Essendon Airport"
   ]
  },
  {
   "cell_type": "code",
   "execution_count": 34,
   "metadata": {},
   "outputs": [],
   "source": [
    "# assume as Melbourne CBD - East\n",
    "for i in Melbourne_CBD_West_index:\n",
    "    df.at[i, 'SA2_CODE'] = Melbourne_CBD_East \n",
    "\n",
    "# assume as Kensington (Vic.) \n",
    "for i in Flemington_index:\n",
    "    df.at[i, 'SA2_CODE'] = Kensington\n",
    "\n",
    "# assume as Airport West\n",
    "for i in Essendon_index:\n",
    "    df.at[i, 'SA2_CODE'] =Airport_West\n"
   ]
  },
  {
   "cell_type": "code",
   "execution_count": 35,
   "metadata": {},
   "outputs": [],
   "source": [
    "df1 = df[df.residence_type != 'Other'] # train and test dataset \n",
    "df_other = df[df.residence_type == 'Other'] # prediction dataset "
   ]
  },
  {
   "cell_type": "code",
   "execution_count": 36,
   "metadata": {},
   "outputs": [
    {
     "name": "stdout",
     "output_type": "stream",
     "text": [
      "training and testing dataset size: 132731\n",
      "predicting dataset size: 98746\n",
      "total dataset size: 231477\n",
      "20 instances were dropped beacasue they only exists in training and test but not in predicting\n"
     ]
    }
   ],
   "source": [
    "print(f'training and testing dataset size: {len(df1)}')\n",
    "print(f'predicting dataset size: {len(df2)}')\n",
    "print(f'total dataset size: {len(df)}')\n",
    "print(f'{len(combine_df) - len(df)} instances were dropped beacasue they only exists in training and test but not in predicting')"
   ]
  },
  {
   "cell_type": "markdown",
   "metadata": {},
   "source": [
    "depart training & testing dataset and prediction datset"
   ]
  },
  {
   "cell_type": "code",
   "execution_count": 37,
   "metadata": {},
   "outputs": [
    {
     "name": "stderr",
     "output_type": "stream",
     "text": [
      "<ipython-input-37-9eda41aa6060>:1: SettingWithCopyWarning: \n",
      "A value is trying to be set on a copy of a slice from a DataFrame.\n",
      "Try using .loc[row_indexer,col_indexer] = value instead\n",
      "\n",
      "See the caveats in the documentation: https://pandas.pydata.org/pandas-docs/stable/user_guide/indexing.html#returning-a-view-versus-a-copy\n",
      "  df1['residence_type'] = df1['residence_type'].apply(lambda x: 1 if x == 'House' else 0)\n"
     ]
    }
   ],
   "source": [
    "df1['residence_type'] = df1['residence_type'].apply(lambda x: 1 if x == 'House' else 0)"
   ]
  },
  {
   "cell_type": "code",
   "execution_count": 38,
   "metadata": {},
   "outputs": [
    {
     "data": {
      "text/plain": [
       "1    123201\n",
       "0      9530\n",
       "Name: residence_type, dtype: int64"
      ]
     },
     "execution_count": 38,
     "metadata": {},
     "output_type": "execute_result"
    }
   ],
   "source": [
    "df1['residence_type'].value_counts()"
   ]
  },
  {
   "cell_type": "code",
   "execution_count": 39,
   "metadata": {},
   "outputs": [
    {
     "data": {
      "image/png": "[encoded data removed]",
      "text/plain": [
       "<Figure size 432x288 with 1 Axes>"
      ]
     },
     "metadata": {
      "needs_background": "light"
     },
     "output_type": "display_data"
    }
   ],
   "source": [
    "sns.countplot(x='residence_type', data = df1)\n",
    "plt.show()\n",
    "# where 1 stands for house, and 0 stands for apartment"
   ]
  },
  {
   "cell_type": "code",
   "execution_count": 40,
   "metadata": {},
   "outputs": [
    {
     "name": "stdout",
     "output_type": "stream",
     "text": [
      "percentage of house is:  7.179935357979674\n",
      "percentage of apartment is:  92.82006464202033\n"
     ]
    }
   ],
   "source": [
    "count_house = len(df1[df1['residence_type']==0])\n",
    "count_apt = len(df1[df1['residence_type']==1])\n",
    "pct_of_house = count_house/(count_house+count_apt)\n",
    "print(\"percentage of house is: \", pct_of_house*100)\n",
    "pct_of_apt = count_apt/(count_house+count_apt)\n",
    "print(\"percentage of apartment is: \", pct_of_apt*100)"
   ]
  },
  {
   "cell_type": "markdown",
   "metadata": {},
   "source": [
    "Out calsses are imablanced, hence we need to balance our instances to avoid training biase.\n",
    "\n",
    "Before we balance our dataset, we will do more observations and transform the dummy varaibels. "
   ]
  },
  {
   "cell_type": "code",
   "execution_count": 41,
   "metadata": {},
   "outputs": [],
   "source": [
    "cat_vars = ['year','month','SA2_CODE']\n",
    "dfDummies = pd.get_dummies(df1, columns=cat_vars)"
   ]
  },
  {
   "cell_type": "code",
   "execution_count": 42,
   "metadata": {},
   "outputs": [
    {
     "data": {
      "text/html": [
       "<div>\n",
       "<style scoped>\n",
       "    .dataframe tbody tr th:only-of-type {\n",
       "        vertical-align: middle;\n",
       "    }\n",
       "\n",
       "    .dataframe tbody tr th {\n",
       "        vertical-align: top;\n",
       "    }\n",
       "\n",
       "    .dataframe thead th {\n",
       "        text-align: right;\n",
       "    }\n",
       "</style>\n",
       "<table border=\"1\" class=\"dataframe\">\n",
       "  <thead>\n",
       "    <tr style=\"text-align: right;\">\n",
       "      <th></th>\n",
       "      <th>nbed</th>\n",
       "      <th>nbath</th>\n",
       "      <th>ncar</th>\n",
       "      <th>weekly_rent</th>\n",
       "      <th>residence_type</th>\n",
       "      <th>year_2013</th>\n",
       "      <th>year_2014</th>\n",
       "      <th>year_2015</th>\n",
       "      <th>year_2016</th>\n",
       "      <th>year_2017</th>\n",
       "      <th>...</th>\n",
       "      <th>SA2_CODE_217031471</th>\n",
       "      <th>SA2_CODE_217031472</th>\n",
       "      <th>SA2_CODE_217031473</th>\n",
       "      <th>SA2_CODE_217031474</th>\n",
       "      <th>SA2_CODE_217031475</th>\n",
       "      <th>SA2_CODE_217031476</th>\n",
       "      <th>SA2_CODE_217041477</th>\n",
       "      <th>SA2_CODE_217041478</th>\n",
       "      <th>SA2_CODE_217041479</th>\n",
       "      <th>SA2_CODE_217041480</th>\n",
       "    </tr>\n",
       "  </thead>\n",
       "  <tbody>\n",
       "    <tr>\n",
       "      <th>0</th>\n",
       "      <td>4.0</td>\n",
       "      <td>1.0</td>\n",
       "      <td>1</td>\n",
       "      <td>375</td>\n",
       "      <td>1</td>\n",
       "      <td>0</td>\n",
       "      <td>0</td>\n",
       "      <td>0</td>\n",
       "      <td>0</td>\n",
       "      <td>0</td>\n",
       "      <td>...</td>\n",
       "      <td>0</td>\n",
       "      <td>0</td>\n",
       "      <td>0</td>\n",
       "      <td>0</td>\n",
       "      <td>0</td>\n",
       "      <td>0</td>\n",
       "      <td>0</td>\n",
       "      <td>0</td>\n",
       "      <td>0</td>\n",
       "      <td>0</td>\n",
       "    </tr>\n",
       "    <tr>\n",
       "      <th>1</th>\n",
       "      <td>4.0</td>\n",
       "      <td>1.0</td>\n",
       "      <td>1</td>\n",
       "      <td>375</td>\n",
       "      <td>1</td>\n",
       "      <td>0</td>\n",
       "      <td>0</td>\n",
       "      <td>0</td>\n",
       "      <td>0</td>\n",
       "      <td>0</td>\n",
       "      <td>...</td>\n",
       "      <td>0</td>\n",
       "      <td>0</td>\n",
       "      <td>0</td>\n",
       "      <td>0</td>\n",
       "      <td>0</td>\n",
       "      <td>0</td>\n",
       "      <td>0</td>\n",
       "      <td>0</td>\n",
       "      <td>0</td>\n",
       "      <td>0</td>\n",
       "    </tr>\n",
       "    <tr>\n",
       "      <th>2</th>\n",
       "      <td>3.0</td>\n",
       "      <td>1.0</td>\n",
       "      <td>2</td>\n",
       "      <td>340</td>\n",
       "      <td>1</td>\n",
       "      <td>0</td>\n",
       "      <td>0</td>\n",
       "      <td>0</td>\n",
       "      <td>0</td>\n",
       "      <td>0</td>\n",
       "      <td>...</td>\n",
       "      <td>0</td>\n",
       "      <td>0</td>\n",
       "      <td>0</td>\n",
       "      <td>0</td>\n",
       "      <td>0</td>\n",
       "      <td>0</td>\n",
       "      <td>0</td>\n",
       "      <td>0</td>\n",
       "      <td>0</td>\n",
       "      <td>0</td>\n",
       "    </tr>\n",
       "    <tr>\n",
       "      <th>3</th>\n",
       "      <td>2.0</td>\n",
       "      <td>2.0</td>\n",
       "      <td>0</td>\n",
       "      <td>350</td>\n",
       "      <td>1</td>\n",
       "      <td>0</td>\n",
       "      <td>0</td>\n",
       "      <td>0</td>\n",
       "      <td>0</td>\n",
       "      <td>0</td>\n",
       "      <td>...</td>\n",
       "      <td>0</td>\n",
       "      <td>0</td>\n",
       "      <td>0</td>\n",
       "      <td>0</td>\n",
       "      <td>0</td>\n",
       "      <td>0</td>\n",
       "      <td>0</td>\n",
       "      <td>0</td>\n",
       "      <td>0</td>\n",
       "      <td>0</td>\n",
       "    </tr>\n",
       "    <tr>\n",
       "      <th>4</th>\n",
       "      <td>3.0</td>\n",
       "      <td>1.0</td>\n",
       "      <td>0</td>\n",
       "      <td>330</td>\n",
       "      <td>1</td>\n",
       "      <td>0</td>\n",
       "      <td>0</td>\n",
       "      <td>0</td>\n",
       "      <td>0</td>\n",
       "      <td>0</td>\n",
       "      <td>...</td>\n",
       "      <td>0</td>\n",
       "      <td>0</td>\n",
       "      <td>0</td>\n",
       "      <td>0</td>\n",
       "      <td>0</td>\n",
       "      <td>0</td>\n",
       "      <td>0</td>\n",
       "      <td>0</td>\n",
       "      <td>0</td>\n",
       "      <td>0</td>\n",
       "    </tr>\n",
       "  </tbody>\n",
       "</table>\n",
       "<p>5 rows × 526 columns</p>\n",
       "</div>"
      ],
      "text/plain": [
       "   nbed  nbath  ncar  weekly_rent  residence_type  year_2013  year_2014  \\\n",
       "0   4.0    1.0     1          375               1          0          0   \n",
       "1   4.0    1.0     1          375               1          0          0   \n",
       "2   3.0    1.0     2          340               1          0          0   \n",
       "3   2.0    2.0     0          350               1          0          0   \n",
       "4   3.0    1.0     0          330               1          0          0   \n",
       "\n",
       "   year_2015  year_2016  year_2017  ...  SA2_CODE_217031471  \\\n",
       "0          0          0          0  ...                   0   \n",
       "1          0          0          0  ...                   0   \n",
       "2          0          0          0  ...                   0   \n",
       "3          0          0          0  ...                   0   \n",
       "4          0          0          0  ...                   0   \n",
       "\n",
       "   SA2_CODE_217031472  SA2_CODE_217031473  SA2_CODE_217031474  \\\n",
       "0                   0                   0                   0   \n",
       "1                   0                   0                   0   \n",
       "2                   0                   0                   0   \n",
       "3                   0                   0                   0   \n",
       "4                   0                   0                   0   \n",
       "\n",
       "   SA2_CODE_217031475  SA2_CODE_217031476  SA2_CODE_217041477  \\\n",
       "0                   0                   0                   0   \n",
       "1                   0                   0                   0   \n",
       "2                   0                   0                   0   \n",
       "3                   0                   0                   0   \n",
       "4                   0                   0                   0   \n",
       "\n",
       "   SA2_CODE_217041478  SA2_CODE_217041479  SA2_CODE_217041480  \n",
       "0                   0                   0                   0  \n",
       "1                   0                   0                   0  \n",
       "2                   0                   0                   0  \n",
       "3                   0                   0                   0  \n",
       "4                   0                   0                   0  \n",
       "\n",
       "[5 rows x 526 columns]"
      ]
     },
     "execution_count": 42,
     "metadata": {},
     "output_type": "execute_result"
    }
   ],
   "source": [
    "dfDummies.head()"
   ]
  },
  {
   "cell_type": "code",
   "execution_count": 43,
   "metadata": {},
   "outputs": [
    {
     "data": {
      "text/plain": [
       "0"
      ]
     },
     "execution_count": 43,
     "metadata": {},
     "output_type": "execute_result"
    }
   ],
   "source": [
    "dfDummies.isnull().sum().sum()"
   ]
  },
  {
   "cell_type": "code",
   "execution_count": 44,
   "metadata": {},
   "outputs": [],
   "source": [
    "X = dfDummies.loc[:, dfDummies.columns != 'residence_type']\n",
    "y = dfDummies.loc[:, dfDummies.columns == 'residence_type']"
   ]
  },
  {
   "cell_type": "markdown",
   "metadata": {},
   "source": [
    "We use 'SMOTE' method to over sample our apartment type dataset: https://arxiv.org/pdf/1106.1813.pdf"
   ]
  },
  {
   "cell_type": "code",
   "execution_count": 45,
   "metadata": {},
   "outputs": [
    {
     "name": "stdout",
     "output_type": "stream",
     "text": [
      "length of total oversampled data is  172458\n",
      "Number of apartment in oversampled data 86229\n",
      "Number of house 86229\n",
      "Proportion of apartment in oversampled data is  0.5\n",
      "Proportion of house data in oversampled data is  0.5\n"
     ]
    }
   ],
   "source": [
    "from imblearn.over_sampling import SMOTE\n",
    "\n",
    "os = SMOTE(random_state=0)\n",
    "X_train, X_test, y_train, y_test = train_test_split(X, y, test_size=0.3, random_state=0)\n",
    "columns = X_train.columns\n",
    "os_data_X,os_data_y=os.fit_resample(X_train, y_train)\n",
    "os_data_X = pd.DataFrame(data=os_data_X,columns=columns )\n",
    "os_data_y= pd.DataFrame(data=os_data_y,columns=['residence_type'])\n",
    "# we can Check the numbers of our data\n",
    "print(\"length of total oversampled data is \",len(os_data_X))\n",
    "print(\"Number of apartment in oversampled data\",len(os_data_y[os_data_y['residence_type']==0]))\n",
    "print(\"Number of house\",len(os_data_y[os_data_y['residence_type']==1]))\n",
    "print(\"Proportion of apartment in oversampled data is \",len(os_data_y[os_data_y['residence_type']==0])/len(os_data_X))\n",
    "print(\"Proportion of house data in oversampled data is \",len(os_data_y[os_data_y['residence_type']==1])/len(os_data_X))"
   ]
  },
  {
   "cell_type": "code",
   "execution_count": 46,
   "metadata": {},
   "outputs": [
    {
     "data": {
      "text/plain": [
       "Index(['nbed', 'nbath', 'ncar', 'weekly_rent', 'residence_type', 'year_2013',\n",
       "       'year_2014', 'year_2015', 'year_2016', 'year_2017',\n",
       "       ...\n",
       "       'SA2_CODE_217031471', 'SA2_CODE_217031472', 'SA2_CODE_217031473',\n",
       "       'SA2_CODE_217031474', 'SA2_CODE_217031475', 'SA2_CODE_217031476',\n",
       "       'SA2_CODE_217041477', 'SA2_CODE_217041478', 'SA2_CODE_217041479',\n",
       "       'SA2_CODE_217041480'],\n",
       "      dtype='object', length=526)"
      ]
     },
     "execution_count": 46,
     "metadata": {},
     "output_type": "execute_result"
    }
   ],
   "source": [
    "dfDummies.columns"
   ]
  },
  {
   "cell_type": "code",
   "execution_count": 47,
   "metadata": {},
   "outputs": [],
   "source": [
    "data_final_vars=dfDummies.columns.values.tolist()\n",
    "y=['residence_type']\n",
    "X=[i for i in data_final_vars if i not in y]\n",
    "from sklearn.feature_selection import RFE\n",
    "from sklearn.linear_model import LogisticRegression\n",
    "logreg = LogisticRegression()\n"
   ]
  },
  {
   "cell_type": "code",
   "execution_count": 48,
   "metadata": {},
   "outputs": [],
   "source": [
    "X = os_data_X.loc[:, os_data_X.columns != 'residence_type']\n",
    "y = os_data_X.loc[:, os_data_X.columns == 'residence_type']"
   ]
  },
  {
   "cell_type": "code",
   "execution_count": 49,
   "metadata": {},
   "outputs": [
    {
     "data": {
      "text/plain": [
       "(172458, 525)"
      ]
     },
     "execution_count": 49,
     "metadata": {},
     "output_type": "execute_result"
    }
   ],
   "source": [
    "os_data_X.shape"
   ]
  },
  {
   "cell_type": "code",
   "execution_count": 50,
   "metadata": {},
   "outputs": [
    {
     "data": {
      "text/plain": [
       "(172458, 1)"
      ]
     },
     "execution_count": 50,
     "metadata": {},
     "output_type": "execute_result"
    }
   ],
   "source": [
    "os_data_y.shape"
   ]
  },
  {
   "cell_type": "markdown",
   "metadata": {},
   "source": [
    "## Feature selection\n",
    "\n",
    "remove features with p-value greater than 0.05"
   ]
  },
  {
   "cell_type": "code",
   "execution_count": 51,
   "metadata": {},
   "outputs": [],
   "source": [
    "X = os_data_X\n",
    "y = os_data_y"
   ]
  },
  {
   "cell_type": "code",
   "execution_count": 52,
   "metadata": {},
   "outputs": [
    {
     "data": {
      "text/plain": [
       "'logit_model=sm.Logit(y,X)\\nresult=logit_model.fit()\\nprint(result.summary2())'"
      ]
     },
     "execution_count": 52,
     "metadata": {},
     "output_type": "execute_result"
    }
   ],
   "source": [
    "# further feature selection if have time\n",
    "\n",
    "'''logit_model=sm.Logit(y,X)\n",
    "result=logit_model.fit()\n",
    "print(result.summary2())'''"
   ]
  },
  {
   "cell_type": "code",
   "execution_count": 53,
   "metadata": {},
   "outputs": [
    {
     "name": "stderr",
     "output_type": "stream",
     "text": [
      "/Users/graceliu/opt/anaconda3/lib/python3.8/site-packages/sklearn/linear_model/_logistic.py:444: ConvergenceWarning: lbfgs failed to converge (status=1):\n",
      "STOP: TOTAL NO. of ITERATIONS REACHED LIMIT.\n",
      "\n",
      "Increase the number of iterations (max_iter) or scale the data as shown in:\n",
      "    https://scikit-learn.org/stable/modules/preprocessing.html\n",
      "Please also refer to the documentation for alternative solver options:\n",
      "    https://scikit-learn.org/stable/modules/linear_model.html#logistic-regression\n",
      "  n_iter_i = _check_optimize_result(\n"
     ]
    },
    {
     "data": {
      "text/html": [
       "<style>#sk-container-id-1 {color: black;background-color: white;}#sk-container-id-1 pre{padding: 0;}#sk-container-id-1 div.sk-toggleable {background-color: white;}#sk-container-id-1 label.sk-toggleable__label {cursor: pointer;display: block;width: 100%;margin-bottom: 0;padding: 0.3em;box-sizing: border-box;text-align: center;}#sk-container-id-1 label.sk-toggleable__label-arrow:before {content: \"▸\";float: left;margin-right: 0.25em;color: #696969;}#sk-container-id-1 label.sk-toggleable__label-arrow:hover:before {color: black;}#sk-container-id-1 div.sk-estimator:hover label.sk-toggleable__label-arrow:before {color: black;}#sk-container-id-1 div.sk-toggleable__content {max-height: 0;max-width: 0;overflow: hidden;text-align: left;background-color: #f0f8ff;}#sk-container-id-1 div.sk-toggleable__content pre {margin: 0.2em;color: black;border-radius: 0.25em;background-color: #f0f8ff;}#sk-container-id-1 input.sk-toggleable__control:checked~div.sk-toggleable__content {max-height: 200px;max-width: 100%;overflow: auto;}#sk-container-id-1 input.sk-toggleable__control:checked~label.sk-toggleable__label-arrow:before {content: \"▾\";}#sk-container-id-1 div.sk-estimator input.sk-toggleable__control:checked~label.sk-toggleable__label {background-color: #d4ebff;}#sk-container-id-1 div.sk-label input.sk-toggleable__control:checked~label.sk-toggleable__label {background-color: #d4ebff;}#sk-container-id-1 input.sk-hidden--visually {border: 0;clip: rect(1px 1px 1px 1px);clip: rect(1px, 1px, 1px, 1px);height: 1px;margin: -1px;overflow: hidden;padding: 0;position: absolute;width: 1px;}#sk-container-id-1 div.sk-estimator {font-family: monospace;background-color: #f0f8ff;border: 1px dotted black;border-radius: 0.25em;box-sizing: border-box;margin-bottom: 0.5em;}#sk-container-id-1 div.sk-estimator:hover {background-color: #d4ebff;}#sk-container-id-1 div.sk-parallel-item::after {content: \"\";width: 100%;border-bottom: 1px solid gray;flex-grow: 1;}#sk-container-id-1 div.sk-label:hover label.sk-toggleable__label {background-color: #d4ebff;}#sk-container-id-1 div.sk-serial::before {content: \"\";position: absolute;border-left: 1px solid gray;box-sizing: border-box;top: 0;bottom: 0;left: 50%;z-index: 0;}#sk-container-id-1 div.sk-serial {display: flex;flex-direction: column;align-items: center;background-color: white;padding-right: 0.2em;padding-left: 0.2em;position: relative;}#sk-container-id-1 div.sk-item {position: relative;z-index: 1;}#sk-container-id-1 div.sk-parallel {display: flex;align-items: stretch;justify-content: center;background-color: white;position: relative;}#sk-container-id-1 div.sk-item::before, #sk-container-id-1 div.sk-parallel-item::before {content: \"\";position: absolute;border-left: 1px solid gray;box-sizing: border-box;top: 0;bottom: 0;left: 50%;z-index: -1;}#sk-container-id-1 div.sk-parallel-item {display: flex;flex-direction: column;z-index: 1;position: relative;background-color: white;}#sk-container-id-1 div.sk-parallel-item:first-child::after {align-self: flex-end;width: 50%;}#sk-container-id-1 div.sk-parallel-item:last-child::after {align-self: flex-start;width: 50%;}#sk-container-id-1 div.sk-parallel-item:only-child::after {width: 0;}#sk-container-id-1 div.sk-dashed-wrapped {border: 1px dashed gray;margin: 0 0.4em 0.5em 0.4em;box-sizing: border-box;padding-bottom: 0.4em;background-color: white;}#sk-container-id-1 div.sk-label label {font-family: monospace;font-weight: bold;display: inline-block;line-height: 1.2em;}#sk-container-id-1 div.sk-label-container {text-align: center;}#sk-container-id-1 div.sk-container {/* jupyter's `normalize.less` sets `[hidden] { display: none; }` but bootstrap.min.css set `[hidden] { display: none !important; }` so we also need the `!important` here to be able to override the default hidden behavior on the sphinx rendered scikit-learn.org. See: https://github.com/scikit-learn/scikit-learn/issues/21755 */display: inline-block !important;position: relative;}#sk-container-id-1 div.sk-text-repr-fallback {display: none;}</style><div id=\"sk-container-id-1\" class=\"sk-top-container\"><div class=\"sk-text-repr-fallback\"><pre>LogisticRegression()</pre><b>In a Jupyter environment, please rerun this cell to show the HTML representation or trust the notebook. <br />On GitHub, the HTML representation is unable to render, please try loading this page with nbviewer.org.</b></div><div class=\"sk-container\" hidden><div class=\"sk-item\"><div class=\"sk-estimator sk-toggleable\"><input class=\"sk-toggleable__control sk-hidden--visually\" id=\"sk-estimator-id-1\" type=\"checkbox\" checked><label for=\"sk-estimator-id-1\" class=\"sk-toggleable__label sk-toggleable__label-arrow\">LogisticRegression</label><div class=\"sk-toggleable__content\"><pre>LogisticRegression()</pre></div></div></div></div></div>"
      ],
      "text/plain": [
       "LogisticRegression()"
      ]
     },
     "execution_count": 53,
     "metadata": {},
     "output_type": "execute_result"
    }
   ],
   "source": [
    "from sklearn.linear_model import LogisticRegression\n",
    "from sklearn import metrics\n",
    "X_train, X_test, y_train, y_test = train_test_split(X, y, test_size=0.3, random_state=0)\n",
    "logreg = LogisticRegression()\n",
    "logreg.fit(X_train, y_train.values.ravel())"
   ]
  },
  {
   "cell_type": "code",
   "execution_count": 54,
   "metadata": {},
   "outputs": [
    {
     "name": "stdout",
     "output_type": "stream",
     "text": [
      "Accuracy of logistic regression classifier on test set: 0.88\n"
     ]
    }
   ],
   "source": [
    "y_pred = logreg.predict(X_test)\n",
    "print('Accuracy of logistic regression classifier on test set: {:.2f}'.format(logreg.score(X_test, y_test)))"
   ]
  },
  {
   "cell_type": "markdown",
   "metadata": {},
   "source": [
    "## Evalutation"
   ]
  },
  {
   "cell_type": "code",
   "execution_count": 55,
   "metadata": {},
   "outputs": [
    {
     "name": "stdout",
     "output_type": "stream",
     "text": [
      "[[23491  2564]\n",
      " [ 3414 22269]]\n"
     ]
    }
   ],
   "source": [
    "from sklearn.metrics import confusion_matrix\n",
    "confusion_matrix = confusion_matrix(y_test, y_pred)\n",
    "print(confusion_matrix)"
   ]
  },
  {
   "cell_type": "code",
   "execution_count": 56,
   "metadata": {},
   "outputs": [
    {
     "name": "stdout",
     "output_type": "stream",
     "text": [
      "              precision    recall  f1-score   support\n",
      "\n",
      "           0       0.87      0.90      0.89     26055\n",
      "           1       0.90      0.87      0.88     25683\n",
      "\n",
      "    accuracy                           0.88     51738\n",
      "   macro avg       0.88      0.88      0.88     51738\n",
      "weighted avg       0.88      0.88      0.88     51738\n",
      "\n"
     ]
    }
   ],
   "source": [
    "from sklearn.metrics import classification_report\n",
    "print(classification_report(y_test, y_pred))"
   ]
  },
  {
   "cell_type": "markdown",
   "metadata": {},
   "source": [
    "## Apply the prediction result to the original dataframe"
   ]
  },
  {
   "cell_type": "code",
   "execution_count": 57,
   "metadata": {},
   "outputs": [
    {
     "data": {
      "text/html": [
       "<div>\n",
       "<style scoped>\n",
       "    .dataframe tbody tr th:only-of-type {\n",
       "        vertical-align: middle;\n",
       "    }\n",
       "\n",
       "    .dataframe tbody tr th {\n",
       "        vertical-align: top;\n",
       "    }\n",
       "\n",
       "    .dataframe thead th {\n",
       "        text-align: right;\n",
       "    }\n",
       "</style>\n",
       "<table border=\"1\" class=\"dataframe\">\n",
       "  <thead>\n",
       "    <tr style=\"text-align: right;\">\n",
       "      <th></th>\n",
       "      <th>nbed</th>\n",
       "      <th>nbath</th>\n",
       "      <th>ncar</th>\n",
       "      <th>weekly_rent</th>\n",
       "      <th>residence_type</th>\n",
       "      <th>year</th>\n",
       "      <th>month</th>\n",
       "      <th>SA2_CODE</th>\n",
       "    </tr>\n",
       "  </thead>\n",
       "  <tbody>\n",
       "    <tr>\n",
       "      <th>14</th>\n",
       "      <td>3.0</td>\n",
       "      <td>1.0</td>\n",
       "      <td>4</td>\n",
       "      <td>280</td>\n",
       "      <td>Other</td>\n",
       "      <td>2018</td>\n",
       "      <td>9</td>\n",
       "      <td>205011078</td>\n",
       "    </tr>\n",
       "    <tr>\n",
       "      <th>15</th>\n",
       "      <td>2.0</td>\n",
       "      <td>1.0</td>\n",
       "      <td>2</td>\n",
       "      <td>220</td>\n",
       "      <td>Other</td>\n",
       "      <td>2018</td>\n",
       "      <td>12</td>\n",
       "      <td>204031070</td>\n",
       "    </tr>\n",
       "    <tr>\n",
       "      <th>20</th>\n",
       "      <td>4.0</td>\n",
       "      <td>2.0</td>\n",
       "      <td>4</td>\n",
       "      <td>450</td>\n",
       "      <td>Other</td>\n",
       "      <td>2018</td>\n",
       "      <td>12</td>\n",
       "      <td>204031070</td>\n",
       "    </tr>\n",
       "    <tr>\n",
       "      <th>28</th>\n",
       "      <td>2.0</td>\n",
       "      <td>1.0</td>\n",
       "      <td>4</td>\n",
       "      <td>200</td>\n",
       "      <td>Other</td>\n",
       "      <td>2018</td>\n",
       "      <td>1</td>\n",
       "      <td>204031070</td>\n",
       "    </tr>\n",
       "    <tr>\n",
       "      <th>30</th>\n",
       "      <td>2.0</td>\n",
       "      <td>1.0</td>\n",
       "      <td>1</td>\n",
       "      <td>380</td>\n",
       "      <td>Other</td>\n",
       "      <td>2018</td>\n",
       "      <td>4</td>\n",
       "      <td>211051275</td>\n",
       "    </tr>\n",
       "  </tbody>\n",
       "</table>\n",
       "</div>"
      ],
      "text/plain": [
       "    nbed  nbath  ncar  weekly_rent residence_type  year  month   SA2_CODE\n",
       "14   3.0    1.0     4          280          Other  2018      9  205011078\n",
       "15   2.0    1.0     2          220          Other  2018     12  204031070\n",
       "20   4.0    2.0     4          450          Other  2018     12  204031070\n",
       "28   2.0    1.0     4          200          Other  2018      1  204031070\n",
       "30   2.0    1.0     1          380          Other  2018      4  211051275"
      ]
     },
     "execution_count": 57,
     "metadata": {},
     "output_type": "execute_result"
    }
   ],
   "source": [
    "df_other.head()"
   ]
  },
  {
   "cell_type": "code",
   "execution_count": 58,
   "metadata": {},
   "outputs": [
    {
     "data": {
      "text/html": [
       "<div>\n",
       "<style scoped>\n",
       "    .dataframe tbody tr th:only-of-type {\n",
       "        vertical-align: middle;\n",
       "    }\n",
       "\n",
       "    .dataframe tbody tr th {\n",
       "        vertical-align: top;\n",
       "    }\n",
       "\n",
       "    .dataframe thead th {\n",
       "        text-align: right;\n",
       "    }\n",
       "</style>\n",
       "<table border=\"1\" class=\"dataframe\">\n",
       "  <thead>\n",
       "    <tr style=\"text-align: right;\">\n",
       "      <th></th>\n",
       "      <th>nbed</th>\n",
       "      <th>nbath</th>\n",
       "      <th>ncar</th>\n",
       "      <th>weekly_rent</th>\n",
       "      <th>residence_type</th>\n",
       "      <th>year</th>\n",
       "      <th>month</th>\n",
       "      <th>SA2_CODE</th>\n",
       "    </tr>\n",
       "  </thead>\n",
       "  <tbody>\n",
       "    <tr>\n",
       "      <th>87905</th>\n",
       "      <td>1.0</td>\n",
       "      <td>1.0</td>\n",
       "      <td>0</td>\n",
       "      <td>325</td>\n",
       "      <td>Other</td>\n",
       "      <td>2022</td>\n",
       "      <td>7</td>\n",
       "      <td>206061515</td>\n",
       "    </tr>\n",
       "    <tr>\n",
       "      <th>87906</th>\n",
       "      <td>1.0</td>\n",
       "      <td>1.0</td>\n",
       "      <td>0</td>\n",
       "      <td>325</td>\n",
       "      <td>Other</td>\n",
       "      <td>2022</td>\n",
       "      <td>2</td>\n",
       "      <td>206061515</td>\n",
       "    </tr>\n",
       "  </tbody>\n",
       "</table>\n",
       "</div>"
      ],
      "text/plain": [
       "       nbed  nbath  ncar  weekly_rent residence_type  year  month   SA2_CODE\n",
       "87905   1.0    1.0     0          325          Other  2022      7  206061515\n",
       "87906   1.0    1.0     0          325          Other  2022      2  206061515"
      ]
     },
     "execution_count": 58,
     "metadata": {},
     "output_type": "execute_result"
    }
   ],
   "source": [
    "df_other[df_other.SA2_CODE == 206061515]\n"
   ]
  },
  {
   "cell_type": "code",
   "execution_count": 59,
   "metadata": {},
   "outputs": [],
   "source": [
    "predict_df = df_other[~df_other.SA2_CODE.isin([East_Melbourne,West_Melbourne,South_Yarra])]\n",
    "mannual_predict_df = df_other[df_other.SA2_CODE.isin([East_Melbourne,West_Melbourne,South_Yarra])]\n",
    "# This part was explained in the previous part. We mannually googled and judged all these properties can be apartment in these suburbs"
   ]
  },
  {
   "cell_type": "code",
   "execution_count": 60,
   "metadata": {},
   "outputs": [
    {
     "name": "stderr",
     "output_type": "stream",
     "text": [
      "<ipython-input-60-9d85c6242bc0>:1: SettingWithCopyWarning: \n",
      "A value is trying to be set on a copy of a slice from a DataFrame.\n",
      "Try using .loc[row_indexer,col_indexer] = value instead\n",
      "\n",
      "See the caveats in the documentation: https://pandas.pydata.org/pandas-docs/stable/user_guide/indexing.html#returning-a-view-versus-a-copy\n",
      "  mannual_predict_df['residence_type'] = 'Apartment'\n"
     ]
    }
   ],
   "source": [
    "mannual_predict_df['residence_type'] = 'Apartment'"
   ]
  },
  {
   "cell_type": "code",
   "execution_count": 61,
   "metadata": {},
   "outputs": [],
   "source": [
    "cat_vars = ['year','month','SA2_CODE']\n",
    "dfDummies2 = pd.get_dummies(predict_df, columns=cat_vars)"
   ]
  },
  {
   "cell_type": "code",
   "execution_count": 62,
   "metadata": {},
   "outputs": [],
   "source": [
    "X = dfDummies2.loc[:, dfDummies2.columns != 'residence_type']\n",
    "y = dfDummies2.loc[:, dfDummies2.columns == 'residence_type']"
   ]
  },
  {
   "cell_type": "code",
   "execution_count": 63,
   "metadata": {},
   "outputs": [],
   "source": [
    "result = list(logreg.predict(X))"
   ]
  },
  {
   "cell_type": "code",
   "execution_count": 64,
   "metadata": {},
   "outputs": [
    {
     "name": "stderr",
     "output_type": "stream",
     "text": [
      "<ipython-input-64-4b0b1fd5d47c>:1: SettingWithCopyWarning: \n",
      "A value is trying to be set on a copy of a slice from a DataFrame.\n",
      "Try using .loc[row_indexer,col_indexer] = value instead\n",
      "\n",
      "See the caveats in the documentation: https://pandas.pydata.org/pandas-docs/stable/user_guide/indexing.html#returning-a-view-versus-a-copy\n",
      "  predict_df['residence_type'] = result\n"
     ]
    }
   ],
   "source": [
    "predict_df['residence_type'] = result"
   ]
  },
  {
   "cell_type": "code",
   "execution_count": 65,
   "metadata": {},
   "outputs": [
    {
     "data": {
      "text/html": [
       "<div>\n",
       "<style scoped>\n",
       "    .dataframe tbody tr th:only-of-type {\n",
       "        vertical-align: middle;\n",
       "    }\n",
       "\n",
       "    .dataframe tbody tr th {\n",
       "        vertical-align: top;\n",
       "    }\n",
       "\n",
       "    .dataframe thead th {\n",
       "        text-align: right;\n",
       "    }\n",
       "</style>\n",
       "<table border=\"1\" class=\"dataframe\">\n",
       "  <thead>\n",
       "    <tr style=\"text-align: right;\">\n",
       "      <th></th>\n",
       "      <th>nbed</th>\n",
       "      <th>nbath</th>\n",
       "      <th>ncar</th>\n",
       "      <th>weekly_rent</th>\n",
       "      <th>residence_type</th>\n",
       "      <th>year</th>\n",
       "      <th>month</th>\n",
       "      <th>SA2_CODE</th>\n",
       "    </tr>\n",
       "  </thead>\n",
       "  <tbody>\n",
       "    <tr>\n",
       "      <th>14</th>\n",
       "      <td>3.0</td>\n",
       "      <td>1.0</td>\n",
       "      <td>4</td>\n",
       "      <td>280</td>\n",
       "      <td>1</td>\n",
       "      <td>2018</td>\n",
       "      <td>9</td>\n",
       "      <td>205011078</td>\n",
       "    </tr>\n",
       "    <tr>\n",
       "      <th>15</th>\n",
       "      <td>2.0</td>\n",
       "      <td>1.0</td>\n",
       "      <td>2</td>\n",
       "      <td>220</td>\n",
       "      <td>0</td>\n",
       "      <td>2018</td>\n",
       "      <td>12</td>\n",
       "      <td>204031070</td>\n",
       "    </tr>\n",
       "    <tr>\n",
       "      <th>20</th>\n",
       "      <td>4.0</td>\n",
       "      <td>2.0</td>\n",
       "      <td>4</td>\n",
       "      <td>450</td>\n",
       "      <td>1</td>\n",
       "      <td>2018</td>\n",
       "      <td>12</td>\n",
       "      <td>204031070</td>\n",
       "    </tr>\n",
       "    <tr>\n",
       "      <th>28</th>\n",
       "      <td>2.0</td>\n",
       "      <td>1.0</td>\n",
       "      <td>4</td>\n",
       "      <td>200</td>\n",
       "      <td>1</td>\n",
       "      <td>2018</td>\n",
       "      <td>1</td>\n",
       "      <td>204031070</td>\n",
       "    </tr>\n",
       "    <tr>\n",
       "      <th>30</th>\n",
       "      <td>2.0</td>\n",
       "      <td>1.0</td>\n",
       "      <td>1</td>\n",
       "      <td>380</td>\n",
       "      <td>0</td>\n",
       "      <td>2018</td>\n",
       "      <td>4</td>\n",
       "      <td>211051275</td>\n",
       "    </tr>\n",
       "  </tbody>\n",
       "</table>\n",
       "</div>"
      ],
      "text/plain": [
       "    nbed  nbath  ncar  weekly_rent  residence_type  year  month   SA2_CODE\n",
       "14   3.0    1.0     4          280               1  2018      9  205011078\n",
       "15   2.0    1.0     2          220               0  2018     12  204031070\n",
       "20   4.0    2.0     4          450               1  2018     12  204031070\n",
       "28   2.0    1.0     4          200               1  2018      1  204031070\n",
       "30   2.0    1.0     1          380               0  2018      4  211051275"
      ]
     },
     "execution_count": 65,
     "metadata": {},
     "output_type": "execute_result"
    }
   ],
   "source": [
    "predict_df.head()"
   ]
  },
  {
   "cell_type": "code",
   "execution_count": 66,
   "metadata": {},
   "outputs": [
    {
     "name": "stderr",
     "output_type": "stream",
     "text": [
      "<ipython-input-66-92e4264e5789>:1: SettingWithCopyWarning: \n",
      "A value is trying to be set on a copy of a slice from a DataFrame.\n",
      "Try using .loc[row_indexer,col_indexer] = value instead\n",
      "\n",
      "See the caveats in the documentation: https://pandas.pydata.org/pandas-docs/stable/user_guide/indexing.html#returning-a-view-versus-a-copy\n",
      "  predict_df['residence_type'] = predict_df['residence_type'].apply(lambda x: 'House' if x == 1 else 'Apartment')\n"
     ]
    }
   ],
   "source": [
    "predict_df['residence_type'] = predict_df['residence_type'].apply(lambda x: 'House' if x == 1 else 'Apartment')"
   ]
  },
  {
   "cell_type": "code",
   "execution_count": 67,
   "metadata": {},
   "outputs": [
    {
     "data": {
      "text/html": [
       "<div>\n",
       "<style scoped>\n",
       "    .dataframe tbody tr th:only-of-type {\n",
       "        vertical-align: middle;\n",
       "    }\n",
       "\n",
       "    .dataframe tbody tr th {\n",
       "        vertical-align: top;\n",
       "    }\n",
       "\n",
       "    .dataframe thead th {\n",
       "        text-align: right;\n",
       "    }\n",
       "</style>\n",
       "<table border=\"1\" class=\"dataframe\">\n",
       "  <thead>\n",
       "    <tr style=\"text-align: right;\">\n",
       "      <th></th>\n",
       "      <th>nbed</th>\n",
       "      <th>nbath</th>\n",
       "      <th>ncar</th>\n",
       "      <th>weekly_rent</th>\n",
       "      <th>residence_type</th>\n",
       "      <th>year</th>\n",
       "      <th>month</th>\n",
       "      <th>SA2_CODE</th>\n",
       "    </tr>\n",
       "  </thead>\n",
       "  <tbody>\n",
       "    <tr>\n",
       "      <th>14</th>\n",
       "      <td>3.0</td>\n",
       "      <td>1.0</td>\n",
       "      <td>4</td>\n",
       "      <td>280</td>\n",
       "      <td>House</td>\n",
       "      <td>2018</td>\n",
       "      <td>9</td>\n",
       "      <td>205011078</td>\n",
       "    </tr>\n",
       "    <tr>\n",
       "      <th>15</th>\n",
       "      <td>2.0</td>\n",
       "      <td>1.0</td>\n",
       "      <td>2</td>\n",
       "      <td>220</td>\n",
       "      <td>Apartment</td>\n",
       "      <td>2018</td>\n",
       "      <td>12</td>\n",
       "      <td>204031070</td>\n",
       "    </tr>\n",
       "    <tr>\n",
       "      <th>20</th>\n",
       "      <td>4.0</td>\n",
       "      <td>2.0</td>\n",
       "      <td>4</td>\n",
       "      <td>450</td>\n",
       "      <td>House</td>\n",
       "      <td>2018</td>\n",
       "      <td>12</td>\n",
       "      <td>204031070</td>\n",
       "    </tr>\n",
       "    <tr>\n",
       "      <th>28</th>\n",
       "      <td>2.0</td>\n",
       "      <td>1.0</td>\n",
       "      <td>4</td>\n",
       "      <td>200</td>\n",
       "      <td>House</td>\n",
       "      <td>2018</td>\n",
       "      <td>1</td>\n",
       "      <td>204031070</td>\n",
       "    </tr>\n",
       "    <tr>\n",
       "      <th>30</th>\n",
       "      <td>2.0</td>\n",
       "      <td>1.0</td>\n",
       "      <td>1</td>\n",
       "      <td>380</td>\n",
       "      <td>Apartment</td>\n",
       "      <td>2018</td>\n",
       "      <td>4</td>\n",
       "      <td>211051275</td>\n",
       "    </tr>\n",
       "    <tr>\n",
       "      <th>...</th>\n",
       "      <td>...</td>\n",
       "      <td>...</td>\n",
       "      <td>...</td>\n",
       "      <td>...</td>\n",
       "      <td>...</td>\n",
       "      <td>...</td>\n",
       "      <td>...</td>\n",
       "      <td>...</td>\n",
       "    </tr>\n",
       "    <tr>\n",
       "      <th>231490</th>\n",
       "      <td>3.0</td>\n",
       "      <td>1.0</td>\n",
       "      <td>1</td>\n",
       "      <td>250</td>\n",
       "      <td>House</td>\n",
       "      <td>2017</td>\n",
       "      <td>10</td>\n",
       "      <td>205041094</td>\n",
       "    </tr>\n",
       "    <tr>\n",
       "      <th>231491</th>\n",
       "      <td>3.0</td>\n",
       "      <td>1.0</td>\n",
       "      <td>1</td>\n",
       "      <td>280</td>\n",
       "      <td>House</td>\n",
       "      <td>2017</td>\n",
       "      <td>7</td>\n",
       "      <td>205041094</td>\n",
       "    </tr>\n",
       "    <tr>\n",
       "      <th>231493</th>\n",
       "      <td>2.0</td>\n",
       "      <td>2.0</td>\n",
       "      <td>1</td>\n",
       "      <td>195</td>\n",
       "      <td>House</td>\n",
       "      <td>2017</td>\n",
       "      <td>5</td>\n",
       "      <td>205041094</td>\n",
       "    </tr>\n",
       "    <tr>\n",
       "      <th>231495</th>\n",
       "      <td>3.0</td>\n",
       "      <td>2.0</td>\n",
       "      <td>2</td>\n",
       "      <td>300</td>\n",
       "      <td>House</td>\n",
       "      <td>2017</td>\n",
       "      <td>1</td>\n",
       "      <td>205041094</td>\n",
       "    </tr>\n",
       "    <tr>\n",
       "      <th>231496</th>\n",
       "      <td>3.0</td>\n",
       "      <td>2.0</td>\n",
       "      <td>2</td>\n",
       "      <td>300</td>\n",
       "      <td>House</td>\n",
       "      <td>2017</td>\n",
       "      <td>2</td>\n",
       "      <td>205041094</td>\n",
       "    </tr>\n",
       "  </tbody>\n",
       "</table>\n",
       "<p>98735 rows × 8 columns</p>\n",
       "</div>"
      ],
      "text/plain": [
       "        nbed  nbath  ncar  weekly_rent residence_type  year  month   SA2_CODE\n",
       "14       3.0    1.0     4          280          House  2018      9  205011078\n",
       "15       2.0    1.0     2          220      Apartment  2018     12  204031070\n",
       "20       4.0    2.0     4          450          House  2018     12  204031070\n",
       "28       2.0    1.0     4          200          House  2018      1  204031070\n",
       "30       2.0    1.0     1          380      Apartment  2018      4  211051275\n",
       "...      ...    ...   ...          ...            ...   ...    ...        ...\n",
       "231490   3.0    1.0     1          250          House  2017     10  205041094\n",
       "231491   3.0    1.0     1          280          House  2017      7  205041094\n",
       "231493   2.0    2.0     1          195          House  2017      5  205041094\n",
       "231495   3.0    2.0     2          300          House  2017      1  205041094\n",
       "231496   3.0    2.0     2          300          House  2017      2  205041094\n",
       "\n",
       "[98735 rows x 8 columns]"
      ]
     },
     "execution_count": 67,
     "metadata": {},
     "output_type": "execute_result"
    }
   ],
   "source": [
    "predict_df"
   ]
  },
  {
   "cell_type": "code",
   "execution_count": 68,
   "metadata": {},
   "outputs": [],
   "source": [
    "predict_result = pd.concat([predict_df, mannual_predict_df])"
   ]
  },
  {
   "cell_type": "code",
   "execution_count": 69,
   "metadata": {},
   "outputs": [
    {
     "data": {
      "text/plain": [
       "True"
      ]
     },
     "execution_count": 69,
     "metadata": {},
     "output_type": "execute_result"
    }
   ],
   "source": [
    "# check if we've predicted all 'Other' type data\n",
    "initial_other_df = combine_df[combine_df.residence_type == 'Other']\n",
    "len(predict_result) == len(initial_other_df)\n",
    "# Yes, we did"
   ]
  },
  {
   "cell_type": "code",
   "execution_count": 70,
   "metadata": {},
   "outputs": [],
   "source": [
    "pred_type = predict_result['residence_type']"
   ]
  },
  {
   "cell_type": "code",
   "execution_count": 71,
   "metadata": {},
   "outputs": [
    {
     "data": {
      "text/plain": [
       "Index(['Unnamed: 0.3', 'Unnamed: 0', 'Unnamed: 0.2', 'Unnamed: 0.1', 'address',\n",
       "       'latitude', 'longitude', 'nbed', 'nbath', 'ncar', 'price', 'type',\n",
       "       'historical_dates', 'postcode', 'year', 'month', 'suburb',\n",
       "       'weekly_rent', 'residence_type_x', 'SA2_CODE', 'residence_type_y'],\n",
       "      dtype='object')"
      ]
     },
     "execution_count": 71,
     "metadata": {},
     "output_type": "execute_result"
    }
   ],
   "source": [
    "pred_df = pd.merge(combine_df, pred_type, left_index=True, right_index=True)\n",
    "pred_df.columns"
   ]
  },
  {
   "cell_type": "code",
   "execution_count": 72,
   "metadata": {},
   "outputs": [],
   "source": [
    "pred_df = pred_df.drop(columns='residence_type_x')"
   ]
  },
  {
   "cell_type": "code",
   "execution_count": 73,
   "metadata": {},
   "outputs": [],
   "source": [
    "pred_df = pred_df.rename(columns={'residence_type_y':'residence_type'})"
   ]
  },
  {
   "cell_type": "markdown",
   "metadata": {},
   "source": [
    "combine the house & apt dataset with predicted data set"
   ]
  },
  {
   "cell_type": "code",
   "execution_count": 74,
   "metadata": {},
   "outputs": [],
   "source": [
    "house_apt_df = combine_df[combine_df.residence_type != 'Other']"
   ]
  },
  {
   "cell_type": "code",
   "execution_count": 75,
   "metadata": {},
   "outputs": [],
   "source": [
    "result = pd.concat([pred_df, house_apt_df])"
   ]
  },
  {
   "cell_type": "code",
   "execution_count": 76,
   "metadata": {},
   "outputs": [
    {
     "data": {
      "text/plain": [
       "True"
      ]
     },
     "execution_count": 76,
     "metadata": {},
     "output_type": "execute_result"
    }
   ],
   "source": [
    "# Check if there are data loss\n",
    "len(result) == len(combine_df)\n",
    "# No loss"
   ]
  },
  {
   "cell_type": "code",
   "execution_count": 77,
   "metadata": {},
   "outputs": [],
   "source": [
    "result = result.drop(columns=['Unnamed: 0.3','Unnamed: 0','Unnamed: 0.2','Unnamed: 0.1','type'])"
   ]
  },
  {
   "cell_type": "code",
   "execution_count": 82,
   "metadata": {},
   "outputs": [],
   "source": [
    "import os\n",
    "new_path = '../../data/curated/property_all_with_SA2_classified'\n",
    "if not os.path.exists(new_path) :\n",
    "    os.makedirs(new_path)"
   ]
  },
  {
   "cell_type": "code",
   "execution_count": 85,
   "metadata": {},
   "outputs": [],
   "source": [
    "YEAR = list(result.year.unique())\n",
    "for year in YEAR:\n",
    "    df = result[result.year == year]\n",
    "    df.to_csv(f'../../data/curated/property_all_with_SA2_classified/{year}_property_with_SA2_classified.csv')"
   ]
  },
  {
   "cell_type": "markdown",
   "metadata": {},
   "source": [
    "## Data Visualisation"
   ]
  },
  {
   "cell_type": "code",
   "execution_count": 23,
   "metadata": {},
   "outputs": [],
   "source": [
    "import glob \n",
    "import pandas as pd\n",
    "path = \"../data/curated/property_all_with_SA2_classified/*.csv\"\n",
    "file_lst = []\n",
    "for fname in glob.glob(path):\n",
    "    file_lst.append(fname)\n",
    "combined_csv = pd.concat([pd.read_csv(f) for f in file_lst ])"
   ]
  },
  {
   "cell_type": "code",
   "execution_count": 24,
   "metadata": {},
   "outputs": [
    {
     "data": {
      "text/plain": [
       "Index(['Unnamed: 0', 'address', 'latitude', 'longitude', 'nbed', 'nbath',\n",
       "       'ncar', 'price', 'historical_dates', 'postcode', 'year', 'month',\n",
       "       'suburb', 'weekly_rent', 'SA2_CODE', 'residence_type'],\n",
       "      dtype='object')"
      ]
     },
     "execution_count": 24,
     "metadata": {},
     "output_type": "execute_result"
    }
   ],
   "source": [
    "combined_csv.columns"
   ]
  },
  {
   "cell_type": "code",
   "execution_count": 14,
   "metadata": {},
   "outputs": [
    {
     "data": {
      "text/html": [
       "<div>\n",
       "<style scoped>\n",
       "    .dataframe tbody tr th:only-of-type {\n",
       "        vertical-align: middle;\n",
       "    }\n",
       "\n",
       "    .dataframe tbody tr th {\n",
       "        vertical-align: top;\n",
       "    }\n",
       "\n",
       "    .dataframe thead th {\n",
       "        text-align: right;\n",
       "    }\n",
       "</style>\n",
       "<table border=\"1\" class=\"dataframe\">\n",
       "  <thead>\n",
       "    <tr style=\"text-align: right;\">\n",
       "      <th></th>\n",
       "      <th>residence_type</th>\n",
       "      <th>averaged_wk_rent</th>\n",
       "      <th>num</th>\n",
       "    </tr>\n",
       "  </thead>\n",
       "  <tbody>\n",
       "    <tr>\n",
       "      <th>0</th>\n",
       "      <td>Apartment</td>\n",
       "      <td>395.104679</td>\n",
       "      <td>52016</td>\n",
       "    </tr>\n",
       "    <tr>\n",
       "      <th>1</th>\n",
       "      <td>House</td>\n",
       "      <td>465.697182</td>\n",
       "      <td>179481</td>\n",
       "    </tr>\n",
       "  </tbody>\n",
       "</table>\n",
       "</div>"
      ],
      "text/plain": [
       "  residence_type  averaged_wk_rent     num\n",
       "0      Apartment        395.104679   52016\n",
       "1          House        465.697182  179481"
      ]
     },
     "execution_count": 14,
     "metadata": {},
     "output_type": "execute_result"
    }
   ],
   "source": [
    "type_df2 = combined_csv[['residence_type', 'year','weekly_rent','postcode']]\\\n",
    "        .groupby(['residence_type'],as_index = False) \\\n",
    "        .agg(\n",
    "            {\\\n",
    "                'weekly_rent': 'mean', # count number of instances from sample\n",
    "                'postcode': 'count'\n",
    "            }\n",
    "        ) \\\n",
    "        .rename({'postcode': 'num','weekly_rent': 'averaged_wk_rent' }, axis=1)\n",
    "\n",
    "type_df2"
   ]
  },
  {
   "cell_type": "code",
   "execution_count": 43,
   "metadata": {},
   "outputs": [
    {
     "data": {
      "image/png": "[encoded data removed]",
      "text/plain": [
       "<Figure size 432x288 with 1 Axes>"
      ]
     },
     "metadata": {},
     "output_type": "display_data"
    }
   ],
   "source": [
    "#plt.figure(figsize=(15,15))\n",
    "\n",
    "ranks = type_df2.num.rank().sub(1).astype(int).array\n",
    "palette = sns.color_palette('Blues', len(ranks))\n",
    "\n",
    "sns.set(font_scale=1)\n",
    "sns.set_theme(style='white')\n",
    "ax = sns.barplot(\n",
    "    data=type_df2, x=\"residence_type\", y=\"num\", palette=np.array(palette)[ranks]\n",
    ")\n",
    "#ax.bar_label(ax.containers[0])\n",
    "show_values(ax)\n",
    "ax.set(title = \"Number of Properties per Property Type after Classification\", ylabel = \"Number\", xlabel = \"Residence Type\")\n",
    "plt.savefig(\"../plots/figure/Number of Properties per Property Type after Classification.jpg\")\n"
   ]
  }
 ],
 "metadata": {
  "kernelspec": {
   "display_name": "Python 3.8.5 ('base')",
   "language": "python",
   "name": "python3"
  },
  "language_info": {
   "codemirror_mode": {
    "name": "ipython",
    "version": 3
   },
   "file_extension": ".py",
   "mimetype": "text/x-python",
   "name": "python",
   "nbconvert_exporter": "python",
   "pygments_lexer": "ipython3",
   "version": "3.8.5"
  },
  "orig_nbformat": 4,
  "vscode": {
   "interpreter": {
    "hash": "c86cb5e9148e7c4bccb8072cef861029eee896e08e86645269b0451f021733e2"
   }
  }
 },
 "nbformat": 4,
 "nbformat_minor": 2
}
