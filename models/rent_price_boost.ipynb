{
 "cells": [
  {
   "cell_type": "code",
   "execution_count": 3,
   "metadata": {},
   "outputs": [],
   "source": [
    "import pandas as pd\n",
    "from xgboost import XGBRegressor\n",
    "from sklearn import metrics"
   ]
  },
  {
   "cell_type": "code",
   "execution_count": null,
   "metadata": {},
   "outputs": [],
   "source": [
    "merged_dataset =  pd.read_csv(\"../data/curated/merged_dataset/2013_merged_data.parquet\")\n",
    "\n",
    "for i in [2014, 2015, 2016, 2017, 2018, 2019, 2020, 2021, 2022]:\n",
    "    "
   ]
  },
  {
   "cell_type": "code",
   "execution_count": null,
   "metadata": {},
   "outputs": [],
   "source": [
    "# holdout method to split data into train and test\n",
    "num = (df_taxi_gas.count())*0.8\n",
    "df_tr = df_taxi_gas.loc[:num[0], :]\n",
    "df_te = df_taxi_gas.loc[num[0]:, :]\n",
    "\n",
    "X_train = df_tr.drop(columns='avg_income_rate')\n",
    "Y_train = df_tr['avg_income_rate']\n",
    "\n",
    "y_test = df_te[\"avg_income_rate\"]\n",
    "x_test = df_te.drop(columns=\"avg_income_rate\")"
   ]
  },
  {
   "cell_type": "code",
   "execution_count": null,
   "metadata": {},
   "outputs": [],
   "source": [
    "# build XGBoost regression model\n",
    "# https://machinelearningmastery.com/xgboost-for-regression/\n",
    "model = XGBRegressor()\n",
    "model.fit(X_train, Y_train)"
   ]
  }
 ],
 "metadata": {
  "kernelspec": {
   "display_name": "Python 3.9.6 64-bit",
   "language": "python",
   "name": "python3"
  },
  "language_info": {
   "codemirror_mode": {
    "name": "ipython",
    "version": 3
   },
   "file_extension": ".py",
   "mimetype": "text/x-python",
   "name": "python",
   "nbconvert_exporter": "python",
   "pygments_lexer": "ipython3",
   "version": "3.9.6"
  },
  "orig_nbformat": 4,
  "vscode": {
   "interpreter": {
    "hash": "31f2aee4e71d21fbe5cf8b01ff0e069b9275f58929596ceb00d14d90e3e16cd6"
   }
  }
 },
 "nbformat": 4,
 "nbformat_minor": 2
}
